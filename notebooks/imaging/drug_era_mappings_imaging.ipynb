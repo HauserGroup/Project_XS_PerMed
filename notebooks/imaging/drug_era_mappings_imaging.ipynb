{
 "cells": [
  {
   "cell_type": "code",
   "execution_count": 21,
   "id": "59dd2f58-adb8-4537-8460-dbc3ecd1ef2f",
   "metadata": {
    "tags": []
   },
   "outputs": [],
   "source": [
    "import pyspark\n",
    "import dxpy\n",
    "import dxdata\n",
    "import re\n",
    "import pandas as pd\n",
    "from pyspark.sql.functions import col, to_date"
   ]
  },
  {
   "cell_type": "code",
   "execution_count": 2,
   "id": "a5509a89-db5e-40e6-9560-a815c70f09b0",
   "metadata": {
    "tags": []
   },
   "outputs": [],
   "source": [
    "sc = pyspark.SparkContext()\n",
    "spark = pyspark.sql.SparkSession(sc)\n",
    "\n",
    "dispensed_database_name = dxpy.find_one_data_object(\n",
    "    classname=\"database\", name=\"app*\", folder=\"/\", name_mode=\"glob\", describe=True\n",
    ")[\"describe\"][\"name\"]\n",
    "dispensed_dataset_id = dxpy.find_one_data_object(\n",
    "    typename=\"Dataset\", name=\"app*.dataset\", folder=\"/\", name_mode=\"glob\"\n",
    ")[\"id\"]\n",
    "\n",
    "spark.sql(\"USE \" + dispensed_database_name)\n",
    "\n",
    "dataset = dxdata.load_dataset(id=dispensed_dataset_id)"
   ]
  },
  {
   "cell_type": "code",
   "execution_count": null,
   "id": "1be8ae88-363e-4f8a-9d20-eace49795195",
   "metadata": {
    "tags": []
   },
   "outputs": [],
   "source": [
    "# Init pyspark and load dataframe\n",
    "OMOP_TABLE = \"omop_drug_era\"  # 'omop_drug_era', 'omop_drug_exposure'\n",
    "\n",
    "# Load dose era table\n",
    "ode = dataset[OMOP_TABLE]\n",
    "\n",
    "field_names = [f.name for f in ode.fields]\n",
    "\n",
    "df = ode.retrieve_fields(names=field_names, engine=dxdata.connect())\n",
    "# df = df.drop(\"eid\")\n",
    "\n",
    "print(f\"Number of entries {df.count()}\")\n",
    "df.drop(\"eid\").show(3)"
   ]
  },
  {
   "cell_type": "code",
   "execution_count": 4,
   "id": "ec20119f-afbe-48d2-8b11-64c959b10247",
   "metadata": {
    "tags": []
   },
   "outputs": [],
   "source": [
    "participant = dataset[\"participant\"]"
   ]
  },
  {
   "cell_type": "code",
   "execution_count": 5,
   "id": "e85e7933-a4e0-45ac-b885-098da7f0474f",
   "metadata": {
    "tags": []
   },
   "outputs": [],
   "source": [
    "field_names = [\"eid\"] + [\n",
    "    f.name\n",
    "    for f in participant.find_fields(lambda f: bool(re.match(f\"^p({53})(_|$)\", f.name)))\n",
    "]\n",
    "vf = participant.retrieve_fields(names=field_names, engine=dxdata.connect())"
   ]
  },
  {
   "cell_type": "code",
   "execution_count": 10,
   "id": "8e7fb23a-56a8-4800-b6bd-1497aa1fe1b2",
   "metadata": {
    "tags": []
   },
   "outputs": [
    {
     "name": "stdout",
     "output_type": "stream",
     "text": [
      "+----------+------+----------+------+\n",
      "|    p53_i0|p53_i1|    p53_i2|p53_i3|\n",
      "+----------+------+----------+------+\n",
      "|2008-12-19|  null|      null|  null|\n",
      "|2006-03-21|  null|      null|  null|\n",
      "|2008-04-07|  null|      null|  null|\n",
      "|2010-06-22|  null|      null|  null|\n",
      "|2009-04-08|  null|      null|  null|\n",
      "|2007-07-20|  null|      null|  null|\n",
      "|2008-02-13|  null|      null|  null|\n",
      "|2008-04-10|  null|      null|  null|\n",
      "|2007-12-06|  null|      null|  null|\n",
      "|2009-07-27|  null|      null|  null|\n",
      "|2008-07-04|  null|      null|  null|\n",
      "|2009-12-11|  null|      null|  null|\n",
      "|2010-07-01|  null|      null|  null|\n",
      "|2007-08-13|  null|2019-10-02|  null|\n",
      "|2008-04-03|  null|      null|  null|\n",
      "|2008-12-17|  null|      null|  null|\n",
      "|2008-02-23|  null|2022-01-17|  null|\n",
      "|2008-05-19|  null|      null|  null|\n",
      "|2008-06-26|  null|      null|  null|\n",
      "|2008-01-22|  null|      null|  null|\n",
      "+----------+------+----------+------+\n",
      "only showing top 20 rows\n",
      "\n"
     ]
    }
   ],
   "source": [
    "vf.drop(\"eid\").show(3)"
   ]
  },
  {
   "cell_type": "code",
   "execution_count": 8,
   "id": "ad519605-19de-4795-ada3-c698138929f6",
   "metadata": {
    "tags": []
   },
   "outputs": [
    {
     "data": {
      "text/plain": [
       "19959413"
      ]
     },
     "execution_count": 8,
     "metadata": {},
     "output_type": "execute_result"
    }
   ],
   "source": [
    "df2 = df.join(vf, on=\"eid\", how=\"inner\")\n",
    "df2.count()"
   ]
  },
  {
   "cell_type": "code",
   "execution_count": null,
   "id": "e606aa6d-e735-4a00-bb98-f0130dcbb50f",
   "metadata": {
    "tags": []
   },
   "outputs": [],
   "source": [
    "df3 = df2.filter(col(\"p53_i2\").isNotNull())\n",
    "# df3 = (df3.withColumn(\"drug_era_start_date\", col(\"drug_era_start_date\").cast(\"date\"))\n",
    "#        .withColumn(\"drug_era_end_date\", col(\"drug_era_end_date\").cast(\"date\"))\n",
    "#        .withColumn(\"p53_i2\", col(\"p53_i2\").cast(\"date\")))\n",
    "df3 = (\n",
    "    df3.withColumn(\n",
    "        \"drug_era_start_date\", to_date(col(\"drug_era_start_date\"), \"MM/dd/yyyy\")\n",
    "    )\n",
    "    .withColumn(\"drug_era_end_date\", to_date(col(\"drug_era_end_date\"), \"MM/dd/yyyy\"))\n",
    "    .withColumn(\"p53_i2\", to_date(col(\"p53_i2\"), \"yyyy-MM-dd\"))\n",
    ")\n",
    "df3.printSchema()\n",
    "# filtered_df = df3.filter(col(\"p53_i2\") > col(\"drug_era_start_date\"))\n",
    "\n",
    "# Filter rows where p53_i2 is between drug_era_start_date and drug_era_end_date\n",
    "filtered_df = df3.filter(\n",
    "    col(\"p53_i2\").between(col(\"drug_era_start_date\"), col(\"drug_era_end_date\"))\n",
    ")\n",
    "\n",
    "# Show the result of the filter\n",
    "filtered_df.show()\n",
    "filtered_df.count()"
   ]
  },
  {
   "cell_type": "code",
   "execution_count": 32,
   "id": "01f6e76b-f6a8-42a6-8ae2-4c3681f4d9f7",
   "metadata": {
    "tags": []
   },
   "outputs": [
    {
     "name": "stderr",
     "output_type": "stream",
     "text": [
      "/tmp/ipykernel_973/1852596113.py:3: DeprecationWarning: In a future version, `df.iloc[:, i] = newvals` will attempt to set the values inplace instead of always setting a new array. To retain the old behavior, use either `df[df.columns[i]] = newvals` or, if columns are non-unique, `df.isetitem(i, newvals)`\n",
      "  pandas_df.loc[:, \"drug_concept_id\"] = pandas_df.loc[:,\"drug_concept_id\"].astype(int)\n"
     ]
    }
   ],
   "source": [
    "# Convert the filtered DataFrame to a Pandas DataFrame\n",
    "pandas_df = filtered_df.toPandas()\n",
    "pandas_df.loc[:, \"drug_concept_id\"] = pandas_df.loc[:, \"drug_concept_id\"].astype(int)\n",
    "# Save the Pandas DataFrame to a CSV file\n",
    "pandas_df.to_csv(\"filtered_data.csv\", index=False)"
   ]
  },
  {
   "cell_type": "code",
   "execution_count": 36,
   "id": "344d6d8a-f22a-48f5-980b-d399e7ec3604",
   "metadata": {
    "tags": []
   },
   "outputs": [],
   "source": [
    "de = pd.read_csv(\"dose_era_ingredients.tsv\", sep=\"\\t\")\n",
    "de.loc[:, \"drug_concept_id\"] = de.loc[:, \"drug_concept_id\"].astype(int)\n",
    "de.set_index(\"drug_concept_id\", inplace=True)"
   ]
  },
  {
   "cell_type": "code",
   "execution_count": 37,
   "id": "8aaad089-f9f5-47c9-bed4-d0bf91e50c6c",
   "metadata": {
    "tags": []
   },
   "outputs": [],
   "source": [
    "joined_df = pandas_df.join(de, on=\"drug_concept_id\", how=\"inner\")"
   ]
  },
  {
   "cell_type": "code",
   "execution_count": 39,
   "id": "5341ab30-9a7f-4e7b-93a4-f1fa8531c9ab",
   "metadata": {
    "tags": []
   },
   "outputs": [],
   "source": [
    "joined_df.to_csv(\"joined_df.csv\")"
   ]
  },
  {
   "cell_type": "code",
   "execution_count": 47,
   "id": "8a7fdc32-888c-4312-b3cd-3957b52a0bb6",
   "metadata": {
    "tags": []
   },
   "outputs": [
    {
     "data": {
      "text/plain": [
       "1638"
      ]
     },
     "execution_count": 47,
     "metadata": {},
     "output_type": "execute_result"
    }
   ],
   "source": [
    "pd.Series(\n",
    "    joined_df.loc[:, \"concept_name\"].value_counts()\n",
    ").sum()  # .to_csv(\"drug_counts.csv\")"
   ]
  },
  {
   "cell_type": "code",
   "execution_count": 4,
   "id": "0fea8d6c-3866-4892-b8ac-baaa05583fbc",
   "metadata": {
    "tags": []
   },
   "outputs": [
    {
     "name": "stdout",
     "output_type": "stream",
     "text": [
      "RxNorm Ingredients: 13137\n",
      "['concept_id', 'concept_name', 'domain_id', 'vocabulary_id', 'concept_class_id', 'standard_concept', 'concept_code', 'valid_start_date', 'valid_end_date', 'invalid_reason']\n",
      "+----------+------------------------------------+---------+-------------+----------------+----------------+------------+----------------+--------------+--------------+\n",
      "|concept_id|concept_name                        |domain_id|vocabulary_id|concept_class_id|standard_concept|concept_code|valid_start_date|valid_end_date|invalid_reason|\n",
      "+----------+------------------------------------+---------+-------------+----------------+----------------+------------+----------------+--------------+--------------+\n",
      "|501343    |hepatitis B immune globulin         |Drug     |RxNorm       |Ingredient      |S               |26744       |1970-01-01      |2099-12-31    |null          |\n",
      "|507832    |herpesvirus 3, human                |Drug     |RxNorm       |Ingredient      |S               |11131       |1970-01-01      |2099-12-31    |null          |\n",
      "|509079    |meningococcal group A polysaccharide|Drug     |RxNorm       |Ingredient      |S               |29501       |1970-01-01      |2099-12-31    |null          |\n",
      "+----------+------------------------------------+---------+-------------+----------------+----------------+------------+----------------+--------------+--------------+\n",
      "only showing top 3 rows\n",
      "\n"
     ]
    }
   ],
   "source": [
    "# Get RxNorm Ingredients (IN) and associated concept_codes\n",
    "conc = spark.read.csv(\n",
    "    \"/resources/omop_concept.tsv\", sep=\"\\t\", header=True, inferSchema=True\n",
    ")\n",
    "rx_ing = conc.filter(\n",
    "    (conc[\"vocabulary_id\"] == \"RxNorm\")\n",
    "    & (conc[\"concept_class_id\"] == \"Ingredient\")\n",
    "    & (conc[\"invalid_reason\"].isNull())\n",
    ")\n",
    "print(f\"RxNorm Ingredients: {rx_ing.count()}\")\n",
    "print(rx_ing.columns)\n",
    "rx_ing.show(3, truncate=False, vertical=False)"
   ]
  },
  {
   "cell_type": "code",
   "execution_count": 45,
   "id": "781f1055-d646-4c40-b85d-ddd1c3ba8dba",
   "metadata": {
    "tags": []
   },
   "outputs": [],
   "source": [
    "pd.Series(joined_df.loc[:, \"eid\"].value_counts()).to_csv(\"person_counts.csv\")"
   ]
  },
  {
   "cell_type": "code",
   "execution_count": null,
   "id": "dac80786-e0ee-4363-ae85-5b2d5676af32",
   "metadata": {
    "tags": []
   },
   "outputs": [],
   "source": [
    "joined_df"
   ]
  },
  {
   "cell_type": "code",
   "execution_count": 5,
   "id": "0a4086d0-48fb-40df-b5d9-022ca75045c3",
   "metadata": {
    "tags": []
   },
   "outputs": [
    {
     "name": "stdout",
     "output_type": "stream",
     "text": [
      "Number of records before join: 1620\n",
      "Number of records after join: 1572\n",
      "+---------------+----------+------------------------------------------------+---------+-------------+----------------+----------------+------------+----------------+--------------+--------------+\n",
      "|drug_concept_id|concept_id|concept_name                                    |domain_id|vocabulary_id|concept_class_id|standard_concept|concept_code|valid_start_date|valid_end_date|invalid_reason|\n",
      "+---------------+----------+------------------------------------------------+---------+-------------+----------------+----------------+------------+----------------+--------------+--------------+\n",
      "|501343         |501343    |hepatitis B immune globulin                     |Drug     |RxNorm       |Ingredient      |S               |26744       |1970-01-01      |2099-12-31    |null          |\n",
      "|509081         |509081    |meningococcal group C polysaccharide            |Drug     |RxNorm       |Ingredient      |S               |29503       |1970-01-01      |2099-12-31    |null          |\n",
      "|523367         |523367    |poliovirus vaccine inactivated, type 3 (Saukett)|Drug     |RxNorm       |Ingredient      |S               |763100      |2008-03-30      |2099-12-31    |null          |\n",
      "|532274         |532274    |yellow fever virus strain 17D-204 live antigen  |Drug     |RxNorm       |Ingredient      |S               |804187      |2008-08-31      |2099-12-31    |null          |\n",
      "|702774         |702774    |mepivacaine                                     |Drug     |RxNorm       |Ingredient      |S               |6759        |1970-01-01      |2099-12-31    |null          |\n",
      "+---------------+----------+------------------------------------------------+---------+-------------+----------------+----------------+------------+----------------+--------------+--------------+\n",
      "only showing top 5 rows\n",
      "\n"
     ]
    }
   ],
   "source": [
    "# Get distinct drug_concept_ids\n",
    "\n",
    "dci = df.select([\"drug_concept_id\"]).distinct()\n",
    "print(f\"Number of records before join: {dci.count()}\")\n",
    "\n",
    "dci = dci.join(rx_ing, dci[\"drug_concept_id\"] == rx_ing[\"concept_id\"], how=\"inner\")\n",
    "print(f\"Number of records after join: {dci.count()}\")\n",
    "\n",
    "dci.show(5, truncate=False, vertical=False)"
   ]
  },
  {
   "cell_type": "code",
   "execution_count": 8,
   "id": "b3d180f8-4eab-4133-b175-53ec93427ee9",
   "metadata": {
    "tags": []
   },
   "outputs": [
    {
     "name": "stdout",
     "output_type": "stream",
     "text": [
      "Number of RxNorm IN concepts: 14395\n",
      "+---+---+--------+--------+---+------+----+----+----------------+----+----+\n",
      "|_c0|_c1|_c7     |_c8     |_c9|_c11  |_c12|_c13|_c14            |_c16|_c17|\n",
      "+---+---+--------+--------+---+------+----+----+----------------+----+----+\n",
      "|44 |ENG|12251526|12251526|44 |RXNORM|IN  |44  |mesna           |N   |4096|\n",
      "|61 |ENG|12254378|12254378|61 |RXNORM|IN  |61  |beta-alanine    |N   |4096|\n",
      "|73 |ENG|12252051|12252051|73 |RXNORM|IN  |73  |docosahexaenoate|N   |4096|\n",
      "+---+---+--------+--------+---+------+----+----+----------------+----+----+\n",
      "only showing top 3 rows\n",
      "\n"
     ]
    }
   ],
   "source": [
    "###\n",
    "### RxNorm Ingredient\n",
    "###\n",
    "\n",
    "# Documentation here https://www.nlm.nih.gov/research/umls/rxnorm/docs/techdoc.html#conso\n",
    "# See https://www.nlm.nih.gov/research/umls/rxnorm/docs/appendix5.html for TTY\n",
    "# Essentially _c11 = SAB, Source abbreviation. _c12 = TTY, Term type in source, _c16 = SUPPRESS, where N is No\n",
    "\n",
    "conso = spark.read.csv(\n",
    "    \"/resources/RXNCONSO.RRF\", sep=\"|\", header=False, inferSchema=True\n",
    ")\n",
    "\n",
    "concept_code_to_drug = conso.filter(\n",
    "    (conso[\"_c11\"] == \"RXNORM\") & (conso[\"_c12\"] == \"IN\") & (conso[\"_c16\"] == \"N\")\n",
    ")\n",
    "\n",
    "\n",
    "# Identify columns where all values are null\n",
    "non_null_columns = [\n",
    "    col_name\n",
    "    for col_name in concept_code_to_drug.columns\n",
    "    if concept_code_to_drug.filter(col(col_name).isNotNull()).count() > 0\n",
    "]\n",
    "\n",
    "# Select only the columns that are not entirely null\n",
    "concept_code_to_drug = concept_code_to_drug.select(*non_null_columns)\n",
    "\n",
    "print(f\"Number of RxNorm IN concepts: {concept_code_to_drug.count()}\")\n",
    "concept_code_to_drug.show(3, truncate=False, vertical=False)"
   ]
  },
  {
   "cell_type": "code",
   "execution_count": 9,
   "id": "425d5a08-9a1a-4145-b969-29d7f7cd4286",
   "metadata": {
    "tags": []
   },
   "outputs": [
    {
     "name": "stdout",
     "output_type": "stream",
     "text": [
      "1568\n",
      "+---------------+----------+-------------+---------+-------------+----------------+----------------+------------+----------------+--------------+--------------+---+---+--------+--------+---+------+----+----+-------------+----+----+\n",
      "|drug_concept_id|concept_id|concept_name |domain_id|vocabulary_id|concept_class_id|standard_concept|concept_code|valid_start_date|valid_end_date|invalid_reason|_c0|_c1|_c7     |_c8     |_c9|_c11  |_c12|_c13|_c14         |_c16|_c17|\n",
      "+---------------+----------+-------------+---------+-------------+----------------+----------------+------------+----------------+--------------+--------------+---+---+--------+--------+---+------+----+----+-------------+----+----+\n",
      "|1319998        |1319998   |acebutolol   |Drug     |RxNorm       |Ingredient      |S               |149         |1970-01-01      |2099-12-31    |null          |149|ENG|12253229|12253229|149|RXNORM|IN  |149 |acebutolol   |N   |4096|\n",
      "|19024063       |19024063  |acenocoumarol|Drug     |RxNorm       |Ingredient      |S               |154         |1970-01-01      |2099-12-31    |null          |154|ENG|12254380|12254380|154|RXNORM|IN  |154 |acenocoumarol|N   |null|\n",
      "|929435         |929435    |acetazolamide|Drug     |RxNorm       |Ingredient      |S               |167         |1970-01-01      |2099-12-31    |null          |167|ENG|12253835|12253835|167|RXNORM|IN  |167 |acetazolamide|N   |4096|\n",
      "+---------------+----------+-------------+---------+-------------+----------------+----------------+------------+----------------+--------------+--------------+---+---+--------+--------+---+------+----+----+-------------+----+----+\n",
      "only showing top 3 rows\n",
      "\n"
     ]
    }
   ],
   "source": [
    "dci2 = dci.join(\n",
    "    concept_code_to_drug,\n",
    "    dci[\"concept_code\"] == concept_code_to_drug[\"_c0\"],\n",
    "    how=\"inner\",\n",
    ")\n",
    "print(dci2.count())  # We lose Senna Leaves which is obsolete\n",
    "dci2.show(3, truncate=False, vertical=False)"
   ]
  },
  {
   "cell_type": "code",
   "execution_count": 10,
   "id": "6a6d68bc-08bc-4652-817b-16f8663c5864",
   "metadata": {
    "tags": []
   },
   "outputs": [
    {
     "name": "stdout",
     "output_type": "stream",
     "text": [
      "Number of entries original: 19959413\n",
      "Number of entries finished: 19833183\n"
     ]
    }
   ],
   "source": [
    "print(f\"Number of entries original: {df.count()}\")\n",
    "\n",
    "print(\n",
    "    f\"Number of entries finished: {df.join(dci2, on = 'drug_concept_id', how = 'inner').count()}\"\n",
    ")"
   ]
  },
  {
   "cell_type": "code",
   "execution_count": 11,
   "id": "53e7d387-7554-45c0-a956-45811ef348b4",
   "metadata": {
    "tags": []
   },
   "outputs": [
    {
     "name": "stdout",
     "output_type": "stream",
     "text": [
      "+---------------+----------+--------------------+---------+-------------+----------------+----------------+------------+----------------+--------------+--------------+\n",
      "|drug_concept_id|concept_id|        concept_name|domain_id|vocabulary_id|concept_class_id|standard_concept|concept_code|valid_start_date|valid_end_date|invalid_reason|\n",
      "+---------------+----------+--------------------+---------+-------------+----------------+----------------+------------+----------------+--------------+--------------+\n",
      "|       42899447|  42899447|       insulin, pork|     Drug|       RxNorm|      Ingredient|               S|     1309342|      2012-10-01|    2099-12-31|          null|\n",
      "|         992409|    992409|        Senna leaves|     Drug|       RxNorm|      Ingredient|               S|      237929|      1970-01-01|    2099-12-31|          null|\n",
      "|       19058973|  19058973|calcium phosphate...|     Drug|       RxNorm|      Ingredient|               S|       47627|      1970-01-01|    2099-12-31|          null|\n",
      "|       19052638|  19052638|          cobalamins|     Drug|       RxNorm|      Ingredient|               S|       42604|      1970-01-01|    2099-12-31|          null|\n",
      "+---------------+----------+--------------------+---------+-------------+----------------+----------------+------------+----------------+--------------+--------------+\n",
      "\n"
     ]
    }
   ],
   "source": [
    "dci.join(dci2, on=\"drug_concept_id\", how=\"left_anti\").show()"
   ]
  },
  {
   "cell_type": "code",
   "execution_count": 12,
   "id": "c3c8b39e-4ead-49cc-9343-84e667545b49",
   "metadata": {
    "tags": []
   },
   "outputs": [],
   "source": [
    "dci2.toPandas().to_csv(\"drug_era_ingredients.tsv\", sep=\"\\t\")"
   ]
  },
  {
   "cell_type": "code",
   "execution_count": 13,
   "id": "5878b867-d15f-4164-b94d-151f923c18d4",
   "metadata": {
    "tags": []
   },
   "outputs": [
    {
     "name": "stdout",
     "output_type": "stream",
     "text": [
      "Number of ATC codes: 5495\n",
      "+---+---+-------+----+----+-------+--------+----+\n",
      "|_c0|_c1|_c7    |_c11|_c12|_c13   |_c14    |_c16|\n",
      "+---+---+-------+----+----+-------+--------+----+\n",
      "|44 |ENG|5481074|ATC |IN  |R05CB05|mesna   |N   |\n",
      "|44 |ENG|5481075|ATC |IN  |V03AF01|mesna   |N   |\n",
      "|63 |ENG|5481013|ATC |IN  |C10AX05|meglutol|N   |\n",
      "+---+---+-------+----+----+-------+--------+----+\n",
      "only showing top 3 rows\n",
      "\n"
     ]
    }
   ],
   "source": [
    "###\n",
    "### ATC codes\n",
    "###\n",
    "conso = spark.read.csv(\n",
    "    \"/resources/RXNCONSO.RRF\", sep=\"|\", header=False, inferSchema=True\n",
    ")\n",
    "\n",
    "concept_code_to_atc = conso.filter(\n",
    "    (conso[\"_c11\"] == \"ATC\") & (conso[\"_c12\"] == \"IN\") & (conso[\"_c16\"] == \"N\")\n",
    ")\n",
    "\n",
    "\n",
    "# Identify columns where all values are null\n",
    "non_null_columns = [\n",
    "    col_name\n",
    "    for col_name in concept_code_to_atc.columns\n",
    "    if concept_code_to_atc.filter(col(col_name).isNotNull()).count() > 0\n",
    "]\n",
    "\n",
    "# Select only the columns that are not entirely null\n",
    "concept_code_to_atc = concept_code_to_atc.select(*non_null_columns)\n",
    "\n",
    "print(f\"Number of ATC codes: {concept_code_to_atc.count()}\")\n",
    "concept_code_to_atc.show(3, truncate=False, vertical=False)"
   ]
  },
  {
   "cell_type": "code",
   "execution_count": 14,
   "id": "b70f84a4-7062-4863-ac93-a7b61638f8f9",
   "metadata": {
    "tags": []
   },
   "outputs": [
    {
     "name": "stdout",
     "output_type": "stream",
     "text": [
      "1617\n",
      "+---------------+----------+-------------+---------+-------------+----------------+----------------+------------+----------------+--------------+--------------+---+---+-------+----+----+-------+-------------+----+\n",
      "|drug_concept_id|concept_id|concept_name |domain_id|vocabulary_id|concept_class_id|standard_concept|concept_code|valid_start_date|valid_end_date|invalid_reason|_c0|_c1|_c7    |_c11|_c12|_c13   |_c14         |_c16|\n",
      "+---------------+----------+-------------+---------+-------------+----------------+----------------+------------+----------------+--------------+--------------+---+---+-------+----+----+-------+-------------+----+\n",
      "|1319998        |1319998   |acebutolol   |Drug     |RxNorm       |Ingredient      |S               |149         |1970-01-01      |2099-12-31    |null          |149|ENG|5478462|ATC |IN  |C07AB04|acebutolol   |N   |\n",
      "|19024063       |19024063  |acenocoumarol|Drug     |RxNorm       |Ingredient      |S               |154         |1970-01-01      |2099-12-31    |null          |154|ENG|5478470|ATC |IN  |B01AA07|acenocoumarol|N   |\n",
      "|929435         |929435    |acetazolamide|Drug     |RxNorm       |Ingredient      |S               |167         |1970-01-01      |2099-12-31    |null          |167|ENG|5478475|ATC |IN  |S01EC01|acetazolamide|N   |\n",
      "+---------------+----------+-------------+---------+-------------+----------------+----------------+------------+----------------+--------------+--------------+---+---+-------+----+----+-------+-------------+----+\n",
      "only showing top 3 rows\n",
      "\n"
     ]
    }
   ],
   "source": [
    "dci3 = dci.join(\n",
    "    concept_code_to_atc, dci[\"concept_code\"] == concept_code_to_atc[\"_c0\"], how=\"inner\"\n",
    ")\n",
    "\n",
    "print(dci3.count())\n",
    "dci3.show(3, truncate=False, vertical=False)"
   ]
  },
  {
   "cell_type": "code",
   "execution_count": 15,
   "id": "25b4d7cb-a959-4c06-8efa-5d51dcea0ee8",
   "metadata": {
    "tags": []
   },
   "outputs": [
    {
     "name": "stdout",
     "output_type": "stream",
     "text": [
      "Number of entries original: 19959413\n",
      "Number of entries finished: 38757289\n",
      "Number of distinct finished: 1141\n"
     ]
    }
   ],
   "source": [
    "print(f\"Number of entries original: {df.count()}\")\n",
    "\n",
    "print(\n",
    "    f\"Number of entries finished: {df.join(dci3, on = 'drug_concept_id', how = 'inner').count()}\"\n",
    ")\n",
    "print(\n",
    "    f\"Number of distinct finished: {df.join(dci3, on = 'drug_concept_id', how = 'inner').select('drug_concept_id').distinct().count()}\"\n",
    ")"
   ]
  },
  {
   "cell_type": "code",
   "execution_count": 16,
   "id": "ed04d392-7d80-4f4a-9cc3-8f193a69c455",
   "metadata": {
    "tags": []
   },
   "outputs": [
    {
     "name": "stdout",
     "output_type": "stream",
     "text": [
      "Missing ATC: 431\n",
      "Records with ATC codes: 17348853\n"
     ]
    }
   ],
   "source": [
    "atc_missing = dci.join(dci3, on=\"drug_concept_id\", how=\"left_anti\")\n",
    "\n",
    "print(f\"Missing ATC: {atc_missing.count()}\")\n",
    "print(\n",
    "    f\"Records with ATC codes: {df.join(atc_missing, on = 'drug_concept_id', how = 'left_anti').count()}\"\n",
    ")\n",
    "\n",
    "\n",
    "SHOW_MISSING = False\n",
    "N_SHOW = 10\n",
    "\n",
    "if SHOW_MISSING:\n",
    "    dci_anti = atc_missing.show(N_SHOW)"
   ]
  },
  {
   "cell_type": "code",
   "execution_count": 18,
   "id": "b7d4174a-64b5-4b9e-93c0-7bf2deca7c36",
   "metadata": {
    "tags": []
   },
   "outputs": [],
   "source": [
    "dci3.toPandas().to_csv(\"drug_era_atc.tsv\", sep=\"\\t\")"
   ]
  },
  {
   "cell_type": "code",
   "execution_count": 17,
   "id": "ad2fba4c-581a-4a0d-93d0-d035f76571bd",
   "metadata": {
    "tags": []
   },
   "outputs": [
    {
     "name": "stdout",
     "output_type": "stream",
     "text": [
      "Number of DrugBank identifier: 10715\n",
      "+---+---+--------+-------+--------+----+-------+------------------------------+----+\n",
      "|_c0|_c1|_c7     |_c9    |_c11    |_c12|_c13   |_c14                          |_c16|\n",
      "+---+---+--------+-------+--------+----+-------+------------------------------+----+\n",
      "|48 |ENG|12855631|DB18029|DRUGBANK|IN  |DB18029|24,25-Dihydroxycholecalciferol|N   |\n",
      "|60 |ENG|10894803|DB01509|DRUGBANK|IN  |DB01509|Tenamfetamine                 |N   |\n",
      "|74 |ENG|9733930 |DB02362|DRUGBANK|IN  |DB02362|Aminobenzoic acid             |N   |\n",
      "+---+---+--------+-------+--------+----+-------+------------------------------+----+\n",
      "only showing top 3 rows\n",
      "\n"
     ]
    }
   ],
   "source": [
    "###\n",
    "### DrugBank\n",
    "###\n",
    "conso = spark.read.csv(\n",
    "    \"/resources/RXNCONSO.RRF\", sep=\"|\", header=False, inferSchema=True\n",
    ")\n",
    "\n",
    "concept_code_to_db = conso.filter(\n",
    "    (conso[\"_c11\"] == \"DRUGBANK\") & (conso[\"_c12\"] == \"IN\") & (conso[\"_c16\"] == \"N\")\n",
    ")\n",
    "\n",
    "\n",
    "# Identify columns where all values are null\n",
    "non_null_columns = [\n",
    "    col_name\n",
    "    for col_name in concept_code_to_db.columns\n",
    "    if concept_code_to_db.filter(col(col_name).isNotNull()).count() > 0\n",
    "]\n",
    "\n",
    "# Select only the columns that are not entirely null\n",
    "concept_code_to_db = concept_code_to_db.select(*non_null_columns)\n",
    "\n",
    "print(f\"Number of DrugBank identifier: {concept_code_to_db.count()}\")\n",
    "concept_code_to_db.show(3, truncate=False, vertical=False)"
   ]
  },
  {
   "cell_type": "code",
   "execution_count": 18,
   "id": "3b9b92a1-ac86-472f-926f-3955632fd086",
   "metadata": {
    "tags": []
   },
   "outputs": [
    {
     "name": "stdout",
     "output_type": "stream",
     "text": [
      "1280\n",
      "+---------------+----------+-------------+---------+-------------+----------------+----------------+------------+----------------+--------------+--------------+---+---+-------+-------+--------+----+-------+-------------+----+\n",
      "|drug_concept_id|concept_id|concept_name |domain_id|vocabulary_id|concept_class_id|standard_concept|concept_code|valid_start_date|valid_end_date|invalid_reason|_c0|_c1|_c7    |_c9    |_c11    |_c12|_c13   |_c14         |_c16|\n",
      "+---------------+----------+-------------+---------+-------------+----------------+----------------+------------+----------------+--------------+--------------+---+---+-------+-------+--------+----+-------+-------------+----+\n",
      "|1319998        |1319998   |acebutolol   |Drug     |RxNorm       |Ingredient      |S               |149         |1970-01-01      |2099-12-31    |null          |149|ENG|8575333|DB01193|DRUGBANK|IN  |DB01193|Acebutolol   |N   |\n",
      "|19024063       |19024063  |acenocoumarol|Drug     |RxNorm       |Ingredient      |S               |154         |1970-01-01      |2099-12-31    |null          |154|ENG|8368187|DB01418|DRUGBANK|IN  |DB01418|Acenocoumarol|N   |\n",
      "|929435         |929435    |acetazolamide|Drug     |RxNorm       |Ingredient      |S               |167         |1970-01-01      |2099-12-31    |null          |167|ENG|8650243|DB00819|DRUGBANK|IN  |DB00819|Acetazolamide|N   |\n",
      "+---------------+----------+-------------+---------+-------------+----------------+----------------+------------+----------------+--------------+--------------+---+---+-------+-------+--------+----+-------+-------------+----+\n",
      "only showing top 3 rows\n",
      "\n"
     ]
    }
   ],
   "source": [
    "dci4 = dci.join(\n",
    "    concept_code_to_db, dci[\"concept_code\"] == concept_code_to_db[\"_c0\"], how=\"inner\"\n",
    ")\n",
    "\n",
    "print(dci4.count())\n",
    "dci4.show(3, truncate=False, vertical=False)"
   ]
  },
  {
   "cell_type": "code",
   "execution_count": 19,
   "id": "5089c7e1-0063-4366-9865-db146736ec49",
   "metadata": {
    "tags": []
   },
   "outputs": [
    {
     "name": "stdout",
     "output_type": "stream",
     "text": [
      "Number of entries original: 19959413\n",
      "Number of entries finished: 18211458\n",
      "Number of distinct finished: 1271\n",
      "Missing DrugBank ID: 301\n",
      "Records with DrugBank codes: 18192505\n",
      "+---------------+----------+------------------+---------+-------------+----------------+----------------+------------+----------------+--------------+--------------+\n",
      "|drug_concept_id|concept_id|      concept_name|domain_id|vocabulary_id|concept_class_id|standard_concept|concept_code|valid_start_date|valid_end_date|invalid_reason|\n",
      "+---------------+----------+------------------+---------+-------------+----------------+----------------+------------+----------------+--------------+--------------+\n",
      "|         790253|    790253|       clorazepate|     Drug|       RxNorm|      Ingredient|               S|        2353|      1970-01-01|    2099-12-31|          null|\n",
      "|         900017|    900017|   cascara sagrada|     Drug|       RxNorm|      Ingredient|               S|       66869|      1970-01-01|    2099-12-31|          null|\n",
      "|         902616|    902616|          calamine|     Drug|       RxNorm|      Ingredient|               S|      106212|      1970-01-01|    2099-12-31|          null|\n",
      "|         952045|    952045|      amphotericin|     Drug|       RxNorm|      Ingredient|               S|       42527|      1970-01-01|    2099-12-31|          null|\n",
      "|         958134|    958134|bismuth subcitrate|     Drug|       RxNorm|      Ingredient|               S|       47181|      1970-01-01|    2099-12-31|          null|\n",
      "|         961304|    961304|   shark liver oil|     Drug|       RxNorm|      Ingredient|               S|       91472|      1970-01-01|    2099-12-31|          null|\n",
      "|        1000979|   1000979|          guar gum|     Drug|       RxNorm|      Ingredient|               S|       26344|      1970-01-01|    2099-12-31|          null|\n",
      "|        1036525|   1036525|            sulfur|     Drug|       RxNorm|      Ingredient|               S|       10223|      1970-01-01|    2099-12-31|          null|\n",
      "|        1197736|   1197736|        mefenamate|     Drug|       RxNorm|      Ingredient|               S|      257844|      2006-05-14|    2099-12-31|          null|\n",
      "|        1354698|   1354698|             mesna|     Drug|       RxNorm|      Ingredient|               S|          44|      1970-01-01|    2099-12-31|          null|\n",
      "+---------------+----------+------------------+---------+-------------+----------------+----------------+------------+----------------+--------------+--------------+\n",
      "only showing top 10 rows\n",
      "\n"
     ]
    }
   ],
   "source": [
    "print(f\"Number of entries original: {df.count()}\")\n",
    "print(\n",
    "    f\"Number of entries finished: {df.join(dci4, on = 'drug_concept_id', how = 'inner').count()}\"\n",
    ")\n",
    "print(\n",
    "    f\"Number of distinct finished: {df.join(dci4, on = 'drug_concept_id', how = 'inner').select('drug_concept_id').distinct().count()}\"\n",
    ")\n",
    "\n",
    "drugbank_missing = dci.join(dci4, on=\"drug_concept_id\", how=\"left_anti\")\n",
    "\n",
    "print(f\"Missing DrugBank ID: {drugbank_missing.count()}\")\n",
    "print(\n",
    "    f\"Records with DrugBank codes: {df.join(drugbank_missing, on = 'drug_concept_id', how = 'left_anti').count()}\"\n",
    ")\n",
    "\n",
    "\n",
    "SHOW_MISSING = True\n",
    "N_SHOW = 10\n",
    "\n",
    "if SHOW_MISSING:\n",
    "    dci_anti = drugbank_missing.show(N_SHOW)"
   ]
  },
  {
   "cell_type": "code",
   "execution_count": 20,
   "id": "5e0e8cd9-82c0-44a6-9530-b43b309c7cd2",
   "metadata": {
    "tags": []
   },
   "outputs": [],
   "source": [
    "dci4.toPandas().to_csv(\"drug_era_drugbank.tsv\", sep=\"\\t\")"
   ]
  },
  {
   "cell_type": "code",
   "execution_count": 21,
   "id": "8cd30055-e733-47a1-8ed7-ad399dbc5af8",
   "metadata": {
    "tags": []
   },
   "outputs": [
    {
     "name": "stderr",
     "output_type": "stream",
     "text": [
      "/cluster/spark/python/pyspark/sql/pandas/conversion.py:371: FutureWarning: iteritems is deprecated and will be removed in a future version. Use .items instead.\n",
      "  for column, series in pdf.iteritems():\n"
     ]
    }
   ],
   "source": [
    "###\n",
    "### Chebi / OMOP2OBO\n",
    "###\n",
    "\n",
    "chebi = pd.read_excel(\n",
    "    \"OMOP2OBO_V1_Drug_Exposure_Mapping_Oct2020.xlsx\",\n",
    "    sheet_name=\"OMOP2OBO_ChEBI_Mapping_Results\",\n",
    ")\n",
    "chebi[\"ONTOLOGY_LOGIC\"] = chebi[\"ONTOLOGY_LOGIC\"].astype(str)\n",
    "chebi = spark.createDataFrame(chebi)"
   ]
  },
  {
   "cell_type": "code",
   "execution_count": 22,
   "id": "2fbed094-ceae-4d90-9b68-3bebf871daa2",
   "metadata": {
    "tags": []
   },
   "outputs": [
    {
     "name": "stdout",
     "output_type": "stream",
     "text": [
      "1562\n",
      "+---------------+----------+------------+--------------------+--------------+--------------------+--------------------+--------------------+--------------------+\n",
      "|drug_concept_id|CONCEPT_ID|CONCEPT_CODE|        CONCEPT_NAME|ONTOLOGY_LOGIC|        ONTOLOGY_URI|      ONTOLOGY_LABEL|    MAPPING_CATEGORY|    MAPPING_EVIDENCE|\n",
      "+---------------+----------+------------+--------------------+--------------+--------------------+--------------------+--------------------+--------------------+\n",
      "|         523283|    523283|    763096.0|poliovirus vaccin...|           nan|         CHEBI_60816|           immunogen|Manual One-to-One...|Source:DrugBank_D...|\n",
      "|         529303|    529303|    798304.0|diphtheria toxoid...|           nan|         CHEBI_60816|           immunogen|Manual One-to-One...|        Hand Mapping|\n",
      "|         529411|    529411|    798306.0|tetanus toxoid va...|           nan|         CHEBI_60816|           immunogen|Manual One-to-One...|Source:DrugBank_D...|\n",
      "|         532881|    532881|    807219.0|Typhoid Vi Polysa...|           AND|CHEBI_60816 | CHE...|immunogen | polys...|Manual One-to-Man...|Source:DrugBank_D...|\n",
      "|         702865|    702865|      6760.0|         Meprobamate|           nan|          CHEBI_6761|         meprobamate|Automatic One-to-...|OBO_LABEL-OMOP_AN...|\n",
      "|         703244|    703244|    679314.0|        paliperidone|           nan|         CHEBI_82978|        paliperidone|Automatic One-to-...|OBO_DbXref-OMOP_A...|\n",
      "|         705944|    705944|      6901.0|     Methylphenidate|           nan|          CHEBI_6887|     methylphenidate|Automatic One-to-...|OBO_DbXref-OMOP_A...|\n",
      "|         710062|    710062|       704.0|       Amitriptyline|           nan|          CHEBI_2666|       amitriptyline|Automatic One-to-...|OBO_DbXref-OMOP_A...|\n",
      "|         714684|    714684|     31565.0|          nefazodone|           nan|          CHEBI_7494|          nefazodone|Automatic One-to-...|OBO_DbXref-OMOP_A...|\n",
      "|         715233|    715233|      1292.0|            Baclofen|           nan|          CHEBI_2972|            baclofen|Automatic One-to-...|OBO_DbXref-OMOP_A...|\n",
      "|         719057|    719057|      3268.0|     Dexfenfluramine|           nan|        CHEBI_439329|    (s)-fenfluramine|Automatic One-to-...|OBO_DbXref-OMOP_A...|\n",
      "|         722031|    722031|     32937.0|          Paroxetine|           nan|          CHEBI_7936|          paroxetine|Automatic One-to-...|OBO_DbXref-OMOP_A...|\n",
      "|         732893|    732893|      1815.0|         Bupivacaine|            OR|CHEBI_3215 | CHEB...|bupivacaine | lev...|Automatic One-to-...|OBO_DbXref-OMOP_A...|\n",
      "|         735951|    735951|     35623.0|            Riluzole|           nan|          CHEBI_8863|            riluzole|Automatic One-to-...|OBO_LABEL-OMOP_AN...|\n",
      "|         739363|    739363|     36514.0|         sibutramine|           nan|          CHEBI_9137|         sibutramine|Automatic One-to-...|OBO_DbXref-OMOP_A...|\n",
      "|         740560|    740560|      2019.0|           Carbidopa|            OR|CHEBI_39585 | CHE...|carbidopa (anhydr...|Automatic One-to-...|OBO_DbXref-OMOP_A...|\n",
      "|         744740|    744740|     39993.0|            zolpidem|           nan|         CHEBI_10125|            zolpidem|Automatic One-to-...|OBO_DbXref-OMOP_A...|\n",
      "|         745790|    745790|      8331.0|            Pimozide|           nan|          CHEBI_8212|            pimozide|Automatic One-to-...|OBO_DbXref-OMOP_A...|\n",
      "|         751412|    751412|     42355.0|         Fluvoxamine|           nan|          CHEBI_5138|         fluvoxamine|Automatic One-to-...|OBO_DbXref-OMOP_A...|\n",
      "|         752276|    752276|      8718.0|        Procyclidine|           nan|          CHEBI_8448|        procyclidine|Automatic One-to-...|OBO_DbXref-OMOP_A...|\n",
      "+---------------+----------+------------+--------------------+--------------+--------------------+--------------------+--------------------+--------------------+\n",
      "only showing top 20 rows\n",
      "\n"
     ]
    }
   ],
   "source": [
    "dci = df.select([\"drug_concept_id\"]).distinct()\n",
    "dci5 = dci.join(chebi, dci[\"drug_concept_id\"] == chebi[\"CONCEPT_ID\"], how=\"inner\")\n",
    "print(dci5.count())\n",
    "dci5.show()"
   ]
  },
  {
   "cell_type": "code",
   "execution_count": 23,
   "id": "94b1bf34-e0b2-4a47-b366-99290d099a28",
   "metadata": {
    "tags": []
   },
   "outputs": [],
   "source": [
    "dci5.toPandas().to_csv(\"drug_era_chebi.tsv\", sep=\"\\t\")"
   ]
  },
  {
   "cell_type": "code",
   "execution_count": null,
   "id": "0f372010-eb1b-4642-8a2d-aa30c106e685",
   "metadata": {},
   "outputs": [],
   "source": []
  }
 ],
 "metadata": {
  "kernelspec": {
   "display_name": "Python 3 (ipykernel)",
   "language": "python",
   "name": "python3"
  },
  "language_info": {
   "codemirror_mode": {
    "name": "ipython",
    "version": 3
   },
   "file_extension": ".py",
   "mimetype": "text/x-python",
   "name": "python",
   "nbconvert_exporter": "python",
   "pygments_lexer": "ipython3",
   "version": "3.9.16"
  }
 },
 "nbformat": 4,
 "nbformat_minor": 5
}
