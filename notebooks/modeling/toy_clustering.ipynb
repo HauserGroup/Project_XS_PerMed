{
 "cells": [
  {
   "cell_type": "code",
   "execution_count": 2,
   "metadata": {},
   "outputs": [],
   "source": [
    "import pandas as pd\n",
    "from sklearn.cluster import KMeans\n",
    "from sklearn.preprocessing import StandardScaler\n",
    "from sklearn.decomposition import PCA\n",
    "import matplotlib.pyplot as plt"
   ]
  },
  {
   "cell_type": "code",
   "execution_count": 3,
   "metadata": {},
   "outputs": [
    {
     "data": {
      "text/html": [
       "<div>\n",
       "<style scoped>\n",
       "    .dataframe tbody tr th:only-of-type {\n",
       "        vertical-align: middle;\n",
       "    }\n",
       "\n",
       "    .dataframe tbody tr th {\n",
       "        vertical-align: top;\n",
       "    }\n",
       "\n",
       "    .dataframe thead th {\n",
       "        text-align: right;\n",
       "    }\n",
       "</style>\n",
       "<table border=\"1\" class=\"dataframe\">\n",
       "  <thead>\n",
       "    <tr style=\"text-align: right;\">\n",
       "      <th></th>\n",
       "      <th>individual_id</th>\n",
       "      <th>drug_name</th>\n",
       "      <th>duration</th>\n",
       "      <th>atc_code</th>\n",
       "    </tr>\n",
       "  </thead>\n",
       "  <tbody>\n",
       "    <tr>\n",
       "      <th>0</th>\n",
       "      <td>1</td>\n",
       "      <td>Drug A</td>\n",
       "      <td>30</td>\n",
       "      <td>[A01AA01, A01AB02]</td>\n",
       "    </tr>\n",
       "    <tr>\n",
       "      <th>1</th>\n",
       "      <td>1</td>\n",
       "      <td>Drug B</td>\n",
       "      <td>10</td>\n",
       "      <td>[A01AA01]</td>\n",
       "    </tr>\n",
       "    <tr>\n",
       "      <th>2</th>\n",
       "      <td>2</td>\n",
       "      <td>Drug C</td>\n",
       "      <td>15</td>\n",
       "      <td>[B02BB01]</td>\n",
       "    </tr>\n",
       "    <tr>\n",
       "      <th>3</th>\n",
       "      <td>3</td>\n",
       "      <td>Drug D</td>\n",
       "      <td>20</td>\n",
       "      <td>[A01BB01, B02BB02, C03CA01]</td>\n",
       "    </tr>\n",
       "    <tr>\n",
       "      <th>4</th>\n",
       "      <td>3</td>\n",
       "      <td>Drug E</td>\n",
       "      <td>10</td>\n",
       "      <td>[A01BB01]</td>\n",
       "    </tr>\n",
       "  </tbody>\n",
       "</table>\n",
       "</div>"
      ],
      "text/plain": [
       "   individual_id drug_name  duration                     atc_code\n",
       "0              1    Drug A        30           [A01AA01, A01AB02]\n",
       "1              1    Drug B        10                    [A01AA01]\n",
       "2              2    Drug C        15                    [B02BB01]\n",
       "3              3    Drug D        20  [A01BB01, B02BB02, C03CA01]\n",
       "4              3    Drug E        10                    [A01BB01]"
      ]
     },
     "execution_count": 3,
     "metadata": {},
     "output_type": "execute_result"
    }
   ],
   "source": [
    "# Sample data (replace this with your actual dataset)\n",
    "data = pd.DataFrame(\n",
    "    {\n",
    "        \"individual_id\": [1, 1, 2, 3, 3],\n",
    "        \"drug_name\": [\"Drug A\", \"Drug B\", \"Drug C\", \"Drug D\", \"Drug E\"],\n",
    "        \"duration\": [30, 10, 15, 20, 10],\n",
    "        \"atc_code\": [\n",
    "            [\"A01AA01\", \"A01AB02\"],\n",
    "            [\"A01AA01\"],\n",
    "            [\"B02BB01\"],\n",
    "            [\"A01BB01\", \"B02BB02\", \"C03CA01\"],\n",
    "            [\"A01BB01\"],\n",
    "        ],\n",
    "    }\n",
    ")\n",
    "data"
   ]
  },
  {
   "cell_type": "code",
   "execution_count": 4,
   "metadata": {},
   "outputs": [
    {
     "data": {
      "text/html": [
       "<div>\n",
       "<style scoped>\n",
       "    .dataframe tbody tr th:only-of-type {\n",
       "        vertical-align: middle;\n",
       "    }\n",
       "\n",
       "    .dataframe tbody tr th {\n",
       "        vertical-align: top;\n",
       "    }\n",
       "\n",
       "    .dataframe thead th {\n",
       "        text-align: right;\n",
       "    }\n",
       "</style>\n",
       "<table border=\"1\" class=\"dataframe\">\n",
       "  <thead>\n",
       "    <tr style=\"text-align: right;\">\n",
       "      <th></th>\n",
       "      <th>individual_id</th>\n",
       "      <th>atc_code</th>\n",
       "      <th>duration</th>\n",
       "    </tr>\n",
       "  </thead>\n",
       "  <tbody>\n",
       "    <tr>\n",
       "      <th>0</th>\n",
       "      <td>1</td>\n",
       "      <td>A01</td>\n",
       "      <td>15.000000</td>\n",
       "    </tr>\n",
       "    <tr>\n",
       "      <th>1</th>\n",
       "      <td>1</td>\n",
       "      <td>A01</td>\n",
       "      <td>15.000000</td>\n",
       "    </tr>\n",
       "    <tr>\n",
       "      <th>0</th>\n",
       "      <td>1</td>\n",
       "      <td>A01</td>\n",
       "      <td>10.000000</td>\n",
       "    </tr>\n",
       "    <tr>\n",
       "      <th>0</th>\n",
       "      <td>2</td>\n",
       "      <td>B02</td>\n",
       "      <td>15.000000</td>\n",
       "    </tr>\n",
       "    <tr>\n",
       "      <th>0</th>\n",
       "      <td>3</td>\n",
       "      <td>A01</td>\n",
       "      <td>6.666667</td>\n",
       "    </tr>\n",
       "    <tr>\n",
       "      <th>1</th>\n",
       "      <td>3</td>\n",
       "      <td>B02</td>\n",
       "      <td>6.666667</td>\n",
       "    </tr>\n",
       "    <tr>\n",
       "      <th>2</th>\n",
       "      <td>3</td>\n",
       "      <td>C03</td>\n",
       "      <td>6.666667</td>\n",
       "    </tr>\n",
       "    <tr>\n",
       "      <th>0</th>\n",
       "      <td>3</td>\n",
       "      <td>A01</td>\n",
       "      <td>10.000000</td>\n",
       "    </tr>\n",
       "  </tbody>\n",
       "</table>\n",
       "</div>"
      ],
      "text/plain": [
       "   individual_id atc_code   duration\n",
       "0              1      A01  15.000000\n",
       "1              1      A01  15.000000\n",
       "0              1      A01  10.000000\n",
       "0              2      B02  15.000000\n",
       "0              3      A01   6.666667\n",
       "1              3      B02   6.666667\n",
       "2              3      C03   6.666667\n",
       "0              3      A01  10.000000"
      ]
     },
     "execution_count": 4,
     "metadata": {},
     "output_type": "execute_result"
    }
   ],
   "source": [
    "# Step 1: Extract 3rd-level ATC codes and split duration equally for multiple ATC codes\n",
    "def process_row(row):\n",
    "    atc_codes = [\n",
    "        code[:3] for code in row[\"atc_code\"]\n",
    "    ]  # Take only the first 3 characters\n",
    "    equal_duration = row[\"duration\"] / len(atc_codes)\n",
    "    return pd.DataFrame(\n",
    "        {\n",
    "            \"individual_id\": row[\"individual_id\"],\n",
    "            \"atc_code\": atc_codes,\n",
    "            \"duration\": equal_duration,\n",
    "        }\n",
    "    )\n",
    "\n",
    "\n",
    "processed_data = pd.concat([process_row(row) for _, row in data.iterrows()])\n",
    "processed_data"
   ]
  },
  {
   "cell_type": "code",
   "execution_count": 6,
   "metadata": {},
   "outputs": [
    {
     "data": {
      "text/html": [
       "<div>\n",
       "<style scoped>\n",
       "    .dataframe tbody tr th:only-of-type {\n",
       "        vertical-align: middle;\n",
       "    }\n",
       "\n",
       "    .dataframe tbody tr th {\n",
       "        vertical-align: top;\n",
       "    }\n",
       "\n",
       "    .dataframe thead th {\n",
       "        text-align: right;\n",
       "    }\n",
       "</style>\n",
       "<table border=\"1\" class=\"dataframe\">\n",
       "  <thead>\n",
       "    <tr style=\"text-align: right;\">\n",
       "      <th>atc_code</th>\n",
       "      <th>A01</th>\n",
       "      <th>B02</th>\n",
       "      <th>C03</th>\n",
       "    </tr>\n",
       "    <tr>\n",
       "      <th>individual_id</th>\n",
       "      <th></th>\n",
       "      <th></th>\n",
       "      <th></th>\n",
       "    </tr>\n",
       "  </thead>\n",
       "  <tbody>\n",
       "    <tr>\n",
       "      <th>1</th>\n",
       "      <td>40.000000</td>\n",
       "      <td>0.000000</td>\n",
       "      <td>0.000000</td>\n",
       "    </tr>\n",
       "    <tr>\n",
       "      <th>2</th>\n",
       "      <td>0.000000</td>\n",
       "      <td>15.000000</td>\n",
       "      <td>0.000000</td>\n",
       "    </tr>\n",
       "    <tr>\n",
       "      <th>3</th>\n",
       "      <td>16.666667</td>\n",
       "      <td>6.666667</td>\n",
       "      <td>6.666667</td>\n",
       "    </tr>\n",
       "  </tbody>\n",
       "</table>\n",
       "</div>"
      ],
      "text/plain": [
       "atc_code             A01        B02       C03\n",
       "individual_id                                \n",
       "1              40.000000   0.000000  0.000000\n",
       "2               0.000000  15.000000  0.000000\n",
       "3              16.666667   6.666667  6.666667"
      ]
     },
     "execution_count": 6,
     "metadata": {},
     "output_type": "execute_result"
    }
   ],
   "source": [
    "# Step 2: Pivot the data to create the feature matrix\n",
    "feature_matrix = processed_data.pivot_table(\n",
    "    index=\"individual_id\", columns=\"atc_code\", values=\"duration\", aggfunc=\"sum\"\n",
    ").fillna(0)\n",
    "feature_matrix"
   ]
  },
  {
   "cell_type": "code",
   "execution_count": 7,
   "metadata": {},
   "outputs": [
    {
     "data": {
      "text/plain": [
       "array([[ 1.28684238, -1.1769647 , -0.70710678],\n",
       "       [-1.15138528,  1.26750044, -0.70710678],\n",
       "       [-0.13545709, -0.09053575,  1.41421356]])"
      ]
     },
     "execution_count": 7,
     "metadata": {},
     "output_type": "execute_result"
    }
   ],
   "source": [
    "# Step 3: Scale the data (standardizing is usually a good idea before clustering)\n",
    "scaler = StandardScaler()\n",
    "scaled_features = scaler.fit_transform(feature_matrix)\n",
    "scaled_features"
   ]
  },
  {
   "cell_type": "code",
   "execution_count": 8,
   "metadata": {},
   "outputs": [
    {
     "data": {
      "text/plain": [
       "array([[ 1.75799959, -0.67130221],\n",
       "       [-1.69367279, -0.7508115 ],\n",
       "       [-0.06432679,  1.42211371]])"
      ]
     },
     "execution_count": 8,
     "metadata": {},
     "output_type": "execute_result"
    }
   ],
   "source": [
    "# Step 4: (Optional) Dimensionality Reduction using PCA\n",
    "pca = PCA(n_components=2)  # Reducing to 2 dimensions for easy visualization\n",
    "reduced_features = pca.fit_transform(scaled_features)\n",
    "reduced_features"
   ]
  },
  {
   "cell_type": "code",
   "execution_count": 9,
   "metadata": {},
   "outputs": [
    {
     "data": {
      "text/html": [
       "<div>\n",
       "<style scoped>\n",
       "    .dataframe tbody tr th:only-of-type {\n",
       "        vertical-align: middle;\n",
       "    }\n",
       "\n",
       "    .dataframe tbody tr th {\n",
       "        vertical-align: top;\n",
       "    }\n",
       "\n",
       "    .dataframe thead th {\n",
       "        text-align: right;\n",
       "    }\n",
       "</style>\n",
       "<table border=\"1\" class=\"dataframe\">\n",
       "  <thead>\n",
       "    <tr style=\"text-align: right;\">\n",
       "      <th>atc_code</th>\n",
       "      <th>A01</th>\n",
       "      <th>B02</th>\n",
       "      <th>C03</th>\n",
       "      <th>cluster</th>\n",
       "    </tr>\n",
       "    <tr>\n",
       "      <th>individual_id</th>\n",
       "      <th></th>\n",
       "      <th></th>\n",
       "      <th></th>\n",
       "      <th></th>\n",
       "    </tr>\n",
       "  </thead>\n",
       "  <tbody>\n",
       "    <tr>\n",
       "      <th>1</th>\n",
       "      <td>40.000000</td>\n",
       "      <td>0.000000</td>\n",
       "      <td>0.000000</td>\n",
       "      <td>1</td>\n",
       "    </tr>\n",
       "    <tr>\n",
       "      <th>2</th>\n",
       "      <td>0.000000</td>\n",
       "      <td>15.000000</td>\n",
       "      <td>0.000000</td>\n",
       "      <td>0</td>\n",
       "    </tr>\n",
       "    <tr>\n",
       "      <th>3</th>\n",
       "      <td>16.666667</td>\n",
       "      <td>6.666667</td>\n",
       "      <td>6.666667</td>\n",
       "      <td>2</td>\n",
       "    </tr>\n",
       "  </tbody>\n",
       "</table>\n",
       "</div>"
      ],
      "text/plain": [
       "atc_code             A01        B02       C03  cluster\n",
       "individual_id                                         \n",
       "1              40.000000   0.000000  0.000000        1\n",
       "2               0.000000  15.000000  0.000000        0\n",
       "3              16.666667   6.666667  6.666667        2"
      ]
     },
     "execution_count": 9,
     "metadata": {},
     "output_type": "execute_result"
    }
   ],
   "source": [
    "# Step 5: Apply KMeans Clustering\n",
    "kmeans = KMeans(n_clusters=3)  # Choose the number of clusters\n",
    "clusters = kmeans.fit_predict(reduced_features)\n",
    "\n",
    "# Add cluster labels to the original feature matrix\n",
    "feature_matrix[\"cluster\"] = clusters\n",
    "feature_matrix"
   ]
  },
  {
   "cell_type": "code",
   "execution_count": 12,
   "metadata": {},
   "outputs": [
    {
     "name": "stdout",
     "output_type": "stream",
     "text": [
      "atc_code             A01        B02       C03  cluster\n",
      "individual_id                                         \n",
      "1              40.000000   0.000000  0.000000        1\n",
      "2               0.000000  15.000000  0.000000        2\n",
      "3              16.666667   6.666667  6.666667        0\n"
     ]
    },
    {
     "data": {
      "image/png": "[encoded data removed]",
      "text/plain": [
       "<Figure size 640x480 with 1 Axes>"
      ]
     },
     "metadata": {},
     "output_type": "display_data"
    }
   ],
   "source": [
    "# Step 6: View Results\n",
    "print(feature_matrix)\n",
    "\n",
    "plt.scatter(reduced_features[:, 0], reduced_features[:, 1], c=clusters, cmap=\"viridis\")\n",
    "plt.xlabel(\"PCA Component 1\")\n",
    "plt.ylabel(\"PCA Component 2\")\n",
    "plt.title(\"Clustering of Individuals Based on Drug Use Patterns\")\n",
    "plt.show()"
   ]
  },
  {
   "cell_type": "code",
   "execution_count": null,
   "metadata": {},
   "outputs": [],
   "source": []
  }
 ],
 "metadata": {
  "kernelspec": {
   "display_name": ".venv",
   "language": "python",
   "name": "python3"
  },
  "language_info": {
   "codemirror_mode": {
    "name": "ipython",
    "version": 3
   },
   "file_extension": ".py",
   "mimetype": "text/x-python",
   "name": "python",
   "nbconvert_exporter": "python",
   "pygments_lexer": "ipython3",
   "version": "3.12.5"
  }
 },
 "nbformat": 4,
 "nbformat_minor": 2
}
