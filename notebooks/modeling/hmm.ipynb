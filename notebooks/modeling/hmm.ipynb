{
 "cells": [
  {
   "cell_type": "code",
   "execution_count": 1,
   "metadata": {},
   "outputs": [],
   "source": [
    "import pandas as pd\n",
    "import numpy as np\n",
    "from tqdm import tqdm\n",
    "\n",
    "np.random.seed(42)"
   ]
  },
  {
   "cell_type": "code",
   "execution_count": 2,
   "metadata": {},
   "outputs": [
    {
     "data": {
      "text/html": [
       "<div>\n",
       "<style scoped>\n",
       "    .dataframe tbody tr th:only-of-type {\n",
       "        vertical-align: middle;\n",
       "    }\n",
       "\n",
       "    .dataframe tbody tr th {\n",
       "        vertical-align: top;\n",
       "    }\n",
       "\n",
       "    .dataframe thead th {\n",
       "        text-align: right;\n",
       "    }\n",
       "</style>\n",
       "<table border=\"1\" class=\"dataframe\">\n",
       "  <thead>\n",
       "    <tr style=\"text-align: right;\">\n",
       "      <th></th>\n",
       "      <th>eid</th>\n",
       "      <th>drug_era_id</th>\n",
       "      <th>drug_concept_id</th>\n",
       "      <th>drug_era_start_date</th>\n",
       "      <th>drug_era_end_date</th>\n",
       "      <th>drug_exposure_count</th>\n",
       "      <th>gap_days</th>\n",
       "      <th>concept_name</th>\n",
       "      <th>atc_code</th>\n",
       "      <th>duration</th>\n",
       "      <th>atc_level3</th>\n",
       "    </tr>\n",
       "  </thead>\n",
       "  <tbody>\n",
       "    <tr>\n",
       "      <th>0</th>\n",
       "      <td>6021257</td>\n",
       "      <td>1236950609195</td>\n",
       "      <td>19005129</td>\n",
       "      <td>2014-05-12</td>\n",
       "      <td>2014-06-10</td>\n",
       "      <td>1</td>\n",
       "      <td>0</td>\n",
       "      <td>clobetasone</td>\n",
       "      <td>D07AB01</td>\n",
       "      <td>30</td>\n",
       "      <td>D07A</td>\n",
       "    </tr>\n",
       "    <tr>\n",
       "      <th>1</th>\n",
       "      <td>3430966</td>\n",
       "      <td>721554547993</td>\n",
       "      <td>19008994</td>\n",
       "      <td>2010-10-12</td>\n",
       "      <td>2010-11-07</td>\n",
       "      <td>1</td>\n",
       "      <td>0</td>\n",
       "      <td>mebeverine</td>\n",
       "      <td>A03AA04</td>\n",
       "      <td>27</td>\n",
       "      <td>A03A</td>\n",
       "    </tr>\n",
       "    <tr>\n",
       "      <th>2</th>\n",
       "      <td>2127268</td>\n",
       "      <td>910533073010</td>\n",
       "      <td>755695</td>\n",
       "      <td>2006-10-23</td>\n",
       "      <td>2007-10-04</td>\n",
       "      <td>6</td>\n",
       "      <td>23</td>\n",
       "      <td>fluoxetine</td>\n",
       "      <td>N06AB03</td>\n",
       "      <td>347</td>\n",
       "      <td>N06A</td>\n",
       "    </tr>\n",
       "    <tr>\n",
       "      <th>3</th>\n",
       "      <td>2441156</td>\n",
       "      <td>901943201395</td>\n",
       "      <td>1549080</td>\n",
       "      <td>2010-01-18</td>\n",
       "      <td>2010-04-17</td>\n",
       "      <td>1</td>\n",
       "      <td>0</td>\n",
       "      <td>estrogens, conjugated (USP)</td>\n",
       "      <td>G03CA57</td>\n",
       "      <td>90</td>\n",
       "      <td>G03C</td>\n",
       "    </tr>\n",
       "    <tr>\n",
       "      <th>4</th>\n",
       "      <td>5489554</td>\n",
       "      <td>1649267519173</td>\n",
       "      <td>19011773</td>\n",
       "      <td>2011-03-28</td>\n",
       "      <td>2011-03-28</td>\n",
       "      <td>1</td>\n",
       "      <td>0</td>\n",
       "      <td>ascorbic acid</td>\n",
       "      <td>A11GA01</td>\n",
       "      <td>1</td>\n",
       "      <td>A11G</td>\n",
       "    </tr>\n",
       "  </tbody>\n",
       "</table>\n",
       "</div>"
      ],
      "text/plain": [
       "       eid    drug_era_id  drug_concept_id drug_era_start_date  \\\n",
       "0  6021257  1236950609195         19005129          2014-05-12   \n",
       "1  3430966   721554547993         19008994          2010-10-12   \n",
       "2  2127268   910533073010           755695          2006-10-23   \n",
       "3  2441156   901943201395          1549080          2010-01-18   \n",
       "4  5489554  1649267519173         19011773          2011-03-28   \n",
       "\n",
       "  drug_era_end_date  drug_exposure_count  gap_days  \\\n",
       "0        2014-06-10                    1         0   \n",
       "1        2010-11-07                    1         0   \n",
       "2        2007-10-04                    6        23   \n",
       "3        2010-04-17                    1         0   \n",
       "4        2011-03-28                    1         0   \n",
       "\n",
       "                  concept_name atc_code  duration atc_level3  \n",
       "0                  clobetasone  D07AB01        30       D07A  \n",
       "1                   mebeverine  A03AA04        27       A03A  \n",
       "2                   fluoxetine  N06AB03       347       N06A  \n",
       "3  estrogens, conjugated (USP)  G03CA57        90       G03C  \n",
       "4                ascorbic acid  A11GA01         1       A11G  "
      ]
     },
     "execution_count": 2,
     "metadata": {},
     "output_type": "execute_result"
    }
   ],
   "source": [
    "df = pd.read_csv(\"../../dataset/df_cleaned_1atc.tsv\", sep=\"\\t\")\n",
    "df.head()"
   ]
  },
  {
   "cell_type": "code",
   "execution_count": 3,
   "metadata": {},
   "outputs": [],
   "source": [
    "df[\"drug_era_start_date\"] = pd.to_datetime(df[\"drug_era_start_date\"])\n",
    "df[\"drug_era_end_date\"] = pd.to_datetime(df[\"drug_era_end_date\"])"
   ]
  },
  {
   "cell_type": "code",
   "execution_count": 4,
   "metadata": {},
   "outputs": [],
   "source": [
    "def split_eid_df(eid_df):\n",
    "    # Convert dates to datetime if they aren't already\n",
    "    eid_df = eid_df.copy()\n",
    "\n",
    "    # Sort by start date\n",
    "    eid_df = eid_df.sort_values(\"drug_era_start_date\")\n",
    "\n",
    "    # Find overlapping periods\n",
    "    overlap_groups = []\n",
    "    current_group = []\n",
    "\n",
    "    for i in range(len(eid_df) - 1):\n",
    "        current_end = eid_df[\"drug_era_end_date\"].iloc[i]\n",
    "        next_start = eid_df[\"drug_era_start_date\"].iloc[i + 1]\n",
    "\n",
    "        if current_end > next_start:\n",
    "            if not current_group:  # Start new group\n",
    "                current_group.append(i)\n",
    "            current_group.append(i + 1)\n",
    "        elif current_group:  # End of an overlap group\n",
    "            overlap_groups.append(eid_df.iloc[current_group])\n",
    "            current_group = []\n",
    "\n",
    "    # Don't forget to add the last group if it exists\n",
    "    if current_group:\n",
    "        overlap_groups.append(eid_df.iloc[current_group])\n",
    "\n",
    "    return overlap_groups"
   ]
  },
  {
   "cell_type": "code",
   "execution_count": 35,
   "metadata": {},
   "outputs": [
    {
     "name": "stderr",
     "output_type": "stream",
     "text": [
      "100%|██████████| 1000/1000 [00:05<00:00, 179.93it/s]"
     ]
    },
    {
     "name": "stdout",
     "output_type": "stream",
     "text": [
      "number of drug eras: 13746\n"
     ]
    },
    {
     "name": "stderr",
     "output_type": "stream",
     "text": [
      "\n"
     ]
    }
   ],
   "source": [
    "# for each eid, split the data into multiple pieces\n",
    "all_drug_eras = []\n",
    "all_eids = df[\"eid\"].unique()\n",
    "sampled_eids = np.random.choice(all_eids, 1000, replace=False)\n",
    "for eid in tqdm(sampled_eids):\n",
    "    eid_df = df[df[\"eid\"] == eid]\n",
    "    all_drug_eras.extend(split_eid_df(eid_df))\n",
    "\n",
    "print(f\"number of drug eras: {len(all_drug_eras)}\")"
   ]
  },
  {
   "cell_type": "code",
   "execution_count": 36,
   "metadata": {},
   "outputs": [],
   "source": [
    "def create_non_overlapping_periods(overlap_df):\n",
    "    # Get all unique dates (both start and end)\n",
    "    dates = np.concatenate(\n",
    "        [\n",
    "            overlap_df[\"drug_era_start_date\"].values,\n",
    "            overlap_df[\"drug_era_end_date\"].values,\n",
    "        ]\n",
    "    )\n",
    "    dates = pd.to_datetime(np.unique(dates))\n",
    "    dates.sort_values()\n",
    "\n",
    "    # Create periods between each adjacent pair of dates\n",
    "    periods = []\n",
    "    for i in range(len(dates) - 1):\n",
    "        period_start = dates[i]\n",
    "        period_end = dates[i + 1]\n",
    "\n",
    "        # Find all drugs active during this period\n",
    "        active_drugs = overlap_df[\n",
    "            (overlap_df[\"drug_era_start_date\"] <= period_start)\n",
    "            & (overlap_df[\"drug_era_end_date\"] >= period_end)\n",
    "        ]\n",
    "\n",
    "        if not active_drugs.empty:\n",
    "            periods.append(\n",
    "                {\n",
    "                    \"period_start\": period_start,\n",
    "                    \"period_end\": period_end,\n",
    "                    \"duration\": (period_end - period_start).days,\n",
    "                    \"concept_names\": \", \".join(\n",
    "                        np.sort(active_drugs[\"concept_name\"].unique())\n",
    "                    ),\n",
    "                    \"drug_concept_ids\": \", \".join(\n",
    "                        np.sort(active_drugs[\"drug_concept_id\"].astype(str).unique())\n",
    "                    ),\n",
    "                    \"eid\": active_drugs[\"eid\"].iloc[\n",
    "                        0\n",
    "                    ],  # Assuming same eid for all rows\n",
    "                }\n",
    "            )\n",
    "\n",
    "    return pd.DataFrame(periods)"
   ]
  },
  {
   "cell_type": "code",
   "execution_count": 40,
   "metadata": {},
   "outputs": [
    {
     "name": "stderr",
     "output_type": "stream",
     "text": [
      "13746it [00:11, 1160.99it/s]\n"
     ]
    },
    {
     "data": {
      "text/html": [
       "<div>\n",
       "<style scoped>\n",
       "    .dataframe tbody tr th:only-of-type {\n",
       "        vertical-align: middle;\n",
       "    }\n",
       "\n",
       "    .dataframe tbody tr th {\n",
       "        vertical-align: top;\n",
       "    }\n",
       "\n",
       "    .dataframe thead th {\n",
       "        text-align: right;\n",
       "    }\n",
       "</style>\n",
       "<table border=\"1\" class=\"dataframe\">\n",
       "  <thead>\n",
       "    <tr style=\"text-align: right;\">\n",
       "      <th></th>\n",
       "      <th>period_start</th>\n",
       "      <th>period_end</th>\n",
       "      <th>duration</th>\n",
       "      <th>concept_names</th>\n",
       "      <th>drug_concept_ids</th>\n",
       "      <th>eid</th>\n",
       "      <th>sequence_id</th>\n",
       "    </tr>\n",
       "  </thead>\n",
       "  <tbody>\n",
       "    <tr>\n",
       "      <th>0</th>\n",
       "      <td>1999-10-12</td>\n",
       "      <td>1999-11-10</td>\n",
       "      <td>29</td>\n",
       "      <td>estradiol, norethindrone</td>\n",
       "      <td>1521369, 1548195</td>\n",
       "      <td>1262094</td>\n",
       "      <td>0</td>\n",
       "    </tr>\n",
       "  </tbody>\n",
       "</table>\n",
       "</div>"
      ],
      "text/plain": [
       "  period_start period_end  duration             concept_names  \\\n",
       "0   1999-10-12 1999-11-10        29  estradiol, norethindrone   \n",
       "\n",
       "   drug_concept_ids      eid  sequence_id  \n",
       "0  1521369, 1548195  1262094            0  "
      ]
     },
     "execution_count": 40,
     "metadata": {},
     "output_type": "execute_result"
    }
   ],
   "source": [
    "non_overlapping_periods = []\n",
    "for index, drug_era in tqdm(enumerate(all_drug_eras)):\n",
    "    this_data = create_non_overlapping_periods(drug_era)\n",
    "    this_data[\"sequence_id\"] = index\n",
    "    non_overlapping_periods.append(this_data)\n",
    "non_overlapping_periods[0]"
   ]
  },
  {
   "cell_type": "markdown",
   "metadata": {},
   "source": [
    "#### columns of the dataset\n",
    "- **eid**: unique identifier for each person\n",
    "- **drug_concept_id**: unique identifier for each drug \n",
    "- **drug_era_id**: unique identifier for each drug era. each drug era is a continuous period of drug use. each person can take the same drug in multiple drug eras. \n",
    "- **drug_era_start_date**: start date of the drug era \n",
    "- **drug_era_end_date**: end date of the drug era \n",
    "- **duration of the drug era**: calculated as drug_era_end_date - drug_era_start_date + 1 day\n"
   ]
  },
  {
   "cell_type": "markdown",
   "metadata": {},
   "source": [
    "#### HMM\n",
    "\n",
    "Each unique drug (identified by drug_concept_id or atc_code) could represent a distinct hidden state in the HMM. \\\n",
    "The observed sequence represents the order of drug eras. \\\n",
    "*Emissions* are the durations of each drug era.\n"
   ]
  },
  {
   "cell_type": "code",
   "execution_count": 41,
   "metadata": {},
   "outputs": [
    {
     "name": "stdout",
     "output_type": "stream",
     "text": [
      "number of total states: 12179\n",
      "number of unique states: 12179\n"
     ]
    }
   ],
   "source": [
    "# find number of hidden states\n",
    "hidden_states = []\n",
    "for sequence in non_overlapping_periods:\n",
    "    hidden_states.extend(list(sequence[\"concept_names\"]))\n",
    "\n",
    "print(f\"number of total states: {len(np.unique(hidden_states))}\")\n",
    "hidden_states = np.unique(hidden_states)\n",
    "print(f\"number of unique states: {len(hidden_states)}\")"
   ]
  },
  {
   "cell_type": "code",
   "execution_count": null,
   "metadata": {},
   "outputs": [],
   "source": []
  }
 ],
 "metadata": {
  "kernelspec": {
   "display_name": ".venv",
   "language": "python",
   "name": "python3"
  },
  "language_info": {
   "codemirror_mode": {
    "name": "ipython",
    "version": 3
   },
   "file_extension": ".py",
   "mimetype": "text/x-python",
   "name": "python",
   "nbconvert_exporter": "python",
   "pygments_lexer": "ipython3",
   "version": "3.12.5"
  }
 },
 "nbformat": 4,
 "nbformat_minor": 2
}
