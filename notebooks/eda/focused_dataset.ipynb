{
 "cells": [
  {
   "cell_type": "code",
   "execution_count": 3,
   "id": "c264a04e-05cc-4ea3-90bc-71f644c9aa70",
   "metadata": {
    "tags": []
   },
   "outputs": [
    {
     "ename": "ModuleNotFoundError",
     "evalue": "No module named 'pyspark'",
     "output_type": "error",
     "traceback": [
      "\u001b[0;31m---------------------------------------------------------------------------\u001b[0m",
      "\u001b[0;31mModuleNotFoundError\u001b[0m                       Traceback (most recent call last)",
      "Cell \u001b[0;32mIn[3], line 1\u001b[0m\n\u001b[0;32m----> 1\u001b[0m \u001b[38;5;28;01mimport\u001b[39;00m \u001b[38;5;21;01mpyspark\u001b[39;00m\n\u001b[1;32m      2\u001b[0m \u001b[38;5;28;01mimport\u001b[39;00m \u001b[38;5;21;01mdxpy\u001b[39;00m\n\u001b[1;32m      3\u001b[0m \u001b[38;5;28;01mimport\u001b[39;00m \u001b[38;5;21;01mdxdata\u001b[39;00m\n",
      "\u001b[0;31mModuleNotFoundError\u001b[0m: No module named 'pyspark'"
     ]
    }
   ],
   "source": [
    "import pyspark\n",
    "import dxpy\n",
    "import dxdata\n",
    "import pandas as pd\n",
    "import matplotlib.pyplot as plt\n",
    "from pyspark.sql.functions import countDistinct"
   ]
  },
  {
   "cell_type": "markdown",
   "id": "57f4123e-b1d4-4aa1-bf20-7306a92bed03",
   "metadata": {},
   "source": [
    "# load the dataset"
   ]
  },
  {
   "cell_type": "code",
   "execution_count": 3,
   "id": "32aef540-bc00-4647-9c96-800c86633611",
   "metadata": {
    "tags": []
   },
   "outputs": [],
   "source": [
    "sc = pyspark.SparkContext()\n",
    "spark = pyspark.sql.SparkSession(sc)\n",
    "\n",
    "dispensed_database_name = dxpy.find_one_data_object(\n",
    "    classname=\"database\", name=\"app*\", folder=\"/\", name_mode=\"glob\", describe=True\n",
    ")[\"describe\"][\"name\"]\n",
    "dispensed_dataset_id = dxpy.find_one_data_object(\n",
    "    typename=\"Dataset\", name=\"app*.dataset\", folder=\"/\", name_mode=\"glob\"\n",
    ")[\"id\"]\n",
    "\n",
    "spark.sql(\"USE \" + dispensed_database_name)\n",
    "\n",
    "dataset = dxdata.load_dataset(id=dispensed_dataset_id)"
   ]
  },
  {
   "cell_type": "code",
   "execution_count": 4,
   "id": "8cbf7660-18c5-4bed-a284-1fa55bf34391",
   "metadata": {
    "tags": []
   },
   "outputs": [
    {
     "name": "stdout",
     "output_type": "stream",
     "text": [
      "Number of entries 19959413\n",
      "+-------+-------------+---------------+-------------------+-----------------+-------------------+--------+\n",
      "|    eid|  drug_era_id|drug_concept_id|drug_era_start_date|drug_era_end_date|drug_exposure_count|gap_days|\n",
      "+-------+-------------+---------------+-------------------+-----------------+-------------------+--------+\n",
      "|6021257|1236950609195|       19005129|         12/05/2014|       10/06/2014|                  1|       0|\n",
      "|3832658| 798863919105|         743670|         30/03/2011|       02/09/2011|                  5|      12|\n",
      "|3430966| 721554547993|       19008994|         12/10/2010|       07/11/2010|                  1|       0|\n",
      "|2127268| 910533073010|         755695|         23/10/2006|       04/10/2007|                  6|      23|\n",
      "|5185705| 317827646206|       19010400|         30/07/1999|       28/08/1999|                  1|       0|\n",
      "+-------+-------------+---------------+-------------------+-----------------+-------------------+--------+\n",
      "only showing top 5 rows\n",
      "\n"
     ]
    }
   ],
   "source": [
    "# Init pyspark and load dataframe\n",
    "OMOP_TABLE = \"omop_drug_era\"  # 'omop_drug_era', 'omop_drug_exposure'\n",
    "\n",
    "# Load dose era table\n",
    "ode = dataset[OMOP_TABLE]\n",
    "\n",
    "field_names = [f.name for f in ode.fields]\n",
    "\n",
    "df = ode.retrieve_fields(names=field_names, engine=dxdata.connect())\n",
    "# df = df.drop(\"eid\")\n",
    "\n",
    "print(f\"Number of entries {df.count()}\")\n",
    "df.show(5)"
   ]
  },
  {
   "cell_type": "code",
   "execution_count": 5,
   "id": "d9df8978-a825-4ecc-ab3e-ca8df6c994d7",
   "metadata": {
    "tags": []
   },
   "outputs": [],
   "source": [
    "drug_era_atc_pandas = pd.read_csv(\"drug_era_atc.tsv\", sep=\"\\t\")\n",
    "drug_era_atc_pandas.rename(columns={\"_c13\": \"atc_code\"}, inplace=True)"
   ]
  },
  {
   "cell_type": "code",
   "execution_count": 6,
   "id": "e4364740-5929-47d3-89ec-08c5cbd044d5",
   "metadata": {
    "tags": []
   },
   "outputs": [
    {
     "name": "stderr",
     "output_type": "stream",
     "text": [
      "/cluster/spark/python/pyspark/sql/pandas/conversion.py:371: FutureWarning: iteritems is deprecated and will be removed in a future version. Use .items instead.\n",
      "  for column, series in pdf.iteritems():\n"
     ]
    },
    {
     "name": "stdout",
     "output_type": "stream",
     "text": [
      "Number of entries 41473278\n",
      "+-------+-------------+---------------+-------------------+-----------------+-------------------+--------+------------+--------+\n",
      "|    eid|  drug_era_id|drug_concept_id|drug_era_start_date|drug_era_end_date|drug_exposure_count|gap_days|concept_name|atc_code|\n",
      "+-------+-------------+---------------+-------------------+-----------------+-------------------+--------+------------+--------+\n",
      "|2798830|1391569414591|         929887|         27/08/2014|       15/02/2016|                  9|      64|lansoprazole| A02BC03|\n",
      "|4678871|1116691539425|         989878|         26/04/2016|       25/05/2016|                  1|       0|   lidocaine| C01BB01|\n",
      "|4678871|1116691539425|         989878|         26/04/2016|       25/05/2016|                  1|       0|   lidocaine| C05AD01|\n",
      "|4678871|1116691539425|         989878|         26/04/2016|       25/05/2016|                  1|       0|   lidocaine| D04AB01|\n",
      "|4678871|1116691539425|         989878|         26/04/2016|       25/05/2016|                  1|       0|   lidocaine| N01BB02|\n",
      "+-------+-------------+---------------+-------------------+-----------------+-------------------+--------+------------+--------+\n",
      "only showing top 5 rows\n",
      "\n"
     ]
    }
   ],
   "source": [
    "drug_era_atc_df = spark.createDataFrame(drug_era_atc_pandas)\n",
    "\n",
    "df_with_atc = df.join(drug_era_atc_df, on=\"drug_concept_id\", how=\"left\")\n",
    "\n",
    "# Step 4: Select relevant columns\n",
    "df_with_atc = df_with_atc.select(\n",
    "    df.columns + [\"concept_name\"] + [\"atc_code\"]\n",
    ")  # Keep all original columns and add '_c13' (ATC code)\n",
    "print(f\"Number of entries {df_with_atc.count()}\")\n",
    "df_with_atc.show(5)"
   ]
  },
  {
   "cell_type": "markdown",
   "id": "4f005a72-d7f7-4a0c-9374-55215bd3f9d6",
   "metadata": {},
   "source": [
    "# filter through times"
   ]
  },
  {
   "cell_type": "code",
   "execution_count": 15,
   "id": "93f14688-71c7-4325-bf1f-6673012a0d5e",
   "metadata": {
    "tags": []
   },
   "outputs": [
    {
     "name": "stdout",
     "output_type": "stream",
     "text": [
      "+---------------+-----------+\n",
      "|drug_concept_id|times_taken|\n",
      "+---------------+-----------+\n",
      "|        1112807|     927199|\n",
      "|        1125315|     712882|\n",
      "|        1713332|     555088|\n",
      "|        1201620|     406766|\n",
      "|        1115572|     378066|\n",
      "+---------------+-----------+\n",
      "only showing top 5 rows\n",
      "\n"
     ]
    },
    {
     "name": "stderr",
     "output_type": "stream",
     "text": [
      "/cluster/spark/python/pyspark/sql/pandas/conversion.py:371: FutureWarning: iteritems is deprecated and will be removed in a future version. Use .items instead.\n",
      "  for column, series in pdf.iteritems():\n"
     ]
    }
   ],
   "source": [
    "drug_times_df_pandas = pd.read_csv(\"drug_times_count.csv\")\n",
    "drug_times_df = spark.createDataFrame(drug_times_df_pandas)\n",
    "drug_times_df.show(5)"
   ]
  },
  {
   "cell_type": "code",
   "execution_count": 21,
   "id": "8dbedf87-a2fb-4fd5-a126-efa6ff258304",
   "metadata": {
    "tags": []
   },
   "outputs": [
    {
     "name": "stdout",
     "output_type": "stream",
     "text": [
      "Number of entries 790719\n",
      "+---------------+-------+-------------+-------------------+-----------------+-------------------+--------+------------+--------+\n",
      "|drug_concept_id|    eid|  drug_era_id|drug_era_start_date|drug_era_end_date|drug_exposure_count|gap_days|concept_name|atc_code|\n",
      "+---------------+-------+-------------+-------------------+-----------------+-------------------+--------+------------+--------+\n",
      "|         714684|3136611|1520418438667|         02/01/1998|       09/09/1998|                  9|      26|  nefazodone| N06AX06|\n",
      "|         714684|3607731| 266288044363|         18/01/2000|       21/03/2000|                  2|       0|  nefazodone| N06AX06|\n",
      "|         714684|2723691|1434519092181|         11/02/1997|       04/06/1997|                  4|      33|  nefazodone| N06AX06|\n",
      "|         714684|3136611| 395137011982|         06/10/1995|       24/03/1996|                  6|      17|  nefazodone| N06AX06|\n",
      "|         714684|3607731| 841813613114|         27/05/2002|       14/03/2003|                  7|      65|  nefazodone| N06AX06|\n",
      "+---------------+-------+-------------+-------------------+-----------------+-------------------+--------+------------+--------+\n",
      "only showing top 5 rows\n",
      "\n"
     ]
    }
   ],
   "source": [
    "df_combined = df_with_atc.join(drug_times_df, on=\"drug_concept_id\", how=\"left\")\n",
    "filtered_df_1 = df_combined.filter(\n",
    "    (df_combined[\"times_taken\"] >= 313) & (df_combined[\"times_taken\"] <= 4012)\n",
    ")\n",
    "filtered_df_1 = filtered_df_1.drop(\"times_taken\")\n",
    "print(f\"Number of entries {filtered_df_1.count()}\")\n",
    "filtered_df_1.show(5)"
   ]
  },
  {
   "cell_type": "code",
   "execution_count": 20,
   "id": "745a8389-730d-4d17-99cc-8f3b41ab593d",
   "metadata": {},
   "outputs": [
    {
     "data": {
      "text/plain": [
       "405"
      ]
     },
     "execution_count": 20,
     "metadata": {},
     "output_type": "execute_result"
    }
   ],
   "source": [
    "unique_drug_concepts = filtered_df_1.select(\"drug_concept_id\").distinct().count()\n",
    "unique_drug_concepts"
   ]
  },
  {
   "cell_type": "markdown",
   "id": "c8713acc-5d66-4577-bbe5-5f37eab05070",
   "metadata": {},
   "source": [
    "# filter through people"
   ]
  },
  {
   "cell_type": "code",
   "execution_count": 22,
   "id": "9dc2cb74-4b0d-4c7d-b619-99c07a1e0bf5",
   "metadata": {
    "tags": []
   },
   "outputs": [
    {
     "name": "stdout",
     "output_type": "stream",
     "text": [
      "+---------------+-------------------+\n",
      "|drug_concept_id|unique_people_count|\n",
      "+---------------+-------------------+\n",
      "|        1713332|             141912|\n",
      "|        1125315|             116112|\n",
      "|         975125|             108940|\n",
      "|        1201620|             102314|\n",
      "|        1124300|              95165|\n",
      "+---------------+-------------------+\n",
      "only showing top 5 rows\n",
      "\n"
     ]
    },
    {
     "name": "stderr",
     "output_type": "stream",
     "text": [
      "/cluster/spark/python/pyspark/sql/pandas/conversion.py:371: FutureWarning: iteritems is deprecated and will be removed in a future version. Use .items instead.\n",
      "  for column, series in pdf.iteritems():\n"
     ]
    }
   ],
   "source": [
    "drug_people_df_pandas = pd.read_csv(\"drug_people_count.csv\")\n",
    "drug_people_df = spark.createDataFrame(drug_people_df_pandas)\n",
    "drug_people_df.show(5)"
   ]
  },
  {
   "cell_type": "code",
   "execution_count": 26,
   "id": "d36abcb4-a0f9-4b0c-b42a-ffc921ea0e27",
   "metadata": {
    "tags": []
   },
   "outputs": [
    {
     "name": "stdout",
     "output_type": "stream",
     "text": [
      "Number of entries 596398\n",
      "+---------------+-------+-------------+-------------------+-----------------+-------------------+--------+------------+--------+\n",
      "|drug_concept_id|    eid|  drug_era_id|drug_era_start_date|drug_era_end_date|drug_exposure_count|gap_days|concept_name|atc_code|\n",
      "+---------------+-------+-------------+-------------------+-----------------+-------------------+--------+------------+--------+\n",
      "|         714684|3136611|1520418438667|         02/01/1998|       09/09/1998|                  9|      26|  nefazodone| N06AX06|\n",
      "|         714684|3607731| 266288044363|         18/01/2000|       21/03/2000|                  2|       0|  nefazodone| N06AX06|\n",
      "|         714684|2723691|1434519092181|         11/02/1997|       04/06/1997|                  4|      33|  nefazodone| N06AX06|\n",
      "|         714684|3136611| 395137011982|         06/10/1995|       24/03/1996|                  6|      17|  nefazodone| N06AX06|\n",
      "|         714684|3607731| 841813613114|         27/05/2002|       14/03/2003|                  7|      65|  nefazodone| N06AX06|\n",
      "+---------------+-------+-------------+-------------------+-----------------+-------------------+--------+------------+--------+\n",
      "only showing top 5 rows\n",
      "\n"
     ]
    }
   ],
   "source": [
    "df_combined_2 = filtered_df_1.join(drug_people_df, on=\"drug_concept_id\", how=\"left\")\n",
    "filtered_df_2 = df_combined_2.filter(\n",
    "    (df_combined_2[\"unique_people_count\"] >= 121)\n",
    "    & (df_combined_2[\"unique_people_count\"] <= 1411)\n",
    ")\n",
    "filtered_df_2 = filtered_df_2.drop(\"unique_people_count\")\n",
    "print(f\"Number of entries {filtered_df_2.count()}\")\n",
    "filtered_df_2.show(5)"
   ]
  },
  {
   "cell_type": "code",
   "execution_count": 27,
   "id": "507182a7-de8d-4cd7-a9cf-ea4d574440e6",
   "metadata": {
    "tags": []
   },
   "outputs": [
    {
     "data": {
      "text/plain": [
       "335"
      ]
     },
     "execution_count": 27,
     "metadata": {},
     "output_type": "execute_result"
    }
   ],
   "source": [
    "unique_drug_concepts = filtered_df_2.select(\"drug_concept_id\").distinct().count()\n",
    "unique_drug_concepts"
   ]
  },
  {
   "cell_type": "markdown",
   "id": "26029426-79b0-478e-8362-ebda430ae88e",
   "metadata": {},
   "source": [
    "# filter through ATC Codes"
   ]
  },
  {
   "cell_type": "code",
   "execution_count": 32,
   "id": "65ade3c9-b5b0-4b9f-9a1a-5cad622e1729",
   "metadata": {
    "tags": []
   },
   "outputs": [
    {
     "name": "stdout",
     "output_type": "stream",
     "text": [
      "Number of entries 114824\n",
      "+---------------+-------+-------------+-------------------+-----------------+-------------------+--------+------------+--------+\n",
      "|drug_concept_id|    eid|  drug_era_id|drug_era_start_date|drug_era_end_date|drug_exposure_count|gap_days|concept_name|atc_code|\n",
      "+---------------+-------+-------------+-------------------+-----------------+-------------------+--------+------------+--------+\n",
      "|         714684|3136611|1520418438667|         02/01/1998|       09/09/1998|                  9|      26|  nefazodone| N06AX06|\n",
      "|         714684|3607731| 266288044363|         18/01/2000|       21/03/2000|                  2|       0|  nefazodone| N06AX06|\n",
      "|         714684|2723691|1434519092181|         11/02/1997|       04/06/1997|                  4|      33|  nefazodone| N06AX06|\n",
      "|         714684|3136611| 395137011982|         06/10/1995|       24/03/1996|                  6|      17|  nefazodone| N06AX06|\n",
      "|         714684|3607731| 841813613114|         27/05/2002|       14/03/2003|                  7|      65|  nefazodone| N06AX06|\n",
      "+---------------+-------+-------------+-------------------+-----------------+-------------------+--------+------------+--------+\n",
      "only showing top 5 rows\n",
      "\n"
     ]
    }
   ],
   "source": [
    "atc_codes_of_interest = [\"A10\", \"J01\", \"L01\", \"N05\", \"N06\", \"S01\"]\n",
    "\n",
    "filtered_df_3 = filtered_df_2.filter(\n",
    "    filtered_df_2[\"atc_code\"].rlike(\n",
    "        \"|\".join([f\"^{code}\" for code in atc_codes_of_interest])\n",
    "    )\n",
    ")\n",
    "print(f\"Number of entries {filtered_df_3.count()}\")\n",
    "filtered_df_3.show(5)"
   ]
  },
  {
   "cell_type": "code",
   "execution_count": 33,
   "id": "2a4bc91b-03fd-47c6-a8ae-b848ba1c45ad",
   "metadata": {
    "tags": []
   },
   "outputs": [
    {
     "data": {
      "text/plain": [
       "74"
      ]
     },
     "execution_count": 33,
     "metadata": {},
     "output_type": "execute_result"
    }
   ],
   "source": [
    "unique_drug_concepts = filtered_df_3.select(\"drug_concept_id\").distinct().count()\n",
    "unique_drug_concepts"
   ]
  },
  {
   "cell_type": "code",
   "execution_count": 72,
   "id": "5978a742-da22-4759-9aa9-45342fdd8170",
   "metadata": {
    "tags": []
   },
   "outputs": [
    {
     "name": "stdout",
     "output_type": "stream",
     "text": [
      "+---------------+--------+\n",
      "|drug_concept_id|atc_code|\n",
      "+---------------+--------+\n",
      "|         785788| N05AH03|\n",
      "|        1377141| L01XX05|\n",
      "|       19088223| J01CA08|\n",
      "|         720727| N05CF03|\n",
      "|         735979| N05AX08|\n",
      "+---------------+--------+\n",
      "only showing top 5 rows\n",
      "\n"
     ]
    }
   ],
   "source": [
    "filtered_df_3_atc = filtered_df_3.select(\"drug_concept_id\", \"atc_code\").dropDuplicates()\n",
    "filtered_df_3_atc.show(5)"
   ]
  },
  {
   "cell_type": "code",
   "execution_count": 52,
   "id": "bdccd0c5",
   "metadata": {},
   "outputs": [
    {
     "ename": "NameError",
     "evalue": "name 'filtered_df_3_atc' is not defined",
     "output_type": "error",
     "traceback": [
      "\u001b[0;31m---------------------------------------------------------------------------\u001b[0m",
      "\u001b[0;31mNameError\u001b[0m                                 Traceback (most recent call last)",
      "Cell \u001b[0;32mIn[52], line 1\u001b[0m\n\u001b[0;32m----> 1\u001b[0m filtered_df_3_atc_pandas \u001b[38;5;241m=\u001b[39m \u001b[43mfiltered_df_3_atc\u001b[49m\u001b[38;5;241m.\u001b[39mtoPandas()\n",
      "\u001b[0;31mNameError\u001b[0m: name 'filtered_df_3_atc' is not defined"
     ]
    }
   ],
   "source": [
    "filtered_df_3_atc_pandas = filtered_df_3_atc.toPandas()"
   ]
  },
  {
   "cell_type": "code",
   "execution_count": 79,
   "id": "9e827f67-27bb-4e6f-a58b-93b59f07b24a",
   "metadata": {
    "tags": []
   },
   "outputs": [
    {
     "name": "stdout",
     "output_type": "stream",
     "text": [
      "ATC code A10: ['40239216', '1583722', '19122137']\n",
      "ATC code J01: ['1778162', '19095043', '1742253']\n",
      "ATC code L01: ['978236', '1436650', '1377141']\n",
      "ATC code N05: ['785788', '708298', '19005147']\n",
      "ATC code N06: ['705755', '733523', '710650']\n",
      "ATC code S01: ['929435', '902722', '967496']\n",
      "\n",
      "the_18_sampled_drug_concept_id:\n",
      "   atc_code drug_concept_id\n",
      "0       A10        40239216\n",
      "1       A10         1583722\n",
      "2       A10        19122137\n",
      "3       J01         1778162\n",
      "4       J01        19095043\n",
      "5       J01         1742253\n",
      "6       L01          978236\n",
      "7       L01         1436650\n",
      "8       L01         1377141\n",
      "9       N05          785788\n",
      "10      N05          708298\n",
      "11      N05        19005147\n",
      "12      N06          705755\n",
      "13      N06          733523\n",
      "14      N06          710650\n",
      "15      S01          929435\n",
      "16      S01          902722\n",
      "17      S01          967496\n"
     ]
    }
   ],
   "source": [
    "# Create a dictionary to store the sampled drug_concept_ids for each ATC code\n",
    "sampled_drugs = {}\n",
    "\n",
    "# Sample 3 drug_concept_ids for each ATC code\n",
    "for atc_code in atc_codes_of_interest:\n",
    "    # Filter the dataframe for the current ATC code\n",
    "    filtered = filtered_df_3_atc_pandas[\n",
    "        filtered_df_3_atc_pandas[\"atc_code\"].str.startswith(atc_code)\n",
    "    ]\n",
    "\n",
    "    # Sample 3 drug_concept_ids (or all if less than 3 are available)\n",
    "    sampled = filtered[\"drug_concept_id\"].sample(\n",
    "        n=min(3, len(filtered)), random_state=42\n",
    "    )\n",
    "\n",
    "    # Store the sampled drug_concept_ids in the dictionary\n",
    "    sampled_drugs[atc_code] = sampled.tolist()\n",
    "\n",
    "# Print the results\n",
    "for atc_code, drugs in sampled_drugs.items():\n",
    "    print(f\"ATC code {atc_code}: {drugs}\")\n",
    "\n",
    "# Create a new dataframe with the sampled drug_concept_ids\n",
    "the_18_sampled_drug_concept_id = pd.DataFrame(\n",
    "    [(atc, drug) for atc, drugs in sampled_drugs.items() for drug in drugs],\n",
    "    columns=[\"atc_code\", \"drug_concept_id\"],\n",
    ")\n",
    "\n",
    "# Display the new dataframe\n",
    "print(\"\\nthe_18_sampled_drug_concept_id:\")\n",
    "print(the_18_sampled_drug_concept_id)"
   ]
  },
  {
   "cell_type": "code",
   "execution_count": 83,
   "id": "dda37926-afc6-4c6a-a551-6160702b2ece",
   "metadata": {
    "tags": []
   },
   "outputs": [
    {
     "name": "stdout",
     "output_type": "stream",
     "text": [
      "Number of entries 27907\n",
      "+---------------+-------+-------------+-------------------+-----------------+-------------------+--------+------------+--------+---+\n",
      "|drug_concept_id|    eid|  drug_era_id|drug_era_start_date|drug_era_end_date|drug_exposure_count|gap_days|concept_name|atc_code| rn|\n",
      "+---------------+-------+-------------+-------------------+-----------------+-------------------+--------+------------+--------+---+\n",
      "|       40239216|4439949| 137439001156|         17/03/2016|       06/07/2016|                  4|       5| linagliptin| A10BH05|  1|\n",
      "|       40239216|4819861|1176821071323|         08/12/2015|       13/06/2017|                 21|      41| linagliptin| A10BH05|  2|\n",
      "|       40239216|4153502|1262720420766|         18/10/2013|       19/05/2014|                  8|      36| linagliptin| A10BH05|  3|\n",
      "|       40239216|2856868|1056562007699|         27/03/2017|       06/06/2017|                  3|       0| linagliptin| A10BH05|  4|\n",
      "|       40239216|3102993| 858993544722|         08/06/2016|       05/07/2016|                  1|       0| linagliptin| A10BH05|  5|\n",
      "+---------------+-------+-------------+-------------------+-----------------+-------------------+--------+------------+--------+---+\n",
      "only showing top 5 rows\n",
      "\n"
     ]
    }
   ],
   "source": [
    "sampled_ids = the_18_sampled_drug_concept_id[\"drug_concept_id\"].tolist()\n",
    "filtered_df_4 = filtered_df_3.filter(filtered_df_3[\"drug_concept_id\"].isin(sampled_ids))\n",
    "print(f\"Number of entries {filtered_df_4.count()}\")\n",
    "filtered_df_4.show(5)"
   ]
  },
  {
   "cell_type": "code",
   "execution_count": 82,
   "id": "c2ce7dab-feab-4022-9c88-31fd599213e3",
   "metadata": {
    "tags": []
   },
   "outputs": [
    {
     "data": {
      "text/plain": [
       "18"
      ]
     },
     "execution_count": 82,
     "metadata": {},
     "output_type": "execute_result"
    }
   ],
   "source": [
    "unique_drug_concepts = filtered_df_4.select(\"drug_concept_id\").distinct().count()\n",
    "unique_drug_concepts"
   ]
  },
  {
   "cell_type": "code",
   "execution_count": 87,
   "id": "5ed0743a-8545-4c11-ab96-acb7e9a6fa06",
   "metadata": {
    "tags": []
   },
   "outputs": [],
   "source": [
    "filtered_df_4_pandas = filtered_df_4.toPandas()\n",
    "filtered_df_4_pandas.to_csv(\"filtered_df_4.csv\", index=False)"
   ]
  },
  {
   "cell_type": "markdown",
   "id": "630214dd-72b4-4bf3-9e79-a84c381a8dea",
   "metadata": {},
   "source": [
    "# individual filtering"
   ]
  },
  {
   "cell_type": "code",
   "execution_count": 84,
   "id": "6ecb7009-45d9-4788-89d9-01a7bde211a7",
   "metadata": {
    "tags": []
   },
   "outputs": [
    {
     "name": "stdout",
     "output_type": "stream",
     "text": [
      "+-------+--------------------+\n",
      "|    eid|distinct_drugs_taken|\n",
      "+-------+--------------------+\n",
      "|5052764|                   4|\n",
      "|2136797|                   4|\n",
      "|1359149|                   4|\n",
      "|2416254|                   3|\n",
      "|1404102|                   3|\n",
      "|2801450|                   3|\n",
      "|5663396|                   3|\n",
      "|5310374|                   3|\n",
      "|3650084|                   3|\n",
      "|1954061|                   3|\n",
      "|1863067|                   3|\n",
      "|4721164|                   3|\n",
      "|5142194|                   3|\n",
      "|2795068|                   3|\n",
      "|5844959|                   3|\n",
      "|3788884|                   3|\n",
      "|3853370|                   3|\n",
      "|2449665|                   3|\n",
      "|1536799|                   3|\n",
      "|1805604|                   3|\n",
      "+-------+--------------------+\n",
      "only showing top 20 rows\n",
      "\n"
     ]
    }
   ],
   "source": [
    "people_drug_variety_unsorted = filtered_df_4.groupBy(\"eid\").agg(\n",
    "    countDistinct(\"drug_concept_id\").alias(\"distinct_drugs_taken\")\n",
    ")\n",
    "people_drug_variety = people_drug_variety_unsorted.orderBy(\n",
    "    \"distinct_drugs_taken\", ascending=False\n",
    ")\n",
    "people_drug_variety.show()"
   ]
  },
  {
   "cell_type": "code",
   "execution_count": 85,
   "id": "dd0c3dde-5443-4678-918c-3fd0a2044fd3",
   "metadata": {
    "tags": []
   },
   "outputs": [
    {
     "name": "stdout",
     "output_type": "stream",
     "text": [
      "count    9394.000000\n",
      "mean        1.109432\n",
      "std         0.331064\n",
      "min         1.000000\n",
      "25%         1.000000\n",
      "50%         1.000000\n",
      "75%         1.000000\n",
      "max         4.000000\n",
      "Name: distinct_drugs_taken, dtype: float64\n"
     ]
    }
   ],
   "source": [
    "people_drug_variety_pandas = people_drug_variety.toPandas()\n",
    "statistics_people_drug_variety = people_drug_variety_pandas[\n",
    "    \"distinct_drugs_taken\"\n",
    "].describe()\n",
    "print(statistics_people_drug_variety)"
   ]
  },
  {
   "cell_type": "code",
   "execution_count": 86,
   "id": "832f63a3-3ac5-4034-b2bd-bd959b53a221",
   "metadata": {
    "tags": []
   },
   "outputs": [
    {
     "data": {
      "image/png": "[encoded data removed]",
      "text/plain": [
       "<Figure size 1000x600 with 1 Axes>"
      ]
     },
     "metadata": {},
     "output_type": "display_data"
    }
   ],
   "source": [
    "plt.figure(figsize=(10, 6))\n",
    "plt.hist(\n",
    "    people_drug_variety_pandas[\"distinct_drugs_taken\"],\n",
    "    bins=200,\n",
    "    color=\"blue\",\n",
    "    edgecolor=\"black\",\n",
    ")\n",
    "plt.title(\"Distribution of Drug Types Taken by Individuals\", fontsize=14)\n",
    "plt.xlabel(\"Number of Drug Types per Individual\", fontsize=12)\n",
    "plt.ylabel(\"Frequency of Individuals\", fontsize=12)\n",
    "plt.grid(True)\n",
    "plt.yscale(\"log\")\n",
    "plt.show()"
   ]
  },
  {
   "cell_type": "markdown",
   "id": "f8563515",
   "metadata": {},
   "source": [
    "# check on the focused dataset"
   ]
  },
  {
   "cell_type": "code",
   "execution_count": 18,
   "id": "6d356b41",
   "metadata": {},
   "outputs": [],
   "source": [
    "import pandas as pd\n",
    "import matplotlib.pyplot as plt"
   ]
  },
  {
   "cell_type": "code",
   "execution_count": 7,
   "id": "69d9b137",
   "metadata": {},
   "outputs": [
    {
     "data": {
      "text/html": [
       "<div>\n",
       "<style scoped>\n",
       "    .dataframe tbody tr th:only-of-type {\n",
       "        vertical-align: middle;\n",
       "    }\n",
       "\n",
       "    .dataframe tbody tr th {\n",
       "        vertical-align: top;\n",
       "    }\n",
       "\n",
       "    .dataframe thead th {\n",
       "        text-align: right;\n",
       "    }\n",
       "</style>\n",
       "<table border=\"1\" class=\"dataframe\">\n",
       "  <thead>\n",
       "    <tr style=\"text-align: right;\">\n",
       "      <th></th>\n",
       "      <th>drug_concept_id</th>\n",
       "      <th>eid</th>\n",
       "      <th>drug_era_id</th>\n",
       "      <th>drug_era_start_date</th>\n",
       "      <th>drug_era_end_date</th>\n",
       "      <th>drug_exposure_count</th>\n",
       "      <th>gap_days</th>\n",
       "      <th>concept_name</th>\n",
       "      <th>atc_code</th>\n",
       "    </tr>\n",
       "  </thead>\n",
       "  <tbody>\n",
       "    <tr>\n",
       "      <th>0</th>\n",
       "      <td>785788</td>\n",
       "      <td>2712366</td>\n",
       "      <td>790274024660</td>\n",
       "      <td>27/03/2014</td>\n",
       "      <td>12/06/2014</td>\n",
       "      <td>2</td>\n",
       "      <td>19</td>\n",
       "      <td>olanzapine</td>\n",
       "      <td>N05AH03</td>\n",
       "    </tr>\n",
       "    <tr>\n",
       "      <th>1</th>\n",
       "      <td>785788</td>\n",
       "      <td>4326537</td>\n",
       "      <td>1305670111057</td>\n",
       "      <td>20/08/2014</td>\n",
       "      <td>18/09/2014</td>\n",
       "      <td>1</td>\n",
       "      <td>0</td>\n",
       "      <td>olanzapine</td>\n",
       "      <td>N05AH03</td>\n",
       "    </tr>\n",
       "    <tr>\n",
       "      <th>2</th>\n",
       "      <td>785788</td>\n",
       "      <td>4326537</td>\n",
       "      <td>1151051282525</td>\n",
       "      <td>16/02/2011</td>\n",
       "      <td>25/05/2011</td>\n",
       "      <td>5</td>\n",
       "      <td>1</td>\n",
       "      <td>olanzapine</td>\n",
       "      <td>N05AH03</td>\n",
       "    </tr>\n",
       "    <tr>\n",
       "      <th>3</th>\n",
       "      <td>785788</td>\n",
       "      <td>3873759</td>\n",
       "      <td>240518251783</td>\n",
       "      <td>15/11/2004</td>\n",
       "      <td>14/12/2004</td>\n",
       "      <td>1</td>\n",
       "      <td>0</td>\n",
       "      <td>olanzapine</td>\n",
       "      <td>N05AH03</td>\n",
       "    </tr>\n",
       "    <tr>\n",
       "      <th>4</th>\n",
       "      <td>785788</td>\n",
       "      <td>2712366</td>\n",
       "      <td>1133871384841</td>\n",
       "      <td>15/07/2008</td>\n",
       "      <td>08/12/2009</td>\n",
       "      <td>14</td>\n",
       "      <td>106</td>\n",
       "      <td>olanzapine</td>\n",
       "      <td>N05AH03</td>\n",
       "    </tr>\n",
       "  </tbody>\n",
       "</table>\n",
       "</div>"
      ],
      "text/plain": [
       "   drug_concept_id      eid    drug_era_id drug_era_start_date  \\\n",
       "0           785788  2712366   790274024660          27/03/2014   \n",
       "1           785788  4326537  1305670111057          20/08/2014   \n",
       "2           785788  4326537  1151051282525          16/02/2011   \n",
       "3           785788  3873759   240518251783          15/11/2004   \n",
       "4           785788  2712366  1133871384841          15/07/2008   \n",
       "\n",
       "  drug_era_end_date  drug_exposure_count  gap_days concept_name atc_code  \n",
       "0        12/06/2014                    2        19   olanzapine  N05AH03  \n",
       "1        18/09/2014                    1         0   olanzapine  N05AH03  \n",
       "2        25/05/2011                    5         1   olanzapine  N05AH03  \n",
       "3        14/12/2004                    1         0   olanzapine  N05AH03  \n",
       "4        08/12/2009                   14       106   olanzapine  N05AH03  "
      ]
     },
     "execution_count": 7,
     "metadata": {},
     "output_type": "execute_result"
    }
   ],
   "source": [
    "filtered_df_4 = pd.read_csv(\"filtered_df_4.csv\")\n",
    "filtered_df_4.head()"
   ]
  },
  {
   "cell_type": "code",
   "execution_count": 14,
   "id": "5e6a4454",
   "metadata": {},
   "outputs": [
    {
     "name": "stdout",
     "output_type": "stream",
     "text": [
      "Shape before grouping: (27907, 9)\n",
      "Shape after grouping: (23944, 9)\n"
     ]
    },
    {
     "data": {
      "text/html": [
       "<div>\n",
       "<style scoped>\n",
       "    .dataframe tbody tr th:only-of-type {\n",
       "        vertical-align: middle;\n",
       "    }\n",
       "\n",
       "    .dataframe tbody tr th {\n",
       "        vertical-align: top;\n",
       "    }\n",
       "\n",
       "    .dataframe thead th {\n",
       "        text-align: right;\n",
       "    }\n",
       "</style>\n",
       "<table border=\"1\" class=\"dataframe\">\n",
       "  <thead>\n",
       "    <tr style=\"text-align: right;\">\n",
       "      <th></th>\n",
       "      <th>drug_concept_id</th>\n",
       "      <th>eid</th>\n",
       "      <th>drug_era_id</th>\n",
       "      <th>drug_era_start_date</th>\n",
       "      <th>drug_era_end_date</th>\n",
       "      <th>drug_exposure_count</th>\n",
       "      <th>gap_days</th>\n",
       "      <th>concept_name</th>\n",
       "      <th>atc_code</th>\n",
       "    </tr>\n",
       "  </thead>\n",
       "  <tbody>\n",
       "    <tr>\n",
       "      <th>0</th>\n",
       "      <td>705755</td>\n",
       "      <td>1006104</td>\n",
       "      <td>223338385579</td>\n",
       "      <td>13/11/2001</td>\n",
       "      <td>16/11/2001</td>\n",
       "      <td>1</td>\n",
       "      <td>0</td>\n",
       "      <td>trimipramine</td>\n",
       "      <td>N06AA06</td>\n",
       "    </tr>\n",
       "    <tr>\n",
       "      <th>1</th>\n",
       "      <td>705755</td>\n",
       "      <td>1060942</td>\n",
       "      <td>901943214204</td>\n",
       "      <td>13/04/1994</td>\n",
       "      <td>22/04/1994</td>\n",
       "      <td>1</td>\n",
       "      <td>0</td>\n",
       "      <td>trimipramine</td>\n",
       "      <td>N06AA06</td>\n",
       "    </tr>\n",
       "    <tr>\n",
       "      <th>2</th>\n",
       "      <td>705755</td>\n",
       "      <td>1072215</td>\n",
       "      <td>266288039904</td>\n",
       "      <td>08/04/1998</td>\n",
       "      <td>27/04/1998</td>\n",
       "      <td>1</td>\n",
       "      <td>0</td>\n",
       "      <td>trimipramine</td>\n",
       "      <td>N06AA06</td>\n",
       "    </tr>\n",
       "    <tr>\n",
       "      <th>3</th>\n",
       "      <td>705755</td>\n",
       "      <td>1072215</td>\n",
       "      <td>1013612295560</td>\n",
       "      <td>30/06/1997</td>\n",
       "      <td>24/08/1997</td>\n",
       "      <td>2</td>\n",
       "      <td>17</td>\n",
       "      <td>trimipramine</td>\n",
       "      <td>N06AA06</td>\n",
       "    </tr>\n",
       "    <tr>\n",
       "      <th>4</th>\n",
       "      <td>705755</td>\n",
       "      <td>1072215</td>\n",
       "      <td>1013612312206</td>\n",
       "      <td>09/09/2003</td>\n",
       "      <td>28/09/2003</td>\n",
       "      <td>1</td>\n",
       "      <td>0</td>\n",
       "      <td>trimipramine</td>\n",
       "      <td>N06AA06</td>\n",
       "    </tr>\n",
       "  </tbody>\n",
       "</table>\n",
       "</div>"
      ],
      "text/plain": [
       "   drug_concept_id      eid    drug_era_id drug_era_start_date  \\\n",
       "0           705755  1006104   223338385579          13/11/2001   \n",
       "1           705755  1060942   901943214204          13/04/1994   \n",
       "2           705755  1072215   266288039904          08/04/1998   \n",
       "3           705755  1072215  1013612295560          30/06/1997   \n",
       "4           705755  1072215  1013612312206          09/09/2003   \n",
       "\n",
       "  drug_era_end_date  drug_exposure_count  gap_days  concept_name atc_code  \n",
       "0        16/11/2001                    1         0  trimipramine  N06AA06  \n",
       "1        22/04/1994                    1         0  trimipramine  N06AA06  \n",
       "2        27/04/1998                    1         0  trimipramine  N06AA06  \n",
       "3        24/08/1997                    2        17  trimipramine  N06AA06  \n",
       "4        28/09/2003                    1         0  trimipramine  N06AA06  "
      ]
     },
     "execution_count": 14,
     "metadata": {},
     "output_type": "execute_result"
    }
   ],
   "source": [
    "# Group by all columns except 'atc_code' and aggregate the ATC codes\n",
    "filtered_df_4_grouped = (\n",
    "    filtered_df_4.groupby([col for col in filtered_df_4.columns if col != \"atc_code\"])\n",
    "    .agg({\"atc_code\": lambda x: \", \".join(sorted(set(x)))})\n",
    "    .reset_index()\n",
    ")\n",
    "\n",
    "print(\"Shape before grouping:\", filtered_df_4.shape)\n",
    "print(\"Shape after grouping:\", filtered_df_4_grouped.shape)\n",
    "\n",
    "filtered_df_4_grouped.head()"
   ]
  },
  {
   "cell_type": "code",
   "execution_count": null,
   "id": "4ae7eb0a",
   "metadata": {},
   "outputs": [],
   "source": [
    "# save the grouped dataframe to csv\n",
    "filtered_df_4_grouped.to_csv(\"filtered_df_4_grouped.csv\", index=False)"
   ]
  },
  {
   "cell_type": "code",
   "execution_count": 16,
   "id": "ca4f593c",
   "metadata": {},
   "outputs": [
    {
     "name": "stdout",
     "output_type": "stream",
     "text": [
      "Number of unique drugs: 18\n",
      "    drug_concept_id       concept_name          atc_code  count\n",
      "0            785788         olanzapine           N05AH03   3947\n",
      "1            705755       trimipramine           N06AA06   2329\n",
      "2            967496         lodoxamide           S01GX05   1821\n",
      "3            929435      acetazolamide           S01EC01   1751\n",
      "4            978236       eflornithine           L01XX79   1648\n",
      "5           1778162         cefuroxime  J01DC02, S01AA27   1496\n",
      "6            708298          midazolam           N05CD08   1337\n",
      "7           1583722          exenatide           A10BJ01   1322\n",
      "8           1742253       levofloxacin  J01MA12, S01AE05   1294\n",
      "9            710650          modafinil           N06BA07   1124\n",
      "10          1377141        hydroxyurea           L01XX05   1102\n",
      "11         19005147  methotrimeprazine           N05AA02   1030\n",
      "12         40239216        linagliptin           A10BH05    911\n",
      "13          1436650     mercaptopurine           L01BB02    626\n",
      "14           902722         tobramycin  J01GB01, S01AA12    625\n",
      "15         19122137       vildagliptin           A10BH02    592\n",
      "16         19095043  chlortetracycline  J01AA03, S01AA02    548\n",
      "17           733523       rivastigmine           N06DA03    441\n"
     ]
    }
   ],
   "source": [
    "# Count occurrences of each drug\n",
    "drug_counts = filtered_df_4_grouped[\"drug_concept_id\"].value_counts().reset_index()\n",
    "drug_counts.columns = [\"drug_concept_id\", \"count\"]\n",
    "\n",
    "# Sort by count in descending order\n",
    "drug_counts = drug_counts.sort_values(\"count\", ascending=False)\n",
    "\n",
    "# Add drug names and ATC codes\n",
    "drug_info = filtered_df_4_grouped[\n",
    "    [\"drug_concept_id\", \"concept_name\", \"atc_code\"]\n",
    "].drop_duplicates()\n",
    "drug_counts = drug_counts.merge(drug_info, on=\"drug_concept_id\", how=\"left\")\n",
    "\n",
    "# Reorder columns\n",
    "drug_counts = drug_counts[[\"drug_concept_id\", \"concept_name\", \"atc_code\", \"count\"]]\n",
    "\n",
    "print(\"Number of unique drugs:\", len(drug_counts))\n",
    "print(drug_counts)"
   ]
  },
  {
   "cell_type": "code",
   "execution_count": 19,
   "id": "a0108b2d",
   "metadata": {},
   "outputs": [
    {
     "data": {
      "image/png": "[encoded data removed]",
      "text/plain": [
       "<Figure size 1000x600 with 1 Axes>"
      ]
     },
     "metadata": {},
     "output_type": "display_data"
    }
   ],
   "source": [
    "# plot a histogram of the drug counts\n",
    "plt.figure(figsize=(10, 6))\n",
    "plt.hist(drug_counts[\"count\"], bins=100, color=\"blue\", edgecolor=\"black\")\n",
    "plt.title(\"Distribution of Drug Counts\")\n",
    "plt.xlabel(\"Number of Times a Drug is Taken\")\n",
    "plt.ylabel(\"Frequency\")\n",
    "plt.grid(True)\n",
    "plt.show()"
   ]
  },
  {
   "cell_type": "code",
   "execution_count": 24,
   "id": "0d0fe7b4",
   "metadata": {},
   "outputs": [
    {
     "data": {
      "text/html": [
       "<div>\n",
       "<style scoped>\n",
       "    .dataframe tbody tr th:only-of-type {\n",
       "        vertical-align: middle;\n",
       "    }\n",
       "\n",
       "    .dataframe tbody tr th {\n",
       "        vertical-align: top;\n",
       "    }\n",
       "\n",
       "    .dataframe thead th {\n",
       "        text-align: right;\n",
       "    }\n",
       "</style>\n",
       "<table border=\"1\" class=\"dataframe\">\n",
       "  <thead>\n",
       "    <tr style=\"text-align: right;\">\n",
       "      <th></th>\n",
       "      <th>drug_concept_id</th>\n",
       "      <th>eid</th>\n",
       "      <th>drug_era_id</th>\n",
       "      <th>drug_era_start_date</th>\n",
       "      <th>drug_era_end_date</th>\n",
       "      <th>drug_exposure_count</th>\n",
       "      <th>gap_days</th>\n",
       "      <th>concept_name</th>\n",
       "      <th>atc_code</th>\n",
       "    </tr>\n",
       "  </thead>\n",
       "  <tbody>\n",
       "    <tr>\n",
       "      <th>2329</th>\n",
       "      <td>708298</td>\n",
       "      <td>1001837</td>\n",
       "      <td>1700807090784</td>\n",
       "      <td>12/12/2013</td>\n",
       "      <td>10/01/2014</td>\n",
       "      <td>1</td>\n",
       "      <td>0</td>\n",
       "      <td>midazolam</td>\n",
       "      <td>N05CD08</td>\n",
       "    </tr>\n",
       "    <tr>\n",
       "      <th>2330</th>\n",
       "      <td>708298</td>\n",
       "      <td>1002112</td>\n",
       "      <td>1666447356341</td>\n",
       "      <td>29/04/2013</td>\n",
       "      <td>28/05/2013</td>\n",
       "      <td>1</td>\n",
       "      <td>0</td>\n",
       "      <td>midazolam</td>\n",
       "      <td>N05CD08</td>\n",
       "    </tr>\n",
       "    <tr>\n",
       "      <th>2331</th>\n",
       "      <td>708298</td>\n",
       "      <td>1012539</td>\n",
       "      <td>1194000953715</td>\n",
       "      <td>05/09/2013</td>\n",
       "      <td>26/10/2013</td>\n",
       "      <td>4</td>\n",
       "      <td>0</td>\n",
       "      <td>midazolam</td>\n",
       "      <td>N05CD08</td>\n",
       "    </tr>\n",
       "    <tr>\n",
       "      <th>2332</th>\n",
       "      <td>708298</td>\n",
       "      <td>1012652</td>\n",
       "      <td>1065151983292</td>\n",
       "      <td>16/02/2011</td>\n",
       "      <td>17/03/2011</td>\n",
       "      <td>1</td>\n",
       "      <td>0</td>\n",
       "      <td>midazolam</td>\n",
       "      <td>N05CD08</td>\n",
       "    </tr>\n",
       "    <tr>\n",
       "      <th>2333</th>\n",
       "      <td>708298</td>\n",
       "      <td>1024103</td>\n",
       "      <td>996432425515</td>\n",
       "      <td>14/03/2016</td>\n",
       "      <td>12/04/2016</td>\n",
       "      <td>1</td>\n",
       "      <td>0</td>\n",
       "      <td>midazolam</td>\n",
       "      <td>N05CD08</td>\n",
       "    </tr>\n",
       "  </tbody>\n",
       "</table>\n",
       "</div>"
      ],
      "text/plain": [
       "      drug_concept_id      eid    drug_era_id drug_era_start_date  \\\n",
       "2329           708298  1001837  1700807090784          12/12/2013   \n",
       "2330           708298  1002112  1666447356341          29/04/2013   \n",
       "2331           708298  1012539  1194000953715          05/09/2013   \n",
       "2332           708298  1012652  1065151983292          16/02/2011   \n",
       "2333           708298  1024103   996432425515          14/03/2016   \n",
       "\n",
       "     drug_era_end_date  drug_exposure_count  gap_days concept_name atc_code  \n",
       "2329        10/01/2014                    1         0    midazolam  N05CD08  \n",
       "2330        28/05/2013                    1         0    midazolam  N05CD08  \n",
       "2331        26/10/2013                    4         0    midazolam  N05CD08  \n",
       "2332        17/03/2011                    1         0    midazolam  N05CD08  \n",
       "2333        12/04/2016                    1         0    midazolam  N05CD08  "
      ]
     },
     "execution_count": 24,
     "metadata": {},
     "output_type": "execute_result"
    }
   ],
   "source": [
    "# exclude the drug 785788 and 705755 because they are outliers\n",
    "filtered_df_5 = filtered_df_4_grouped[\n",
    "    ~filtered_df_4_grouped[\"drug_concept_id\"].isin([785788, 705755])\n",
    "]\n",
    "filtered_df_5.head()"
   ]
  },
  {
   "cell_type": "code",
   "execution_count": 27,
   "id": "13f114f4",
   "metadata": {},
   "outputs": [],
   "source": [
    "# save the filtered dataframe to csv\n",
    "filtered_df_5.to_csv(\"filtered_df_5.csv\", index=False)"
   ]
  },
  {
   "cell_type": "code",
   "execution_count": 50,
   "id": "4296e8ea",
   "metadata": {},
   "outputs": [
    {
     "name": "stdout",
     "output_type": "stream",
     "text": [
      "Number of entries drug_concept_id        17668\n",
      "eid                    17668\n",
      "drug_era_id            17668\n",
      "drug_era_start_date    17668\n",
      "drug_era_end_date      17668\n",
      "drug_exposure_count    17668\n",
      "gap_days               17668\n",
      "concept_name           17668\n",
      "atc_code               17668\n",
      "dtype: int64\n"
     ]
    }
   ],
   "source": [
    "# see how many rows are in the dataframe\n",
    "print(f\"Number of entries {filtered_df_5.count()}\")"
   ]
  },
  {
   "cell_type": "code",
   "execution_count": 25,
   "id": "ddaa6c74",
   "metadata": {},
   "outputs": [
    {
     "name": "stdout",
     "output_type": "stream",
     "text": [
      "Number of unique drugs: 16\n",
      "    drug_concept_id       concept_name          atc_code  count\n",
      "0            967496         lodoxamide           S01GX05   1821\n",
      "1            929435      acetazolamide           S01EC01   1751\n",
      "2            978236       eflornithine           L01XX79   1648\n",
      "3           1778162         cefuroxime  J01DC02, S01AA27   1496\n",
      "4            708298          midazolam           N05CD08   1337\n",
      "5           1583722          exenatide           A10BJ01   1322\n",
      "6           1742253       levofloxacin  J01MA12, S01AE05   1294\n",
      "7            710650          modafinil           N06BA07   1124\n",
      "8           1377141        hydroxyurea           L01XX05   1102\n",
      "9          19005147  methotrimeprazine           N05AA02   1030\n",
      "10         40239216        linagliptin           A10BH05    911\n",
      "11          1436650     mercaptopurine           L01BB02    626\n",
      "12           902722         tobramycin  J01GB01, S01AA12    625\n",
      "13         19122137       vildagliptin           A10BH02    592\n",
      "14         19095043  chlortetracycline  J01AA03, S01AA02    548\n",
      "15           733523       rivastigmine           N06DA03    441\n"
     ]
    }
   ],
   "source": [
    "# Count occurrences of each drug\n",
    "drug_counts = filtered_df_5[\"drug_concept_id\"].value_counts().reset_index()\n",
    "drug_counts.columns = [\"drug_concept_id\", \"count\"]\n",
    "\n",
    "# Sort by count in descending order\n",
    "drug_counts = drug_counts.sort_values(\"count\", ascending=False)\n",
    "\n",
    "# Add drug names and ATC codes\n",
    "drug_info = filtered_df_5[\n",
    "    [\"drug_concept_id\", \"concept_name\", \"atc_code\"]\n",
    "].drop_duplicates()\n",
    "drug_counts = drug_counts.merge(drug_info, on=\"drug_concept_id\", how=\"left\")\n",
    "\n",
    "# Reorder columns\n",
    "drug_counts = drug_counts[[\"drug_concept_id\", \"concept_name\", \"atc_code\", \"count\"]]\n",
    "\n",
    "print(\"Number of unique drugs:\", len(drug_counts))\n",
    "print(drug_counts)"
   ]
  },
  {
   "cell_type": "code",
   "execution_count": 51,
   "id": "25f316aa",
   "metadata": {},
   "outputs": [
    {
     "name": "stdout",
     "output_type": "stream",
     "text": [
      "count      16.000000\n",
      "mean     1104.250000\n",
      "std       449.600786\n",
      "min       441.000000\n",
      "25%       625.750000\n",
      "50%      1113.000000\n",
      "75%      1376.750000\n",
      "max      1821.000000\n",
      "Name: count, dtype: float64\n"
     ]
    }
   ],
   "source": [
    "print(drug_counts[\"count\"].describe())"
   ]
  },
  {
   "cell_type": "code",
   "execution_count": 44,
   "id": "57048565",
   "metadata": {},
   "outputs": [
    {
     "data": {
      "image/png": "[encoded data removed]",
      "text/plain": [
       "<Figure size 1200x600 with 1 Axes>"
      ]
     },
     "metadata": {},
     "output_type": "display_data"
    }
   ],
   "source": [
    "plt.figure(figsize=(12, 6))\n",
    "plt.hist(drug_counts[\"count\"], bins=30, edgecolor=\"black\")\n",
    "plt.title(\"Frequency Distribution of Drug Intake Counts\", fontsize=14)\n",
    "plt.xlabel(\"Number of Intakes\", fontsize=12)\n",
    "plt.ylabel(\"Frequency\", fontsize=12)\n",
    "plt.grid(True)\n",
    "plt.show()"
   ]
  },
  {
   "cell_type": "code",
   "execution_count": 30,
   "id": "410aaeb2",
   "metadata": {},
   "outputs": [
    {
     "name": "stdout",
     "output_type": "stream",
     "text": [
      "Number of unique people: 8117\n"
     ]
    }
   ],
   "source": [
    "# number of unique people\n",
    "unique_people = filtered_df_5[\"eid\"].nunique()\n",
    "print(f\"Number of unique people: {unique_people}\")"
   ]
  },
  {
   "cell_type": "code",
   "execution_count": 33,
   "id": "3c8338e0",
   "metadata": {},
   "outputs": [
    {
     "name": "stdout",
     "output_type": "stream",
     "text": [
      "Distribution of how many people take the same drug:\n",
      "    drug_concept_id       concept_name          atc_code  unique_people_count\n",
      "0            708298          midazolam           N05CD08                 1219\n",
      "4            929435      acetazolamide           S01EC01                 1157\n",
      "11          1778162         cefuroxime  J01DC02, S01AA27                 1039\n",
      "10          1742253       levofloxacin  J01MA12, S01AE05                  908\n",
      "12         19005147  methotrimeprazine           N05AA02                  835\n",
      "5            967496         lodoxamide           S01GX05                  757\n",
      "15         40239216        linagliptin           A10BH05                  629\n",
      "3            902722         tobramycin  J01GB01, S01AA12                  497\n",
      "9           1583722          exenatide           A10BJ01                  430\n",
      "6            978236       eflornithine           L01XX79                  388\n",
      "13         19095043  chlortetracycline  J01AA03, S01AA02                  368\n",
      "2            733523       rivastigmine           N06DA03                  213\n",
      "1            710650          modafinil           N06BA07                  177\n",
      "7           1377141        hydroxyurea           L01XX05                  159\n",
      "14         19122137       vildagliptin           A10BH02                  144\n",
      "8           1436650     mercaptopurine           L01BB02                  125\n"
     ]
    },
    {
     "data": {
      "image/png": "[encoded data removed]",
      "text/plain": [
       "<Figure size 1200x600 with 1 Axes>"
      ]
     },
     "metadata": {},
     "output_type": "display_data"
    },
    {
     "name": "stdout",
     "output_type": "stream",
     "text": [
      "\n",
      "Statistics:\n",
      "count      16.000000\n",
      "mean      565.312500\n",
      "std       377.489553\n",
      "min       125.000000\n",
      "25%       204.000000\n",
      "50%       463.500000\n",
      "75%       853.250000\n",
      "max      1219.000000\n",
      "Name: unique_people_count, dtype: float64\n"
     ]
    }
   ],
   "source": [
    "# distribution of how many people take the same drug\n",
    "drug_people_counts = (\n",
    "    filtered_df_5.groupby(\"drug_concept_id\")[\"eid\"].nunique().reset_index()\n",
    ")\n",
    "drug_people_counts.columns = [\"drug_concept_id\", \"unique_people_count\"]\n",
    "\n",
    "# Add drug names and ATC codes\n",
    "drug_info = filtered_df_5[\n",
    "    [\"drug_concept_id\", \"concept_name\", \"atc_code\"]\n",
    "].drop_duplicates()\n",
    "drug_people_counts = drug_people_counts.merge(\n",
    "    drug_info, on=\"drug_concept_id\", how=\"left\"\n",
    ")\n",
    "\n",
    "# Sort by unique_people_count in descending order\n",
    "drug_people_counts = drug_people_counts.sort_values(\n",
    "    \"unique_people_count\", ascending=False\n",
    ")\n",
    "\n",
    "# Reorder columns\n",
    "drug_people_counts = drug_people_counts[\n",
    "    [\"drug_concept_id\", \"concept_name\", \"atc_code\", \"unique_people_count\"]\n",
    "]\n",
    "\n",
    "print(\"Distribution of how many people take the same drug:\")\n",
    "print(drug_people_counts)\n",
    "\n",
    "# Visualize the distribution\n",
    "plt.figure(figsize=(12, 6))\n",
    "plt.hist(drug_people_counts[\"unique_people_count\"], bins=30, edgecolor=\"black\")\n",
    "plt.title(\"Distribution of Number of People Taking Each Drug\", fontsize=14)\n",
    "plt.xlabel(\"Number of People\", fontsize=12)\n",
    "plt.ylabel(\"Frequency\", fontsize=12)\n",
    "plt.grid(True, alpha=0.3)\n",
    "plt.show()\n",
    "\n",
    "# Print some statistics\n",
    "print(\"\\nStatistics:\")\n",
    "print(drug_people_counts[\"unique_people_count\"].describe())"
   ]
  },
  {
   "cell_type": "code",
   "execution_count": 46,
   "id": "4866a38b",
   "metadata": {},
   "outputs": [
    {
     "data": {
      "image/png": "[encoded data removed]",
      "text/plain": [
       "<Figure size 1200x600 with 1 Axes>"
      ]
     },
     "metadata": {},
     "output_type": "display_data"
    },
    {
     "name": "stdout",
     "output_type": "stream",
     "text": [
      "\n",
      "Statistics:\n",
      "count    8117.000000\n",
      "mean        1.114328\n",
      "std         0.335567\n",
      "min         1.000000\n",
      "25%         1.000000\n",
      "50%         1.000000\n",
      "75%         1.000000\n",
      "max         4.000000\n",
      "Name: unique_drugs_count, dtype: float64\n",
      "\n",
      "Number of people taking each number of drugs:\n",
      "unique_drugs_count\n",
      "1    7232\n",
      "2     845\n",
      "3      37\n",
      "4       3\n",
      "Name: count, dtype: int64\n"
     ]
    }
   ],
   "source": [
    "# Distribution of how many drugs each person takes\n",
    "drug_people_counts = (\n",
    "    filtered_df_5.groupby(\"eid\")[\"drug_concept_id\"].nunique().reset_index()\n",
    ")\n",
    "drug_people_counts.columns = [\"eid\", \"unique_drugs_count\"]\n",
    "\n",
    "# Visualize the distribution\n",
    "plt.figure(figsize=(12, 6))\n",
    "plt.hist(drug_people_counts[\"unique_drugs_count\"], bins=30, edgecolor=\"black\")\n",
    "plt.title(\"Distribution of Number of Unique Drugs Taken per Person\", fontsize=14)\n",
    "plt.xlabel(\"Number of Unique Drugs\", fontsize=12)\n",
    "plt.ylabel(\"Number of People\", fontsize=12)\n",
    "plt.yscale(\"log\")\n",
    "plt.grid(True, alpha=0.3)\n",
    "plt.show()\n",
    "\n",
    "# Print some statistics\n",
    "print(\"\\nStatistics:\")\n",
    "print(drug_people_counts[\"unique_drugs_count\"].describe())\n",
    "\n",
    "# Print the number of people taking each number of drugs\n",
    "print(\"\\nNumber of people taking each number of drugs:\")\n",
    "print(drug_people_counts[\"unique_drugs_count\"].value_counts().sort_index())"
   ]
  },
  {
   "cell_type": "code",
   "execution_count": null,
   "id": "90da3885",
   "metadata": {},
   "outputs": [],
   "source": []
  }
 ],
 "metadata": {
  "kernelspec": {
   "display_name": "Python 3 (ipykernel)",
   "language": "python",
   "name": "python3"
  },
  "language_info": {
   "codemirror_mode": {
    "name": "ipython",
    "version": 3
   },
   "file_extension": ".py",
   "mimetype": "text/x-python",
   "name": "python",
   "nbconvert_exporter": "python",
   "pygments_lexer": "ipython3",
   "version": "3.12.5"
  }
 },
 "nbformat": 4,
 "nbformat_minor": 5
}
