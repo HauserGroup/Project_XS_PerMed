{
 "cells": [
  {
   "cell_type": "code",
   "execution_count": null,
   "id": "c264a04e-05cc-4ea3-90bc-71f644c9aa70",
   "metadata": {
    "tags": []
   },
   "outputs": [],
   "source": [
    "import pyspark\n",
    "import dxpy\n",
    "import dxdata\n",
    "import pandas as pd\n",
    "import matplotlib.pyplot as plt\n",
    "from pyspark.sql.functions import countDistinct"
   ]
  },
  {
   "cell_type": "markdown",
   "id": "57f4123e-b1d4-4aa1-bf20-7306a92bed03",
   "metadata": {},
   "source": [
    "# load the dataset"
   ]
  },
  {
   "cell_type": "code",
   "execution_count": null,
   "id": "32aef540-bc00-4647-9c96-800c86633611",
   "metadata": {
    "tags": []
   },
   "outputs": [],
   "source": [
    "sc = pyspark.SparkContext()\n",
    "spark = pyspark.sql.SparkSession(sc)\n",
    "\n",
    "dispensed_database_name = dxpy.find_one_data_object(\n",
    "    classname=\"database\", name=\"app*\", folder=\"/\", name_mode=\"glob\", describe=True\n",
    ")[\"describe\"][\"name\"]\n",
    "dispensed_dataset_id = dxpy.find_one_data_object(\n",
    "    typename=\"Dataset\", name=\"app*.dataset\", folder=\"/\", name_mode=\"glob\"\n",
    ")[\"id\"]\n",
    "\n",
    "spark.sql(\"USE \" + dispensed_database_name)\n",
    "\n",
    "dataset = dxdata.load_dataset(id=dispensed_dataset_id)"
   ]
  },
  {
   "cell_type": "code",
   "execution_count": null,
   "id": "8cbf7660-18c5-4bed-a284-1fa55bf34391",
   "metadata": {
    "tags": []
   },
   "outputs": [],
   "source": [
    "# Init pyspark and load dataframe\n",
    "OMOP_TABLE = \"omop_drug_era\"  # 'omop_drug_era', 'omop_drug_exposure'\n",
    "\n",
    "# Load dose era table\n",
    "ode = dataset[OMOP_TABLE]\n",
    "\n",
    "field_names = [f.name for f in ode.fields]\n",
    "\n",
    "df = ode.retrieve_fields(names=field_names, engine=dxdata.connect())\n",
    "# df = df.drop(\"eid\")\n",
    "\n",
    "print(f\"Number of entries {df.count()}\")\n",
    "df.show(5)"
   ]
  },
  {
   "cell_type": "code",
   "execution_count": null,
   "id": "d9df8978-a825-4ecc-ab3e-ca8df6c994d7",
   "metadata": {
    "tags": []
   },
   "outputs": [],
   "source": [
    "drug_era_atc_pandas = pd.read_csv(\"drug_era_atc.tsv\", sep=\"\\t\")\n",
    "drug_era_atc_pandas.rename(columns={\"_c13\": \"atc_code\"}, inplace=True)"
   ]
  },
  {
   "cell_type": "code",
   "execution_count": null,
   "id": "e4364740-5929-47d3-89ec-08c5cbd044d5",
   "metadata": {
    "tags": []
   },
   "outputs": [],
   "source": [
    "drug_era_atc_df = spark.createDataFrame(drug_era_atc_pandas)\n",
    "\n",
    "df_with_atc = df.join(drug_era_atc_df, on=\"drug_concept_id\", how=\"left\")\n",
    "\n",
    "# Step 4: Select relevant columns\n",
    "df_with_atc = df_with_atc.select(\n",
    "    df.columns + [\"concept_name\"] + [\"atc_code\"]\n",
    ")  # Keep all original columns and add '_c13' (ATC code)\n",
    "print(f\"Number of entries {df_with_atc.count()}\")\n",
    "df_with_atc.show(5)"
   ]
  },
  {
   "cell_type": "markdown",
   "id": "4f005a72-d7f7-4a0c-9374-55215bd3f9d6",
   "metadata": {},
   "source": [
    "# filter through times"
   ]
  },
  {
   "cell_type": "code",
   "execution_count": null,
   "id": "93f14688-71c7-4325-bf1f-6673012a0d5e",
   "metadata": {
    "tags": []
   },
   "outputs": [],
   "source": [
    "drug_times_df_pandas = pd.read_csv(\"drug_times_count.csv\")\n",
    "drug_times_df = spark.createDataFrame(drug_times_df_pandas)\n",
    "drug_times_df.show(5)"
   ]
  },
  {
   "cell_type": "code",
   "execution_count": null,
   "id": "8dbedf87-a2fb-4fd5-a126-efa6ff258304",
   "metadata": {
    "tags": []
   },
   "outputs": [],
   "source": [
    "df_combined = df_with_atc.join(drug_times_df, on=\"drug_concept_id\", how=\"left\")\n",
    "filtered_df_1 = df_combined.filter(\n",
    "    (df_combined[\"times_taken\"] >= 313) & (df_combined[\"times_taken\"] <= 4012)\n",
    ")\n",
    "filtered_df_1 = filtered_df_1.drop(\"times_taken\")\n",
    "print(f\"Number of entries {filtered_df_1.count()}\")\n",
    "filtered_df_1.show(5)"
   ]
  },
  {
   "cell_type": "code",
   "execution_count": null,
   "id": "745a8389-730d-4d17-99cc-8f3b41ab593d",
   "metadata": {},
   "outputs": [],
   "source": [
    "unique_drug_concepts = filtered_df_1.select(\"drug_concept_id\").distinct().count()\n",
    "unique_drug_concepts"
   ]
  },
  {
   "cell_type": "markdown",
   "id": "c8713acc-5d66-4577-bbe5-5f37eab05070",
   "metadata": {},
   "source": [
    "# filter through people"
   ]
  },
  {
   "cell_type": "code",
   "execution_count": null,
   "id": "9dc2cb74-4b0d-4c7d-b619-99c07a1e0bf5",
   "metadata": {
    "tags": []
   },
   "outputs": [],
   "source": [
    "drug_people_df_pandas = pd.read_csv(\"drug_people_count.csv\")\n",
    "drug_people_df = spark.createDataFrame(drug_people_df_pandas)\n",
    "drug_people_df.show(5)"
   ]
  },
  {
   "cell_type": "code",
   "execution_count": null,
   "id": "d36abcb4-a0f9-4b0c-b42a-ffc921ea0e27",
   "metadata": {
    "tags": []
   },
   "outputs": [],
   "source": [
    "df_combined_2 = filtered_df_1.join(drug_people_df, on=\"drug_concept_id\", how=\"left\")\n",
    "filtered_df_2 = df_combined_2.filter(\n",
    "    (df_combined_2[\"unique_people_count\"] >= 121)\n",
    "    & (df_combined_2[\"unique_people_count\"] <= 1411)\n",
    ")\n",
    "filtered_df_2 = filtered_df_2.drop(\"unique_people_count\")\n",
    "print(f\"Number of entries {filtered_df_2.count()}\")\n",
    "filtered_df_2.show(5)"
   ]
  },
  {
   "cell_type": "code",
   "execution_count": null,
   "id": "507182a7-de8d-4cd7-a9cf-ea4d574440e6",
   "metadata": {
    "tags": []
   },
   "outputs": [],
   "source": [
    "unique_drug_concepts = filtered_df_2.select(\"drug_concept_id\").distinct().count()\n",
    "unique_drug_concepts"
   ]
  },
  {
   "cell_type": "markdown",
   "id": "26029426-79b0-478e-8362-ebda430ae88e",
   "metadata": {},
   "source": [
    "# filter through ATC Codes"
   ]
  },
  {
   "cell_type": "code",
   "execution_count": null,
   "id": "65ade3c9-b5b0-4b9f-9a1a-5cad622e1729",
   "metadata": {
    "tags": []
   },
   "outputs": [],
   "source": [
    "atc_codes_of_interest = [\"A10\", \"J01\", \"L01\", \"N05\", \"N06\", \"S01\"]\n",
    "\n",
    "filtered_df_3 = filtered_df_2.filter(\n",
    "    filtered_df_2[\"atc_code\"].rlike(\n",
    "        \"|\".join([f\"^{code}\" for code in atc_codes_of_interest])\n",
    "    )\n",
    ")\n",
    "print(f\"Number of entries {filtered_df_3.count()}\")\n",
    "filtered_df_3.show(5)"
   ]
  },
  {
   "cell_type": "code",
   "execution_count": null,
   "id": "2a4bc91b-03fd-47c6-a8ae-b848ba1c45ad",
   "metadata": {
    "tags": []
   },
   "outputs": [],
   "source": [
    "unique_drug_concepts = filtered_df_3.select(\"drug_concept_id\").distinct().count()\n",
    "unique_drug_concepts"
   ]
  },
  {
   "cell_type": "code",
   "execution_count": null,
   "id": "5978a742-da22-4759-9aa9-45342fdd8170",
   "metadata": {
    "tags": []
   },
   "outputs": [],
   "source": [
    "filtered_df_3_atc = filtered_df_3.select(\"drug_concept_id\", \"atc_code\").dropDuplicates()\n",
    "filtered_df_3_atc.show(5)"
   ]
  },
  {
   "cell_type": "code",
   "execution_count": null,
   "id": "bdccd0c5",
   "metadata": {},
   "outputs": [],
   "source": [
    "filtered_df_3_atc_pandas = filtered_df_3_atc.toPandas()"
   ]
  },
  {
   "cell_type": "code",
   "execution_count": null,
   "id": "9e827f67-27bb-4e6f-a58b-93b59f07b24a",
   "metadata": {
    "tags": []
   },
   "outputs": [],
   "source": [
    "# Create a dictionary to store the sampled drug_concept_ids for each ATC code\n",
    "sampled_drugs = {}\n",
    "\n",
    "# Sample 3 drug_concept_ids for each ATC code\n",
    "for atc_code in atc_codes_of_interest:\n",
    "    # Filter the dataframe for the current ATC code\n",
    "    filtered = filtered_df_3_atc_pandas[\n",
    "        filtered_df_3_atc_pandas[\"atc_code\"].str.startswith(atc_code)\n",
    "    ]\n",
    "\n",
    "    # Sample 3 drug_concept_ids (or all if less than 3 are available)\n",
    "    sampled = filtered[\"drug_concept_id\"].sample(\n",
    "        n=min(3, len(filtered)), random_state=42\n",
    "    )\n",
    "\n",
    "    # Store the sampled drug_concept_ids in the dictionary\n",
    "    sampled_drugs[atc_code] = sampled.tolist()\n",
    "\n",
    "# Print the results\n",
    "for atc_code, drugs in sampled_drugs.items():\n",
    "    print(f\"ATC code {atc_code}: {drugs}\")\n",
    "\n",
    "# Create a new dataframe with the sampled drug_concept_ids\n",
    "the_18_sampled_drug_concept_id = pd.DataFrame(\n",
    "    [(atc, drug) for atc, drugs in sampled_drugs.items() for drug in drugs],\n",
    "    columns=[\"atc_code\", \"drug_concept_id\"],\n",
    ")\n",
    "\n",
    "# Display the new dataframe\n",
    "print(\"\\nthe_18_sampled_drug_concept_id:\")\n",
    "print(the_18_sampled_drug_concept_id)"
   ]
  },
  {
   "cell_type": "code",
   "execution_count": null,
   "id": "dda37926-afc6-4c6a-a551-6160702b2ece",
   "metadata": {
    "tags": []
   },
   "outputs": [],
   "source": [
    "sampled_ids = the_18_sampled_drug_concept_id[\"drug_concept_id\"].tolist()\n",
    "filtered_df_4 = filtered_df_3.filter(filtered_df_3[\"drug_concept_id\"].isin(sampled_ids))\n",
    "print(f\"Number of entries {filtered_df_4.count()}\")\n",
    "filtered_df_4.show(5)"
   ]
  },
  {
   "cell_type": "code",
   "execution_count": null,
   "id": "c2ce7dab-feab-4022-9c88-31fd599213e3",
   "metadata": {
    "tags": []
   },
   "outputs": [],
   "source": [
    "unique_drug_concepts = filtered_df_4.select(\"drug_concept_id\").distinct().count()\n",
    "unique_drug_concepts"
   ]
  },
  {
   "cell_type": "code",
   "execution_count": null,
   "id": "5ed0743a-8545-4c11-ab96-acb7e9a6fa06",
   "metadata": {
    "tags": []
   },
   "outputs": [],
   "source": [
    "filtered_df_4_pandas = filtered_df_4.toPandas()\n",
    "filtered_df_4_pandas.to_csv(\"filtered_df_4.csv\", index=False)"
   ]
  },
  {
   "cell_type": "markdown",
   "id": "630214dd-72b4-4bf3-9e79-a84c381a8dea",
   "metadata": {},
   "source": [
    "# individual filtering"
   ]
  },
  {
   "cell_type": "code",
   "execution_count": null,
   "id": "6ecb7009-45d9-4788-89d9-01a7bde211a7",
   "metadata": {
    "tags": []
   },
   "outputs": [],
   "source": [
    "people_drug_variety_unsorted = filtered_df_4.groupBy(\"eid\").agg(\n",
    "    countDistinct(\"drug_concept_id\").alias(\"distinct_drugs_taken\")\n",
    ")\n",
    "people_drug_variety = people_drug_variety_unsorted.orderBy(\n",
    "    \"distinct_drugs_taken\", ascending=False\n",
    ")\n",
    "people_drug_variety.show()"
   ]
  },
  {
   "cell_type": "code",
   "execution_count": null,
   "id": "dd0c3dde-5443-4678-918c-3fd0a2044fd3",
   "metadata": {
    "tags": []
   },
   "outputs": [],
   "source": [
    "people_drug_variety_pandas = people_drug_variety.toPandas()\n",
    "statistics_people_drug_variety = people_drug_variety_pandas[\n",
    "    \"distinct_drugs_taken\"\n",
    "].describe()\n",
    "print(statistics_people_drug_variety)"
   ]
  },
  {
   "cell_type": "code",
   "execution_count": null,
   "id": "832f63a3-3ac5-4034-b2bd-bd959b53a221",
   "metadata": {
    "tags": []
   },
   "outputs": [],
   "source": [
    "plt.figure(figsize=(10, 6))\n",
    "plt.hist(\n",
    "    people_drug_variety_pandas[\"distinct_drugs_taken\"],\n",
    "    bins=200,\n",
    "    color=\"blue\",\n",
    "    edgecolor=\"black\",\n",
    ")\n",
    "plt.title(\"Distribution of Drug Types Taken by Individuals\", fontsize=14)\n",
    "plt.xlabel(\"Number of Drug Types per Individual\", fontsize=12)\n",
    "plt.ylabel(\"Frequency of Individuals\", fontsize=12)\n",
    "plt.grid(True)\n",
    "plt.yscale(\"log\")\n",
    "plt.show()"
   ]
  },
  {
   "cell_type": "markdown",
   "id": "f8563515",
   "metadata": {},
   "source": [
    "# check on the focused dataset"
   ]
  },
  {
   "cell_type": "code",
   "execution_count": null,
   "id": "6d356b41",
   "metadata": {},
   "outputs": [],
   "source": [
    "import pandas as pd\n",
    "import matplotlib.pyplot as plt"
   ]
  },
  {
   "cell_type": "code",
   "execution_count": null,
   "id": "69d9b137",
   "metadata": {},
   "outputs": [],
   "source": [
    "filtered_df_4 = pd.read_csv(\"filtered_df_4.csv\")\n",
    "filtered_df_4.head()"
   ]
  },
  {
   "cell_type": "code",
   "execution_count": null,
   "id": "5e6a4454",
   "metadata": {},
   "outputs": [],
   "source": [
    "# Group by all columns except 'atc_code' and aggregate the ATC codes\n",
    "filtered_df_4_grouped = (\n",
    "    filtered_df_4.groupby([col for col in filtered_df_4.columns if col != \"atc_code\"])\n",
    "    .agg({\"atc_code\": lambda x: \", \".join(sorted(set(x)))})\n",
    "    .reset_index()\n",
    ")\n",
    "\n",
    "print(\"Shape before grouping:\", filtered_df_4.shape)\n",
    "print(\"Shape after grouping:\", filtered_df_4_grouped.shape)\n",
    "\n",
    "filtered_df_4_grouped.head()"
   ]
  },
  {
   "cell_type": "code",
   "execution_count": null,
   "id": "4ae7eb0a",
   "metadata": {},
   "outputs": [],
   "source": [
    "# save the grouped dataframe to csv\n",
    "filtered_df_4_grouped.to_csv(\"filtered_df_4_grouped.csv\", index=False)"
   ]
  },
  {
   "cell_type": "code",
   "execution_count": null,
   "id": "ca4f593c",
   "metadata": {},
   "outputs": [],
   "source": [
    "# Count occurrences of each drug\n",
    "drug_counts = filtered_df_4_grouped[\"drug_concept_id\"].value_counts().reset_index()\n",
    "drug_counts.columns = [\"drug_concept_id\", \"count\"]\n",
    "\n",
    "# Sort by count in descending order\n",
    "drug_counts = drug_counts.sort_values(\"count\", ascending=False)\n",
    "\n",
    "# Add drug names and ATC codes\n",
    "drug_info = filtered_df_4_grouped[\n",
    "    [\"drug_concept_id\", \"concept_name\", \"atc_code\"]\n",
    "].drop_duplicates()\n",
    "drug_counts = drug_counts.merge(drug_info, on=\"drug_concept_id\", how=\"left\")\n",
    "\n",
    "# Reorder columns\n",
    "drug_counts = drug_counts[[\"drug_concept_id\", \"concept_name\", \"atc_code\", \"count\"]]\n",
    "\n",
    "print(\"Number of unique drugs:\", len(drug_counts))\n",
    "print(drug_counts)"
   ]
  },
  {
   "cell_type": "code",
   "execution_count": null,
   "id": "a0108b2d",
   "metadata": {},
   "outputs": [],
   "source": [
    "# plot a histogram of the drug counts\n",
    "plt.figure(figsize=(10, 6))\n",
    "plt.hist(drug_counts[\"count\"], bins=100, color=\"blue\", edgecolor=\"black\")\n",
    "plt.title(\"Distribution of Drug Counts\")\n",
    "plt.xlabel(\"Number of Times a Drug is Taken\")\n",
    "plt.ylabel(\"Frequency\")\n",
    "plt.grid(True)\n",
    "plt.show()"
   ]
  },
  {
   "cell_type": "code",
   "execution_count": null,
   "id": "0d0fe7b4",
   "metadata": {},
   "outputs": [],
   "source": [
    "# exclude the drug 785788 and 705755 because they are outliers\n",
    "filtered_df_5 = filtered_df_4_grouped[\n",
    "    ~filtered_df_4_grouped[\"drug_concept_id\"].isin([785788, 705755])\n",
    "]\n",
    "filtered_df_5.head()"
   ]
  },
  {
   "cell_type": "code",
   "execution_count": null,
   "id": "13f114f4",
   "metadata": {},
   "outputs": [],
   "source": [
    "# save the filtered dataframe to csv\n",
    "filtered_df_5.to_csv(\"filtered_df_5.csv\", index=False)"
   ]
  },
  {
   "cell_type": "code",
   "execution_count": null,
   "id": "4296e8ea",
   "metadata": {},
   "outputs": [],
   "source": [
    "# see how many rows are in the dataframe\n",
    "print(f\"Number of entries {filtered_df_5.count()}\")"
   ]
  },
  {
   "cell_type": "code",
   "execution_count": null,
   "id": "ddaa6c74",
   "metadata": {},
   "outputs": [],
   "source": [
    "# Count occurrences of each drug\n",
    "drug_counts = filtered_df_5[\"drug_concept_id\"].value_counts().reset_index()\n",
    "drug_counts.columns = [\"drug_concept_id\", \"count\"]\n",
    "\n",
    "# Sort by count in descending order\n",
    "drug_counts = drug_counts.sort_values(\"count\", ascending=False)\n",
    "\n",
    "# Add drug names and ATC codes\n",
    "drug_info = filtered_df_5[\n",
    "    [\"drug_concept_id\", \"concept_name\", \"atc_code\"]\n",
    "].drop_duplicates()\n",
    "drug_counts = drug_counts.merge(drug_info, on=\"drug_concept_id\", how=\"left\")\n",
    "\n",
    "# Reorder columns\n",
    "drug_counts = drug_counts[[\"drug_concept_id\", \"concept_name\", \"atc_code\", \"count\"]]\n",
    "\n",
    "print(\"Number of unique drugs:\", len(drug_counts))\n",
    "print(drug_counts)"
   ]
  },
  {
   "cell_type": "code",
   "execution_count": null,
   "id": "25f316aa",
   "metadata": {},
   "outputs": [],
   "source": [
    "print(drug_counts[\"count\"].describe())"
   ]
  },
  {
   "cell_type": "code",
   "execution_count": null,
   "id": "57048565",
   "metadata": {},
   "outputs": [],
   "source": [
    "plt.figure(figsize=(12, 6))\n",
    "plt.hist(drug_counts[\"count\"], bins=30, edgecolor=\"black\")\n",
    "plt.title(\"Frequency Distribution of Drug Intake Counts\", fontsize=14)\n",
    "plt.xlabel(\"Number of Intakes\", fontsize=12)\n",
    "plt.ylabel(\"Frequency\", fontsize=12)\n",
    "plt.grid(True)\n",
    "plt.show()"
   ]
  },
  {
   "cell_type": "code",
   "execution_count": null,
   "id": "410aaeb2",
   "metadata": {},
   "outputs": [],
   "source": [
    "# number of unique people\n",
    "unique_people = filtered_df_5[\"eid\"].nunique()\n",
    "print(f\"Number of unique people: {unique_people}\")"
   ]
  },
  {
   "cell_type": "code",
   "execution_count": null,
   "id": "3c8338e0",
   "metadata": {},
   "outputs": [],
   "source": [
    "# distribution of how many people take the same drug\n",
    "drug_people_counts = (\n",
    "    filtered_df_5.groupby(\"drug_concept_id\")[\"eid\"].nunique().reset_index()\n",
    ")\n",
    "drug_people_counts.columns = [\"drug_concept_id\", \"unique_people_count\"]\n",
    "\n",
    "# Add drug names and ATC codes\n",
    "drug_info = filtered_df_5[\n",
    "    [\"drug_concept_id\", \"concept_name\", \"atc_code\"]\n",
    "].drop_duplicates()\n",
    "drug_people_counts = drug_people_counts.merge(\n",
    "    drug_info, on=\"drug_concept_id\", how=\"left\"\n",
    ")\n",
    "\n",
    "# Sort by unique_people_count in descending order\n",
    "drug_people_counts = drug_people_counts.sort_values(\n",
    "    \"unique_people_count\", ascending=False\n",
    ")\n",
    "\n",
    "# Reorder columns\n",
    "drug_people_counts = drug_people_counts[\n",
    "    [\"drug_concept_id\", \"concept_name\", \"atc_code\", \"unique_people_count\"]\n",
    "]\n",
    "\n",
    "print(\"Distribution of how many people take the same drug:\")\n",
    "print(drug_people_counts)\n",
    "\n",
    "# Visualize the distribution\n",
    "plt.figure(figsize=(12, 6))\n",
    "plt.hist(drug_people_counts[\"unique_people_count\"], bins=30, edgecolor=\"black\")\n",
    "plt.title(\"Distribution of Number of People Taking Each Drug\", fontsize=14)\n",
    "plt.xlabel(\"Number of People\", fontsize=12)\n",
    "plt.ylabel(\"Frequency\", fontsize=12)\n",
    "plt.grid(True, alpha=0.3)\n",
    "plt.show()\n",
    "\n",
    "# Print some statistics\n",
    "print(\"\\nStatistics:\")\n",
    "print(drug_people_counts[\"unique_people_count\"].describe())"
   ]
  },
  {
   "cell_type": "code",
   "execution_count": null,
   "id": "4866a38b",
   "metadata": {},
   "outputs": [],
   "source": [
    "# Distribution of how many drugs each person takes\n",
    "drug_people_counts = (\n",
    "    filtered_df_5.groupby(\"eid\")[\"drug_concept_id\"].nunique().reset_index()\n",
    ")\n",
    "drug_people_counts.columns = [\"eid\", \"unique_drugs_count\"]\n",
    "\n",
    "# Visualize the distribution\n",
    "plt.figure(figsize=(12, 6))\n",
    "plt.hist(drug_people_counts[\"unique_drugs_count\"], bins=30, edgecolor=\"black\")\n",
    "plt.title(\"Distribution of Number of Unique Drugs Taken per Person\", fontsize=14)\n",
    "plt.xlabel(\"Number of Unique Drugs\", fontsize=12)\n",
    "plt.ylabel(\"Number of People\", fontsize=12)\n",
    "plt.yscale(\"log\")\n",
    "plt.grid(True, alpha=0.3)\n",
    "plt.show()\n",
    "\n",
    "# Print some statistics\n",
    "print(\"\\nStatistics:\")\n",
    "print(drug_people_counts[\"unique_drugs_count\"].describe())\n",
    "\n",
    "# Print the number of people taking each number of drugs\n",
    "print(\"\\nNumber of people taking each number of drugs:\")\n",
    "print(drug_people_counts[\"unique_drugs_count\"].value_counts().sort_index())"
   ]
  },
  {
   "cell_type": "code",
   "execution_count": null,
   "id": "90da3885",
   "metadata": {},
   "outputs": [],
   "source": []
  }
 ],
 "metadata": {
  "kernelspec": {
   "display_name": "Python 3 (ipykernel)",
   "language": "python",
   "name": "python3"
  },
  "language_info": {
   "codemirror_mode": {
    "name": "ipython",
    "version": 3
   },
   "file_extension": ".py",
   "mimetype": "text/x-python",
   "name": "python",
   "nbconvert_exporter": "python",
   "pygments_lexer": "ipython3",
   "version": "3.12.5"
  }
 },
 "nbformat": 4,
 "nbformat_minor": 5
}
