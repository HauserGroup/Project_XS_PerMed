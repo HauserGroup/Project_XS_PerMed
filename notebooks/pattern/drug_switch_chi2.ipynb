{
 "cells": [
  {
   "cell_type": "code",
   "execution_count": 50,
   "metadata": {},
   "outputs": [],
   "source": [
    "import pandas as pd\n",
    "import matplotlib.pyplot as plt\n",
    "from scipy.stats import chi2_contingency\n"
   ]
  },
  {
   "cell_type": "markdown",
   "metadata": {},
   "source": [
    "# dataset"
   ]
  },
  {
   "cell_type": "code",
   "execution_count": 54,
   "metadata": {},
   "outputs": [],
   "source": [
    "switch_people_atc2nd_diff_drug = pd.read_csv(\n",
    "    \"output_switch/switch_people_freq_atc2nd_diff_drug.tsv\", sep=\"\\t\"\n",
    ")"
   ]
  },
  {
   "cell_type": "code",
   "execution_count": 73,
   "metadata": {},
   "outputs": [],
   "source": [
    "switch_people_atc1st_diff_drug = pd.read_csv(\n",
    "    \"output_switch/switch_people_freq_atc1st_diff_drug.tsv\", sep=\"\\t\"\n",
    ")"
   ]
  },
  {
   "cell_type": "code",
   "execution_count": 57,
   "metadata": {},
   "outputs": [],
   "source": [
    "switch_people_diff_drug = pd.read_csv(\n",
    "    \"output_switch/switch_people_freq_diff_drug.tsv\", sep=\"\\t\"\n",
    ")"
   ]
  },
  {
   "cell_type": "code",
   "execution_count": 63,
   "metadata": {},
   "outputs": [
    {
     "data": {
      "text/html": [
       "<div>\n",
       "<style scoped>\n",
       "    .dataframe tbody tr th:only-of-type {\n",
       "        vertical-align: middle;\n",
       "    }\n",
       "\n",
       "    .dataframe tbody tr th {\n",
       "        vertical-align: top;\n",
       "    }\n",
       "\n",
       "    .dataframe thead th {\n",
       "        text-align: right;\n",
       "    }\n",
       "</style>\n",
       "<table border=\"1\" class=\"dataframe\">\n",
       "  <thead>\n",
       "    <tr style=\"text-align: right;\">\n",
       "      <th></th>\n",
       "      <th>A_drug_concept_id</th>\n",
       "      <th>A_atc_codes</th>\n",
       "      <th>A_drug_concept_name</th>\n",
       "      <th>B_drug_concept_id</th>\n",
       "      <th>B_atc_codes</th>\n",
       "      <th>B_drug_concept_name</th>\n",
       "      <th>people_count</th>\n",
       "      <th>avg_switch_interval</th>\n",
       "    </tr>\n",
       "  </thead>\n",
       "  <tbody>\n",
       "    <tr>\n",
       "      <th>0</th>\n",
       "      <td>1201620</td>\n",
       "      <td>('R05DA04',)</td>\n",
       "      <td>codeine</td>\n",
       "      <td>1125315</td>\n",
       "      <td>('N02BE01',)</td>\n",
       "      <td>acetaminophen</td>\n",
       "      <td>24995</td>\n",
       "      <td>79.469902</td>\n",
       "    </tr>\n",
       "    <tr>\n",
       "      <th>1</th>\n",
       "      <td>1125315</td>\n",
       "      <td>('N02BE01',)</td>\n",
       "      <td>acetaminophen</td>\n",
       "      <td>1201620</td>\n",
       "      <td>('R05DA04',)</td>\n",
       "      <td>codeine</td>\n",
       "      <td>24034</td>\n",
       "      <td>79.639427</td>\n",
       "    </tr>\n",
       "    <tr>\n",
       "      <th>2</th>\n",
       "      <td>1713332</td>\n",
       "      <td>('J01CA04',)</td>\n",
       "      <td>amoxicillin</td>\n",
       "      <td>1125315</td>\n",
       "      <td>('N02BE01',)</td>\n",
       "      <td>acetaminophen</td>\n",
       "      <td>21076</td>\n",
       "      <td>110.321770</td>\n",
       "    </tr>\n",
       "    <tr>\n",
       "      <th>3</th>\n",
       "      <td>1125315</td>\n",
       "      <td>('N02BE01',)</td>\n",
       "      <td>acetaminophen</td>\n",
       "      <td>1713332</td>\n",
       "      <td>('J01CA04',)</td>\n",
       "      <td>amoxicillin</td>\n",
       "      <td>19953</td>\n",
       "      <td>114.550373</td>\n",
       "    </tr>\n",
       "    <tr>\n",
       "      <th>4</th>\n",
       "      <td>1177480</td>\n",
       "      <td>('C01EB16', 'G02CC01', 'M01AE01', 'M02AA13', '...</td>\n",
       "      <td>ibuprofen</td>\n",
       "      <td>1125315</td>\n",
       "      <td>('N02BE01',)</td>\n",
       "      <td>acetaminophen</td>\n",
       "      <td>15971</td>\n",
       "      <td>97.900242</td>\n",
       "    </tr>\n",
       "    <tr>\n",
       "      <th>...</th>\n",
       "      <td>...</td>\n",
       "      <td>...</td>\n",
       "      <td>...</td>\n",
       "      <td>...</td>\n",
       "      <td>...</td>\n",
       "      <td>...</td>\n",
       "      <td>...</td>\n",
       "      <td>...</td>\n",
       "    </tr>\n",
       "    <tr>\n",
       "      <th>441561</th>\n",
       "      <td>1354860</td>\n",
       "      <td>('C01BC04',)</td>\n",
       "      <td>flecainide</td>\n",
       "      <td>19101454</td>\n",
       "      <td>()</td>\n",
       "      <td>Unknown</td>\n",
       "      <td>1</td>\n",
       "      <td>38.000000</td>\n",
       "    </tr>\n",
       "    <tr>\n",
       "      <th>441562</th>\n",
       "      <td>1354860</td>\n",
       "      <td>('C01BC04',)</td>\n",
       "      <td>flecainide</td>\n",
       "      <td>19124906</td>\n",
       "      <td>()</td>\n",
       "      <td>Unknown</td>\n",
       "      <td>1</td>\n",
       "      <td>12.000000</td>\n",
       "    </tr>\n",
       "    <tr>\n",
       "      <th>441563</th>\n",
       "      <td>1354860</td>\n",
       "      <td>('C01BC04',)</td>\n",
       "      <td>flecainide</td>\n",
       "      <td>40166035</td>\n",
       "      <td>('A10BH03',)</td>\n",
       "      <td>saxagliptin</td>\n",
       "      <td>1</td>\n",
       "      <td>47.000000</td>\n",
       "    </tr>\n",
       "    <tr>\n",
       "      <th>441564</th>\n",
       "      <td>1354860</td>\n",
       "      <td>('C01BC04',)</td>\n",
       "      <td>flecainide</td>\n",
       "      <td>42903865</td>\n",
       "      <td>()</td>\n",
       "      <td>Unknown</td>\n",
       "      <td>1</td>\n",
       "      <td>35.000000</td>\n",
       "    </tr>\n",
       "    <tr>\n",
       "      <th>441565</th>\n",
       "      <td>46287466</td>\n",
       "      <td>('C10AX13',)</td>\n",
       "      <td>evolocumab</td>\n",
       "      <td>1316354</td>\n",
       "      <td>('C03AA01',)</td>\n",
       "      <td>bendroflumethiazide</td>\n",
       "      <td>1</td>\n",
       "      <td>82.000000</td>\n",
       "    </tr>\n",
       "  </tbody>\n",
       "</table>\n",
       "<p>441566 rows × 8 columns</p>\n",
       "</div>"
      ],
      "text/plain": [
       "        A_drug_concept_id                                        A_atc_codes  \\\n",
       "0                 1201620                                       ('R05DA04',)   \n",
       "1                 1125315                                       ('N02BE01',)   \n",
       "2                 1713332                                       ('J01CA04',)   \n",
       "3                 1125315                                       ('N02BE01',)   \n",
       "4                 1177480  ('C01EB16', 'G02CC01', 'M01AE01', 'M02AA13', '...   \n",
       "...                   ...                                                ...   \n",
       "441561            1354860                                       ('C01BC04',)   \n",
       "441562            1354860                                       ('C01BC04',)   \n",
       "441563            1354860                                       ('C01BC04',)   \n",
       "441564            1354860                                       ('C01BC04',)   \n",
       "441565           46287466                                       ('C10AX13',)   \n",
       "\n",
       "       A_drug_concept_name  B_drug_concept_id   B_atc_codes  \\\n",
       "0                  codeine            1125315  ('N02BE01',)   \n",
       "1            acetaminophen            1201620  ('R05DA04',)   \n",
       "2              amoxicillin            1125315  ('N02BE01',)   \n",
       "3            acetaminophen            1713332  ('J01CA04',)   \n",
       "4                ibuprofen            1125315  ('N02BE01',)   \n",
       "...                    ...                ...           ...   \n",
       "441561          flecainide           19101454            ()   \n",
       "441562          flecainide           19124906            ()   \n",
       "441563          flecainide           40166035  ('A10BH03',)   \n",
       "441564          flecainide           42903865            ()   \n",
       "441565          evolocumab            1316354  ('C03AA01',)   \n",
       "\n",
       "        B_drug_concept_name  people_count  avg_switch_interval  \n",
       "0             acetaminophen         24995            79.469902  \n",
       "1                   codeine         24034            79.639427  \n",
       "2             acetaminophen         21076           110.321770  \n",
       "3               amoxicillin         19953           114.550373  \n",
       "4             acetaminophen         15971            97.900242  \n",
       "...                     ...           ...                  ...  \n",
       "441561              Unknown             1            38.000000  \n",
       "441562              Unknown             1            12.000000  \n",
       "441563          saxagliptin             1            47.000000  \n",
       "441564              Unknown             1            35.000000  \n",
       "441565  bendroflumethiazide             1            82.000000  \n",
       "\n",
       "[441566 rows x 8 columns]"
      ]
     },
     "execution_count": 63,
     "metadata": {},
     "output_type": "execute_result"
    }
   ],
   "source": [
    "switch_people_diff_drug"
   ]
  },
  {
   "cell_type": "markdown",
   "metadata": {},
   "source": [
    "# chi2 test"
   ]
  },
  {
   "cell_type": "code",
   "execution_count": 58,
   "metadata": {},
   "outputs": [],
   "source": [
    "def switch_chi2_test(df, drug_a_id, drug_b_id):\n",
    "    \"\"\"\n",
    "    Perform chi-square test for drug switch\n",
    "    Note that df should not contain siwtches between the same drug, or else the test result can be invalid or misleading\n",
    "    \"\"\"\n",
    "\n",
    "    count_a_to_b = df[\n",
    "        (df[\"A_drug_concept_id\"] == drug_a_id) & (df[\"B_drug_concept_id\"] == drug_b_id)\n",
    "    ][\"people_count\"].sum()\n",
    "    count_a_to_other = df[\n",
    "        (df[\"A_drug_concept_id\"] == drug_a_id) & (df[\"B_drug_concept_id\"] != drug_b_id)\n",
    "    ][\"people_count\"].sum()\n",
    "    count_other_to_b = df[\n",
    "        (df[\"A_drug_concept_id\"] != drug_a_id) & (df[\"B_drug_concept_id\"] == drug_b_id)\n",
    "    ][\"people_count\"].sum()\n",
    "    count_other_to_other = df[\n",
    "        (df[\"A_drug_concept_id\"] != drug_a_id) & (df[\"B_drug_concept_id\"] != drug_b_id)\n",
    "    ][\"people_count\"].sum()\n",
    "\n",
    "    contingency_table = [\n",
    "        [count_a_to_b, count_a_to_other],\n",
    "        [count_other_to_b, count_other_to_other],\n",
    "    ]\n",
    "\n",
    "    chi2, p, dof, expected = chi2_contingency(contingency_table)\n",
    "    contributions = (contingency_table - expected) ** 2 / expected  # type: ignore\n",
    "\n",
    "    return chi2, p, dof, expected, contingency_table, contributions"
   ]
  },
  {
   "cell_type": "code",
   "execution_count": 79,
   "metadata": {},
   "outputs": [
    {
     "name": "stdout",
     "output_type": "stream",
     "text": [
      "Chi-square statistic: 0.0006660695033738469\n",
      "P-value: 0.9794102237725767\n",
      "Degrees of freedom: 1\n",
      "Expected frequencies:\n",
      "[[1.82157643e+02 5.22184236e+03]\n",
      " [6.74507842e+05 1.93358542e+07]]\n",
      "Observed frequencies:\n",
      "[[np.int64(183), np.int64(5221)], [np.int64(674507), np.int64(19335855)]]\n",
      "contribution to chi2:\n",
      "[[3.89533530e-03 1.35884052e-04]\n",
      " [1.05197457e-06 3.66968583e-08]]\n"
     ]
    }
   ],
   "source": [
    "switch_chi2_test(switch_people_diff_drug, 791967, 1125315)"
   ]
  },
  {
   "cell_type": "code",
   "execution_count": 91,
   "metadata": {},
   "outputs": [
    {
     "data": {
      "text/plain": [
       "(np.float64(902.8927688311168),\n",
       " np.float64(2.3065807777903347e-198),\n",
       " 1,\n",
       " array([[2.72401731e+01, 1.36175983e+03],\n",
       "        [9.37917598e+04, 4.68873124e+06]]),\n",
       " [[np.int64(183), np.int64(1206)], [np.int64(93636), np.int64(4688887)]],\n",
       " array([[8.90637647e+02, 1.78160078e+01],\n",
       "        [2.58670098e-01, 5.17434727e-03]]))"
      ]
     },
     "execution_count": 91,
     "metadata": {},
     "output_type": "execute_result"
    }
   ],
   "source": [
    "switch_chi2_test(switch_people_atc1st_diff_drug, 791967, 1125315)"
   ]
  },
  {
   "cell_type": "code",
   "execution_count": 89,
   "metadata": {},
   "outputs": [
    {
     "name": "stdout",
     "output_type": "stream",
     "text": [
      "chi2:  0.0006660695033738469\n",
      "p-value:  0.9794102237725767\n",
      "degrees of freedom:  1\n",
      "expected:  [[1.82157643e+02 5.22184236e+03]\n",
      " [6.74507842e+05 1.93358542e+07]]\n",
      "observed:  [[np.int64(183), np.int64(5221)], [np.int64(674507), np.int64(19335855)]]\n",
      "chi2 contributions:  [[3.89533530e-03 1.35884052e-04]\n",
      " [1.05197457e-06 3.66968583e-08]]\n"
     ]
    }
   ],
   "source": [
    "chi2, p, dof, expected, contingency_table, contributions = switch_chi2_test(\n",
    "    switch_people_diff_drug, 791967, 1125315\n",
    ")\n",
    "print(\"chi2: \", chi2)\n",
    "print(\"p-value: \", p)\n",
    "print(\"degrees of freedom: \", dof)\n",
    "print(\"expected: \", expected)\n",
    "print(\"observed: \", contingency_table)\n",
    "print(\"chi2 contributions: \", contributions)"
   ]
  },
  {
   "cell_type": "markdown",
   "metadata": {},
   "source": [
    "# chi2 result (self switch included)"
   ]
  },
  {
   "cell_type": "code",
   "execution_count": 62,
   "metadata": {},
   "outputs": [],
   "source": [
    "switch_people_atc2nd = pd.read_csv(\n",
    "    \"output_switch/switch_people_freq_atc2nd.tsv\", sep=\"\\t\"\n",
    ")\n",
    "switch_people = pd.read_csv(\"output_switch/switch_people_freq.tsv\", sep=\"\\t\")"
   ]
  },
  {
   "cell_type": "code",
   "execution_count": null,
   "metadata": {},
   "outputs": [],
   "source": [
    "# the result with the dataset that exclude self switch\n",
    "# 749\t1125315\t('N02BE01',)\tacetaminophen\t1786621\t('J01DB01',)\tcephalexin\t2620\t75.97322225528117\t0.832152117335328 (p-value)"
   ]
  },
  {
   "cell_type": "code",
   "execution_count": 69,
   "metadata": {},
   "outputs": [
    {
     "name": "stdout",
     "output_type": "stream",
     "text": [
      "chi2:  3.3771982869395334\n",
      "p-value:  0.06610433753258033\n",
      "degrees of freedom:  1\n",
      "expected:  [[2.71448548e+03 6.92681515e+05]\n",
      " [8.03815145e+04 2.05117285e+07]]\n",
      "observed:  [[np.int64(2620), np.int64(692776)], [np.int64(80476), np.int64(20511634)]]\n",
      "chi2 contributions:  [[3.28883932e+00 1.28883280e-02]\n",
      " [1.11064175e-01 4.35239117e-04]]\n"
     ]
    }
   ],
   "source": [
    "chi2, p, dof, expected, contingency_table, contributions = switch_chi2_test(\n",
    "    switch_people, 1125315, 1786621\n",
    ")\n",
    "print(\"chi2: \", chi2)\n",
    "print(\"p-value: \", p)\n",
    "print(\"degrees of freedom: \", dof)\n",
    "print(\"expected: \", expected)\n",
    "print(\"observed: \", contingency_table)\n",
    "print(\"chi2 contributions: \", contributions)"
   ]
  },
  {
   "cell_type": "code",
   "execution_count": null,
   "metadata": {},
   "outputs": [],
   "source": [
    "# using the dataset including self switch can lead to misleading high p-value\n",
    "# so we need to exclude the self switch when performing chi2 test"
   ]
  },
  {
   "cell_type": "markdown",
   "metadata": {},
   "source": [
    "# chi2 result"
   ]
  },
  {
   "cell_type": "code",
   "execution_count": 94,
   "metadata": {},
   "outputs": [],
   "source": [
    "switch_people_diff_drug[\"p_value\"] = switch_people_diff_drug.apply(\n",
    "    lambda row: pd.Series(\n",
    "        switch_chi2_test(\n",
    "            switch_people_diff_drug, row[\"A_drug_concept_id\"], row[\"B_drug_concept_id\"]\n",
    "        )[1]\n",
    "    ),\n",
    "    axis=1,\n",
    ")"
   ]
  },
  {
   "cell_type": "code",
   "execution_count": 101,
   "metadata": {},
   "outputs": [],
   "source": [
    "switch_people_atc1st_diff_drug[\"p_value\"] = switch_people_atc1st_diff_drug.apply(\n",
    "    lambda row: pd.Series(\n",
    "        switch_chi2_test(\n",
    "            switch_people_atc1st_diff_drug,\n",
    "            row[\"A_drug_concept_id\"],\n",
    "            row[\"B_drug_concept_id\"],\n",
    "        )[1]\n",
    "    ),\n",
    "    axis=1,\n",
    ")"
   ]
  },
  {
   "cell_type": "code",
   "execution_count": 119,
   "metadata": {},
   "outputs": [],
   "source": [
    "switch_people_atc2nd_diff_drug[\"p_value\"] = switch_people_atc2nd_diff_drug.apply(\n",
    "    lambda row: pd.Series(\n",
    "        switch_chi2_test(\n",
    "            switch_people_atc2nd_diff_drug,\n",
    "            row[\"A_drug_concept_id\"],\n",
    "            row[\"B_drug_concept_id\"],\n",
    "        )[1]\n",
    "    ),\n",
    "    axis=1,\n",
    ")"
   ]
  },
  {
   "cell_type": "code",
   "execution_count": 3,
   "metadata": {},
   "outputs": [],
   "source": [
    "switch_people_diff_drug = pd.read_csv(\n",
    "    \"output_switch/switch_people_diff_drug_chi2.tsv\", sep=\"\\t\"\n",
    ")\n",
    "switch_people_atc1st_diff_drug = pd.read_csv(\n",
    "    \"output_switch/switch_people_atc1st_diff_drug_chi2.tsv\", sep=\"\\t\"\n",
    ")\n",
    "switch_people_atc2nd_diff_drug = pd.read_csv(\n",
    "    \"output_switch/switch_people_atc2nd_diff_drug_chi2.tsv\", sep=\"\\t\"\n",
    ")"
   ]
  },
  {
   "cell_type": "code",
   "execution_count": 65,
   "metadata": {},
   "outputs": [
    {
     "data": {
      "text/html": [
       "<div>\n",
       "<style scoped>\n",
       "    .dataframe tbody tr th:only-of-type {\n",
       "        vertical-align: middle;\n",
       "    }\n",
       "\n",
       "    .dataframe tbody tr th {\n",
       "        vertical-align: top;\n",
       "    }\n",
       "\n",
       "    .dataframe thead th {\n",
       "        text-align: right;\n",
       "    }\n",
       "</style>\n",
       "<table border=\"1\" class=\"dataframe\">\n",
       "  <thead>\n",
       "    <tr style=\"text-align: right;\">\n",
       "      <th></th>\n",
       "      <th>Unnamed: 0</th>\n",
       "      <th>A_drug_concept_id</th>\n",
       "      <th>A_atc_codes</th>\n",
       "      <th>A_drug_concept_name</th>\n",
       "      <th>B_drug_concept_id</th>\n",
       "      <th>B_atc_codes</th>\n",
       "      <th>B_drug_concept_name</th>\n",
       "      <th>people_count</th>\n",
       "      <th>avg_switch_interval</th>\n",
       "      <th>p_value</th>\n",
       "    </tr>\n",
       "  </thead>\n",
       "  <tbody>\n",
       "    <tr>\n",
       "      <th>220783</th>\n",
       "      <td>220783</td>\n",
       "      <td>514015</td>\n",
       "      <td>()</td>\n",
       "      <td>Unknown</td>\n",
       "      <td>1363053</td>\n",
       "      <td>('C02CA04',)</td>\n",
       "      <td>doxazosin</td>\n",
       "      <td>4</td>\n",
       "      <td>151.750000</td>\n",
       "      <td>1.0</td>\n",
       "    </tr>\n",
       "    <tr>\n",
       "      <th>169946</th>\n",
       "      <td>169946</td>\n",
       "      <td>1140123</td>\n",
       "      <td>('R06AX18',)</td>\n",
       "      <td>acrivastine</td>\n",
       "      <td>19049038</td>\n",
       "      <td>('G03CA04', 'G03CC06')</td>\n",
       "      <td>estriol</td>\n",
       "      <td>6</td>\n",
       "      <td>40.285714</td>\n",
       "      <td>1.0</td>\n",
       "    </tr>\n",
       "    <tr>\n",
       "      <th>122985</th>\n",
       "      <td>122985</td>\n",
       "      <td>907879</td>\n",
       "      <td>('A01AB09', 'A07AC01', 'D01AC02', 'G01AF04', '...</td>\n",
       "      <td>miconazole</td>\n",
       "      <td>738156</td>\n",
       "      <td>('D04AX01', 'N06AA12')</td>\n",
       "      <td>doxepin</td>\n",
       "      <td>12</td>\n",
       "      <td>69.333333</td>\n",
       "      <td>1.0</td>\n",
       "    </tr>\n",
       "    <tr>\n",
       "      <th>169945</th>\n",
       "      <td>169945</td>\n",
       "      <td>938061</td>\n",
       "      <td>('D01AE13',)</td>\n",
       "      <td>selenium sulfide</td>\n",
       "      <td>19010696</td>\n",
       "      <td>()</td>\n",
       "      <td>Unknown</td>\n",
       "      <td>6</td>\n",
       "      <td>66.571429</td>\n",
       "      <td>1.0</td>\n",
       "    </tr>\n",
       "    <tr>\n",
       "      <th>281907</th>\n",
       "      <td>281907</td>\n",
       "      <td>986790</td>\n",
       "      <td>()</td>\n",
       "      <td>Unknown</td>\n",
       "      <td>19030751</td>\n",
       "      <td>('A03AX08',)</td>\n",
       "      <td>alverine</td>\n",
       "      <td>2</td>\n",
       "      <td>40.333333</td>\n",
       "      <td>1.0</td>\n",
       "    </tr>\n",
       "    <tr>\n",
       "      <th>408407</th>\n",
       "      <td>408407</td>\n",
       "      <td>19018544</td>\n",
       "      <td>()</td>\n",
       "      <td>Unknown</td>\n",
       "      <td>1152134</td>\n",
       "      <td>()</td>\n",
       "      <td>Unknown</td>\n",
       "      <td>1</td>\n",
       "      <td>25.000000</td>\n",
       "      <td>1.0</td>\n",
       "    </tr>\n",
       "    <tr>\n",
       "      <th>281897</th>\n",
       "      <td>281897</td>\n",
       "      <td>1335606</td>\n",
       "      <td>('C01BA03',)</td>\n",
       "      <td>disopyramide</td>\n",
       "      <td>1545958</td>\n",
       "      <td>('C10AA05',)</td>\n",
       "      <td>atorvastatin</td>\n",
       "      <td>2</td>\n",
       "      <td>46.000000</td>\n",
       "      <td>1.0</td>\n",
       "    </tr>\n",
       "    <tr>\n",
       "      <th>408405</th>\n",
       "      <td>408405</td>\n",
       "      <td>19018544</td>\n",
       "      <td>()</td>\n",
       "      <td>Unknown</td>\n",
       "      <td>1111706</td>\n",
       "      <td>('R03DC01',)</td>\n",
       "      <td>zafirlukast</td>\n",
       "      <td>1</td>\n",
       "      <td>33.333333</td>\n",
       "      <td>1.0</td>\n",
       "    </tr>\n",
       "    <tr>\n",
       "      <th>372921</th>\n",
       "      <td>372921</td>\n",
       "      <td>757688</td>\n",
       "      <td>('N05AX12',)</td>\n",
       "      <td>aripiprazole</td>\n",
       "      <td>1383815</td>\n",
       "      <td>()</td>\n",
       "      <td>Unknown</td>\n",
       "      <td>1</td>\n",
       "      <td>40.000000</td>\n",
       "      <td>1.0</td>\n",
       "    </tr>\n",
       "    <tr>\n",
       "      <th>282074</th>\n",
       "      <td>282074</td>\n",
       "      <td>19029398</td>\n",
       "      <td>('M01AB11',)</td>\n",
       "      <td>acemetacin</td>\n",
       "      <td>1754994</td>\n",
       "      <td>('D01AC15', 'J02AC01')</td>\n",
       "      <td>fluconazole</td>\n",
       "      <td>2</td>\n",
       "      <td>18.000000</td>\n",
       "      <td>1.0</td>\n",
       "    </tr>\n",
       "  </tbody>\n",
       "</table>\n",
       "</div>"
      ],
      "text/plain": [
       "        Unnamed: 0  A_drug_concept_id  \\\n",
       "220783      220783             514015   \n",
       "169946      169946            1140123   \n",
       "122985      122985             907879   \n",
       "169945      169945             938061   \n",
       "281907      281907             986790   \n",
       "408407      408407           19018544   \n",
       "281897      281897            1335606   \n",
       "408405      408405           19018544   \n",
       "372921      372921             757688   \n",
       "282074      282074           19029398   \n",
       "\n",
       "                                              A_atc_codes A_drug_concept_name  \\\n",
       "220783                                                 ()             Unknown   \n",
       "169946                                       ('R06AX18',)         acrivastine   \n",
       "122985  ('A01AB09', 'A07AC01', 'D01AC02', 'G01AF04', '...          miconazole   \n",
       "169945                                       ('D01AE13',)    selenium sulfide   \n",
       "281907                                                 ()             Unknown   \n",
       "408407                                                 ()             Unknown   \n",
       "281897                                       ('C01BA03',)        disopyramide   \n",
       "408405                                                 ()             Unknown   \n",
       "372921                                       ('N05AX12',)        aripiprazole   \n",
       "282074                                       ('M01AB11',)          acemetacin   \n",
       "\n",
       "        B_drug_concept_id             B_atc_codes B_drug_concept_name  \\\n",
       "220783            1363053            ('C02CA04',)           doxazosin   \n",
       "169946           19049038  ('G03CA04', 'G03CC06')             estriol   \n",
       "122985             738156  ('D04AX01', 'N06AA12')             doxepin   \n",
       "169945           19010696                      ()             Unknown   \n",
       "281907           19030751            ('A03AX08',)            alverine   \n",
       "408407            1152134                      ()             Unknown   \n",
       "281897            1545958            ('C10AA05',)        atorvastatin   \n",
       "408405            1111706            ('R03DC01',)         zafirlukast   \n",
       "372921            1383815                      ()             Unknown   \n",
       "282074            1754994  ('D01AC15', 'J02AC01')         fluconazole   \n",
       "\n",
       "        people_count  avg_switch_interval  p_value  \n",
       "220783             4           151.750000      1.0  \n",
       "169946             6            40.285714      1.0  \n",
       "122985            12            69.333333      1.0  \n",
       "169945             6            66.571429      1.0  \n",
       "281907             2            40.333333      1.0  \n",
       "408407             1            25.000000      1.0  \n",
       "281897             2            46.000000      1.0  \n",
       "408405             1            33.333333      1.0  \n",
       "372921             1            40.000000      1.0  \n",
       "282074             2            18.000000      1.0  "
      ]
     },
     "execution_count": 65,
     "metadata": {},
     "output_type": "execute_result"
    }
   ],
   "source": [
    "# sort by p-value\n",
    "switch_people_diff_drug = switch_people_diff_drug.sort_values(\n",
    "    by=\"p_value\", ascending=False\n",
    ")\n",
    "switch_people_diff_drug.head(10)\n"
   ]
  },
  {
   "cell_type": "code",
   "execution_count": 20,
   "metadata": {},
   "outputs": [
    {
     "data": {
      "image/png": "[encoded data removed]",
      "text/plain": [
       "<Figure size 640x480 with 1 Axes>"
      ]
     },
     "metadata": {},
     "output_type": "display_data"
    }
   ],
   "source": [
    "# see the distribution of p-values\n",
    "plt.hist(switch_people_diff_drug[\"p_value\"], color=\"#778da9\", bins=10000)\n",
    "plt.hist(switch_people_atc1st_diff_drug[\"p_value\"], color=\"#d8e2dc\", bins=10000)\n",
    "plt.hist(switch_people_atc2nd_diff_drug[\"p_value\"], color=\"black\", bins=10000)\n",
    "plt.yscale(\"log\")\n",
    "plt.legend([\"diff_drug\", \"diff_drug_atc_1st_level\", \"diff_drug_atc_2nd_level\"])\n",
    "plt.xlabel(\"p-value\")\n",
    "plt.ylabel(\"count\")\n",
    "plt.show()\n"
   ]
  },
  {
   "cell_type": "code",
   "execution_count": 21,
   "metadata": {},
   "outputs": [
    {
     "data": {
      "image/png": "[encoded data removed]",
      "text/plain": [
       "<Figure size 640x480 with 1 Axes>"
      ]
     },
     "metadata": {},
     "output_type": "display_data"
    }
   ],
   "source": [
    "# only p-value bwtween 0 and 0.1\n",
    "plt.hist(switch_people_diff_drug[\"p_value\"], color=\"#778da9\", bins=10000)\n",
    "plt.hist(switch_people_atc1st_diff_drug[\"p_value\"], color=\"#d8e2dc\", bins=10000)\n",
    "plt.hist(switch_people_atc2nd_diff_drug[\"p_value\"], color=\"black\", bins=10000)\n",
    "plt.yscale(\"log\")\n",
    "plt.legend([\"diff_drug\", \"diff_drug_atc_1st_level\", \"diff_drug_atc_2nd_level\"])\n",
    "plt.xlim(0, 0.1)\n",
    "plt.xlabel(\"p-value\")\n",
    "plt.ylabel(\"count\")\n",
    "plt.show()"
   ]
  },
  {
   "cell_type": "code",
   "execution_count": 22,
   "metadata": {},
   "outputs": [
    {
     "data": {
      "image/png": "[encoded data removed]",
      "text/plain": [
       "<Figure size 640x480 with 1 Axes>"
      ]
     },
     "metadata": {},
     "output_type": "display_data"
    }
   ],
   "source": [
    "plt.hist(switch_people_diff_drug[\"p_value\"], color=\"#778da9\", bins=10000)\n",
    "plt.hist(switch_people_atc1st_diff_drug[\"p_value\"], color=\"#d8e2dc\", bins=10000)\n",
    "plt.hist(switch_people_atc2nd_diff_drug[\"p_value\"], color=\"black\", bins=10000)\n",
    "plt.yscale(\"log\")\n",
    "plt.xlim(0, 0.05)\n",
    "plt.xlabel(\"p-value\")\n",
    "plt.ylabel(\"count\")\n",
    "plt.legend([\"diff_drug\", \"diff_drug_atc_1st_level\", \"diff_drug_atc_2nd_level\"])\n",
    "plt.show()"
   ]
  },
  {
   "cell_type": "code",
   "execution_count": 23,
   "metadata": {},
   "outputs": [
    {
     "data": {
      "image/png": "[encoded data removed]",
      "text/plain": [
       "<Figure size 640x480 with 1 Axes>"
      ]
     },
     "metadata": {},
     "output_type": "display_data"
    }
   ],
   "source": [
    "plt.hist(switch_people_atc1st_diff_drug[\"p_value\"], color=\"green\", bins=10000)\n",
    "plt.yscale(\"log\")\n",
    "plt.show()\n"
   ]
  },
  {
   "cell_type": "code",
   "execution_count": 112,
   "metadata": {},
   "outputs": [
    {
     "data": {
      "text/plain": [
       "count    441566.000000\n",
       "mean          0.447351\n",
       "std           0.383915\n",
       "min           0.000000\n",
       "25%           0.041969\n",
       "50%           0.391576\n",
       "75%           0.840579\n",
       "max           1.000000\n",
       "Name: p_value, dtype: float64"
      ]
     },
     "execution_count": 112,
     "metadata": {},
     "output_type": "execute_result"
    }
   ],
   "source": [
    "switch_people_diff_drug[\"p_value\"].describe()"
   ]
  },
  {
   "cell_type": "code",
   "execution_count": 113,
   "metadata": {},
   "outputs": [
    {
     "data": {
      "text/plain": [
       "count    5.523800e+04\n",
       "mean     2.128868e-01\n",
       "std      3.330476e-01\n",
       "min      0.000000e+00\n",
       "25%      5.340948e-17\n",
       "50%      3.194283e-03\n",
       "75%      3.375118e-01\n",
       "max      1.000000e+00\n",
       "Name: p_value, dtype: float64"
      ]
     },
     "execution_count": 113,
     "metadata": {},
     "output_type": "execute_result"
    }
   ],
   "source": [
    "switch_people_atc1st_diff_drug[\"p_value\"].describe()"
   ]
  },
  {
   "cell_type": "code",
   "execution_count": 120,
   "metadata": {},
   "outputs": [
    {
     "data": {
      "text/plain": [
       "count     1.620600e+04\n",
       "mean      1.371977e-01\n",
       "std       2.868999e-01\n",
       "min       0.000000e+00\n",
       "25%      1.960996e-153\n",
       "50%       1.100830e-13\n",
       "75%       5.688150e-02\n",
       "max       1.000000e+00\n",
       "Name: p_value, dtype: float64"
      ]
     },
     "execution_count": 120,
     "metadata": {},
     "output_type": "execute_result"
    }
   ],
   "source": [
    "switch_people_atc2nd_diff_drug[\"p_value\"].describe()"
   ]
  },
  {
   "cell_type": "code",
   "execution_count": 48,
   "metadata": {},
   "outputs": [
    {
     "name": "stdout",
     "output_type": "stream",
     "text": [
      "Proportion of p-values <= 0.05:\n",
      "All Different Drugs:    25.98%\n",
      "ATC code 1st Level:      60.23%\n",
      "ATC code 2nd Level:      74.60%\n"
     ]
    },
    {
     "data": {
      "image/png": "[encoded data removed]",
      "text/plain": [
       "<Figure size 640x480 with 1 Axes>"
      ]
     },
     "metadata": {},
     "output_type": "display_data"
    }
   ],
   "source": [
    "# Calculate the quantile for p-value = 0.05 in each distribution\n",
    "quantile_diff_drug = (switch_people_diff_drug[\"p_value\"] <= 0.05).mean()\n",
    "quantile_atc1st = (switch_people_atc1st_diff_drug[\"p_value\"] <= 0.05).mean()\n",
    "quantile_atc2nd = (switch_people_atc2nd_diff_drug[\"p_value\"] <= 0.05).mean()\n",
    "\n",
    "# Print results in a formatted way\n",
    "print(\"Proportion of p-values <= 0.05:\")\n",
    "print(f\"All Different Drugs:    {quantile_diff_drug:.2%}\")\n",
    "print(f\"ATC code 1st Level:      {quantile_atc1st:.2%}\")\n",
    "print(f\"ATC code 2nd Level:      {quantile_atc2nd:.2%}\")\n",
    "\n",
    "# Create bar plot\n",
    "bars = plt.bar(\n",
    "    [\"All Different Drugs\", \"ATC code 1st Level\", \"ATC code 2nd Level\"],\n",
    "    [quantile_diff_drug, quantile_atc1st, quantile_atc2nd],\n",
    "    color=[\"#2b2d42\", \"#8d99ae\", \"#edf2f4\"],\n",
    ")\n",
    "\n",
    "# Add value labels on top of each bar\n",
    "for bar in bars:\n",
    "    height = bar.get_height()\n",
    "    plt.text(\n",
    "        bar.get_x() + bar.get_width() / 2.0,\n",
    "        height,\n",
    "        f\"{height:.2%}\",\n",
    "        ha=\"center\",\n",
    "        va=\"bottom\",\n",
    "        fontsize=11,\n",
    "    )\n",
    "\n",
    "plt.ylabel(\"Proportion of p-values ≤ 0.05\")\n",
    "plt.title(\"Proportion of Significant Results (p ≤ 0.05)\")\n",
    "# plt.grid(True, alpha=0.2)\n",
    "plt.tight_layout()\n",
    "plt.show()"
   ]
  },
  {
   "cell_type": "code",
   "execution_count": 123,
   "metadata": {},
   "outputs": [
    {
     "data": {
      "text/html": [
       "<div>\n",
       "<style scoped>\n",
       "    .dataframe tbody tr th:only-of-type {\n",
       "        vertical-align: middle;\n",
       "    }\n",
       "\n",
       "    .dataframe tbody tr th {\n",
       "        vertical-align: top;\n",
       "    }\n",
       "\n",
       "    .dataframe thead th {\n",
       "        text-align: right;\n",
       "    }\n",
       "</style>\n",
       "<table border=\"1\" class=\"dataframe\">\n",
       "  <thead>\n",
       "    <tr style=\"text-align: right;\">\n",
       "      <th></th>\n",
       "      <th>A_drug_concept_id</th>\n",
       "      <th>A_atc_codes</th>\n",
       "      <th>A_drug_concept_name</th>\n",
       "      <th>B_drug_concept_id</th>\n",
       "      <th>B_atc_codes</th>\n",
       "      <th>B_drug_concept_name</th>\n",
       "      <th>people_count</th>\n",
       "      <th>avg_switch_interval</th>\n",
       "      <th>p_value</th>\n",
       "    </tr>\n",
       "  </thead>\n",
       "  <tbody>\n",
       "    <tr>\n",
       "      <th>2501</th>\n",
       "      <td>1797513</td>\n",
       "      <td>('J01MA02', 'S01AE03', 'S02AA15', 'S03AA07')</td>\n",
       "      <td>ciprofloxacin</td>\n",
       "      <td>903963</td>\n",
       "      <td>('A01AC01', 'C05AA12', 'D07AB09', 'D07XB02', '...</td>\n",
       "      <td>triamcinolone</td>\n",
       "      <td>102</td>\n",
       "      <td>108.392523</td>\n",
       "      <td>1.0</td>\n",
       "    </tr>\n",
       "    <tr>\n",
       "      <th>2729</th>\n",
       "      <td>948582</td>\n",
       "      <td>('A07AA05', 'J01XB02', 'S01AA18', 'S02AA11', '...</td>\n",
       "      <td>polymyxin B</td>\n",
       "      <td>907879</td>\n",
       "      <td>('A01AB09', 'A07AC01', 'D01AC02', 'G01AF04', '...</td>\n",
       "      <td>miconazole</td>\n",
       "      <td>84</td>\n",
       "      <td>193.000000</td>\n",
       "      <td>1.0</td>\n",
       "    </tr>\n",
       "    <tr>\n",
       "      <th>2860</th>\n",
       "      <td>907879</td>\n",
       "      <td>('A01AB09', 'A07AC01', 'D01AC02', 'G01AF04', '...</td>\n",
       "      <td>miconazole</td>\n",
       "      <td>948582</td>\n",
       "      <td>('A07AA05', 'J01XB02', 'S01AA18', 'S02AA11', '...</td>\n",
       "      <td>polymyxin B</td>\n",
       "      <td>78</td>\n",
       "      <td>198.556962</td>\n",
       "      <td>1.0</td>\n",
       "    </tr>\n",
       "    <tr>\n",
       "      <th>3370</th>\n",
       "      <td>902427</td>\n",
       "      <td>('C07AA06', 'S01ED01')</td>\n",
       "      <td>timolol</td>\n",
       "      <td>989878</td>\n",
       "      <td>('C01BB01', 'C05AD01', 'D04AB01', 'N01BB02', '...</td>\n",
       "      <td>lidocaine</td>\n",
       "      <td>56</td>\n",
       "      <td>44.689189</td>\n",
       "      <td>1.0</td>\n",
       "    </tr>\n",
       "    <tr>\n",
       "      <th>3463</th>\n",
       "      <td>45892419</td>\n",
       "      <td>('D06AX07', 'J01GB03', 'S01AA11', 'S02AA14', '...</td>\n",
       "      <td>gentamicin</td>\n",
       "      <td>1343916</td>\n",
       "      <td>('A01AD01', 'B02BC09', 'C01CA24', 'R01AA14', '...</td>\n",
       "      <td>epinephrine</td>\n",
       "      <td>54</td>\n",
       "      <td>243.864407</td>\n",
       "      <td>1.0</td>\n",
       "    </tr>\n",
       "    <tr>\n",
       "      <th>...</th>\n",
       "      <td>...</td>\n",
       "      <td>...</td>\n",
       "      <td>...</td>\n",
       "      <td>...</td>\n",
       "      <td>...</td>\n",
       "      <td>...</td>\n",
       "      <td>...</td>\n",
       "      <td>...</td>\n",
       "      <td>...</td>\n",
       "    </tr>\n",
       "    <tr>\n",
       "      <th>16086</th>\n",
       "      <td>1343916</td>\n",
       "      <td>('A01AD01', 'B02BC09', 'C01CA24', 'R01AA14', '...</td>\n",
       "      <td>epinephrine</td>\n",
       "      <td>19042445</td>\n",
       "      <td>('R01AA09',)</td>\n",
       "      <td>tramazoline</td>\n",
       "      <td>1</td>\n",
       "      <td>41.000000</td>\n",
       "      <td>1.0</td>\n",
       "    </tr>\n",
       "    <tr>\n",
       "      <th>16100</th>\n",
       "      <td>1343916</td>\n",
       "      <td>('A01AD01', 'B02BC09', 'C01CA24', 'R01AA14', '...</td>\n",
       "      <td>epinephrine</td>\n",
       "      <td>902722</td>\n",
       "      <td>('J01GB01', 'S01AA12')</td>\n",
       "      <td>tobramycin</td>\n",
       "      <td>1</td>\n",
       "      <td>9.000000</td>\n",
       "      <td>1.0</td>\n",
       "    </tr>\n",
       "    <tr>\n",
       "      <th>16142</th>\n",
       "      <td>1367571</td>\n",
       "      <td>('B01AB01', 'C05BA03', 'S01XA14')</td>\n",
       "      <td>heparin</td>\n",
       "      <td>920458</td>\n",
       "      <td>('A07EA04', 'C05AA05', 'D07AC01', 'D07XC01', '...</td>\n",
       "      <td>betamethasone</td>\n",
       "      <td>1</td>\n",
       "      <td>14.000000</td>\n",
       "      <td>1.0</td>\n",
       "    </tr>\n",
       "    <tr>\n",
       "      <th>16157</th>\n",
       "      <td>1367571</td>\n",
       "      <td>('B01AB01', 'C05BA03', 'S01XA14')</td>\n",
       "      <td>heparin</td>\n",
       "      <td>1124300</td>\n",
       "      <td>('D11AX18', 'M01AB05', 'M02AA15', 'S01BC03')</td>\n",
       "      <td>diclofenac</td>\n",
       "      <td>1</td>\n",
       "      <td>12.000000</td>\n",
       "      <td>1.0</td>\n",
       "    </tr>\n",
       "    <tr>\n",
       "      <th>16177</th>\n",
       "      <td>1367571</td>\n",
       "      <td>('B01AB01', 'C05BA03', 'S01XA14')</td>\n",
       "      <td>heparin</td>\n",
       "      <td>1518254</td>\n",
       "      <td>('A01AC02', 'C05AA09', 'D07AB19', 'D07XB05', '...</td>\n",
       "      <td>dexamethasone</td>\n",
       "      <td>1</td>\n",
       "      <td>14.000000</td>\n",
       "      <td>1.0</td>\n",
       "    </tr>\n",
       "  </tbody>\n",
       "</table>\n",
       "<p>697 rows × 9 columns</p>\n",
       "</div>"
      ],
      "text/plain": [
       "       A_drug_concept_id                                        A_atc_codes  \\\n",
       "2501             1797513       ('J01MA02', 'S01AE03', 'S02AA15', 'S03AA07')   \n",
       "2729              948582  ('A07AA05', 'J01XB02', 'S01AA18', 'S02AA11', '...   \n",
       "2860              907879  ('A01AB09', 'A07AC01', 'D01AC02', 'G01AF04', '...   \n",
       "3370              902427                             ('C07AA06', 'S01ED01')   \n",
       "3463            45892419  ('D06AX07', 'J01GB03', 'S01AA11', 'S02AA14', '...   \n",
       "...                  ...                                                ...   \n",
       "16086            1343916  ('A01AD01', 'B02BC09', 'C01CA24', 'R01AA14', '...   \n",
       "16100            1343916  ('A01AD01', 'B02BC09', 'C01CA24', 'R01AA14', '...   \n",
       "16142            1367571                  ('B01AB01', 'C05BA03', 'S01XA14')   \n",
       "16157            1367571                  ('B01AB01', 'C05BA03', 'S01XA14')   \n",
       "16177            1367571                  ('B01AB01', 'C05BA03', 'S01XA14')   \n",
       "\n",
       "      A_drug_concept_name  B_drug_concept_id  \\\n",
       "2501        ciprofloxacin             903963   \n",
       "2729          polymyxin B             907879   \n",
       "2860           miconazole             948582   \n",
       "3370              timolol             989878   \n",
       "3463           gentamicin            1343916   \n",
       "...                   ...                ...   \n",
       "16086         epinephrine           19042445   \n",
       "16100         epinephrine             902722   \n",
       "16142             heparin             920458   \n",
       "16157             heparin            1124300   \n",
       "16177             heparin            1518254   \n",
       "\n",
       "                                             B_atc_codes B_drug_concept_name  \\\n",
       "2501   ('A01AC01', 'C05AA12', 'D07AB09', 'D07XB02', '...       triamcinolone   \n",
       "2729   ('A01AB09', 'A07AC01', 'D01AC02', 'G01AF04', '...          miconazole   \n",
       "2860   ('A07AA05', 'J01XB02', 'S01AA18', 'S02AA11', '...         polymyxin B   \n",
       "3370   ('C01BB01', 'C05AD01', 'D04AB01', 'N01BB02', '...           lidocaine   \n",
       "3463   ('A01AD01', 'B02BC09', 'C01CA24', 'R01AA14', '...         epinephrine   \n",
       "...                                                  ...                 ...   \n",
       "16086                                       ('R01AA09',)         tramazoline   \n",
       "16100                             ('J01GB01', 'S01AA12')          tobramycin   \n",
       "16142  ('A07EA04', 'C05AA05', 'D07AC01', 'D07XC01', '...       betamethasone   \n",
       "16157       ('D11AX18', 'M01AB05', 'M02AA15', 'S01BC03')          diclofenac   \n",
       "16177  ('A01AC02', 'C05AA09', 'D07AB19', 'D07XB05', '...       dexamethasone   \n",
       "\n",
       "       people_count  avg_switch_interval  p_value  \n",
       "2501            102           108.392523      1.0  \n",
       "2729             84           193.000000      1.0  \n",
       "2860             78           198.556962      1.0  \n",
       "3370             56            44.689189      1.0  \n",
       "3463             54           243.864407      1.0  \n",
       "...             ...                  ...      ...  \n",
       "16086             1            41.000000      1.0  \n",
       "16100             1             9.000000      1.0  \n",
       "16142             1            14.000000      1.0  \n",
       "16157             1            12.000000      1.0  \n",
       "16177             1            14.000000      1.0  \n",
       "\n",
       "[697 rows x 9 columns]"
      ]
     },
     "execution_count": 123,
     "metadata": {},
     "output_type": "execute_result"
    }
   ],
   "source": [
    "switch_people_atc2nd_diff_drug[switch_people_atc2nd_diff_drug[\"p_value\"] == 1]\n"
   ]
  }
 ],
 "metadata": {
  "kernelspec": {
   "display_name": ".venv",
   "language": "python",
   "name": "python3"
  },
  "language_info": {
   "codemirror_mode": {
    "name": "ipython",
    "version": 3
   },
   "file_extension": ".py",
   "mimetype": "text/x-python",
   "name": "python",
   "nbconvert_exporter": "python",
   "pygments_lexer": "ipython3",
   "version": "3.12.5"
  }
 },
 "nbformat": 4,
 "nbformat_minor": 2
}
