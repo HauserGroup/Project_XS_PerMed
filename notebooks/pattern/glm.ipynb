{
 "cells": [
  {
   "cell_type": "markdown",
   "metadata": {},
   "source": [
    "idea:\n",
    "\n",
    "use generalized linear model to predict gap days as a function of drug, using total drug duration as an offset \\\n",
    "drug: factor with 16 levels"
   ]
  },
  {
   "cell_type": "code",
   "execution_count": 8,
   "metadata": {},
   "outputs": [],
   "source": [
    "import pandas as pd\n",
    "import numpy as np\n",
    "from statsmodels.formula.api import glm\n",
    "import statsmodels.api as sm"
   ]
  },
  {
   "cell_type": "code",
   "execution_count": 44,
   "metadata": {},
   "outputs": [
    {
     "data": {
      "text/html": [
       "<div>\n",
       "<style scoped>\n",
       "    .dataframe tbody tr th:only-of-type {\n",
       "        vertical-align: middle;\n",
       "    }\n",
       "\n",
       "    .dataframe tbody tr th {\n",
       "        vertical-align: top;\n",
       "    }\n",
       "\n",
       "    .dataframe thead th {\n",
       "        text-align: right;\n",
       "    }\n",
       "</style>\n",
       "<table border=\"1\" class=\"dataframe\">\n",
       "  <thead>\n",
       "    <tr style=\"text-align: right;\">\n",
       "      <th></th>\n",
       "      <th>drug_concept_id</th>\n",
       "      <th>drug_era_id</th>\n",
       "      <th>drug_era_start_date</th>\n",
       "      <th>drug_era_end_date</th>\n",
       "      <th>drug_exposure_count</th>\n",
       "      <th>gap_days</th>\n",
       "      <th>concept_name</th>\n",
       "      <th>atc_code</th>\n",
       "    </tr>\n",
       "  </thead>\n",
       "  <tbody>\n",
       "    <tr>\n",
       "      <th>0</th>\n",
       "      <td>708298</td>\n",
       "      <td>1700807090784</td>\n",
       "      <td>12/12/2013</td>\n",
       "      <td>10/01/2014</td>\n",
       "      <td>1</td>\n",
       "      <td>0</td>\n",
       "      <td>midazolam</td>\n",
       "      <td>N05CD08</td>\n",
       "    </tr>\n",
       "    <tr>\n",
       "      <th>1</th>\n",
       "      <td>708298</td>\n",
       "      <td>1666447356341</td>\n",
       "      <td>29/04/2013</td>\n",
       "      <td>28/05/2013</td>\n",
       "      <td>1</td>\n",
       "      <td>0</td>\n",
       "      <td>midazolam</td>\n",
       "      <td>N05CD08</td>\n",
       "    </tr>\n",
       "    <tr>\n",
       "      <th>2</th>\n",
       "      <td>708298</td>\n",
       "      <td>1194000953715</td>\n",
       "      <td>05/09/2013</td>\n",
       "      <td>26/10/2013</td>\n",
       "      <td>4</td>\n",
       "      <td>0</td>\n",
       "      <td>midazolam</td>\n",
       "      <td>N05CD08</td>\n",
       "    </tr>\n",
       "    <tr>\n",
       "      <th>3</th>\n",
       "      <td>708298</td>\n",
       "      <td>1065151983292</td>\n",
       "      <td>16/02/2011</td>\n",
       "      <td>17/03/2011</td>\n",
       "      <td>1</td>\n",
       "      <td>0</td>\n",
       "      <td>midazolam</td>\n",
       "      <td>N05CD08</td>\n",
       "    </tr>\n",
       "    <tr>\n",
       "      <th>4</th>\n",
       "      <td>708298</td>\n",
       "      <td>996432425515</td>\n",
       "      <td>14/03/2016</td>\n",
       "      <td>12/04/2016</td>\n",
       "      <td>1</td>\n",
       "      <td>0</td>\n",
       "      <td>midazolam</td>\n",
       "      <td>N05CD08</td>\n",
       "    </tr>\n",
       "  </tbody>\n",
       "</table>\n",
       "</div>"
      ],
      "text/plain": [
       "   drug_concept_id    drug_era_id drug_era_start_date drug_era_end_date  \\\n",
       "0           708298  1700807090784          12/12/2013        10/01/2014   \n",
       "1           708298  1666447356341          29/04/2013        28/05/2013   \n",
       "2           708298  1194000953715          05/09/2013        26/10/2013   \n",
       "3           708298  1065151983292          16/02/2011        17/03/2011   \n",
       "4           708298   996432425515          14/03/2016        12/04/2016   \n",
       "\n",
       "   drug_exposure_count  gap_days concept_name atc_code  \n",
       "0                    1         0    midazolam  N05CD08  \n",
       "1                    1         0    midazolam  N05CD08  \n",
       "2                    4         0    midazolam  N05CD08  \n",
       "3                    1         0    midazolam  N05CD08  \n",
       "4                    1         0    midazolam  N05CD08  "
      ]
     },
     "execution_count": 44,
     "metadata": {},
     "output_type": "execute_result"
    }
   ],
   "source": [
    "df = pd.read_csv(\"../../dataset/small_focused_df.csv\")\n",
    "df = df.drop(columns=[\"eid\"])\n",
    "df.head()"
   ]
  },
  {
   "cell_type": "code",
   "execution_count": 36,
   "metadata": {},
   "outputs": [
    {
     "data": {
      "text/plain": [
       "16"
      ]
     },
     "execution_count": 36,
     "metadata": {},
     "output_type": "execute_result"
    }
   ],
   "source": [
    "# number of unique drugs\n",
    "len(df[\"atc_code\"].unique())"
   ]
  },
  {
   "cell_type": "code",
   "execution_count": 40,
   "metadata": {},
   "outputs": [
    {
     "data": {
      "text/plain": [
       "17668"
      ]
     },
     "execution_count": 40,
     "metadata": {},
     "output_type": "execute_result"
    }
   ],
   "source": [
    "len(df)"
   ]
  },
  {
   "cell_type": "code",
   "execution_count": 37,
   "metadata": {},
   "outputs": [],
   "source": [
    "df[\"drug_era_start_date\"] = pd.to_datetime(df[\"drug_era_start_date\"], format=\"%d/%m/%Y\")\n",
    "df[\"drug_era_end_date\"] = pd.to_datetime(df[\"drug_era_end_date\"], format=\"%d/%m/%Y\")\n",
    "# duration = drug_era_end_date - drug_era_start_date + 1\n",
    "df[\"duration\"] = (df[\"drug_era_end_date\"] - df[\"drug_era_start_date\"]).dt.days + 1"
   ]
  },
  {
   "cell_type": "code",
   "execution_count": 45,
   "metadata": {},
   "outputs": [
    {
     "data": {
      "text/html": [
       "<div>\n",
       "<style scoped>\n",
       "    .dataframe tbody tr th:only-of-type {\n",
       "        vertical-align: middle;\n",
       "    }\n",
       "\n",
       "    .dataframe tbody tr th {\n",
       "        vertical-align: top;\n",
       "    }\n",
       "\n",
       "    .dataframe thead th {\n",
       "        text-align: right;\n",
       "    }\n",
       "</style>\n",
       "<table border=\"1\" class=\"dataframe\">\n",
       "  <thead>\n",
       "    <tr style=\"text-align: right;\">\n",
       "      <th></th>\n",
       "      <th>drug_concept_id</th>\n",
       "      <th>drug_era_id</th>\n",
       "      <th>drug_era_start_date</th>\n",
       "      <th>drug_era_end_date</th>\n",
       "      <th>drug_exposure_count</th>\n",
       "      <th>gap_days</th>\n",
       "      <th>concept_name</th>\n",
       "      <th>atc_code</th>\n",
       "    </tr>\n",
       "  </thead>\n",
       "  <tbody>\n",
       "    <tr>\n",
       "      <th>0</th>\n",
       "      <td>708298</td>\n",
       "      <td>1700807090784</td>\n",
       "      <td>12/12/2013</td>\n",
       "      <td>10/01/2014</td>\n",
       "      <td>1</td>\n",
       "      <td>0</td>\n",
       "      <td>midazolam</td>\n",
       "      <td>N05CD08</td>\n",
       "    </tr>\n",
       "    <tr>\n",
       "      <th>1</th>\n",
       "      <td>708298</td>\n",
       "      <td>1666447356341</td>\n",
       "      <td>29/04/2013</td>\n",
       "      <td>28/05/2013</td>\n",
       "      <td>1</td>\n",
       "      <td>0</td>\n",
       "      <td>midazolam</td>\n",
       "      <td>N05CD08</td>\n",
       "    </tr>\n",
       "    <tr>\n",
       "      <th>2</th>\n",
       "      <td>708298</td>\n",
       "      <td>1194000953715</td>\n",
       "      <td>05/09/2013</td>\n",
       "      <td>26/10/2013</td>\n",
       "      <td>4</td>\n",
       "      <td>0</td>\n",
       "      <td>midazolam</td>\n",
       "      <td>N05CD08</td>\n",
       "    </tr>\n",
       "    <tr>\n",
       "      <th>3</th>\n",
       "      <td>708298</td>\n",
       "      <td>1065151983292</td>\n",
       "      <td>16/02/2011</td>\n",
       "      <td>17/03/2011</td>\n",
       "      <td>1</td>\n",
       "      <td>0</td>\n",
       "      <td>midazolam</td>\n",
       "      <td>N05CD08</td>\n",
       "    </tr>\n",
       "    <tr>\n",
       "      <th>4</th>\n",
       "      <td>708298</td>\n",
       "      <td>996432425515</td>\n",
       "      <td>14/03/2016</td>\n",
       "      <td>12/04/2016</td>\n",
       "      <td>1</td>\n",
       "      <td>0</td>\n",
       "      <td>midazolam</td>\n",
       "      <td>N05CD08</td>\n",
       "    </tr>\n",
       "  </tbody>\n",
       "</table>\n",
       "</div>"
      ],
      "text/plain": [
       "   drug_concept_id    drug_era_id drug_era_start_date drug_era_end_date  \\\n",
       "0           708298  1700807090784          12/12/2013        10/01/2014   \n",
       "1           708298  1666447356341          29/04/2013        28/05/2013   \n",
       "2           708298  1194000953715          05/09/2013        26/10/2013   \n",
       "3           708298  1065151983292          16/02/2011        17/03/2011   \n",
       "4           708298   996432425515          14/03/2016        12/04/2016   \n",
       "\n",
       "   drug_exposure_count  gap_days concept_name atc_code  \n",
       "0                    1         0    midazolam  N05CD08  \n",
       "1                    1         0    midazolam  N05CD08  \n",
       "2                    4         0    midazolam  N05CD08  \n",
       "3                    1         0    midazolam  N05CD08  \n",
       "4                    1         0    midazolam  N05CD08  "
      ]
     },
     "execution_count": 45,
     "metadata": {},
     "output_type": "execute_result"
    }
   ],
   "source": [
    "df.head()"
   ]
  },
  {
   "cell_type": "code",
   "execution_count": 39,
   "metadata": {},
   "outputs": [
    {
     "name": "stdout",
     "output_type": "stream",
     "text": [
      "                 Generalized Linear Model Regression Results                  \n",
      "==============================================================================\n",
      "Dep. Variable:               gap_days   No. Observations:                17668\n",
      "Model:                            GLM   Df Residuals:                    17652\n",
      "Model Family:                 Poisson   Df Model:                           15\n",
      "Link Function:                    Log   Scale:                          1.0000\n",
      "Method:                          IRLS   Log-Likelihood:            -1.2294e+05\n",
      "Date:                Thu, 21 Nov 2024   Deviance:                   2.2328e+05\n",
      "Time:                        16:59:19   Pearson chi2:                 2.39e+05\n",
      "No. Iterations:                     7   Pseudo R-squ. (CS):             0.8248\n",
      "Covariance Type:            nonrobust                                         \n",
      "===================================================================================================\n",
      "                                      coef    std err          z      P>|z|      [0.025      0.975]\n",
      "---------------------------------------------------------------------------------------------------\n",
      "Intercept                          -1.8545      0.007   -275.717      0.000      -1.868      -1.841\n",
      "C(atc_code)[T.A10BH05]             -0.6135      0.009    -66.354      0.000      -0.632      -0.595\n",
      "C(atc_code)[T.A10BJ01]             -0.1980      0.009    -22.903      0.000      -0.215      -0.181\n",
      "C(atc_code)[T.J01AA03, S01AA02]    -2.2594      0.059    -38.096      0.000      -2.376      -2.143\n",
      "C(atc_code)[T.J01DC02, S01AA27]    -0.5929      0.025    -24.070      0.000      -0.641      -0.545\n",
      "C(atc_code)[T.J01GB01, S01AA12]    -1.9515      0.046    -42.254      0.000      -2.042      -1.861\n",
      "C(atc_code)[T.J01MA12, S01AE05]    -0.8160      0.026    -30.998      0.000      -0.868      -0.764\n",
      "C(atc_code)[T.L01BB02]             -0.0366      0.011     -3.405      0.001      -0.058      -0.016\n",
      "C(atc_code)[T.L01XX05]             -0.0530      0.010     -5.411      0.000      -0.072      -0.034\n",
      "C(atc_code)[T.L01XX79]             -0.3022      0.012    -25.361      0.000      -0.326      -0.279\n",
      "C(atc_code)[T.N05AA02]              0.3410      0.012     27.298      0.000       0.317       0.365\n",
      "C(atc_code)[T.N05CD08]             -1.9331      0.031    -62.549      0.000      -1.994      -1.873\n",
      "C(atc_code)[T.N06BA07]              0.2383      0.009     26.404      0.000       0.221       0.256\n",
      "C(atc_code)[T.N06DA03]              0.1709      0.010     17.705      0.000       0.152       0.190\n",
      "C(atc_code)[T.S01EC01]              0.1003      0.011      8.982      0.000       0.078       0.122\n",
      "C(atc_code)[T.S01GX05]             -0.4480      0.012    -38.110      0.000      -0.471      -0.425\n",
      "===================================================================================================\n"
     ]
    }
   ],
   "source": [
    "# Fit GLM with Poisson distribution\n",
    "model = glm(\n",
    "    formula=\"gap_days ~ C(atc_code)\",\n",
    "    data=df,\n",
    "    family=sm.families.Poisson(link=sm.families.links.Log()),\n",
    "    offset=np.log(df[\"duration\"]),\n",
    ")\n",
    "results = model.fit()\n",
    "\n",
    "# Display summary\n",
    "print(results.summary())"
   ]
  },
  {
   "cell_type": "markdown",
   "metadata": {},
   "source": [
    "log(E(gap_days)) = β₀ + β₁X₁ + β₂X₂ + ... + log(duration), which is equivalent to \\\n",
    "E(gap_days) = duration × exp(β₀ + β₁X₁ + β₂X₂ + ...)\n",
    "\n",
    "log(λᵢ) = β₀ + β₁X₁ᵢ + β₂X₂ᵢ + ... + log(durationᵢ)\n",
    "\n",
    "Where: \\\n",
    "E(gap_days) is the expected number of gap days \\\n",
    "β₀ is the intercept \\\n",
    "β₁, β₂, ... are coefficients for each drug type \\\n",
    "X₁, X₂, ... are dummy variables (0/1) for drug types"
   ]
  },
  {
   "cell_type": "code",
   "execution_count": 42,
   "metadata": {},
   "outputs": [
    {
     "name": "stdout",
     "output_type": "stream",
     "text": [
      "                 Generalized Linear Model Regression Results                  \n",
      "==============================================================================\n",
      "Dep. Variable:               gap_days   No. Observations:                17668\n",
      "Model:                            GLM   Df Residuals:                    17652\n",
      "Model Family:                 Poisson   Df Model:                           15\n",
      "Link Function:                    Log   Scale:                          1.0000\n",
      "Method:                          IRLS   Log-Likelihood:            -1.2294e+05\n",
      "Date:                Thu, 21 Nov 2024   Deviance:                   2.2328e+05\n",
      "Time:                        17:10:04   Pearson chi2:                 2.39e+05\n",
      "No. Iterations:                     7   Pseudo R-squ. (CS):             0.8248\n",
      "Covariance Type:            nonrobust                                         \n",
      "===================================================================================================\n",
      "                                      coef    std err          z      P>|z|      [0.025      0.975]\n",
      "---------------------------------------------------------------------------------------------------\n",
      "Intercept                          -1.8545      0.007   -275.717      0.000      -1.868      -1.841\n",
      "C(atc_code)[T.A10BH05]             -0.6135      0.009    -66.354      0.000      -0.632      -0.595\n",
      "C(atc_code)[T.A10BJ01]             -0.1980      0.009    -22.903      0.000      -0.215      -0.181\n",
      "C(atc_code)[T.J01AA03, S01AA02]    -2.2594      0.059    -38.096      0.000      -2.376      -2.143\n",
      "C(atc_code)[T.J01DC02, S01AA27]    -0.5929      0.025    -24.070      0.000      -0.641      -0.545\n",
      "C(atc_code)[T.J01GB01, S01AA12]    -1.9515      0.046    -42.254      0.000      -2.042      -1.861\n",
      "C(atc_code)[T.J01MA12, S01AE05]    -0.8160      0.026    -30.998      0.000      -0.868      -0.764\n",
      "C(atc_code)[T.L01BB02]             -0.0366      0.011     -3.405      0.001      -0.058      -0.016\n",
      "C(atc_code)[T.L01XX05]             -0.0530      0.010     -5.411      0.000      -0.072      -0.034\n",
      "C(atc_code)[T.L01XX79]             -0.3022      0.012    -25.361      0.000      -0.326      -0.279\n",
      "C(atc_code)[T.N05AA02]              0.3410      0.012     27.298      0.000       0.317       0.365\n",
      "C(atc_code)[T.N05CD08]             -1.9331      0.031    -62.549      0.000      -1.994      -1.873\n",
      "C(atc_code)[T.N06BA07]              0.2383      0.009     26.404      0.000       0.221       0.256\n",
      "C(atc_code)[T.N06DA03]              0.1709      0.010     17.705      0.000       0.152       0.190\n",
      "C(atc_code)[T.S01EC01]              0.1003      0.011      8.982      0.000       0.078       0.122\n",
      "C(atc_code)[T.S01GX05]             -0.4480      0.012    -38.110      0.000      -0.471      -0.425\n",
      "===================================================================================================\n"
     ]
    }
   ],
   "source": [
    "# Fit GLM with Poisson distribution, using duration as exposure\n",
    "model = glm(\n",
    "    formula=\"gap_days ~ C(atc_code)\",\n",
    "    data=df,\n",
    "    family=sm.families.Poisson(link=sm.families.links.Log()),\n",
    "    exposure=df[\"duration\"],  # Changed from offset to exposure\n",
    ")\n",
    "results = model.fit()\n",
    "\n",
    "print(results.summary())"
   ]
  },
  {
   "cell_type": "code",
   "execution_count": null,
   "metadata": {},
   "outputs": [],
   "source": []
  }
 ],
 "metadata": {
  "kernelspec": {
   "display_name": ".venv",
   "language": "python",
   "name": "python3"
  },
  "language_info": {
   "codemirror_mode": {
    "name": "ipython",
    "version": 3
   },
   "file_extension": ".py",
   "mimetype": "text/x-python",
   "name": "python",
   "nbconvert_exporter": "python",
   "pygments_lexer": "ipython3",
   "version": "3.12.5"
  }
 },
 "nbformat": 4,
 "nbformat_minor": 2
}
