{
 "cells": [
  {
   "cell_type": "code",
   "execution_count": 1,
   "metadata": {},
   "outputs": [],
   "source": [
    "import pandas as pd\n",
    "import numpy as np\n",
    "from hmmlearn import hmm\n",
    "\n",
    "np.random.seed(42)"
   ]
  },
  {
   "cell_type": "code",
   "execution_count": null,
   "metadata": {},
   "outputs": [],
   "source": [
    "df = pd.read_csv(\"../../dataset/df_cleaned_1atc.tsv\", sep=\"\\t\")\n",
    "df.head()"
   ]
  },
  {
   "cell_type": "code",
   "execution_count": 3,
   "metadata": {},
   "outputs": [],
   "source": [
    "df[\"drug_era_start_date\"] = pd.to_datetime(df[\"drug_era_start_date\"])\n",
    "df[\"drug_era_end_date\"] = pd.to_datetime(df[\"drug_era_end_date\"])"
   ]
  },
  {
   "cell_type": "code",
   "execution_count": 4,
   "metadata": {},
   "outputs": [],
   "source": [
    "def split_eid_df(eid_df):\n",
    "    # Convert dates to datetime if they aren't already\n",
    "    eid_df = eid_df.copy()\n",
    "\n",
    "    # Sort by start date\n",
    "    eid_df = eid_df.sort_values(\"drug_era_start_date\")\n",
    "\n",
    "    # Find overlapping periods\n",
    "    overlap_groups = []\n",
    "    current_group = []\n",
    "\n",
    "    for i in range(len(eid_df) - 1):\n",
    "        current_end = eid_df[\"drug_era_end_date\"].iloc[i]\n",
    "        next_start = eid_df[\"drug_era_start_date\"].iloc[i + 1]\n",
    "\n",
    "        if current_end > next_start:\n",
    "            if not current_group:  # Start new group\n",
    "                current_group.append(i)\n",
    "            current_group.append(i + 1)\n",
    "        elif current_group:  # End of an overlap group\n",
    "            overlap_groups.append(eid_df.iloc[current_group])\n",
    "            current_group = []\n",
    "\n",
    "    # Don't forget to add the last group if it exists\n",
    "    if current_group:\n",
    "        overlap_groups.append(eid_df.iloc[current_group])\n",
    "\n",
    "    return overlap_groups"
   ]
  },
  {
   "cell_type": "code",
   "execution_count": 5,
   "metadata": {},
   "outputs": [
    {
     "name": "stdout",
     "output_type": "stream",
     "text": [
      "number of drug eras: 14867\n"
     ]
    }
   ],
   "source": [
    "# for each eid, split the data into multiple pieces\n",
    "all_drug_eras = []\n",
    "all_eids = df[\"eid\"].unique()\n",
    "sampled_eids = np.random.choice(all_eids, 1000, replace=False)\n",
    "for eid in sampled_eids:\n",
    "    eid_df = df[df[\"eid\"] == eid]\n",
    "    all_drug_eras.extend(split_eid_df(eid_df))\n",
    "\n",
    "print(f\"number of drug eras: {len(all_drug_eras)}\")"
   ]
  },
  {
   "cell_type": "code",
   "execution_count": 6,
   "metadata": {},
   "outputs": [],
   "source": [
    "def create_non_overlapping_periods(overlap_df):\n",
    "    # Get all unique dates (both start and end)\n",
    "    dates = np.concatenate(\n",
    "        [\n",
    "            overlap_df[\"drug_era_start_date\"].values,\n",
    "            overlap_df[\"drug_era_end_date\"].values,\n",
    "        ]\n",
    "    )\n",
    "    dates = pd.to_datetime(np.unique(dates))\n",
    "    dates.sort_values()\n",
    "\n",
    "    # Create periods between each adjacent pair of dates\n",
    "    periods = []\n",
    "    for i in range(len(dates) - 1):\n",
    "        period_start = dates[i]\n",
    "        period_end = dates[i + 1]\n",
    "\n",
    "        # Find all drugs active during this period\n",
    "        active_drugs = overlap_df[\n",
    "            (overlap_df[\"drug_era_start_date\"] <= period_start)\n",
    "            & (overlap_df[\"drug_era_end_date\"] >= period_end)\n",
    "        ]\n",
    "\n",
    "        if not active_drugs.empty:\n",
    "            periods.append(\n",
    "                {\n",
    "                    \"period_start\": period_start,\n",
    "                    \"period_end\": period_end,\n",
    "                    \"duration\": (period_end - period_start).days,\n",
    "                    \"concept_names\": \", \".join(\n",
    "                        np.sort(active_drugs[\"concept_name\"].unique())\n",
    "                    ),\n",
    "                    \"drug_concept_ids\": \", \".join(\n",
    "                        np.sort(active_drugs[\"drug_concept_id\"].astype(str).unique())\n",
    "                    ),\n",
    "                    \"atc_codes\": \", \".join(\n",
    "                        np.sort(active_drugs[\"atc_code\"].astype(str).unique())\n",
    "                    ),\n",
    "                    \"atc_level3_codes\": \", \".join(\n",
    "                        np.sort(active_drugs[\"atc_level3\"].astype(str).unique())\n",
    "                    ),\n",
    "                    \"eid\": active_drugs[\"eid\"].iloc[\n",
    "                        0\n",
    "                    ],  # Assuming same eid for all rows\n",
    "                }\n",
    "            )\n",
    "\n",
    "    return pd.DataFrame(periods)"
   ]
  },
  {
   "cell_type": "code",
   "execution_count": null,
   "metadata": {},
   "outputs": [],
   "source": [
    "non_overlapping_periods = []\n",
    "for index, drug_era in enumerate(all_drug_eras):\n",
    "    this_data = create_non_overlapping_periods(drug_era)\n",
    "    this_data[\"sequence_id\"] = index\n",
    "    non_overlapping_periods.append(this_data)\n",
    "non_overlapping_periods[0]"
   ]
  },
  {
   "cell_type": "markdown",
   "metadata": {},
   "source": [
    "#### columns of the dataset\n",
    "- **eid**: unique identifier for each person\n",
    "- **drug_concept_id**: unique identifier for each drug \n",
    "- **drug_era_id**: unique identifier for each drug era. each drug era is a continuous period of drug use. each person can take the same drug in multiple drug eras. \n",
    "- **drug_era_start_date**: start date of the drug era \n",
    "- **drug_era_end_date**: end date of the drug era \n",
    "- **duration of the drug era**: calculated as drug_era_end_date - drug_era_start_date + 1 day\n"
   ]
  },
  {
   "cell_type": "markdown",
   "metadata": {},
   "source": [
    "#### HMM\n",
    "\n",
    "Each unique drug (identified by drug_concept_id or atc_code) could represent a distinct hidden state in the HMM. \\\n",
    "The observed sequence represents the order of drug eras. \\\n",
    "*Emissions* are the durations of each drug era.\n"
   ]
  },
  {
   "cell_type": "code",
   "execution_count": 8,
   "metadata": {},
   "outputs": [
    {
     "name": "stdout",
     "output_type": "stream",
     "text": [
      "number of total emission values: 46951\n",
      "number of unique emission values: 7629\n"
     ]
    }
   ],
   "source": [
    "emissions = []\n",
    "for sequence_data in non_overlapping_periods:\n",
    "    emissions.extend(list(sequence_data[\"atc_level3_codes\"]))\n",
    "\n",
    "print(f\"number of total emission values: {len(emissions)}\")\n",
    "emissions = np.unique(emissions)\n",
    "print(f\"number of unique emission values: {len(emissions)}\")"
   ]
  },
  {
   "cell_type": "code",
   "execution_count": 9,
   "metadata": {},
   "outputs": [],
   "source": [
    "# encode emissions as integers\n",
    "emissions_dict = {emissions[i]: i for i in range(len(emissions))}"
   ]
  },
  {
   "cell_type": "code",
   "execution_count": 10,
   "metadata": {},
   "outputs": [],
   "source": [
    "# convert periods to sequence of emissions\n",
    "sequences = []\n",
    "for sequence_data in non_overlapping_periods:\n",
    "    this_sequence = []\n",
    "    for index, row in sequence_data.iterrows():\n",
    "        this_sequence.extend(\n",
    "            [emissions_dict[row[\"atc_level3_codes\"]]] * row[\"duration\"]\n",
    "        )\n",
    "    sequences.append(this_sequence)"
   ]
  },
  {
   "cell_type": "code",
   "execution_count": 11,
   "metadata": {},
   "outputs": [
    {
     "name": "stdout",
     "output_type": "stream",
     "text": [
      "number of train sequences: 11893\n",
      "number of test sequences: 2974\n",
      "average length of train sequences: 248.86193559236526\n",
      "average length of test sequences: 275.68493611297913\n"
     ]
    }
   ],
   "source": [
    "cutoff_index = int(len(sequences) * 0.8)\n",
    "train_sequences = sequences[:cutoff_index]\n",
    "test_sequences = sequences[cutoff_index:]\n",
    "\n",
    "train_lengths = [len(sequence) for sequence in train_sequences]\n",
    "test_lengths = [len(sequence) for sequence in test_sequences]\n",
    "print(f\"number of train sequences: {len(train_sequences)}\")\n",
    "print(f\"number of test sequences: {len(test_sequences)}\")\n",
    "print(f\"average length of train sequences: {np.mean(train_lengths)}\")\n",
    "print(f\"average length of test sequences: {np.mean(test_lengths)}\")\n",
    "\n",
    "train_sequences = [[value] for sequence in train_sequences for value in sequence]\n",
    "test_sequences = [[value] for sequence in test_sequences for value in sequence]"
   ]
  },
  {
   "cell_type": "code",
   "execution_count": 12,
   "metadata": {},
   "outputs": [],
   "source": [
    "model = hmm.CategoricalHMM(n_components=10)\n",
    "model.fit(train_sequences, train_lengths)"
   ]
  },
  {
   "cell_type": "code",
   "execution_count": 13,
   "metadata": {},
   "outputs": [
    {
     "ename": "NameError",
     "evalue": "name 'model' is not defined",
     "output_type": "error",
     "traceback": [
      "\u001b[0;31m---------------------------------------------------------------------------\u001b[0m",
      "\u001b[0;31mNameError\u001b[0m                                 Traceback (most recent call last)",
      "Cell \u001b[0;32mIn[13], line 1\u001b[0m\n\u001b[0;32m----> 1\u001b[0m \u001b[43mmodel\u001b[49m\u001b[38;5;241m.\u001b[39mscore(train_sequences, train_lengths)\n",
      "\u001b[0;31mNameError\u001b[0m: name 'model' is not defined"
     ]
    }
   ],
   "source": [
    "model.score(train_sequences, train_lengths)"
   ]
  },
  {
   "cell_type": "code",
   "execution_count": null,
   "metadata": {},
   "outputs": [],
   "source": [
    "model.score(test_sequences, test_lengths)"
   ]
  },
  {
   "cell_type": "code",
   "execution_count": null,
   "metadata": {},
   "outputs": [],
   "source": []
  }
 ],
 "metadata": {
  "kernelspec": {
   "display_name": ".venv",
   "language": "python",
   "name": "python3"
  },
  "language_info": {
   "codemirror_mode": {
    "name": "ipython",
    "version": 3
   },
   "file_extension": ".py",
   "mimetype": "text/x-python",
   "name": "python",
   "nbconvert_exporter": "python",
   "pygments_lexer": "ipython3",
   "version": "3.12.5"
  }
 },
 "nbformat": 4,
 "nbformat_minor": 2
}
