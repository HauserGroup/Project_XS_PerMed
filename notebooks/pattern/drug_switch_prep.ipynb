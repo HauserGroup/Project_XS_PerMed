{
 "cells": [
  {
   "cell_type": "code",
   "execution_count": 1,
   "metadata": {},
   "outputs": [],
   "source": [
    "import pandas as pd\n",
    "import numpy as np"
   ]
  },
  {
   "cell_type": "markdown",
   "metadata": {},
   "source": [
    "terminology definition\n",
    "\n",
    "we say drug era B is a **subsequent drug era** for drug era A if:\n",
    "1. drug era A and drug era B are with the same person, and\n",
    "2. drug_era_end_date of B > drug_era_start_date of A (i.e. B starts after A ends)\n",
    "\n",
    "we say drug era B is the **closest subsequent drug era** for drug era A if:\n",
    "- after A ends, B starts first among all the subsequent drug eras \\\n",
    "(theoretically, for one drug era, there could be multiple closest subsequent drug eras)"
   ]
  },
  {
   "cell_type": "code",
   "execution_count": null,
   "metadata": {},
   "outputs": [],
   "source": [
    "df = pd.read_csv(\"../../dataset/dataset.tsv\", sep=\"\\t\")\n",
    "# df.head()\n",
    "display(df.loc[:, df.columns != \"eid\"].head())"
   ]
  },
  {
   "cell_type": "code",
   "execution_count": 4,
   "metadata": {},
   "outputs": [],
   "source": [
    "def process_drug_switches(df: pd.DataFrame) -> tuple[pd.DataFrame, pd.DataFrame]:\n",
    "    \"\"\"\n",
    "    Find the closest subsequent drug era B for each drug era A.\n",
    "\n",
    "    Method:\n",
    "        For each eid:\n",
    "            for each drug era A, find its subsequent drug eras B and then add a row for each switch combination of A and B\n",
    "\n",
    "    Args:\n",
    "        df (pd.DataFrame): Input dataframe containing drug era information\n",
    "            Required columns: eid, drug_era_id, drug_concept_id, drug_era_start_date,\n",
    "            drug_era_end_date, drug_exposure_count, gap_days\n",
    "\n",
    "    Returns:\n",
    "        tuple[pd.DataFrame, pd.DataFrame]:\n",
    "            - Processed dataframe containing drug switch information\n",
    "            - Dataframe containing invalid drug eras (no subsequent eras)\n",
    "    \"\"\"\n",
    "    # Ensure datetime format\n",
    "    if df[\"drug_era_start_date\"].dtype != \"datetime64[ns]\":\n",
    "        df[\"drug_era_start_date\"] = pd.to_datetime(\n",
    "            df[\"drug_era_start_date\"], format=\"%d/%m/%Y\"\n",
    "        )\n",
    "    if df[\"drug_era_end_date\"].dtype != \"datetime64[ns]\":\n",
    "        df[\"drug_era_end_date\"] = pd.to_datetime(\n",
    "            df[\"drug_era_end_date\"], format=\"%d/%m/%Y\"\n",
    "        )\n",
    "\n",
    "    result_rows = []\n",
    "    invalid_rows = []\n",
    "\n",
    "    # Process each patient's drug eras\n",
    "    for eid, patient_df in df.groupby(\"eid\"):\n",
    "        patient_df = patient_df.sort_values(\"drug_era_start_date\").reset_index(\n",
    "            drop=True\n",
    "        )\n",
    "\n",
    "        n_rows = len(patient_df)\n",
    "        if n_rows < 2:  # Patient has only one drug era\n",
    "            invalid_df_row = patient_df.iloc[0].to_dict()\n",
    "            invalid_df_row[\"reason\"] = \"single_drug_era\"\n",
    "            invalid_rows.append(invalid_df_row)\n",
    "            continue\n",
    "\n",
    "        # Create matrices for vectorized operations\n",
    "        end_dates = patient_df[\"drug_era_end_date\"].values\n",
    "        start_dates = patient_df[\"drug_era_start_date\"].values\n",
    "\n",
    "        # Initialize time_diffs matrix with NaT\n",
    "        time_diffs = np.full(\n",
    "            (n_rows, n_rows), np.timedelta64(\"NaT\"), dtype=\"timedelta64[ns]\"\n",
    "        )\n",
    "\n",
    "        # Calculate all future pairwise time differences\n",
    "        for i in range(n_rows):\n",
    "            for j in range(i + 1, n_rows):\n",
    "                time_diffs[i, j] = start_dates[j] - end_dates[i]\n",
    "\n",
    "        # Replace negative time differences with NaT\n",
    "        time_diffs[time_diffs <= pd.Timedelta(0)] = np.timedelta64(\"NaT\")\n",
    "\n",
    "        # Process each drug era\n",
    "        for idx in range(n_rows):\n",
    "            row_times = time_diffs[idx]\n",
    "            valid_times = row_times[~np.isnat(row_times)]\n",
    "\n",
    "            if len(valid_times) == 0:  # No valid subsequent drug eras\n",
    "                invalid_df_row = patient_df.iloc[idx].to_dict()\n",
    "                invalid_df_row[\"reason\"] = \"no_subsequent_era\"\n",
    "                invalid_rows.append(invalid_df_row)\n",
    "                continue\n",
    "\n",
    "            # Find all indices with minimum time difference\n",
    "            min_time = valid_times.min()\n",
    "            min_indices = np.where(row_times == min_time)[0]\n",
    "\n",
    "            row_a = patient_df.iloc[idx]\n",
    "            for min_idx in min_indices:\n",
    "                row_b = patient_df.iloc[min_idx]\n",
    "                combined_row = {\n",
    "                    \"eid\": eid,\n",
    "                    \"A_drug_era_id\": row_a.drug_era_id,\n",
    "                    \"A_drug_concept_id\": row_a.drug_concept_id,\n",
    "                    \"A_drug_era_start_date\": row_a.drug_era_start_date,\n",
    "                    \"A_drug_era_end_date\": row_a.drug_era_end_date,\n",
    "                    \"A_drug_exposure_count\": row_a.drug_exposure_count,\n",
    "                    \"A_gap_days\": row_a.gap_days,\n",
    "                    \"B_drug_era_id\": row_b.drug_era_id,\n",
    "                    \"B_drug_concept_id\": row_b.drug_concept_id,\n",
    "                    \"B_drug_era_start_date\": row_b.drug_era_start_date,\n",
    "                    \"B_drug_era_end_date\": row_b.drug_era_end_date,\n",
    "                    \"B_drug_exposure_count\": row_b.drug_exposure_count,\n",
    "                    \"B_gap_days\": row_b.gap_days,\n",
    "                    \"switch_interval\": min_time,\n",
    "                }\n",
    "                result_rows.append(combined_row)\n",
    "\n",
    "    return pd.DataFrame(result_rows), pd.DataFrame(invalid_rows)"
   ]
  },
  {
   "cell_type": "code",
   "execution_count": null,
   "metadata": {},
   "outputs": [],
   "source": [
    "result_df, invalid_df = process_drug_switches(df)"
   ]
  },
  {
   "cell_type": "code",
   "execution_count": null,
   "metadata": {},
   "outputs": [],
   "source": [
    "same_drug_switches = result_df[\n",
    "    result_df[\"A_drug_concept_id\"] == result_df[\"B_drug_concept_id\"]\n",
    "]\n",
    "print(f\"Number of switches between same drug: {len(same_drug_switches)}\")\n",
    "print(\n",
    "    f\"Percentage of total switches: {len(same_drug_switches) / len(result_df) * 100:.2f}%\"\n",
    ")"
   ]
  },
  {
   "cell_type": "code",
   "execution_count": null,
   "metadata": {},
   "outputs": [],
   "source": [
    "print(len(df))\n",
    "print(\n",
    "    len(result_df[\"A_drug_era_id\"].unique()) + len(invalid_df[\"drug_era_id\"].unique())\n",
    ")\n",
    "print(len(result_df[\"A_drug_era_id\"].unique()))\n",
    "print(len(invalid_df[\"drug_era_id\"].unique()))"
   ]
  },
  {
   "cell_type": "code",
   "execution_count": null,
   "metadata": {},
   "outputs": [],
   "source": [
    "print(len(result_df))\n",
    "print(len(invalid_df))"
   ]
  }
 ],
 "metadata": {
  "kernelspec": {
   "display_name": ".venv",
   "language": "python",
   "name": "python3"
  },
  "language_info": {
   "codemirror_mode": {
    "name": "ipython",
    "version": 3
   },
   "file_extension": ".py",
   "mimetype": "text/x-python",
   "name": "python",
   "nbconvert_exporter": "python",
   "pygments_lexer": "ipython3",
   "version": "3.12.5"
  }
 },
 "nbformat": 4,
 "nbformat_minor": 2
}
