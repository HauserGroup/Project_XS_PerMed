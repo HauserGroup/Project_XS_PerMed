{
 "cells": [
  {
   "cell_type": "code",
   "execution_count": 2,
   "metadata": {},
   "outputs": [],
   "source": [
    "import pandas as pd"
   ]
  },
  {
   "cell_type": "markdown",
   "metadata": {},
   "source": [
    "terminology definition\n",
    "\n",
    "we say drug era B is a **subsequent drug era** for drug era A if:\n",
    "1. drug era A and drug era B are with the same person, and\n",
    "2. drug_era_end_date of B > drug_era_start_date of A (i.e. B starts after A ends)\n",
    "\n",
    "we say drug era B is the **closest subsequent drug era** for drug era A if:\n",
    "- after A ends, B starts first among all the subsequent drug eras \\\n",
    "(theoretically, for one drug era, there could be multiple closest subsequent drug eras)"
   ]
  },
  {
   "cell_type": "code",
   "execution_count": 3,
   "metadata": {},
   "outputs": [],
   "source": [
    "df = pd.read_csv(\"../../dataset/dataset.tsv\", sep=\"\\t\")\n",
    "# df.head()\n",
    "# display(df.loc[:, df.columns != \"eid\"].head())"
   ]
  },
  {
   "cell_type": "code",
   "execution_count": 17,
   "metadata": {},
   "outputs": [],
   "source": [
    "def get_drug_switches_all(df: pd.DataFrame) -> tuple[pd.DataFrame, pd.DataFrame]:\n",
    "    \"\"\"\n",
    "    Find the closest subsequent drug era B for each drug era A.\n",
    "    Output both valid and invalid drug eras.\n",
    "    \"\"\"\n",
    "    # Ensure datetime format\n",
    "    if df[\"drug_era_start_date\"].dtype != \"datetime64[ns]\":\n",
    "        df[\"drug_era_start_date\"] = pd.to_datetime(\n",
    "            df[\"drug_era_start_date\"], format=\"%d/%m/%Y\"\n",
    "        )\n",
    "    if df[\"drug_era_end_date\"].dtype != \"datetime64[ns]\":\n",
    "        df[\"drug_era_end_date\"] = pd.to_datetime(\n",
    "            df[\"drug_era_end_date\"], format=\"%d/%m/%Y\"\n",
    "        )\n",
    "\n",
    "    # Sort all data by eid and start date\n",
    "    df_sorted = df.sort_values([\"eid\", \"drug_era_start_date\"]).reset_index(drop=True)\n",
    "\n",
    "    # Identify single drug era patients\n",
    "    eid_counts = df_sorted.groupby(\"eid\").size()\n",
    "    single_era_eids = eid_counts[eid_counts == 1].index\n",
    "    single_era_df = df_sorted[df_sorted[\"eid\"].isin(single_era_eids)].copy()\n",
    "    single_era_df[\"reason\"] = \"single_drug_era\"\n",
    "\n",
    "    # Process multi-drug era patients\n",
    "    multi_era_df = df_sorted[~df_sorted[\"eid\"].isin(single_era_eids)]\n",
    "\n",
    "    # Create cross join within eid groups\n",
    "    pairs = pd.merge(\n",
    "        multi_era_df.assign(key=1),\n",
    "        multi_era_df.assign(key=1),\n",
    "        on=[\"eid\", \"key\"],\n",
    "        suffixes=(\"_A\", \"_B\"),\n",
    "    ).drop(\"key\", axis=1)\n",
    "\n",
    "    # Calculate time differences\n",
    "    pairs[\"switch_interval\"] = (\n",
    "        pairs[\"drug_era_start_date_B\"] - pairs[\"drug_era_end_date_A\"]\n",
    "    )\n",
    "\n",
    "    # Create mask for valid transitions\n",
    "    valid_mask = pairs[\"switch_interval\"] > pd.Timedelta(0)\n",
    "\n",
    "    # Identify drug eras with no valid subsequent eras\n",
    "    no_subsequent_mask = ~pairs.groupby([\"eid\", \"drug_era_id_A\"])[\n",
    "        \"switch_interval\"\n",
    "    ].transform(lambda x: (x > pd.Timedelta(0)).any())\n",
    "\n",
    "    no_subsequent_df = multi_era_df[\n",
    "        multi_era_df[\"drug_era_id\"].isin(\n",
    "            pairs[no_subsequent_mask][\"drug_era_id_A\"].unique()\n",
    "        )\n",
    "    ].copy()\n",
    "    no_subsequent_df[\"reason\"] = \"no_subsequent_era\"\n",
    "\n",
    "    # Combine all invalid cases\n",
    "    invalid_df = pd.concat([single_era_df, no_subsequent_df], ignore_index=True)\n",
    "\n",
    "    # Get valid transitions\n",
    "    valid_pairs = pairs[valid_mask].copy()\n",
    "\n",
    "    # Find minimum switch interval for each drug era A\n",
    "    min_intervals = valid_pairs.groupby([\"eid\", \"drug_era_id_A\"])[\n",
    "        \"switch_interval\"\n",
    "    ].transform(\"min\")\n",
    "    valid_pairs = valid_pairs[valid_pairs[\"switch_interval\"] == min_intervals]\n",
    "\n",
    "    # Create final result dataframe\n",
    "    result_df = pd.DataFrame(\n",
    "        {\n",
    "            \"eid\": valid_pairs[\"eid\"],\n",
    "            \"A_drug_era_id\": valid_pairs[\"drug_era_id_A\"],\n",
    "            \"A_drug_concept_id\": valid_pairs[\"drug_concept_id_A\"],\n",
    "            \"A_drug_era_start_date\": valid_pairs[\"drug_era_start_date_A\"],\n",
    "            \"A_drug_era_end_date\": valid_pairs[\"drug_era_end_date_A\"],\n",
    "            \"A_drug_exposure_count\": valid_pairs[\"drug_exposure_count_A\"],\n",
    "            \"A_gap_days\": valid_pairs[\"gap_days_A\"],\n",
    "            \"B_drug_era_id\": valid_pairs[\"drug_era_id_B\"],\n",
    "            \"B_drug_concept_id\": valid_pairs[\"drug_concept_id_B\"],\n",
    "            \"B_drug_era_start_date\": valid_pairs[\"drug_era_start_date_B\"],\n",
    "            \"B_drug_era_end_date\": valid_pairs[\"drug_era_end_date_B\"],\n",
    "            \"B_drug_exposure_count\": valid_pairs[\"drug_exposure_count_B\"],\n",
    "            \"B_gap_days\": valid_pairs[\"gap_days_B\"],\n",
    "            \"switch_interval\": valid_pairs[\"switch_interval\"],\n",
    "        }\n",
    "    )\n",
    "\n",
    "    return result_df, invalid_df"
   ]
  },
  {
   "cell_type": "code",
   "execution_count": 34,
   "metadata": {},
   "outputs": [],
   "source": [
    "def get_drug_switches(df: pd.DataFrame) -> pd.DataFrame:\n",
    "    \"\"\"\n",
    "    Find the closest subsequent drug era B for each drug era A.\n",
    "    Output only valid drug eras.\n",
    "    \"\"\"\n",
    "    # Ensure datetime format\n",
    "    if df[\"drug_era_start_date\"].dtype != \"datetime64[ns]\":\n",
    "        df[\"drug_era_start_date\"] = pd.to_datetime(\n",
    "            df[\"drug_era_start_date\"], format=\"%d/%m/%Y\"\n",
    "        )\n",
    "    if df[\"drug_era_end_date\"].dtype != \"datetime64[ns]\":\n",
    "        df[\"drug_era_end_date\"] = pd.to_datetime(\n",
    "            df[\"drug_era_end_date\"], format=\"%d/%m/%Y\"\n",
    "        )\n",
    "\n",
    "    # Sort all data by eid and start date\n",
    "    df_sorted = df.sort_values([\"eid\", \"drug_era_start_date\"]).reset_index(drop=True)\n",
    "\n",
    "    # Create cross join within eid groups\n",
    "    pairs = pd.merge(\n",
    "        df_sorted.assign(key=1),\n",
    "        df_sorted.assign(key=1),\n",
    "        on=[\"eid\", \"key\"],\n",
    "        suffixes=(\"_A\", \"_B\"),\n",
    "    ).drop(\"key\", axis=1)\n",
    "\n",
    "    # Calculate time differences\n",
    "    pairs[\"switch_interval\"] = (\n",
    "        pairs[\"drug_era_start_date_B\"] - pairs[\"drug_era_end_date_A\"]\n",
    "    )\n",
    "\n",
    "    # Filter valid transitions (positive time difference)\n",
    "    pairs = pairs[pairs[\"switch_interval\"] > pd.Timedelta(0)]\n",
    "\n",
    "    # Find minimum switch interval for each drug era A\n",
    "    min_intervals = pairs.groupby([\"eid\", \"drug_era_id_A\"])[\n",
    "        \"switch_interval\"\n",
    "    ].transform(\"min\")\n",
    "    pairs = pairs[pairs[\"switch_interval\"] == min_intervals]\n",
    "\n",
    "    # Create final result dataframe\n",
    "    result = pd.DataFrame(\n",
    "        {\n",
    "            \"eid\": pairs[\"eid\"],\n",
    "            \"A_drug_era_id\": pairs[\"drug_era_id_A\"],\n",
    "            \"A_drug_concept_id\": pairs[\"drug_concept_id_A\"],\n",
    "            \"A_drug_era_start_date\": pairs[\"drug_era_start_date_A\"],\n",
    "            \"A_drug_era_end_date\": pairs[\"drug_era_end_date_A\"],\n",
    "            \"A_drug_exposure_count\": pairs[\"drug_exposure_count_A\"],\n",
    "            \"A_gap_days\": pairs[\"gap_days_A\"],\n",
    "            \"B_drug_era_id\": pairs[\"drug_era_id_B\"],\n",
    "            \"B_drug_concept_id\": pairs[\"drug_concept_id_B\"],\n",
    "            \"B_drug_era_start_date\": pairs[\"drug_era_start_date_B\"],\n",
    "            \"B_drug_era_end_date\": pairs[\"drug_era_end_date_B\"],\n",
    "            \"B_drug_exposure_count\": pairs[\"drug_exposure_count_B\"],\n",
    "            \"B_gap_days\": pairs[\"gap_days_B\"],\n",
    "            \"switch_interval\": pairs[\"switch_interval\"],\n",
    "        }\n",
    "    )\n",
    "\n",
    "    return result"
   ]
  },
  {
   "cell_type": "code",
   "execution_count": null,
   "metadata": {},
   "outputs": [],
   "source": [
    "# result_df, invalid_df = get_drug_switches_all(df)\n",
    "result_df = get_drug_switches(df)"
   ]
  },
  {
   "cell_type": "code",
   "execution_count": null,
   "metadata": {},
   "outputs": [],
   "source": [
    "same_drug_switches = result_df[\n",
    "    result_df[\"A_drug_concept_id\"] == result_df[\"B_drug_concept_id\"]\n",
    "]\n",
    "print(f\"Number of switches between same drug: {len(same_drug_switches)}\")\n",
    "print(\n",
    "    f\"Percentage of total switches: {len(same_drug_switches) / len(result_df) * 100:.2f}%\"\n",
    ")"
   ]
  },
  {
   "cell_type": "code",
   "execution_count": null,
   "metadata": {},
   "outputs": [],
   "source": [
    "print(len(df))\n",
    "# print(\n",
    "#     len(result_df[\"A_drug_era_id\"].unique()) + len(invalid_df[\"drug_era_id\"].unique())\n",
    "# )\n",
    "print(len(result_df[\"A_drug_era_id\"].unique()))\n",
    "# print(len(invalid_df[\"drug_era_id\"].unique()))"
   ]
  },
  {
   "cell_type": "code",
   "execution_count": null,
   "metadata": {},
   "outputs": [],
   "source": [
    "print(len(result_df))\n",
    "# print(len(invalid_df))"
   ]
  },
  {
   "cell_type": "markdown",
   "metadata": {},
   "source": [
    "test"
   ]
  },
  {
   "cell_type": "code",
   "execution_count": 5,
   "metadata": {},
   "outputs": [],
   "source": [
    "df_small = df.sample(100000)"
   ]
  },
  {
   "cell_type": "code",
   "execution_count": 32,
   "metadata": {},
   "outputs": [],
   "source": [
    "result_df_small = get_drug_switches(df_small)"
   ]
  },
  {
   "cell_type": "code",
   "execution_count": null,
   "metadata": {},
   "outputs": [],
   "source": [
    "len(result_df_small)"
   ]
  },
  {
   "cell_type": "code",
   "execution_count": 15,
   "metadata": {},
   "outputs": [],
   "source": [
    "result_df_small, invalid_df_small = get_drug_switches_all(df_small)"
   ]
  },
  {
   "cell_type": "code",
   "execution_count": null,
   "metadata": {},
   "outputs": [],
   "source": [
    "print(len(df_small))\n",
    "print(\n",
    "    len(result_df_small[\"A_drug_era_id\"].unique())\n",
    "    + len(invalid_df_small[\"drug_era_id\"].unique())\n",
    ")\n",
    "print(len(result_df_small[\"A_drug_era_id\"].unique()))\n",
    "print(len(invalid_df_small[\"drug_era_id\"].unique()))"
   ]
  }
 ],
 "metadata": {
  "kernelspec": {
   "display_name": ".venv",
   "language": "python",
   "name": "python3"
  },
  "language_info": {
   "codemirror_mode": {
    "name": "ipython",
    "version": 3
   },
   "file_extension": ".py",
   "mimetype": "text/x-python",
   "name": "python",
   "nbconvert_exporter": "python",
   "pygments_lexer": "ipython3",
   "version": "3.12.5"
  }
 },
 "nbformat": 4,
 "nbformat_minor": 2
}
