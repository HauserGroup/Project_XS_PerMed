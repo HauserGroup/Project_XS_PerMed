{
 "cells": [
  {
   "cell_type": "code",
   "execution_count": 12,
   "metadata": {},
   "outputs": [],
   "source": [
    "import pandas as pd\n",
    "import seaborn as sns\n",
    "import matplotlib.pyplot as plt\n"
   ]
  },
  {
   "cell_type": "code",
   "execution_count": 2,
   "metadata": {},
   "outputs": [],
   "source": [
    "csde_df = pd.read_csv(\"../../dataset/drug_switches_closest.tsv\", sep=\"\\t\")"
   ]
  },
  {
   "cell_type": "code",
   "execution_count": 6,
   "metadata": {},
   "outputs": [
    {
     "data": {
      "text/html": [
       "<div>\n",
       "<style scoped>\n",
       "    .dataframe tbody tr th:only-of-type {\n",
       "        vertical-align: middle;\n",
       "    }\n",
       "\n",
       "    .dataframe tbody tr th {\n",
       "        vertical-align: top;\n",
       "    }\n",
       "\n",
       "    .dataframe thead th {\n",
       "        text-align: right;\n",
       "    }\n",
       "</style>\n",
       "<table border=\"1\" class=\"dataframe\">\n",
       "  <thead>\n",
       "    <tr style=\"text-align: right;\">\n",
       "      <th></th>\n",
       "      <th>eid</th>\n",
       "      <th>A_drug_era_id</th>\n",
       "      <th>A_drug_concept_id</th>\n",
       "      <th>A_drug_era_start_date</th>\n",
       "      <th>A_drug_era_end_date</th>\n",
       "      <th>A_drug_exposure_count</th>\n",
       "      <th>A_gap_days</th>\n",
       "      <th>B_drug_era_id</th>\n",
       "      <th>B_drug_concept_id</th>\n",
       "      <th>B_drug_era_start_date</th>\n",
       "      <th>B_drug_era_end_date</th>\n",
       "      <th>B_drug_exposure_count</th>\n",
       "      <th>B_gap_days</th>\n",
       "      <th>switch_interval</th>\n",
       "    </tr>\n",
       "  </thead>\n",
       "  <tbody>\n",
       "    <tr>\n",
       "      <th>0</th>\n",
       "      <td>1000014</td>\n",
       "      <td>1365799655232</td>\n",
       "      <td>1124300</td>\n",
       "      <td>2008-04-29</td>\n",
       "      <td>2008-06-09</td>\n",
       "      <td>1</td>\n",
       "      <td>0</td>\n",
       "      <td>171798743567</td>\n",
       "      <td>1178663</td>\n",
       "      <td>2008-09-23</td>\n",
       "      <td>2008-10-13</td>\n",
       "      <td>1</td>\n",
       "      <td>0</td>\n",
       "      <td>106</td>\n",
       "    </tr>\n",
       "    <tr>\n",
       "      <th>1</th>\n",
       "      <td>1000014</td>\n",
       "      <td>1365799655232</td>\n",
       "      <td>1124300</td>\n",
       "      <td>2008-04-29</td>\n",
       "      <td>2008-06-09</td>\n",
       "      <td>1</td>\n",
       "      <td>0</td>\n",
       "      <td>240518240204</td>\n",
       "      <td>923645</td>\n",
       "      <td>2008-09-23</td>\n",
       "      <td>2008-10-20</td>\n",
       "      <td>1</td>\n",
       "      <td>0</td>\n",
       "      <td>106</td>\n",
       "    </tr>\n",
       "    <tr>\n",
       "      <th>2</th>\n",
       "      <td>1000014</td>\n",
       "      <td>1365799655232</td>\n",
       "      <td>1124300</td>\n",
       "      <td>2008-04-29</td>\n",
       "      <td>2008-06-09</td>\n",
       "      <td>1</td>\n",
       "      <td>0</td>\n",
       "      <td>369367235575</td>\n",
       "      <td>836715</td>\n",
       "      <td>2008-09-23</td>\n",
       "      <td>2008-10-06</td>\n",
       "      <td>1</td>\n",
       "      <td>0</td>\n",
       "      <td>106</td>\n",
       "    </tr>\n",
       "    <tr>\n",
       "      <th>3</th>\n",
       "      <td>1000014</td>\n",
       "      <td>1365799655232</td>\n",
       "      <td>1124300</td>\n",
       "      <td>2008-04-29</td>\n",
       "      <td>2008-06-09</td>\n",
       "      <td>1</td>\n",
       "      <td>0</td>\n",
       "      <td>1494648709321</td>\n",
       "      <td>1103314</td>\n",
       "      <td>2008-09-23</td>\n",
       "      <td>2008-10-09</td>\n",
       "      <td>1</td>\n",
       "      <td>0</td>\n",
       "      <td>106</td>\n",
       "    </tr>\n",
       "    <tr>\n",
       "      <th>4</th>\n",
       "      <td>1000014</td>\n",
       "      <td>171798743567</td>\n",
       "      <td>1178663</td>\n",
       "      <td>2008-09-23</td>\n",
       "      <td>2008-10-13</td>\n",
       "      <td>1</td>\n",
       "      <td>0</td>\n",
       "      <td>532576013874</td>\n",
       "      <td>1769535</td>\n",
       "      <td>2009-04-15</td>\n",
       "      <td>2009-04-19</td>\n",
       "      <td>1</td>\n",
       "      <td>0</td>\n",
       "      <td>184</td>\n",
       "    </tr>\n",
       "  </tbody>\n",
       "</table>\n",
       "</div>"
      ],
      "text/plain": [
       "       eid  A_drug_era_id  A_drug_concept_id A_drug_era_start_date  \\\n",
       "0  1000014  1365799655232            1124300            2008-04-29   \n",
       "1  1000014  1365799655232            1124300            2008-04-29   \n",
       "2  1000014  1365799655232            1124300            2008-04-29   \n",
       "3  1000014  1365799655232            1124300            2008-04-29   \n",
       "4  1000014   171798743567            1178663            2008-09-23   \n",
       "\n",
       "  A_drug_era_end_date  A_drug_exposure_count  A_gap_days  B_drug_era_id  \\\n",
       "0          2008-06-09                      1           0   171798743567   \n",
       "1          2008-06-09                      1           0   240518240204   \n",
       "2          2008-06-09                      1           0   369367235575   \n",
       "3          2008-06-09                      1           0  1494648709321   \n",
       "4          2008-10-13                      1           0   532576013874   \n",
       "\n",
       "   B_drug_concept_id B_drug_era_start_date B_drug_era_end_date  \\\n",
       "0            1178663            2008-09-23          2008-10-13   \n",
       "1             923645            2008-09-23          2008-10-20   \n",
       "2             836715            2008-09-23          2008-10-06   \n",
       "3            1103314            2008-09-23          2008-10-09   \n",
       "4            1769535            2009-04-15          2009-04-19   \n",
       "\n",
       "   B_drug_exposure_count  B_gap_days  switch_interval  \n",
       "0                      1           0              106  \n",
       "1                      1           0              106  \n",
       "2                      1           0              106  \n",
       "3                      1           0              106  \n",
       "4                      1           0              184  "
      ]
     },
     "execution_count": 6,
     "metadata": {},
     "output_type": "execute_result"
    }
   ],
   "source": [
    "csde_df.head()\n"
   ]
  },
  {
   "cell_type": "markdown",
   "metadata": {},
   "source": [
    "### basic info"
   ]
  },
  {
   "cell_type": "code",
   "execution_count": 4,
   "metadata": {},
   "outputs": [
    {
     "name": "stdout",
     "output_type": "stream",
     "text": [
      "37254676\n",
      "18926988\n",
      "243710\n"
     ]
    }
   ],
   "source": [
    "print(len(csde_df))\n",
    "print(len(csde_df[\"A_drug_era_id\"].unique()))\n",
    "print(len(csde_df[\"eid\"].unique()))\n"
   ]
  },
  {
   "cell_type": "code",
   "execution_count": 5,
   "metadata": {},
   "outputs": [
    {
     "data": {
      "text/plain": [
       "count    3.725468e+07\n",
       "mean     8.545716e+01\n",
       "std      1.942293e+02\n",
       "min      1.000000e+00\n",
       "25%      2.700000e+01\n",
       "50%      4.300000e+01\n",
       "75%      7.300000e+01\n",
       "max      9.660000e+03\n",
       "Name: switch_interval, dtype: float64"
      ]
     },
     "execution_count": 5,
     "metadata": {},
     "output_type": "execute_result"
    }
   ],
   "source": [
    "csde_df[\"switch_interval\"] = (\n",
    "    csde_df[\"switch_interval\"].str.extract(r\"(\\d+)\").astype(int)\n",
    ")\n",
    "csde_df[\"switch_interval\"].describe()"
   ]
  },
  {
   "cell_type": "code",
   "execution_count": 68,
   "metadata": {},
   "outputs": [
    {
     "data": {
      "image/png": "[encoded data removed]",
      "text/plain": [
       "<Figure size 1200x1000 with 4 Axes>"
      ]
     },
     "metadata": {},
     "output_type": "display_data"
    }
   ],
   "source": [
    "fig, ((ax1, ax2), (ax3, ax4)) = plt.subplots(2, 2, figsize=(12, 10))\n",
    "\n",
    "# Plot for all intervals (no cutoff)\n",
    "csde_df[\"switch_interval\"].hist(bins=10000, ax=ax1, color=\"purple\", edgecolor=\"black\")\n",
    "ax1.set_title(\"Switch Intervals (All)\")\n",
    "ax1.set_xlabel(\"Days\")\n",
    "ax1.set_ylabel(\"Frequency\")\n",
    "\n",
    "# Plot for 0-365 days\n",
    "csde_df[csde_df[\"switch_interval\"] <= 365][\"switch_interval\"].hist(\n",
    "    bins=365, ax=ax2, color=\"skyblue\", edgecolor=\"black\"\n",
    ")\n",
    "ax2.set_title(\"Switch Intervals (0-365 days)\")\n",
    "ax2.set_xlabel(\"Days\")\n",
    "ax2.set_ylabel(\"Frequency\")\n",
    "\n",
    "# Plot for 0-90 days\n",
    "csde_df[csde_df[\"switch_interval\"] <= 90][\"switch_interval\"].hist(\n",
    "    bins=90, ax=ax3, color=\"lightgreen\", edgecolor=\"black\"\n",
    ")\n",
    "ax3.set_title(\"Switch Intervals (0-90 days)\")\n",
    "ax3.set_xlabel(\"Days\")\n",
    "ax3.set_ylabel(\"Frequency\")\n",
    "\n",
    "# Plot for 0-30 days\n",
    "csde_df[csde_df[\"switch_interval\"] <= 30][\"switch_interval\"].hist(\n",
    "    bins=30, ax=ax4, color=\"salmon\", edgecolor=\"black\"\n",
    ")\n",
    "ax4.set_title(\"Switch Intervals (0-30 days)\")\n",
    "ax4.set_xlabel(\"Days\")\n",
    "ax4.set_ylabel(\"Frequency\")\n",
    "\n",
    "plt.tight_layout()\n",
    "plt.show()"
   ]
  },
  {
   "cell_type": "code",
   "execution_count": 24,
   "metadata": {},
   "outputs": [
    {
     "name": "stdout",
     "output_type": "stream",
     "text": [
      "5978429\n",
      "0.1604745938469576\n"
     ]
    }
   ],
   "source": [
    "# switch with same drug\n",
    "print(len(csde_df[csde_df[\"A_drug_concept_id\"] == csde_df[\"B_drug_concept_id\"]]))\n",
    "# ratio\n",
    "print(\n",
    "    len(csde_df[csde_df[\"A_drug_concept_id\"] == csde_df[\"B_drug_concept_id\"]])\n",
    "    / len(csde_df)\n",
    ")\n"
   ]
  },
  {
   "cell_type": "code",
   "execution_count": 64,
   "metadata": {},
   "outputs": [],
   "source": [
    "csde_df_365d = csde_df[csde_df[\"switch_interval\"] <= 365]\n",
    "csde_df_90d = csde_df[csde_df[\"switch_interval\"] <= 90]\n",
    "csde_df_60d = csde_df[csde_df[\"switch_interval\"] <= 60]\n",
    "csde_df_30d = csde_df[csde_df[\"switch_interval\"] <= 30]\n",
    "csde_df_15d = csde_df[csde_df[\"switch_interval\"] <= 15]\n",
    "csde_df_7d = csde_df[csde_df[\"switch_interval\"] <= 7]\n"
   ]
  },
  {
   "cell_type": "code",
   "execution_count": 65,
   "metadata": {},
   "outputs": [
    {
     "name": "stdout",
     "output_type": "stream",
     "text": [
      "35946714\n",
      "30091057\n",
      "25379871\n",
      "10221421\n",
      "5813026\n",
      "2966123\n"
     ]
    }
   ],
   "source": [
    "print(len(csde_df_365d))\n",
    "print(len(csde_df_90d))\n",
    "print(len(csde_df_60d))\n",
    "print(len(csde_df_30d))\n",
    "print(len(csde_df_15d))\n",
    "print(len(csde_df_7d))\n"
   ]
  },
  {
   "cell_type": "markdown",
   "metadata": {},
   "source": [
    "### atc code"
   ]
  },
  {
   "cell_type": "code",
   "execution_count": 28,
   "metadata": {},
   "outputs": [],
   "source": [
    "atc_df = pd.read_csv(\"../../dataset/atc_codes_combined.tsv\", sep=\"\\t\")"
   ]
  },
  {
   "cell_type": "code",
   "execution_count": 25,
   "metadata": {},
   "outputs": [],
   "source": [
    "def find_switches_within_atc_level(drug_switch_df, atc_df, n):\n",
    "    \"\"\"\n",
    "    Find drug switches where drugs share the same ATC code at the specified level.\n",
    "\n",
    "    Args:\n",
    "        drug_switch_df (pd.DataFrame): DataFrame containing drug switch information\n",
    "        atc_df (pd.DataFrame): DataFrame containing ATC codes for drugs\n",
    "        n (int): ATC level (1-5) to compare\n",
    "\n",
    "    Returns:\n",
    "        pd.DataFrame: Filtered drug switch DataFrame where drugs share same ATC level\n",
    "    \"\"\"\n",
    "    if not 1 <= n <= 5:\n",
    "        raise ValueError(\"ATC level must be between 1 and 5\")\n",
    "\n",
    "    # Create mappings of drug_concept_id to list of ATC codes\n",
    "    drug_to_atc = atc_df.groupby(\"drug_concept_id\")[\"atc_code\"].agg(list).to_dict()\n",
    "\n",
    "    def get_atc_level_n(atc_codes, n):\n",
    "        # Extract nth level from list of ATC codes\n",
    "        if not isinstance(atc_codes, list):\n",
    "            return set()\n",
    "        return {code[: n * 2 - 1] for code in atc_codes if len(code) >= n * 2 - 1}\n",
    "\n",
    "    # Function to check if two drugs share same ATC level\n",
    "    def share_atc_level(drug_a_id, drug_b_id):\n",
    "        atc_a = get_atc_level_n(drug_to_atc.get(drug_a_id, []), n)\n",
    "        atc_b = get_atc_level_n(drug_to_atc.get(drug_b_id, []), n)\n",
    "        return bool(atc_a & atc_b)  # Check for non-empty intersection\n",
    "\n",
    "    # Apply filter using vectorized operations\n",
    "    mask = drug_switch_df.apply(\n",
    "        lambda row: share_atc_level(row[\"A_drug_concept_id\"], row[\"B_drug_concept_id\"]),\n",
    "        axis=1,\n",
    "    )\n",
    "\n",
    "    return drug_switch_df[mask]"
   ]
  },
  {
   "cell_type": "code",
   "execution_count": 53,
   "metadata": {},
   "outputs": [],
   "source": [
    "switches_all_3rd_atc = find_switches_within_atc_level(csde_df, atc_df, 3)"
   ]
  },
  {
   "cell_type": "code",
   "execution_count": 66,
   "metadata": {},
   "outputs": [],
   "source": [
    "switches_365d_3rd_atc = find_switches_within_atc_level(csde_df_365d, atc_df, 3)\n",
    "switches_90d_3rd_atc = find_switches_within_atc_level(csde_df_90d, atc_df, 3)\n",
    "switches_60d_3rd_atc = find_switches_within_atc_level(csde_df_60d, atc_df, 3)\n",
    "switches_30d_3rd_atc = find_switches_within_atc_level(csde_df_30d, atc_df, 3)\n",
    "switches_15d_3rd_atc = find_switches_within_atc_level(csde_df_15d, atc_df, 3)\n",
    "switches_7d_3rd_atc = find_switches_within_atc_level(csde_df_7d, atc_df, 3)"
   ]
  },
  {
   "cell_type": "code",
   "execution_count": 73,
   "metadata": {},
   "outputs": [
    {
     "name": "stdout",
     "output_type": "stream",
     "text": [
      "5834246\n",
      "5730430\n",
      "4814220\n",
      "3869382\n",
      "88933\n",
      "53308\n",
      "28320\n"
     ]
    }
   ],
   "source": [
    "print(len(switches_all_3rd_atc))\n",
    "print(len(switches_365d_3rd_atc))\n",
    "print(len(switches_90d_3rd_atc))\n",
    "print(len(switches_60d_3rd_atc))\n",
    "print(len(switches_30d_3rd_atc))\n",
    "print(len(switches_15d_3rd_atc))\n",
    "print(len(switches_7d_3rd_atc))"
   ]
  },
  {
   "cell_type": "code",
   "execution_count": 72,
   "metadata": {},
   "outputs": [
    {
     "name": "stdout",
     "output_type": "stream",
     "text": [
      "5487973\n",
      "0.940648200298719\n",
      "5400031\n",
      "0.9423430702408022\n",
      "4570964\n",
      "0.9494713577692752\n",
      "3669283\n",
      "0.948286573928343\n"
     ]
    }
   ],
   "source": [
    "print(\n",
    "    len(\n",
    "        switches_all_3rd_atc[\n",
    "            switches_all_3rd_atc[\"A_drug_concept_id\"]\n",
    "            == switches_all_3rd_atc[\"B_drug_concept_id\"]\n",
    "        ]\n",
    "    )\n",
    ")\n",
    "print(\n",
    "    len(\n",
    "        switches_all_3rd_atc[\n",
    "            switches_all_3rd_atc[\"A_drug_concept_id\"]\n",
    "            == switches_all_3rd_atc[\"B_drug_concept_id\"]\n",
    "        ]\n",
    "    )\n",
    "    / len(switches_all_3rd_atc)\n",
    ")  # ratio: in switches_all_3rd_atc, 94.06% are with the same drug\n",
    "print(\n",
    "    len(\n",
    "        switches_365d_3rd_atc[\n",
    "            switches_365d_3rd_atc[\"A_drug_concept_id\"]\n",
    "            == switches_365d_3rd_atc[\"B_drug_concept_id\"]\n",
    "        ]\n",
    "    )\n",
    ")\n",
    "print(\n",
    "    len(\n",
    "        switches_365d_3rd_atc[\n",
    "            switches_365d_3rd_atc[\"A_drug_concept_id\"]\n",
    "            == switches_365d_3rd_atc[\"B_drug_concept_id\"]\n",
    "        ]\n",
    "    )\n",
    "    / len(switches_365d_3rd_atc)\n",
    ")  # ratio\n",
    "print(\n",
    "    len(\n",
    "        switches_90d_3rd_atc[\n",
    "            switches_90d_3rd_atc[\"A_drug_concept_id\"]\n",
    "            == switches_90d_3rd_atc[\"B_drug_concept_id\"]\n",
    "        ]\n",
    "    )\n",
    ")\n",
    "print(\n",
    "    len(\n",
    "        switches_90d_3rd_atc[\n",
    "            switches_90d_3rd_atc[\"A_drug_concept_id\"]\n",
    "            == switches_90d_3rd_atc[\"B_drug_concept_id\"]\n",
    "        ]\n",
    "    )\n",
    "    / len(switches_90d_3rd_atc)\n",
    ")  # ratio\n",
    "print(\n",
    "    len(\n",
    "        switches_60d_3rd_atc[\n",
    "            switches_60d_3rd_atc[\"A_drug_concept_id\"]\n",
    "            == switches_60d_3rd_atc[\"B_drug_concept_id\"]\n",
    "        ]\n",
    "    )\n",
    ")\n",
    "print(\n",
    "    len(\n",
    "        switches_60d_3rd_atc[\n",
    "            switches_60d_3rd_atc[\"A_drug_concept_id\"]\n",
    "            == switches_60d_3rd_atc[\"B_drug_concept_id\"]\n",
    "        ]\n",
    "    )\n",
    "    / len(switches_60d_3rd_atc)\n",
    ")  # ratio"
   ]
  },
  {
   "cell_type": "code",
   "execution_count": 76,
   "metadata": {},
   "outputs": [
    {
     "data": {
      "text/plain": [
       "count    5.834246e+06\n",
       "mean     7.672074e+01\n",
       "std      1.166868e+02\n",
       "min      1.000000e+00\n",
       "25%      3.700000e+01\n",
       "50%      4.900000e+01\n",
       "75%      7.200000e+01\n",
       "max      8.633000e+03\n",
       "Name: switch_interval, dtype: float64"
      ]
     },
     "execution_count": 76,
     "metadata": {},
     "output_type": "execute_result"
    }
   ],
   "source": [
    "switches_all_3rd_atc[\"switch_interval\"].describe()"
   ]
  },
  {
   "cell_type": "code",
   "execution_count": 80,
   "metadata": {},
   "outputs": [],
   "source": [
    "# filter out same drug\n",
    "switches_all_3rd_atc_no_same_drug = switches_all_3rd_atc[\n",
    "    switches_all_3rd_atc[\"A_drug_concept_id\"]\n",
    "    != switches_all_3rd_atc[\"B_drug_concept_id\"]\n",
    "]"
   ]
  },
  {
   "cell_type": "code",
   "execution_count": 82,
   "metadata": {},
   "outputs": [
    {
     "data": {
      "text/plain": [
       "count    346273.000000\n",
       "mean        101.764157\n",
       "std         186.855913\n",
       "min           1.000000\n",
       "25%          29.000000\n",
       "50%          50.000000\n",
       "75%         109.000000\n",
       "max        8237.000000\n",
       "Name: switch_interval, dtype: float64"
      ]
     },
     "execution_count": 82,
     "metadata": {},
     "output_type": "execute_result"
    }
   ],
   "source": [
    "switches_all_3rd_atc_no_same_drug[\"switch_interval\"].describe()"
   ]
  },
  {
   "cell_type": "code",
   "execution_count": 74,
   "metadata": {},
   "outputs": [],
   "source": [
    "switches_all_2nd_atc = find_switches_within_atc_level(csde_df, atc_df, 2)"
   ]
  },
  {
   "cell_type": "code",
   "execution_count": 75,
   "metadata": {},
   "outputs": [
    {
     "name": "stdout",
     "output_type": "stream",
     "text": [
      "7177966\n",
      "5487973\n",
      "0.7645582327918522\n"
     ]
    }
   ],
   "source": [
    "print(len(switches_all_2nd_atc))\n",
    "print(\n",
    "    len(\n",
    "        switches_all_2nd_atc[\n",
    "            switches_all_2nd_atc[\"A_drug_concept_id\"]\n",
    "            == switches_all_2nd_atc[\"B_drug_concept_id\"]\n",
    "        ]\n",
    "    )\n",
    ")\n",
    "print(\n",
    "    len(\n",
    "        switches_all_2nd_atc[\n",
    "            switches_all_2nd_atc[\"A_drug_concept_id\"]\n",
    "            == switches_all_2nd_atc[\"B_drug_concept_id\"]\n",
    "        ]\n",
    "    )\n",
    "    / len(switches_all_2nd_atc)\n",
    ")  # ratio: in switches_all_2nd_atc, how many are with the same drug"
   ]
  },
  {
   "cell_type": "code",
   "execution_count": 84,
   "metadata": {},
   "outputs": [
    {
     "data": {
      "text/plain": [
       "count    7.177966e+06\n",
       "mean     7.941966e+01\n",
       "std      1.317307e+02\n",
       "min      1.000000e+00\n",
       "25%      3.600000e+01\n",
       "50%      4.900000e+01\n",
       "75%      7.500000e+01\n",
       "max      8.633000e+03\n",
       "Name: switch_interval, dtype: float64"
      ]
     },
     "execution_count": 84,
     "metadata": {},
     "output_type": "execute_result"
    }
   ],
   "source": [
    "switches_all_2nd_atc[\"switch_interval\"].describe()"
   ]
  },
  {
   "cell_type": "code",
   "execution_count": 85,
   "metadata": {},
   "outputs": [],
   "source": [
    "switches_all_2nd_atc_no_same_drug = switches_all_2nd_atc[\n",
    "    switches_all_2nd_atc[\"A_drug_concept_id\"]\n",
    "    != switches_all_2nd_atc[\"B_drug_concept_id\"]\n",
    "]"
   ]
  },
  {
   "cell_type": "code",
   "execution_count": 86,
   "metadata": {},
   "outputs": [
    {
     "data": {
      "text/plain": [
       "count    1.689993e+06\n",
       "mean     9.331525e+01\n",
       "std      1.836765e+02\n",
       "min      1.000000e+00\n",
       "25%      3.100000e+01\n",
       "50%      4.900000e+01\n",
       "75%      9.300000e+01\n",
       "max      8.237000e+03\n",
       "Name: switch_interval, dtype: float64"
      ]
     },
     "execution_count": 86,
     "metadata": {},
     "output_type": "execute_result"
    }
   ],
   "source": [
    "switches_all_2nd_atc_no_same_drug[\"switch_interval\"].describe()"
   ]
  },
  {
   "cell_type": "markdown",
   "metadata": {},
   "source": [
    "### common switch"
   ]
  },
  {
   "cell_type": "markdown",
   "metadata": {},
   "source": [
    "a row -> switch feature tuple: (A_drug_concept_id, B_drug_concept_id)\n",
    "count the number of occurence for each unique tuple"
   ]
  },
  {
   "cell_type": "code",
   "execution_count": null,
   "metadata": {},
   "outputs": [],
   "source": []
  }
 ],
 "metadata": {
  "kernelspec": {
   "display_name": ".venv",
   "language": "python",
   "name": "python3"
  },
  "language_info": {
   "codemirror_mode": {
    "name": "ipython",
    "version": 3
   },
   "file_extension": ".py",
   "mimetype": "text/x-python",
   "name": "python",
   "nbconvert_exporter": "python",
   "pygments_lexer": "ipython3",
   "version": "3.12.5"
  }
 },
 "nbformat": 4,
 "nbformat_minor": 2
}
