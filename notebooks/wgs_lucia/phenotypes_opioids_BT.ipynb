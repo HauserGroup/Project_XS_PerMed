{
 "cells": [
  {
   "cell_type": "markdown",
   "metadata": {},
   "source": [
    "# SCRIPT TO OBTAIN PHENOTIPIC BINARY TREATS FOR OPIOIDS (FENTANYL AND MORPHINE)\n",
    "\n",
    "Control group: people that are present in OMOP_drug_era\n",
    "\n",
    "Phenotypes cases: \n",
    "- People taking only morphine \n",
    "- People taking only fentanyl\n",
    "- People taking both morhphine and fentanyl\n",
    "\n",
    "The rest of participants: NA\n",
    "\n",
    "\n",
    "## This script should only be run once\n",
    "\n",
    "#### Initialization\n",
    "##### Load packages"
   ]
  },
  {
   "cell_type": "code",
   "execution_count": 30,
   "metadata": {
    "tags": []
   },
   "outputs": [],
   "source": [
    "import dxdata\n",
    "import dxpy\n",
    "import pyspark\n",
    "from pyspark.sql import functions as F\n",
    "\n",
    "import pandas as pd\n",
    "\n",
    "from pathlib import Path"
   ]
  },
  {
   "cell_type": "markdown",
   "metadata": {},
   "source": [
    "##### Spark and dataset configuration "
   ]
  },
  {
   "cell_type": "code",
   "execution_count": 2,
   "metadata": {
    "tags": []
   },
   "outputs": [],
   "source": [
    "sc = pyspark.SparkContext()\n",
    "spark = pyspark.sql.SparkSession(sc)\n",
    "\n",
    "dispensed_database_name = dxpy.find_one_data_object(\n",
    "    classname=\"database\", \n",
    "    name=\"app*\", folder=\"/\", name_mode=\"glob\", \n",
    "    describe=True\n",
    ")[\"describe\"][\"name\"]\n",
    "spark.sql(\"USE \" + dispensed_database_name)\n",
    "\n",
    "dispensed_dataset_id = dxpy.find_one_data_object(\n",
    "    typename=\"Dataset\", name=\"app*.dataset\", folder=\"/\", name_mode=\"glob\"\n",
    ")[\"id\"]\n",
    "dataset = dxdata.load_dataset(id=dispensed_dataset_id)"
   ]
  },
  {
   "cell_type": "code",
   "execution_count": 31,
   "metadata": {},
   "outputs": [],
   "source": [
    "participant = dataset[\"participant\"]\n",
    "drug_era = dataset[\"omop_drug_era\"]  # This would be our control group\n",
    "\n",
    "# Retrieve only the 'eid' field from drug_era and participant tables\n",
    "df_era = drug_era.retrieve_fields(names=[\"eid\"], engine=dxdata.connect())\n",
    "df_participant = participant.retrieve_fields(names=[\"eid\"], engine=dxdata.connect())"
   ]
  },
  {
   "cell_type": "markdown",
   "metadata": {},
   "source": [
    "#### Data\n",
    "##### Retrieve the binary phenotypes"
   ]
  },
  {
   "cell_type": "code",
   "execution_count": 32,
   "metadata": {
    "tags": []
   },
   "outputs": [],
   "source": [
    "# 1. Load the phenotype CSV files into Pandas DataFrames\n",
    "file_only_morphine = f\"/mnt/project/WGS_Lucia/Data/phenotypes/only_morphine.csv\"\n",
    "file_only_fentanyl = f\"/mnt/project/WGS_Lucia/Data/phenotypes/only_fentanyl.csv\"\n",
    "file_both_morphine_fentanyl = f\"/mnt/project/WGS_Lucia/Data/phenotypes/both_morphine_fentanyl.csv\"\n",
    "only_morphine_df = pd.read_csv(file_only_morphine)\n",
    "only_fentanyl_df = pd.read_csv(file_only_fentanyl)\n",
    "both_morphine_fentanyl_df = pd.read_csv(file_both_morphine_fentanyl)\n",
    "\n",
    "# Extract the 'eid' column as lists for easy access\n",
    "only_morphine_eids = only_morphine_df['eid'].tolist()\n",
    "only_fentanyl_eids = only_fentanyl_df['eid'].tolist()\n",
    "both_morphine_fentanyl_eids = both_morphine_fentanyl_df['eid'].tolist()\n",
    "\n",
    "# 2. Get the eids from the `drug_era` Spark DataFrame that are in the control group\n",
    "control_group_df = df_era.select(\"eid\").distinct().toPandas()\n",
    "control_group_eids = control_group_df['eid'].tolist()\n",
    "\n",
    "# 3. Convert the Spark DataFrame 'participant' to a Pandas DataFrame\n",
    "participant_df = df_participant.select(\"eid\").toPandas()\n",
    "\n",
    "# 4. Create the phenotype columns initialized to None\n",
    "participant_df[\"only_morphine\"] = None\n",
    "participant_df[\"only_fentanyl\"] = None\n",
    "participant_df[\"both_morphine_fentanyl\"] = None\n",
    "\n",
    "# 5. Ensure all 'eid' columns are of the same type (e.g., integer)\n",
    "participant_df['eid'] = participant_df['eid'].astype(int)  \n",
    "control_group_eids = [int(eid) for eid in control_group_eids] \n",
    "only_morphine_eids = [int(eid) for eid in only_morphine_eids]  \n",
    "only_fentanyl_eids = [int(eid) for eid in only_fentanyl_eids]  \n",
    "both_morphine_fentanyl_eids = [int(eid) for eid in both_morphine_fentanyl_eids] \n",
    "\n",
    "# 6. Set phenotype columns to 0 for eids that are in the control group\n",
    "# For all eids in the control group, set phenotype columns to 0\n",
    "participant_df.loc[participant_df['eid'].isin(control_group_eids), ['only_morphine', 'only_fentanyl', 'both_morphine_fentanyl']] = 0\n",
    "\n",
    "# 7. Update the phenotype columns based on the 'eid' values from phenotype cases\n",
    "participant_df.loc[participant_df['eid'].isin(only_morphine_eids), 'only_morphine'] = 1\n",
    "participant_df.loc[participant_df['eid'].isin(only_fentanyl_eids), 'only_fentanyl'] = 1\n",
    "participant_df.loc[participant_df['eid'].isin(both_morphine_fentanyl_eids), 'both_morphine_fentanyl'] = 1"
   ]
  },
  {
   "cell_type": "code",
   "execution_count": 33,
   "metadata": {
    "tags": []
   },
   "outputs": [
    {
     "name": "stdout",
     "output_type": "stream",
     "text": [
      "There is at least one '1' in the 'only_morphine' column.\n"
     ]
    }
   ],
   "source": [
    "# Check if there is a 1 in the \"only_morphine\" column\n",
    "has_one_in_only_morphine = participant_df['only_morphine'].eq(1).any()\n",
    "\n",
    "# Print the result\n",
    "if has_one_in_only_morphine:\n",
    "    print(\"There is at least one '1' in the 'only_morphine' column.\")\n",
    "else:\n",
    "    print(\"There are no '1's in the 'only_morphine' column.\")"
   ]
  },
  {
   "cell_type": "markdown",
   "metadata": {},
   "source": [
    "##### DataFrame formatting"
   ]
  },
  {
   "cell_type": "code",
   "execution_count": 34,
   "metadata": {
    "tags": []
   },
   "outputs": [
    {
     "data": {
      "text/html": [
       "<div>\n",
       "<style scoped>\n",
       "    .dataframe tbody tr th:only-of-type {\n",
       "        vertical-align: middle;\n",
       "    }\n",
       "\n",
       "    .dataframe tbody tr th {\n",
       "        vertical-align: top;\n",
       "    }\n",
       "\n",
       "    .dataframe thead th {\n",
       "        text-align: right;\n",
       "    }\n",
       "</style>\n",
       "<table border=\"1\" class=\"dataframe\">\n",
       "  <thead>\n",
       "    <tr style=\"text-align: right;\">\n",
       "      <th></th>\n",
       "      <th>only_morphine</th>\n",
       "      <th>only_fentanyl</th>\n",
       "      <th>both_morphine_fentanyl</th>\n",
       "    </tr>\n",
       "  </thead>\n",
       "  <tbody>\n",
       "    <tr>\n",
       "      <th>0</th>\n",
       "      <td>0</td>\n",
       "      <td>0</td>\n",
       "      <td>0</td>\n",
       "    </tr>\n",
       "    <tr>\n",
       "      <th>1</th>\n",
       "      <td>None</td>\n",
       "      <td>None</td>\n",
       "      <td>None</td>\n",
       "    </tr>\n",
       "    <tr>\n",
       "      <th>2</th>\n",
       "      <td>0</td>\n",
       "      <td>0</td>\n",
       "      <td>0</td>\n",
       "    </tr>\n",
       "    <tr>\n",
       "      <th>3</th>\n",
       "      <td>None</td>\n",
       "      <td>None</td>\n",
       "      <td>None</td>\n",
       "    </tr>\n",
       "    <tr>\n",
       "      <th>4</th>\n",
       "      <td>0</td>\n",
       "      <td>0</td>\n",
       "      <td>0</td>\n",
       "    </tr>\n",
       "    <tr>\n",
       "      <th>...</th>\n",
       "      <td>...</td>\n",
       "      <td>...</td>\n",
       "      <td>...</td>\n",
       "    </tr>\n",
       "    <tr>\n",
       "      <th>502231</th>\n",
       "      <td>None</td>\n",
       "      <td>None</td>\n",
       "      <td>None</td>\n",
       "    </tr>\n",
       "    <tr>\n",
       "      <th>502232</th>\n",
       "      <td>0</td>\n",
       "      <td>0</td>\n",
       "      <td>0</td>\n",
       "    </tr>\n",
       "    <tr>\n",
       "      <th>502233</th>\n",
       "      <td>None</td>\n",
       "      <td>None</td>\n",
       "      <td>None</td>\n",
       "    </tr>\n",
       "    <tr>\n",
       "      <th>502234</th>\n",
       "      <td>None</td>\n",
       "      <td>None</td>\n",
       "      <td>None</td>\n",
       "    </tr>\n",
       "    <tr>\n",
       "      <th>502235</th>\n",
       "      <td>0</td>\n",
       "      <td>0</td>\n",
       "      <td>0</td>\n",
       "    </tr>\n",
       "  </tbody>\n",
       "</table>\n",
       "<p>502236 rows × 3 columns</p>\n",
       "</div>"
      ],
      "text/plain": [
       "       only_morphine only_fentanyl both_morphine_fentanyl\n",
       "0                  0             0                      0\n",
       "1               None          None                   None\n",
       "2                  0             0                      0\n",
       "3               None          None                   None\n",
       "4                  0             0                      0\n",
       "...              ...           ...                    ...\n",
       "502231          None          None                   None\n",
       "502232             0             0                      0\n",
       "502233          None          None                   None\n",
       "502234          None          None                   None\n",
       "502235             0             0                      0\n",
       "\n",
       "[502236 rows x 3 columns]"
      ]
     },
     "metadata": {},
     "output_type": "display_data"
    }
   ],
   "source": [
    "display(participant_df.drop(\"eid\", axis=1))"
   ]
  },
  {
   "cell_type": "code",
   "execution_count": 35,
   "metadata": {},
   "outputs": [],
   "source": [
    "# Set the 'eid' column as the index\n",
    "participant_df.set_index('eid', inplace=True)\n",
    "\n",
    "# Insert 'FID' and 'IID' as the first two columns using the index\n",
    "participant_df.insert(0, \"FID\", participant_df.index)\n",
    "participant_df.insert(1, \"IID\", participant_df.index)"
   ]
  },
  {
   "cell_type": "markdown",
   "metadata": {},
   "source": [
    "##### Export and upload DataFrame"
   ]
  },
  {
   "cell_type": "code",
   "execution_count": 36,
   "metadata": {
    "tags": []
   },
   "outputs": [],
   "source": [
    "# Save the result as a TSV file\n",
    "participant_df.to_csv(\"phenotypes.opioids.tsv\", sep='\\t', index=False, na_rep=\"NA\")"
   ]
  },
  {
   "cell_type": "code",
   "execution_count": 29,
   "metadata": {
    "tags": []
   },
   "outputs": [
    {
     "name": "stdout",
     "output_type": "stream",
     "text": [
      "[===========================================================>] Uploaded 11,710,889 of 11,710,889 bytes (100%) phenotypes.opioids.tsv\n",
      "ID                                file-GxK0VXjJb4J581fQ9YKkpKyx\n",
      "Class                             file\n",
      "Project                           project-GfVK998Jb4JJgVBjKXPyxJ9q\n",
      "Folder                            /WGS_Lucia/Data/phenotypes\n",
      "Name                              phenotypes.opioids.tsv\n",
      "State                             \u001b[33mclosing\u001b[0m\n",
      "Visibility                        visible\n",
      "Types                             -\n",
      "Properties                        -\n",
      "Tags                              -\n",
      "Outgoing links                    -\n",
      "Created                           Fri Dec 13 10:13:31 2024\n",
      "Created by                        luciass6\n",
      " via the job                      job-GxJzy8QJb4J3Jb0G86G06719\n",
      "Last modified                     Fri Dec 13 10:13:32 2024\n",
      "Media type                        \n",
      "archivalState                     \"live\"\n",
      "cloudAccount                      \"cloudaccount-dnanexus\"\n"
     ]
    }
   ],
   "source": [
    "! dx upload phenotypes.opioids.tsv --path /WGS_Lucia/Data/phenotypes/"
   ]
  },
  {
   "cell_type": "code",
   "execution_count": null,
   "metadata": {},
   "outputs": [],
   "source": []
  }
 ],
 "metadata": {
  "kernelspec": {
   "display_name": "Python 3 (ipykernel)",
   "language": "python",
   "name": "python3"
  },
  "language_info": {
   "codemirror_mode": {
    "name": "ipython",
    "version": 3
   },
   "file_extension": ".py",
   "mimetype": "text/x-python",
   "name": "python",
   "nbconvert_exporter": "python",
   "pygments_lexer": "ipython3",
   "version": "3.9.16"
  }
 },
 "nbformat": 4,
 "nbformat_minor": 4
}
