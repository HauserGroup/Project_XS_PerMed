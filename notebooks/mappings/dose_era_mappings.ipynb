{
 "cells": [
  {
   "cell_type": "code",
   "execution_count": 7,
   "id": "96acdae6-6b07-44da-a58a-33dbf1743361",
   "metadata": {
    "tags": []
   },
   "outputs": [
    {
     "name": "stdout",
     "output_type": "stream",
     "text": [
      "\u001b[33mWARNING: The directory '/home/dnanexus/.cache/pip' or its parent directory is not owned or is not writable by the current user. The cache has been disabled. Check the permissions and owner of that directory. If executing pip with sudo, you should use sudo's -H flag.\u001b[0m\u001b[33m\n",
      "\u001b[0mCollecting openpyxl\n",
      "  Downloading openpyxl-3.1.5-py2.py3-none-any.whl (250 kB)\n",
      "\u001b[2K     \u001b[90m━━━━━━━━━━━━━━━━━━━━━━━━━━━━━━━━━━━━━━\u001b[0m \u001b[32m250.9/250.9 kB\u001b[0m \u001b[31m42.2 MB/s\u001b[0m eta \u001b[36m0:00:00\u001b[0m\n",
      "\u001b[?25hCollecting et-xmlfile\n",
      "  Downloading et_xmlfile-1.1.0-py3-none-any.whl (4.7 kB)\n",
      "Installing collected packages: et-xmlfile, openpyxl\n",
      "Successfully installed et-xmlfile-1.1.0 openpyxl-3.1.5\n",
      "\u001b[33mWARNING: Running pip as the 'root' user can result in broken permissions and conflicting behaviour with the system package manager. It is recommended to use a virtual environment instead: https://pip.pypa.io/warnings/venv\u001b[0m\u001b[33m\n",
      "\u001b[0m"
     ]
    }
   ],
   "source": [
    "# ! pip install openpyxl\n",
    "# ! hadoop fs -mkdir /resources\n",
    "# ! wget  -nd  biobank.ndph.ox.ac.uk/ukb/ukb/auxdata/omop_concept.tsv  && hadoop fs -put omop_concept.tsv /resources/\n",
    "# ! wget  -nd  biobank.ndph.ox.ac.uk/ukb/ukb/auxdata/omop_drug_strength.tsv && hadoop fs -put omop_drug_strength.tsv /resources/\n",
    "# ! wget https://zenodo.org/records/6949696/files/OMOP2OBO_V1_Drug_Exposure_Mapping_Oct2020.xlsx\n",
    "# ! hadoop fs -put RXNCONSO.RRF /resources/"
   ]
  },
  {
   "cell_type": "code",
   "execution_count": 2,
   "id": "cd336278-716f-4f21-b7b9-dc22c61fbe5f",
   "metadata": {},
   "outputs": [],
   "source": [
    "# NOTES\n",
    "# https://www.nlm.nih.gov/research/umls/rxnorm/docs/appendix1.html\n",
    "# https://www.nlm.nih.gov/research/umls/rxnorm/docs/appendix5.html\n",
    "# https://www.nlm.nih.gov/research/umls/rxnorm/docs/techdoc.html#conso"
   ]
  },
  {
   "cell_type": "code",
   "execution_count": 1,
   "id": "59dd2f58-adb8-4537-8460-dbc3ecd1ef2f",
   "metadata": {
    "tags": []
   },
   "outputs": [],
   "source": [
    "import pyspark\n",
    "import dxpy\n",
    "import dxdata\n",
    "import pandas as pd\n",
    "import subprocess\n",
    "from pathlib import Path\n",
    "from pyspark.sql.functions import col"
   ]
  },
  {
   "cell_type": "code",
   "execution_count": 2,
   "id": "a5509a89-db5e-40e6-9560-a815c70f09b0",
   "metadata": {
    "tags": []
   },
   "outputs": [],
   "source": [
    "sc = pyspark.SparkContext()\n",
    "spark = pyspark.sql.SparkSession(sc)\n",
    "\n",
    "dispensed_database_name = dxpy.find_one_data_object(classname=\"database\", name=\"app*\", folder=\"/\", name_mode=\"glob\", describe=True)[\"describe\"][\"name\"]\n",
    "dispensed_dataset_id = dxpy.find_one_data_object(typename=\"Dataset\", name=\"app*.dataset\", folder=\"/\", name_mode=\"glob\")[\"id\"]\n",
    "\n",
    "spark.sql(\"USE \" + dispensed_database_name)\n",
    "\n",
    "dataset = dxdata.load_dataset(id=dispensed_dataset_id)"
   ]
  },
  {
   "cell_type": "code",
   "execution_count": 3,
   "id": "1be8ae88-363e-4f8a-9d20-eace49795195",
   "metadata": {
    "tags": []
   },
   "outputs": [
    {
     "name": "stdout",
     "output_type": "stream",
     "text": [
      "Number of entries 34321\n",
      "+-------------+---------------+---------------+----------+-------------------+-----------------+\n",
      "|  dose_era_id|drug_concept_id|unit_concept_id|dose_value|dose_era_start_date|dose_era_end_date|\n",
      "+-------------+---------------+---------------+----------+-------------------+-----------------+\n",
      "|1425929142274|        1549786|             -1|        -1|         25/02/1998|       26/03/1998|\n",
      "| 764504178721|        1589505|             -1|        -1|         16/07/1999|       14/08/1999|\n",
      "|1460288880666|        1549786|             -1|        -1|         04/11/1996|       03/12/1996|\n",
      "| 841813590107|        1589505|             -1|        -1|         21/12/1999|       19/01/2000|\n",
      "| 738734375019|        1549786|             -1|        -1|         21/12/1999|       19/01/2000|\n",
      "+-------------+---------------+---------------+----------+-------------------+-----------------+\n",
      "only showing top 5 rows\n",
      "\n"
     ]
    }
   ],
   "source": [
    "# Init pyspark and load dataframe\n",
    "OMOP_TABLE = \"omop_dose_era\" # 'omop_drug_era', 'omop_drug_exposure'\n",
    "\n",
    "# Load dose era table\n",
    "ode = dataset[OMOP_TABLE]\n",
    "\n",
    "field_names = [f.name for f in ode.fields]\n",
    "\n",
    "df = ode.retrieve_fields(names=field_names, engine=dxdata.connect())\n",
    "df = df.drop(\"eid\")\n",
    "\n",
    "print(f\"Number of entries {df.count()}\")\n",
    "df.show(5)"
   ]
  },
  {
   "cell_type": "code",
   "execution_count": 6,
   "id": "0fea8d6c-3866-4892-b8ac-baaa05583fbc",
   "metadata": {
    "tags": []
   },
   "outputs": [
    {
     "name": "stdout",
     "output_type": "stream",
     "text": [
      "RxNorm Ingredients: 13137\n",
      "['concept_id', 'concept_name', 'domain_id', 'vocabulary_id', 'concept_class_id', 'standard_concept', 'concept_code', 'valid_start_date', 'valid_end_date', 'invalid_reason']\n",
      "+----------+------------------------------------+---------+-------------+----------------+----------------+------------+----------------+--------------+--------------+\n",
      "|concept_id|concept_name                        |domain_id|vocabulary_id|concept_class_id|standard_concept|concept_code|valid_start_date|valid_end_date|invalid_reason|\n",
      "+----------+------------------------------------+---------+-------------+----------------+----------------+------------+----------------+--------------+--------------+\n",
      "|501343    |hepatitis B immune globulin         |Drug     |RxNorm       |Ingredient      |S               |26744       |1970-01-01      |2099-12-31    |null          |\n",
      "|507832    |herpesvirus 3, human                |Drug     |RxNorm       |Ingredient      |S               |11131       |1970-01-01      |2099-12-31    |null          |\n",
      "|509079    |meningococcal group A polysaccharide|Drug     |RxNorm       |Ingredient      |S               |29501       |1970-01-01      |2099-12-31    |null          |\n",
      "+----------+------------------------------------+---------+-------------+----------------+----------------+------------+----------------+--------------+--------------+\n",
      "only showing top 3 rows\n",
      "\n"
     ]
    }
   ],
   "source": [
    "# Get RxNorm Ingredients (IN) and associated concept_codes\n",
    "conc = spark.read.csv(\"/resources/omop_concept.tsv\", sep = \"\\t\", header=True, inferSchema=True)\n",
    "rx_ing = conc.filter(\n",
    "    (conc[\"vocabulary_id\"] == \"RxNorm\") & (conc[\"concept_class_id\"] == \"Ingredient\") & (conc[\"invalid_reason\"].isNull())\n",
    ")\n",
    "print(f\"RxNorm Ingredients: {rx_ing.count()}\")\n",
    "print(rx_ing.columns)\n",
    "rx_ing.show(3, truncate = False, vertical = False)"
   ]
  },
  {
   "cell_type": "code",
   "execution_count": 7,
   "id": "0a4086d0-48fb-40df-b5d9-022ca75045c3",
   "metadata": {
    "tags": []
   },
   "outputs": [
    {
     "name": "stdout",
     "output_type": "stream",
     "text": [
      "Number of records before join: 618\n",
      "Number of records after join: 618\n",
      "+---------------+----------+----------------------------------------------+---------+-------------+----------------+----------------+------------+----------------+--------------+--------------+\n",
      "|drug_concept_id|concept_id|concept_name                                  |domain_id|vocabulary_id|concept_class_id|standard_concept|concept_code|valid_start_date|valid_end_date|invalid_reason|\n",
      "+---------------+----------+----------------------------------------------+---------+-------------+----------------+----------------+------------+----------------+--------------+--------------+\n",
      "|528323         |528323    |hepatitis B surface antigen vaccine           |Drug     |RxNorm       |Ingredient      |S               |797752      |2008-06-29      |2099-12-31    |null          |\n",
      "|529660         |529660    |hepatitis A vaccine (inactivated) strain HM175|Drug     |RxNorm       |Ingredient      |S               |798361      |2008-06-29      |2099-12-31    |null          |\n",
      "|700299         |700299    |thioridazine                                  |Drug     |RxNorm       |Ingredient      |S               |10502       |1970-01-01      |2099-12-31    |null          |\n",
      "|703547         |703547    |trazodone                                     |Drug     |RxNorm       |Ingredient      |S               |10737       |1970-01-01      |2099-12-31    |null          |\n",
      "|704943         |704943    |methocarbamol                                 |Drug     |RxNorm       |Ingredient      |S               |6845        |1970-01-01      |2099-12-31    |null          |\n",
      "+---------------+----------+----------------------------------------------+---------+-------------+----------------+----------------+------------+----------------+--------------+--------------+\n",
      "only showing top 5 rows\n",
      "\n"
     ]
    }
   ],
   "source": [
    "# Get distinct drug_concept_ids\n",
    "\n",
    "dci = df.select([\"drug_concept_id\"]).distinct()\n",
    "print(f\"Number of records before join: {dci.count()}\")\n",
    "\n",
    "dci = dci.join(rx_ing, dci[\"drug_concept_id\"] == rx_ing[\"concept_id\"], how = 'inner')\n",
    "print(f\"Number of records after join: {dci.count()}\")\n",
    "\n",
    "dci.show(5, truncate = False, vertical = False)"
   ]
  },
  {
   "cell_type": "code",
   "execution_count": 8,
   "id": "b3d180f8-4eab-4133-b175-53ec93427ee9",
   "metadata": {
    "tags": []
   },
   "outputs": [
    {
     "name": "stdout",
     "output_type": "stream",
     "text": [
      "Number of RxNorm Ingredients: 14395\n",
      "+---+---+--------+--------+---+------+----+----+----------------+----+----+\n",
      "|_c0|_c1|_c7     |_c8     |_c9|_c11  |_c12|_c13|_c14            |_c16|_c17|\n",
      "+---+---+--------+--------+---+------+----+----+----------------+----+----+\n",
      "|44 |ENG|12251526|12251526|44 |RXNORM|IN  |44  |mesna           |N   |4096|\n",
      "|61 |ENG|12254378|12254378|61 |RXNORM|IN  |61  |beta-alanine    |N   |4096|\n",
      "|73 |ENG|12252051|12252051|73 |RXNORM|IN  |73  |docosahexaenoate|N   |4096|\n",
      "+---+---+--------+--------+---+------+----+----+----------------+----+----+\n",
      "only showing top 3 rows\n",
      "\n"
     ]
    }
   ],
   "source": [
    "###\n",
    "### RxNorm Ingredient\n",
    "###\n",
    "\n",
    "# Documentation here https://www.nlm.nih.gov/research/umls/rxnorm/docs/techdoc.html#conso\n",
    "# See https://www.nlm.nih.gov/research/umls/rxnorm/docs/appendix5.html for TTY\n",
    "# Essentially _c11 = SAB, Source abbreviation. _c12 = TTY, Term type in source, _c16 = SUPPRESS, where N is No\n",
    "\n",
    "conso = spark.read.csv(\"/resources/RXNCONSO.RRF\", sep = \"|\", header=False, inferSchema=True)\n",
    "\n",
    "concept_code_to_drug = conso.filter(\n",
    "    (conso[\"_c11\"] == \"RXNORM\") & (conso[\"_c12\"] == \"IN\") & (conso[\"_c16\"] == \"N\")\n",
    ")\n",
    "\n",
    "\n",
    "# Identify columns where all values are null\n",
    "non_null_columns = [col_name for col_name in concept_code_to_drug.columns if concept_code_to_drug.filter(col(col_name).isNotNull()).count() > 0]\n",
    "\n",
    "# Select only the columns that are not entirely null\n",
    "concept_code_to_drug = concept_code_to_drug.select(*non_null_columns)\n",
    "\n",
    "print(f\"Number of RxNorm IN concepts: {concept_code_to_drug.count()}\")\n",
    "concept_code_to_drug.show(3, truncate = False, vertical = False)"
   ]
  },
  {
   "cell_type": "code",
   "execution_count": 9,
   "id": "425d5a08-9a1a-4145-b969-29d7f7cd4286",
   "metadata": {
    "tags": []
   },
   "outputs": [
    {
     "name": "stdout",
     "output_type": "stream",
     "text": [
      "617\n",
      "+---------------+----------+------------------+---------+-------------+----------------+----------------+------------+----------------+--------------+--------------+---+---+--------+--------+---+------+----+----+------------------+----+----+\n",
      "|drug_concept_id|concept_id|concept_name      |domain_id|vocabulary_id|concept_class_id|standard_concept|concept_code|valid_start_date|valid_end_date|invalid_reason|_c0|_c1|_c7     |_c8     |_c9|_c11  |_c12|_c13|_c14              |_c16|_c17|\n",
      "+---------------+----------+------------------+---------+-------------+----------------+----------------+------------+----------------+--------------+--------------+---+---+--------+--------+---+------+----+----+------------------+----+----+\n",
      "|929549         |929549    |acetic acid       |Drug     |RxNorm       |Ingredient      |S               |168         |1970-01-01      |2099-12-31    |null          |168|ENG|12250948|12250948|168|RXNORM|IN  |168 |acetic acid       |N   |4096|\n",
      "|1154343        |1154343   |albuterol         |Drug     |RxNorm       |Ingredient      |S               |435         |1970-01-01      |2099-12-31    |null          |435|ENG|12253235|12253235|435|RXNORM|IN  |435 |albuterol         |N   |4096|\n",
      "|985247         |985247    |aluminum hydroxide|Drug     |RxNorm       |Ingredient      |S               |612         |1970-01-01      |2099-12-31    |null          |612|ENG|12250958|12250958|612|RXNORM|IN  |612 |aluminum hydroxide|N   |4096|\n",
      "+---------------+----------+------------------+---------+-------------+----------------+----------------+------------+----------------+--------------+--------------+---+---+--------+--------+---+------+----+----+------------------+----+----+\n",
      "only showing top 3 rows\n",
      "\n"
     ]
    }
   ],
   "source": [
    "dci2 = dci.join(concept_code_to_drug, dci[\"concept_code\"] == concept_code_to_drug[\"_c0\"], how = 'inner')\n",
    "print(dci2.count()) # We lose Senna Leaves which is obsolete\n",
    "dci2.show(3, truncate = False, vertical = False)"
   ]
  },
  {
   "cell_type": "code",
   "execution_count": 10,
   "id": "6a6d68bc-08bc-4652-817b-16f8663c5864",
   "metadata": {
    "tags": []
   },
   "outputs": [
    {
     "name": "stdout",
     "output_type": "stream",
     "text": [
      "Number of entries original: 34321\n",
      "Number of entries finished: 34303\n"
     ]
    }
   ],
   "source": [
    "print(f\"Number of entries original: {df.count()}\")\n",
    "\n",
    "print(f\"Number of entries finished: {df.join(dci2, on = 'drug_concept_id', how = 'inner').count()}\")"
   ]
  },
  {
   "cell_type": "code",
   "execution_count": 11,
   "id": "53e7d387-7554-45c0-a956-45811ef348b4",
   "metadata": {
    "tags": []
   },
   "outputs": [
    {
     "name": "stdout",
     "output_type": "stream",
     "text": [
      "+---------------+----------+------------+---------+-------------+----------------+----------------+------------+----------------+--------------+--------------+\n",
      "|drug_concept_id|concept_id|concept_name|domain_id|vocabulary_id|concept_class_id|standard_concept|concept_code|valid_start_date|valid_end_date|invalid_reason|\n",
      "+---------------+----------+------------+---------+-------------+----------------+----------------+------------+----------------+--------------+--------------+\n",
      "|         992409|    992409|Senna leaves|     Drug|       RxNorm|      Ingredient|               S|      237929|      1970-01-01|    2099-12-31|          null|\n",
      "+---------------+----------+------------+---------+-------------+----------------+----------------+------------+----------------+--------------+--------------+\n",
      "\n"
     ]
    }
   ],
   "source": [
    "dci.join(dci2, on = 'drug_concept_id', how = 'left_anti').show()"
   ]
  },
  {
   "cell_type": "code",
   "execution_count": 12,
   "id": "c3c8b39e-4ead-49cc-9343-84e667545b49",
   "metadata": {
    "tags": []
   },
   "outputs": [],
   "source": [
    "dci2.toPandas().to_csv(\"dose_era_ingredients.tsv\", sep = \"\\t\")"
   ]
  },
  {
   "cell_type": "code",
   "execution_count": 13,
   "id": "5878b867-d15f-4164-b94d-151f923c18d4",
   "metadata": {
    "tags": []
   },
   "outputs": [
    {
     "name": "stdout",
     "output_type": "stream",
     "text": [
      "Number of ATC codes: 5495\n",
      "+---+---+-------+----+----+-------+--------+----+\n",
      "|_c0|_c1|_c7    |_c11|_c12|_c13   |_c14    |_c16|\n",
      "+---+---+-------+----+----+-------+--------+----+\n",
      "|44 |ENG|5481074|ATC |IN  |R05CB05|mesna   |N   |\n",
      "|44 |ENG|5481075|ATC |IN  |V03AF01|mesna   |N   |\n",
      "|63 |ENG|5481013|ATC |IN  |C10AX05|meglutol|N   |\n",
      "+---+---+-------+----+----+-------+--------+----+\n",
      "only showing top 3 rows\n",
      "\n"
     ]
    }
   ],
   "source": [
    "###\n",
    "### ATC codes\n",
    "###\n",
    "conso = spark.read.csv(\"/resources/RXNCONSO.RRF\", sep = \"|\", header=False, inferSchema=True)\n",
    "\n",
    "concept_code_to_atc = conso.filter(\n",
    "    (conso[\"_c11\"] == \"ATC\") & (conso[\"_c12\"] == \"IN\") & (conso[\"_c16\"] == \"N\")\n",
    ")\n",
    "\n",
    "\n",
    "# Identify columns where all values are null\n",
    "non_null_columns = [col_name for col_name in concept_code_to_atc.columns if concept_code_to_atc.filter(col(col_name).isNotNull()).count() > 0]\n",
    "\n",
    "# Select only the columns that are not entirely null\n",
    "concept_code_to_atc = concept_code_to_atc.select(*non_null_columns)\n",
    "\n",
    "print(f\"Number of ATC codes: {concept_code_to_atc.count()}\")\n",
    "concept_code_to_atc.show(3, truncate = False, vertical = False)"
   ]
  },
  {
   "cell_type": "code",
   "execution_count": 21,
   "id": "b70f84a4-7062-4863-ac93-a7b61638f8f9",
   "metadata": {
    "tags": []
   },
   "outputs": [
    {
     "name": "stdout",
     "output_type": "stream",
     "text": [
      "832\n",
      "+---------------+----------+------------+---------+-------------+----------------+----------------+------------+----------------+--------------+--------------+---+---+-------+----+----+-------+-----------+----+\n",
      "|drug_concept_id|concept_id|concept_name|domain_id|vocabulary_id|concept_class_id|standard_concept|concept_code|valid_start_date|valid_end_date|invalid_reason|_c0|_c1|_c7    |_c11|_c12|_c13   |_c14       |_c16|\n",
      "+---------------+----------+------------+---------+-------------+----------------+----------------+------------+----------------+--------------+--------------+---+---+-------+----+----+-------+-----------+----+\n",
      "|929549         |929549    |acetic acid |Drug     |RxNorm       |Ingredient      |S               |168         |1970-01-01      |2099-12-31    |null          |168|ENG|5478476|ATC |IN  |G01AD02|acetic acid|N   |\n",
      "|929549         |929549    |acetic acid |Drug     |RxNorm       |Ingredient      |S               |168         |1970-01-01      |2099-12-31    |null          |168|ENG|5478477|ATC |IN  |S02AA10|acetic acid|N   |\n",
      "|1154343        |1154343   |albuterol   |Drug     |RxNorm       |Ingredient      |S               |435         |1970-01-01      |2099-12-31    |null          |435|ENG|5482182|ATC |IN  |R03AC02|salbutamol |N   |\n",
      "+---------------+----------+------------+---------+-------------+----------------+----------------+------------+----------------+--------------+--------------+---+---+-------+----+----+-------+-----------+----+\n",
      "only showing top 3 rows\n",
      "\n"
     ]
    }
   ],
   "source": [
    "dci3 = dci.join(concept_code_to_atc, dci[\"concept_code\"] == concept_code_to_atc[\"_c0\"], how = 'inner')\n",
    "\n",
    "print(dci3.count())\n",
    "dci3.show(3, truncate = False, vertical = False)"
   ]
  },
  {
   "cell_type": "code",
   "execution_count": 15,
   "id": "25b4d7cb-a959-4c06-8efa-5d51dcea0ee8",
   "metadata": {
    "tags": []
   },
   "outputs": [
    {
     "name": "stdout",
     "output_type": "stream",
     "text": [
      "Number of entries original: 34321\n",
      "Number of entries finished: 72093\n",
      "Number of distinct finished: 509\n"
     ]
    }
   ],
   "source": [
    "print(f\"Number of entries original: {df.count()}\")\n",
    "\n",
    "print(f\"Number of entries finished: {df.join(dci3, on = 'drug_concept_id', how = 'inner').count()}\")\n",
    "print(f\"Number of distinct finished: {df.join(dci3, on = 'drug_concept_id', how = 'inner').select('drug_concept_id').distinct().count()}\")"
   ]
  },
  {
   "cell_type": "code",
   "execution_count": 16,
   "id": "ed04d392-7d80-4f4a-9cc3-8f193a69c455",
   "metadata": {
    "tags": []
   },
   "outputs": [
    {
     "name": "stdout",
     "output_type": "stream",
     "text": [
      "Missing ATC: 109\n",
      "Records with ATC codes: 31409\n"
     ]
    }
   ],
   "source": [
    "atc_missing = dci.join(dci3, on = 'drug_concept_id', how = 'left_anti')\n",
    "\n",
    "print(f\"Missing ATC: {atc_missing.count()}\")\n",
    "print(f\"Records with ATC codes: {df.join(atc_missing, on = 'drug_concept_id', how = 'left_anti').count()}\")\n",
    "\n",
    "\n",
    "SHOW_MISSING = False\n",
    "N_SHOW = 10\n",
    "\n",
    "if SHOW_MISSING:\n",
    "    dci_anti = atc_missing.show(N_SHOW)"
   ]
  },
  {
   "cell_type": "code",
   "execution_count": 18,
   "id": "b7d4174a-64b5-4b9e-93c0-7bf2deca7c36",
   "metadata": {
    "tags": []
   },
   "outputs": [],
   "source": [
    "dci3.toPandas().to_csv(\"dose_era_atc.tsv\", sep = \"\\t\")"
   ]
  },
  {
   "cell_type": "code",
   "execution_count": 20,
   "id": "ad2fba4c-581a-4a0d-93d0-d035f76571bd",
   "metadata": {
    "tags": []
   },
   "outputs": [
    {
     "name": "stdout",
     "output_type": "stream",
     "text": [
      "Number of DrugBank identifier: 10715\n",
      "+---+---+--------+-------+--------+----+-------+------------------------------+----+\n",
      "|_c0|_c1|_c7     |_c9    |_c11    |_c12|_c13   |_c14                          |_c16|\n",
      "+---+---+--------+-------+--------+----+-------+------------------------------+----+\n",
      "|48 |ENG|12855631|DB18029|DRUGBANK|IN  |DB18029|24,25-Dihydroxycholecalciferol|N   |\n",
      "|60 |ENG|10894803|DB01509|DRUGBANK|IN  |DB01509|Tenamfetamine                 |N   |\n",
      "|74 |ENG|9733930 |DB02362|DRUGBANK|IN  |DB02362|Aminobenzoic acid             |N   |\n",
      "+---+---+--------+-------+--------+----+-------+------------------------------+----+\n",
      "only showing top 3 rows\n",
      "\n"
     ]
    }
   ],
   "source": [
    "###\n",
    "### DrugBank\n",
    "###\n",
    "conso = spark.read.csv(\"/resources/RXNCONSO.RRF\", sep = \"|\", header=False, inferSchema=True)\n",
    "\n",
    "concept_code_to_db = conso.filter(\n",
    "    (conso[\"_c11\"] == \"DRUGBANK\") & (conso[\"_c12\"] == \"IN\") & (conso[\"_c16\"] == \"N\")\n",
    ")\n",
    "\n",
    "\n",
    "# Identify columns where all values are null\n",
    "non_null_columns = [col_name for col_name in concept_code_to_db.columns if concept_code_to_db.filter(col(col_name).isNotNull()).count() > 0]\n",
    "\n",
    "# Select only the columns that are not entirely null\n",
    "concept_code_to_db = concept_code_to_db.select(*non_null_columns)\n",
    "\n",
    "print(f\"Number of DrugBank identifier: {concept_code_to_db.count()}\")\n",
    "concept_code_to_db.show(3, truncate = False, vertical = False)\n"
   ]
  },
  {
   "cell_type": "code",
   "execution_count": 22,
   "id": "3b9b92a1-ac86-472f-926f-3955632fd086",
   "metadata": {
    "tags": []
   },
   "outputs": [
    {
     "name": "stdout",
     "output_type": "stream",
     "text": [
      "552\n",
      "+---------------+----------+------------------+---------+-------------+----------------+----------------+------------+----------------+--------------+--------------+---+---+--------+-------+--------+----+-------+------------------+----+\n",
      "|drug_concept_id|concept_id|concept_name      |domain_id|vocabulary_id|concept_class_id|standard_concept|concept_code|valid_start_date|valid_end_date|invalid_reason|_c0|_c1|_c7     |_c9    |_c11    |_c12|_c13   |_c14              |_c16|\n",
      "+---------------+----------+------------------+---------+-------------+----------------+----------------+------------+----------------+--------------+--------------+---+---+--------+-------+--------+----+-------+------------------+----+\n",
      "|929549         |929549    |acetic acid       |Drug     |RxNorm       |Ingredient      |S               |168         |1970-01-01      |2099-12-31    |null          |168|ENG|8393346 |DB03166|DRUGBANK|IN  |DB03166|Acetic acid       |N   |\n",
      "|1154343        |1154343   |albuterol         |Drug     |RxNorm       |Ingredient      |S               |435         |1970-01-01      |2099-12-31    |null          |435|ENG|12885383|DB01001|DRUGBANK|IN  |DB01001|Albuterol         |N   |\n",
      "|985247         |985247    |aluminum hydroxide|Drug     |RxNorm       |Ingredient      |S               |612         |1970-01-01      |2099-12-31    |null          |612|ENG|8429696 |DB06723|DRUGBANK|IN  |DB06723|Aluminum hydroxide|N   |\n",
      "+---------------+----------+------------------+---------+-------------+----------------+----------------+------------+----------------+--------------+--------------+---+---+--------+-------+--------+----+-------+------------------+----+\n",
      "only showing top 3 rows\n",
      "\n"
     ]
    }
   ],
   "source": [
    "dci4 = dci.join(concept_code_to_db, dci[\"concept_code\"] == concept_code_to_db[\"_c0\"], how = 'inner')\n",
    "\n",
    "print(dci4.count()) \n",
    "dci4.show(3, truncate = False, vertical = False)"
   ]
  },
  {
   "cell_type": "code",
   "execution_count": 24,
   "id": "5089c7e1-0063-4366-9865-db146736ec49",
   "metadata": {
    "tags": []
   },
   "outputs": [
    {
     "name": "stdout",
     "output_type": "stream",
     "text": [
      "Number of entries original: 34321\n",
      "Number of entries finished: 31022\n",
      "Number of distinct finished: 551\n",
      "Missing DrugBank ID: 67\n",
      "Records with DrugBank codes: 31018\n",
      "+---------------+----------+--------------------+---------+-------------+----------------+----------------+------------+----------------+--------------+--------------+\n",
      "|drug_concept_id|concept_id|        concept_name|domain_id|vocabulary_id|concept_class_id|standard_concept|concept_code|valid_start_date|valid_end_date|invalid_reason|\n",
      "+---------------+----------+--------------------+---------+-------------+----------------+----------------+------------+----------------+--------------+--------------+\n",
      "|         528323|    528323|hepatitis B surfa...|     Drug|       RxNorm|      Ingredient|               S|      797752|      2008-06-29|    2099-12-31|          null|\n",
      "|         529660|    529660|hepatitis A vacci...|     Drug|       RxNorm|      Ingredient|               S|      798361|      2008-06-29|    2099-12-31|          null|\n",
      "|         745466|    745466|           valproate|     Drug|       RxNorm|      Ingredient|               S|       40254|      1970-01-01|    2099-12-31|          null|\n",
      "|         905233|    905233|          mometasone|     Drug|       RxNorm|      Ingredient|               S|      108118|      1970-01-01|    2099-12-31|          null|\n",
      "|         938268|    938268|     sennosides, USP|     Drug|       RxNorm|      Ingredient|               S|       36387|      1970-01-01|    2099-12-31|          null|\n",
      "|         944360|    944360|     zinc pyrithione|     Drug|       RxNorm|      Ingredient|               S|       39952|      1970-01-01|    2099-12-31|          null|\n",
      "|         958134|    958134|  bismuth subcitrate|     Drug|       RxNorm|      Ingredient|               S|       47181|      1970-01-01|    2099-12-31|          null|\n",
      "|         963742|    963742|          gramicidin|     Drug|       RxNorm|      Ingredient|               S|        5011|      1970-01-01|    2099-12-31|          null|\n",
      "|         986417|    986417|polyethylene glyc...|     Drug|       RxNorm|      Ingredient|               S|      221147|      1970-01-01|    2099-12-31|          null|\n",
      "|         988095|    988095|    ursodeoxycholate|     Drug|       RxNorm|      Ingredient|               S|       62427|      2006-05-14|    2099-12-31|          null|\n",
      "+---------------+----------+--------------------+---------+-------------+----------------+----------------+------------+----------------+--------------+--------------+\n",
      "only showing top 10 rows\n",
      "\n"
     ]
    }
   ],
   "source": [
    "print(f\"Number of entries original: {df.count()}\")\n",
    "print(f\"Number of entries finished: {df.join(dci4, on = 'drug_concept_id', how = 'inner').count()}\")\n",
    "print(f\"Number of distinct finished: {df.join(dci4, on = 'drug_concept_id', how = 'inner').select('drug_concept_id').distinct().count()}\")\n",
    "\n",
    "drugbank_missing = dci.join(dci4, on = 'drug_concept_id', how = 'left_anti')\n",
    "\n",
    "print(f\"Missing DrugBank ID: {drugbank_missing.count()}\")\n",
    "print(f\"Records with DrugBank codes: {df.join(drugbank_missing, on = 'drug_concept_id', how = 'left_anti').count()}\")\n",
    "\n",
    "\n",
    "SHOW_MISSING = True\n",
    "N_SHOW = 10\n",
    "\n",
    "if SHOW_MISSING:\n",
    "    dci_anti = drugbank_missing.show(N_SHOW)"
   ]
  },
  {
   "cell_type": "code",
   "execution_count": 25,
   "id": "5e0e8cd9-82c0-44a6-9530-b43b309c7cd2",
   "metadata": {
    "tags": []
   },
   "outputs": [],
   "source": [
    "dci4.toPandas().to_csv(\"dose_era_drugbank.tsv\", sep = \"\\t\")"
   ]
  },
  {
   "cell_type": "code",
   "execution_count": 5,
   "id": "8cd30055-e733-47a1-8ed7-ad399dbc5af8",
   "metadata": {
    "tags": []
   },
   "outputs": [
    {
     "name": "stderr",
     "output_type": "stream",
     "text": [
      "/cluster/spark/python/pyspark/sql/pandas/conversion.py:371: FutureWarning: iteritems is deprecated and will be removed in a future version. Use .items instead.\n",
      "  for column, series in pdf.iteritems():\n"
     ]
    }
   ],
   "source": [
    "###\n",
    "### Chebi / OMOP2OBO\n",
    "###\n",
    "\n",
    "chebi = pd.read_excel(\"OMOP2OBO_V1_Drug_Exposure_Mapping_Oct2020.xlsx\", sheet_name=\"OMOP2OBO_ChEBI_Mapping_Results\")\n",
    "chebi['ONTOLOGY_LOGIC'] = chebi['ONTOLOGY_LOGIC'].astype(str)\n",
    "chebi = spark.createDataFrame(chebi)"
   ]
  },
  {
   "cell_type": "code",
   "execution_count": 11,
   "id": "2fbed094-ceae-4d90-9b68-3bebf871daa2",
   "metadata": {
    "tags": []
   },
   "outputs": [
    {
     "name": "stdout",
     "output_type": "stream",
     "text": [
      "618\n",
      "+---------------+----------+------------+--------------------+--------------+--------------------+--------------------+--------------------+--------------------+\n",
      "|drug_concept_id|CONCEPT_ID|CONCEPT_CODE|        CONCEPT_NAME|ONTOLOGY_LOGIC|        ONTOLOGY_URI|      ONTOLOGY_LABEL|    MAPPING_CATEGORY|    MAPPING_EVIDENCE|\n",
      "+---------------+----------+------------+--------------------+--------------+--------------------+--------------------+--------------------+--------------------+\n",
      "|         528323|    528323|    797752.0|Hepatitis B Surfa...|           nan|         CHEBI_60816|           immunogen|Manual One-to-One...|Source:DrugBank_D...|\n",
      "|         529660|    529660|    798361.0|Hepatitis A Vacci...|           nan|         CHEBI_60816|           immunogen|Manual One-to-One...|Source:DrugBank_D...|\n",
      "|         700299|    700299|     10502.0|        Thioridazine|            OR|CHEBI_48566 | CHE...|thioridazine hydr...|Automatic One-to-...|OBO_DbXref-OMOP_A...|\n",
      "|         703547|    703547|     10737.0|           Trazodone|            OR|CHEBI_9655 | CHEB...|trazodone hydroch...|Automatic One-to-...|OBO_DbXref-OMOP_A...|\n",
      "|         704943|    704943|      6845.0|       Methocarbamol|           nan|          CHEBI_6832|       methocarbamol|Automatic One-to-...|OBO_DbXref-OMOP_A...|\n",
      "|         704984|    704984|     10800.0|     Trifluoperazine|            OR|CHEBI_9710 | CHEB...|trifluoperazine h...|Automatic One-to-...|OBO_DbXref-OMOP_A...|\n",
      "|         705103|    705103|     28439.0|         lamotrigine|           nan|          CHEBI_6367|         lamotrigine|Automatic One-to-...|OBO_DbXref-OMOP_A...|\n",
      "|         705755|    705755|     10834.0|        Trimipramine|           nan|          CHEBI_9738|        trimipramine|Automatic One-to-...|OBO_DbXref-OMOP_A...|\n",
      "|         705944|    705944|      6901.0|     Methylphenidate|           nan|          CHEBI_6887|     methylphenidate|Automatic One-to-...|OBO_DbXref-OMOP_A...|\n",
      "|         710062|    710062|       704.0|       Amitriptyline|           nan|          CHEBI_2666|       amitriptyline|Automatic One-to-...|OBO_DbXref-OMOP_A...|\n",
      "|         711584|    711584|    114477.0|       Levetiracetam|           nan|          CHEBI_6437|       levetiracetam|Automatic One-to-...|OBO_DbXref-OMOP_A...|\n",
      "|         712757|    712757|       719.0|         Amobarbital|           nan|          CHEBI_2673|         amobarbital|Automatic One-to-...|OBO_DbXref-OMOP_A...|\n",
      "|         714684|    714684|     31565.0|          nefazodone|           nan|          CHEBI_7494|          nefazodone|Automatic One-to-...|OBO_DbXref-OMOP_A...|\n",
      "|         715233|    715233|      1292.0|            Baclofen|           nan|          CHEBI_2972|            baclofen|Automatic One-to-...|OBO_DbXref-OMOP_A...|\n",
      "|         715939|    715939|    321988.0|        Escitalopram|           nan|         CHEBI_36791|        escitalopram|Automatic One-to-...|OBO_DbXref-OMOP_A...|\n",
      "|         715997|    715997|    135447.0|           donepezil|           nan|         CHEBI_53289|           donepezil|Automatic One-to-...|OBO_DbXref-OMOP_A...|\n",
      "|         718583|    718583|      7407.0|            Nicotine|            OR|CHEBI_17688 | CHE...|(s)-nicotine | ni...|Automatic One-to-...|OBO_DbXref-OMOP_A...|\n",
      "|         721724|    721724|      7531.0|       Nortriptyline|           nan|          CHEBI_7640|       nortriptyline|Automatic One-to-...|OBO_DbXref-OMOP_A...|\n",
      "|         722031|    722031|     32937.0|          Paroxetine|           nan|          CHEBI_7936|          paroxetine|Automatic One-to-...|OBO_DbXref-OMOP_A...|\n",
      "|         723013|    723013|      3322.0|            Diazepam|           nan|         CHEBI_49575|            diazepam|Automatic One-to-...|OBO_DbXref-OMOP_A...|\n",
      "+---------------+----------+------------+--------------------+--------------+--------------------+--------------------+--------------------+--------------------+\n",
      "only showing top 20 rows\n",
      "\n"
     ]
    }
   ],
   "source": [
    "dci = df.select([\"drug_concept_id\"]).distinct()\n",
    "dci5 = dci.join(chebi, dci[\"drug_concept_id\"] == chebi[\"CONCEPT_ID\"], how = \"inner\")\n",
    "print(dci5.count())\n",
    "dci5.show()"
   ]
  },
  {
   "cell_type": "code",
   "execution_count": 7,
   "id": "94b1bf34-e0b2-4a47-b366-99290d099a28",
   "metadata": {
    "tags": []
   },
   "outputs": [
    {
     "name": "stdout",
     "output_type": "stream",
     "text": [
      "+-------------+---------------+---------------+----------+-------------------+-----------------+\n",
      "|  dose_era_id|drug_concept_id|unit_concept_id|dose_value|dose_era_start_date|dose_era_end_date|\n",
      "+-------------+---------------+---------------+----------+-------------------+-----------------+\n",
      "|1425929142274|        1549786|             -1|        -1|         25/02/1998|       26/03/1998|\n",
      "| 764504178721|        1589505|             -1|        -1|         16/07/1999|       14/08/1999|\n",
      "|1460288880666|        1549786|             -1|        -1|         04/11/1996|       03/12/1996|\n",
      "| 841813590107|        1589505|             -1|        -1|         21/12/1999|       19/01/2000|\n",
      "| 738734375019|        1549786|             -1|        -1|         21/12/1999|       19/01/2000|\n",
      "| 137438953635|        1549786|             -1|        -1|         21/12/1994|       19/01/1995|\n",
      "|1340029796492|        1589505|             -1|        -1|         25/01/1994|       23/02/1994|\n",
      "|1571958030456|        1589505|             -1|        -1|         29/07/1998|       27/08/1998|\n",
      "|1494648619169|        1589505|             -1|        -1|         04/11/1996|       03/12/1996|\n",
      "| 953482739859|        1589505|             -1|        -1|         21/12/1994|       19/01/1995|\n",
      "| 506806141056|        1549786|             -1|        -1|         25/01/1994|       23/02/1994|\n",
      "| 472446402705|        1549786|             -1|        -1|         26/01/1999|       24/02/1999|\n",
      "|1503238553703|        1549786|             -1|        -1|         02/05/1995|       31/05/1995|\n",
      "|1563368095898|        1589505|             -1|        -1|         26/01/1999|       24/02/1999|\n",
      "|1357209665565|        1549786|             -1|        -1|         16/07/1999|       14/08/1999|\n",
      "|1047972020276|        1549786|             -1|        -1|         29/07/1998|       27/08/1998|\n",
      "| 635655159847|        1589505|             -1|        -1|         25/02/1998|       26/03/1998|\n",
      "|1305670058006|        1589505|             -1|        -1|         02/05/1995|       31/05/1995|\n",
      "|1460288880766|         989878|             -1|        -1|         12/03/2013|       10/04/2013|\n",
      "|1649267441707|        1124300|             -1|        -1|         30/04/1990|       29/05/1990|\n",
      "+-------------+---------------+---------------+----------+-------------------+-----------------+\n",
      "only showing top 20 rows\n",
      "\n"
     ]
    }
   ],
   "source": [
    "df.show()"
   ]
  },
  {
   "cell_type": "code",
   "execution_count": null,
   "id": "0f372010-eb1b-4642-8a2d-aa30c106e685",
   "metadata": {},
   "outputs": [],
   "source": []
  }
 ],
 "metadata": {
  "kernelspec": {
   "display_name": "Python 3 (ipykernel)",
   "language": "python",
   "name": "python3"
  },
  "language_info": {
   "codemirror_mode": {
    "name": "ipython",
    "version": 3
   },
   "file_extension": ".py",
   "mimetype": "text/x-python",
   "name": "python",
   "nbconvert_exporter": "python",
   "pygments_lexer": "ipython3",
   "version": "3.9.16"
  }
 },
 "nbformat": 4,
 "nbformat_minor": 5
}
