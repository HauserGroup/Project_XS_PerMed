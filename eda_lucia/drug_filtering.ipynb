{
 "cells": [
  {
   "cell_type": "code",
   "execution_count": 1,
   "id": "59dd2f58-adb8-4537-8460-dbc3ecd1ef2f",
   "metadata": {
    "tags": []
   },
   "outputs": [],
   "source": [
    "import pyspark\n",
    "import dxpy\n",
    "import dxdata\n",
    "import pandas as pd\n",
    "from pyspark.sql.functions import col, to_date"
   ]
  },
  {
   "cell_type": "code",
   "execution_count": 2,
   "id": "a5509a89-db5e-40e6-9560-a815c70f09b0",
   "metadata": {
    "tags": []
   },
   "outputs": [],
   "source": [
    "sc = pyspark.SparkContext()\n",
    "spark = pyspark.sql.SparkSession(sc)\n",
    "\n",
    "dispensed_database_name = dxpy.find_one_data_object(\n",
    "    classname=\"database\", name=\"app*\", folder=\"/\", name_mode=\"glob\", describe=True\n",
    ")[\"describe\"][\"name\"]\n",
    "dispensed_dataset_id = dxpy.find_one_data_object(\n",
    "    typename=\"Dataset\", name=\"app*.dataset\", folder=\"/\", name_mode=\"glob\"\n",
    ")[\"id\"]\n",
    "\n",
    "spark.sql(\"USE \" + dispensed_database_name)\n",
    "\n",
    "dataset = dxdata.load_dataset(id=dispensed_dataset_id)"
   ]
  },
  {
   "cell_type": "code",
   "execution_count": 26,
   "id": "1be8ae88-363e-4f8a-9d20-eace49795195",
   "metadata": {
    "tags": []
   },
   "outputs": [
    {
     "name": "stdout",
     "output_type": "stream",
     "text": [
      "['eid', 'drug_era_id', 'drug_concept_id', 'drug_era_start_date', 'drug_era_end_date', 'drug_exposure_count', 'gap_days']\n",
      "['eid', 'drug_exposure_id', 'drug_concept_id', 'drug_exposure_start_date', 'drug_exposure_start_datetime', 'drug_exposure_end_date', 'drug_exposure_end_datetime', 'verbatim_end_date', 'drug_type_concept_id', 'stop_reason', 'refills', 'quantity', 'days_supply', 'sig', 'route_concept_id', 'lot_number', 'provider_id', 'visit_occurrence_id', 'visit_detail_id', 'drug_source_value', 'drug_source_concept_id', 'route_source_value', 'dose_unit_source_value']\n",
      "['eid', 'gender_concept_id', 'year_of_birth', 'month_of_birth', 'day_of_birth', 'birth_datetime', 'race_concept_id', 'ethnicity_concept_id', 'location_id', 'provider_id', 'care_site_id', 'person_source_value', 'gender_source_value', 'gender_source_concept_id', 'race_source_value', 'race_source_concept_id', 'ethnicity_source_value', 'ethnicity_source_concept_id']\n",
      "Number of entries era 19959413\n",
      "Number of entries exposure 55091531\n",
      "Number of entries person 502234\n",
      "+-------------+---------------+-------------------+-----------------+-------------------+--------+\n",
      "|  drug_era_id|drug_concept_id|drug_era_start_date|drug_era_end_date|drug_exposure_count|gap_days|\n",
      "+-------------+---------------+-------------------+-----------------+-------------------+--------+\n",
      "|1236950609195|       19005129|         12/05/2014|       10/06/2014|                  1|       0|\n",
      "| 798863919105|         743670|         30/03/2011|       02/09/2011|                  5|      12|\n",
      "| 721554547993|       19008994|         12/10/2010|       07/11/2010|                  1|       0|\n",
      "+-------------+---------------+-------------------+-----------------+-------------------+--------+\n",
      "only showing top 3 rows\n",
      "\n",
      "+----------------+---------------+------------------------+----------------------------+----------------------+--------------------------+-----------------+--------------------+-----------+-------+--------+-----------+----+----------------+----------+-----------+-------------------+---------------+--------------------+----------------------+------------------+----------------------+\n",
      "|drug_exposure_id|drug_concept_id|drug_exposure_start_date|drug_exposure_start_datetime|drug_exposure_end_date|drug_exposure_end_datetime|verbatim_end_date|drug_type_concept_id|stop_reason|refills|quantity|days_supply| sig|route_concept_id|lot_number|provider_id|visit_occurrence_id|visit_detail_id|   drug_source_value|drug_source_concept_id|route_source_value|dose_unit_source_value|\n",
      "+----------------+---------------+------------------------+----------------------------+----------------------+--------------------------+-----------------+--------------------+-----------+-------+--------+-----------+----+----------------+----------+-----------+-------------------+---------------+--------------------+----------------------+------------------+----------------------+\n",
      "|    180388835662|       19019418|              27/06/2016|                        null|            26/07/2016|                      null|             null|               32838|       null|   null|    null|       null|null|               0|      null|       null|               null|           null|               a6b1.|            2000230864|              null|                  null|\n",
      "|    755914309724|       40164138|              14/07/2017|                        null|            12/08/2017|                      null|             null|               32838|       null|   null|    null|       null|null|               0|      null|       null|               null|           null|               k8p1.|            2000236997|              null|                  null|\n",
      "|    120259464838|       40169766|              24/03/1998|                        null|            21/06/1998|                      null|             null|               32838|       null|   null|     200|       null|null|               0|      null|       null|               null|           null|Levothyroxine sod...|            2000211645|              null|                  null|\n",
      "+----------------+---------------+------------------------+----------------------------+----------------------+--------------------------+-----------------+--------------------+-----------+-------+--------+-----------+----+----------------+----------+-----------+-------------------+---------------+--------------------+----------------------+------------------+----------------------+\n",
      "only showing top 3 rows\n",
      "\n",
      "+-----------------+-------------+--------------+------------+--------------+---------------+--------------------+------------+-----------+------------+-------------------+-------------------+------------------------+-----------------+----------------------+----------------------+---------------------------+\n",
      "|gender_concept_id|year_of_birth|month_of_birth|day_of_birth|birth_datetime|race_concept_id|ethnicity_concept_id| location_id|provider_id|care_site_id|person_source_value|gender_source_value|gender_source_concept_id|race_source_value|race_source_concept_id|ethnicity_source_value|ethnicity_source_concept_id|\n",
      "+-----------------+-------------+--------------+------------+--------------+---------------+--------------------+------------+-----------+------------+-------------------+-------------------+------------------------+-----------------+----------------------+----------------------+---------------------------+\n",
      "|             8507|         1959|            11|        null|          null|           8527|                   0|352187318298|       null|       11008|            4328101|                9-1|                       0|        1001-1001|              35825612|                  null|                          0|\n",
      "|             8532|         1966|             9|        null|          null|       38003589|                   0|206158430233|       null|       11018|            4112224|                9-0|                       0|        1001-3002|              35826695|                  null|                          0|\n",
      "|             8532|         1949|             6|        null|          null|           8527|                   0|695784702044|       null|       11007|            2758474|                9-0|                       0|        1001-1001|              35825612|                  null|                          0|\n",
      "+-----------------+-------------+--------------+------------+--------------+---------------+--------------------+------------+-----------+------------+-------------------+-------------------+------------------------+-----------------+----------------------+----------------------+---------------------------+\n",
      "only showing top 3 rows\n",
      "\n"
     ]
    }
   ],
   "source": [
    "# Init pyspark and load dataframe\n",
    "# Load the 'omop_drug_era' 'omop_drug_exposure' and 'omop_person' tables\n",
    "omop_drug_era = \"omop_drug_era\"\n",
    "omop_drug_exposure = \"omop_drug_exposure\"\n",
    "omop_person = \"omop_person\"\n",
    "# Load tables\n",
    "drug_era = dataset[omop_drug_era]\n",
    "drug_exposure = dataset[omop_drug_exposure]\n",
    "person = dataset[omop_person]\n",
    "\n",
    "# Extract all field names from the tables\n",
    "field_names_era = [f.name for f in drug_era.fields]\n",
    "field_names_exposure = [f.name for f in drug_exposure.fields]\n",
    "field_names_person = [f.name for f in person.fields]\n",
    "\n",
    "# Retrieve the fields for both tables\n",
    "df_era = drug_era.retrieve_fields(names=field_names_era, engine=dxdata.connect())\n",
    "df_exposure = drug_exposure.retrieve_fields(\n",
    "    names=field_names_exposure, engine=dxdata.connect()\n",
    ")\n",
    "df_person = person.retrieve_fields(names=field_names_person, engine=dxdata.connect())\n",
    "\n",
    "# df = df.drop(\"eid\")\n",
    "print(df_era.columns)\n",
    "print(df_exposure.columns)\n",
    "print(df_person.columns)\n",
    "\n",
    "print(f\"Number of entries era {df_era.count()}\")\n",
    "print(f\"Number of entries exposure {df_exposure.count()}\")\n",
    "print(f\"Number of entries person {df_person.count()}\")\n",
    "df_era.drop(\"eid\").show(3)\n",
    "df_exposure.drop(\"eid\").show(3)\n",
    "df_person.drop(\"eid\").show(3)"
   ]
  },
  {
   "cell_type": "code",
   "execution_count": 27,
   "id": "e85e7933-a4e0-45ac-b885-098da7f0474f",
   "metadata": {
    "tags": []
   },
   "outputs": [
    {
     "data": {
      "text/plain": [
       "[1154029, 1103640, 991876, 1110410]"
      ]
     },
     "execution_count": 27,
     "metadata": {},
     "output_type": "execute_result"
    }
   ],
   "source": [
    "# Load the `filtered_drug_atc.tsv` file as a Pandas DataFrame\n",
    "drug_mapping_df = pd.read_csv(\"filtered_drug_atc.tsv\", sep=\"\\t\")\n",
    "# Extract `drug_concept_id` values as a list\n",
    "drug_concept_ids = drug_mapping_df[\"drug_concept_id\"].dropna().unique().tolist()\n",
    "drug_concept_ids"
   ]
  },
  {
   "cell_type": "code",
   "execution_count": 28,
   "id": "ad519605-19de-4795-ada3-c698138929f6",
   "metadata": {
    "tags": []
   },
   "outputs": [
    {
     "name": "stdout",
     "output_type": "stream",
     "text": [
      "+-------------+---------------+-------------------+-----------------+-------------------+--------+-----------------+-------------+\n",
      "|  drug_era_id|drug_concept_id|drug_era_start_date|drug_era_end_date|drug_exposure_count|gap_days|gender_concept_id|year_of_birth|\n",
      "+-------------+---------------+-------------------+-----------------+-------------------+--------+-----------------+-------------+\n",
      "| 730144538282|        1110410|               null|             null|                  2|       0|             8532|         1951|\n",
      "|1176821107656|         991876|               null|       2014-08-08|                  1|       0|             8532|         1949|\n",
      "|  17179961333|         991876|               null|             null|                  1|       0|             8507|         1954|\n",
      "|1400159383219|         991876|         2011-03-06|             null|                  2|       0|             8532|         1959|\n",
      "|1700807107514|         991876|         2007-07-11|       2007-12-11|                  1|       0|             8532|         1945|\n",
      "|1065151963004|         991876|         2015-11-03|             null|                  1|       0|             8532|         1945|\n",
      "|1597727861389|        1110410|               null|             null|                  1|       0|             8532|         1941|\n",
      "|1632087577504|         991876|               null|             null|                  2|      22|             8507|         1942|\n",
      "|1288490192288|        1110410|         2016-04-02|             null|                  5|     104|             8532|         1944|\n",
      "| 154618830806|         991876|         2014-04-08|       2014-09-08|                  1|       0|             8532|         1942|\n",
      "| 249108195691|         991876|               null|             null|                  1|       0|             8532|         1940|\n",
      "| 206158471636|         991876|               null|       2013-02-07|                  2|       9|             8532|         1946|\n",
      "| 910533073085|         991876|         2004-01-03|       2006-07-04|                 28|     361|             8507|         1938|\n",
      "| 730144488830|         991876|               null|       2000-04-11|                  1|       0|             8507|         1955|\n",
      "|1571958125712|         991876|         2011-01-03|       2011-06-03|                  1|       0|             8507|         1952|\n",
      "|1202590907804|        1110410|         2012-03-02|       2012-09-03|                  2|       0|             8532|         1941|\n",
      "| 910533149796|         991876|               null|             null|                  1|       0|             8532|         1949|\n",
      "|1005022353862|         991876|         2001-08-10|       2001-06-11|                  1|       0|             8532|         1946|\n",
      "| 455266577854|        1110410|         2010-08-12|       2011-09-03|                  6|      29|             8532|         1951|\n",
      "|1073741897279|         991876|         1997-02-10|       1997-02-10|                  1|       0|             8532|         1951|\n",
      "+-------------+---------------+-------------------+-----------------+-------------------+--------+-----------------+-------------+\n",
      "only showing top 20 rows\n",
      "\n"
     ]
    },
    {
     "data": {
      "text/plain": [
       "72395"
      ]
     },
     "execution_count": 28,
     "metadata": {},
     "output_type": "execute_result"
    }
   ],
   "source": [
    "# Filter the OMOP dataset for relevant drug_concept_id\n",
    "filtered_df_era = df_era.filter(col(\"drug_concept_id\").isin(drug_concept_ids))\n",
    "# Format date columns\n",
    "filtered_df_era = filtered_df_era.withColumn(\n",
    "    \"drug_era_start_date\", to_date(col(\"drug_era_start_date\"), \"MM/dd/yyyy\")\n",
    ").withColumn(\"drug_era_end_date\", to_date(col(\"drug_era_end_date\"), \"MM/dd/yyyy\"))\n",
    "\n",
    "# Merge with person_df on the 'eid' column to keep information about the person\n",
    "# Select only the required columns from df_person\n",
    "df_person_selected = df_person.select(\"eid\", \"gender_concept_id\", \"year_of_birth\")\n",
    "\n",
    "# Perform a left join with filtered_df_era on the 'eid' column\n",
    "filtered_df_era = filtered_df_era.join(\n",
    "    df_person_selected,\n",
    "    on=\"eid\",\n",
    "    how=\"left\",  # Perform a left join\n",
    ")\n",
    "# Show the result of the filter\n",
    "filtered_df_era.drop(\"eid\").show()\n",
    "filtered_df_era.count()"
   ]
  },
  {
   "cell_type": "code",
   "execution_count": 29,
   "id": "7e61341c-4f80-41aa-ba97-49f87c290daa",
   "metadata": {
    "tags": []
   },
   "outputs": [
    {
     "name": "stdout",
     "output_type": "stream",
     "text": [
      "+---------------+------------------------+----------------------+-----------+-------+-----------+--------+-----------------+-------------+\n",
      "|drug_concept_id|drug_exposure_start_date|drug_exposure_end_date|stop_reason|refills|days_supply|quantity|gender_concept_id|year_of_birth|\n",
      "+---------------+------------------------+----------------------+-----------+-------+-----------+--------+-----------------+-------------+\n",
      "|        1110410|                    null|                  null|       null|   null|       null|       1|             8507|         1966|\n",
      "|        1110410|                    null|                  null|       null|   null|       null|       1|             8507|         1966|\n",
      "|        1110410|              2014-08-04|            2014-07-05|       null|   null|       null|    null|             8532|         1949|\n",
      "|        1110410|              2002-05-09|            2002-04-10|       null|   null|       null|    null|             8532|         1946|\n",
      "|        1110410|                    null|                  null|       null|   null|       null|       1|             8507|         1966|\n",
      "|        1110410|                    null|                  null|       null|   null|       null|       1|             8507|         1966|\n",
      "|         991876|                    null|                  null|       null|   null|       null|    null|             8507|         1942|\n",
      "|        1110410|                    null|                  null|       null|   null|       null|    null|             8507|         1949|\n",
      "|        1110410|                    null|                  null|       null|   null|       null|    null|             8532|         1946|\n",
      "|        1110410|                    null|            2017-11-08|       null|   null|       null|    null|             8532|         1958|\n",
      "|        1110410|                    null|                  null|       null|   null|       null|    null|             8507|         1950|\n",
      "|        1110410|                    null|                  null|       null|   null|       null|     200|             8507|         1950|\n",
      "|        1110410|                    null|                  null|       null|   null|       null|    null|             8532|         1961|\n",
      "|        1110410|                    null|                  null|       null|   null|       null|    null|             8532|         1940|\n",
      "|        1110410|                    null|                  null|       null|   null|       null|    null|             8507|         1938|\n",
      "|        1110410|                    null|                  null|       null|   null|       null|    null|             8507|         1938|\n",
      "|        1103640|              2016-03-06|            2016-02-07|       null|   null|       null|    null|             8532|         1954|\n",
      "|        1110410|                    null|                  null|       null|   null|       null|       1|             8507|         1966|\n",
      "|        1110410|                    null|            2006-11-04|       null|   null|       null|       1|             8507|         1966|\n",
      "|        1110410|                    null|                  null|       null|   null|       null|       1|             8507|         1966|\n",
      "+---------------+------------------------+----------------------+-----------+-------+-----------+--------+-----------------+-------------+\n",
      "only showing top 20 rows\n",
      "\n"
     ]
    },
    {
     "data": {
      "text/plain": [
       "22"
      ]
     },
     "execution_count": 29,
     "metadata": {},
     "output_type": "execute_result"
    }
   ],
   "source": [
    "# Filter the OMOP drug exposure dataset for relevant drug_concept_id\n",
    "filtered_df_exposure = df_exposure.filter(col(\"drug_concept_id\").isin(drug_concept_ids))\n",
    "# Define the relevant columns for EDA\n",
    "relevant_columns = [\n",
    "    \"eid\",\n",
    "    \"drug_concept_id\",\n",
    "    \"drug_exposure_start_date\",\n",
    "    \"drug_exposure_end_date\",\n",
    "    \"stop_reason\",\n",
    "    \"refills\",\n",
    "    \"days_supply\",  # you can keep this to analyze duration or adherence\n",
    "    \"quantity\",  # optional, can help to understand quantity per exposure\n",
    "]\n",
    "\n",
    "# Filter out the columns that are relevant for the EDA\n",
    "filtered_df_exposure = filtered_df_exposure.select(relevant_columns)\n",
    "\n",
    "# Format the date columns (if necessary)\n",
    "filtered_df_exposure = filtered_df_exposure.withColumn(\n",
    "    \"drug_exposure_start_date\", to_date(col(\"drug_exposure_start_date\"), \"MM/dd/yyyy\")\n",
    ").withColumn(\n",
    "    \"drug_exposure_end_date\", to_date(col(\"drug_exposure_end_date\"), \"MM/dd/yyyy\")\n",
    ")\n",
    "\n",
    "# Merge with person_df on the 'eid' column to keep information about the person\n",
    "# Perform a left join with filtered_df_exposure on the 'eid' column\n",
    "filtered_df_exposure = filtered_df_exposure.join(\n",
    "    df_person_selected,\n",
    "    on=\"eid\",\n",
    "    how=\"left\",  # Perform a left join\n",
    ")\n",
    "# Show the result of the filter\n",
    "filtered_df_exposure.drop(\"eid\").show()\n",
    "filtered_df_exposure.count()"
   ]
  },
  {
   "cell_type": "code",
   "execution_count": 33,
   "id": "01f6e76b-f6a8-42a6-8ae2-4c3681f4d9f7",
   "metadata": {
    "tags": []
   },
   "outputs": [
    {
     "name": "stderr",
     "output_type": "stream",
     "text": [
      "/tmp/ipykernel_82/1618079262.py:3: DeprecationWarning: In a future version, `df.iloc[:, i] = newvals` will attempt to set the values inplace instead of always setting a new array. To retain the old behavior, use either `df[df.columns[i]] = newvals` or, if columns are non-unique, `df.isetitem(i, newvals)`\n",
      "  pandas_df_era.loc[:, \"drug_concept_id\"] = pandas_df_era.loc[\n",
      "/tmp/ipykernel_82/1618079262.py:15: DtypeWarning: Columns (5,6,9) have mixed types. Specify dtype option on import or set low_memory=False.\n",
      "  omop_concept_df = pd.read_csv('omop_concept.tsv', sep='\\t')\n",
      "/tmp/ipykernel_82/1618079262.py:17: DeprecationWarning: In a future version, `df.iloc[:, i] = newvals` will attempt to set the values inplace instead of always setting a new array. To retain the old behavior, use either `df[df.columns[i]] = newvals` or, if columns are non-unique, `df.isetitem(i, newvals)`\n",
      "  pandas_df_era.loc[:, \"gender_concept_id\"] = pandas_df_era.loc[\n"
     ]
    }
   ],
   "source": [
    "# Convert the filtered Spark DataFrame to a Pandas DataFrame\n",
    "pandas_df_era = filtered_df_era.toPandas()\n",
    "pandas_df_era.loc[:, \"drug_concept_id\"] = pandas_df_era.loc[\n",
    "    :, \"drug_concept_id\"\n",
    "].astype(int)\n",
    "# Merge pandas_df_era with drug_mapping_df on `drug_concept_id`\n",
    "pandas_df_era = pandas_df_era.merge(\n",
    "    drug_mapping_df[[\"drug_concept_id\", \"concept_name\"]],  # Only keep necessary columns\n",
    "    on=\"drug_concept_id\",\n",
    "    how=\"left\",\n",
    ")\n",
    "# Rename the 'concept_name' column to 'drug'\n",
    "pandas_df_era.rename(columns={\"concept_name\": \"drug\"}, inplace=True)\n",
    "# Read the omop_concept.tsv table\n",
    "omop_concept_df = pd.read_csv(\"omop_concept.tsv\", sep=\"\\t\")\n",
    "# Ensure both columns have the same data type\n",
    "pandas_df_era.loc[:, \"gender_concept_id\"] = pandas_df_era.loc[\n",
    "    :, \"gender_concept_id\"\n",
    "].astype(int)\n",
    "\n",
    "# Merge dataframes on the appropriate columns\n",
    "pandas_df_era = pandas_df_era.merge(\n",
    "    omop_concept_df[[\"concept_id\", \"concept_name\"]],\n",
    "    left_on=\"gender_concept_id\",\n",
    "    right_on=\"concept_id\",\n",
    "    how=\"left\",\n",
    ")\n",
    "# Rename the 'concept_name' column to 'gender'\n",
    "pandas_df_era.rename(columns={\"concept_name\": \"gender\"}, inplace=True)\n",
    "# Drop the extra 'concept_id' column, if not needed\n",
    "pandas_df_era.drop(columns=\"concept_id\", inplace=True)\n",
    "\n",
    "# Save the Pandas DataFrame to a CSV file\n",
    "pandas_df_era.to_csv(\"filtered_data_era.csv\", index=False)"
   ]
  },
  {
   "cell_type": "code",
   "execution_count": 34,
   "id": "b3fe0ae4-ad68-49ba-ac5e-f2d4a7be9b7e",
   "metadata": {},
   "outputs": [
    {
     "name": "stderr",
     "output_type": "stream",
     "text": [
      "/tmp/ipykernel_82/1606205172.py:2: DeprecationWarning: In a future version, `df.iloc[:, i] = newvals` will attempt to set the values inplace instead of always setting a new array. To retain the old behavior, use either `df[df.columns[i]] = newvals` or, if columns are non-unique, `df.isetitem(i, newvals)`\n",
      "  pandas_df_exposure.loc[:, \"drug_concept_id\"] = pandas_df_exposure.loc[\n",
      "/tmp/ipykernel_82/1606205172.py:13: DeprecationWarning: In a future version, `df.iloc[:, i] = newvals` will attempt to set the values inplace instead of always setting a new array. To retain the old behavior, use either `df[df.columns[i]] = newvals` or, if columns are non-unique, `df.isetitem(i, newvals)`\n",
      "  pandas_df_exposure.loc[:, \"gender_concept_id\"] = pandas_df_exposure.loc[\n"
     ]
    },
    {
     "name": "stdout",
     "output_type": "stream",
     "text": [
      "         drug_era_id  drug_concept_id drug_era_start_date drug_era_end_date  \\\n",
      "0       730144538282          1110410                None              None   \n",
      "1      1176821107656           991876                None        2014-08-08   \n",
      "2        17179961333           991876                None              None   \n",
      "3      1400159383219           991876          2011-03-06              None   \n",
      "4      1700807107514           991876          2007-07-11        2007-12-11   \n",
      "...              ...              ...                 ...               ...   \n",
      "75517   601295453580           991876                None        2010-12-01   \n",
      "75518   618475340648           991876                None              None   \n",
      "75519  1554778227782           991876                None              None   \n",
      "75520  1571958032822           991876          2002-05-12        2003-10-06   \n",
      "75521   438086665084          1110410          2015-03-02        2015-05-12   \n",
      "\n",
      "      drug_exposure_count gap_days  gender_concept_id year_of_birth  \\\n",
      "0                       2        0               8532          1951   \n",
      "1                       1        0               8532          1949   \n",
      "2                       1        0               8507          1954   \n",
      "3                       2        0               8532          1959   \n",
      "4                       1        0               8532          1945   \n",
      "...                   ...      ...                ...           ...   \n",
      "75517                   1        0               8507          1944   \n",
      "75518                   1        0               8507          1965   \n",
      "75519                   1        0               8507          1957   \n",
      "75520                   7      152               8532          1951   \n",
      "75521                  12      116               8507          1949   \n",
      "\n",
      "             drug  gender  \n",
      "0        morphine  FEMALE  \n",
      "1      loperamide  FEMALE  \n",
      "2      loperamide    MALE  \n",
      "3      loperamide  FEMALE  \n",
      "4      loperamide  FEMALE  \n",
      "...           ...     ...  \n",
      "75517  loperamide    MALE  \n",
      "75518  loperamide    MALE  \n",
      "75519  loperamide    MALE  \n",
      "75520  loperamide  FEMALE  \n",
      "75521    morphine    MALE  \n",
      "\n",
      "[75522 rows x 10 columns]\n",
      "    drug_concept_id drug_exposure_start_date drug_exposure_end_date  \\\n",
      "0           1110410                     None                   None   \n",
      "1           1110410                     None                   None   \n",
      "2           1110410               2014-08-04             2014-07-05   \n",
      "3           1110410               2002-05-09             2002-04-10   \n",
      "4           1110410                     None                   None   \n",
      "5           1110410                     None                   None   \n",
      "6            991876                     None                   None   \n",
      "7           1110410                     None                   None   \n",
      "8           1110410                     None                   None   \n",
      "9           1110410                     None             2017-11-08   \n",
      "10          1110410                     None                   None   \n",
      "11          1110410                     None                   None   \n",
      "12          1110410                     None                   None   \n",
      "13          1110410                     None                   None   \n",
      "14          1110410                     None                   None   \n",
      "15          1110410                     None                   None   \n",
      "16          1103640               2016-03-06             2016-02-07   \n",
      "17          1110410                     None                   None   \n",
      "18          1110410                     None             2006-11-04   \n",
      "19          1110410                     None                   None   \n",
      "20          1110410               2006-04-04             2006-03-05   \n",
      "21          1110410                     None                   None   \n",
      "\n",
      "   stop_reason refills days_supply quantity  gender_concept_id year_of_birth  \\\n",
      "0         None    None        None        1               8507          1966   \n",
      "1         None    None        None        1               8507          1966   \n",
      "2         None    None        None     None               8532          1949   \n",
      "3         None    None        None     None               8532          1946   \n",
      "4         None    None        None        1               8507          1966   \n",
      "5         None    None        None        1               8507          1966   \n",
      "6         None    None        None     None               8507          1942   \n",
      "7         None    None        None     None               8507          1949   \n",
      "8         None    None        None     None               8532          1946   \n",
      "9         None    None        None     None               8532          1958   \n",
      "10        None    None        None     None               8507          1950   \n",
      "11        None    None        None      200               8507          1950   \n",
      "12        None    None        None     None               8532          1961   \n",
      "13        None    None        None     None               8532          1940   \n",
      "14        None    None        None     None               8507          1938   \n",
      "15        None    None        None     None               8507          1938   \n",
      "16        None    None        None     None               8532          1954   \n",
      "17        None    None        None        1               8507          1966   \n",
      "18        None    None        None        1               8507          1966   \n",
      "19        None    None        None        1               8507          1966   \n",
      "20        None    None        None        1               8507          1966   \n",
      "21        None    None        None      200               8507          1958   \n",
      "\n",
      "          drug  gender  \n",
      "0     morphine    MALE  \n",
      "1     morphine    MALE  \n",
      "2     morphine  FEMALE  \n",
      "3     morphine  FEMALE  \n",
      "4     morphine    MALE  \n",
      "5     morphine    MALE  \n",
      "6   loperamide    MALE  \n",
      "7     morphine    MALE  \n",
      "8     morphine  FEMALE  \n",
      "9     morphine  FEMALE  \n",
      "10    morphine    MALE  \n",
      "11    morphine    MALE  \n",
      "12    morphine  FEMALE  \n",
      "13    morphine  FEMALE  \n",
      "14    morphine    MALE  \n",
      "15    morphine    MALE  \n",
      "16   methadone  FEMALE  \n",
      "17    morphine    MALE  \n",
      "18    morphine    MALE  \n",
      "19    morphine    MALE  \n",
      "20    morphine    MALE  \n",
      "21    morphine    MALE  \n"
     ]
    }
   ],
   "source": [
    "pandas_df_exposure = filtered_df_exposure.toPandas()\n",
    "pandas_df_exposure.loc[:, \"drug_concept_id\"] = pandas_df_exposure.loc[\n",
    "    :, \"drug_concept_id\"\n",
    "].astype(int)\n",
    "pandas_df_exposure = pandas_df_exposure.merge(\n",
    "    drug_mapping_df[[\"drug_concept_id\", \"concept_name\"]],  # Only keep necessary columns\n",
    "    on=\"drug_concept_id\",\n",
    "    how=\"left\",\n",
    ")\n",
    "# Rename the 'concept_name' column to 'drug'\n",
    "pandas_df_exposure.rename(columns={\"concept_name\": \"drug\"}, inplace=True)\n",
    "# Ensure both columns have the same data type\n",
    "pandas_df_exposure.loc[:, \"gender_concept_id\"] = pandas_df_exposure.loc[\n",
    "    :, \"gender_concept_id\"\n",
    "].astype(int)\n",
    "\n",
    "# Merge dataframes on the appropriate columns\n",
    "pandas_df_exposure = pandas_df_exposure.merge(\n",
    "    omop_concept_df[[\"concept_id\", \"concept_name\"]],\n",
    "    left_on=\"gender_concept_id\",\n",
    "    right_on=\"concept_id\",\n",
    "    how=\"left\",\n",
    ")\n",
    "# Rename the 'concept_name' column to 'gender'\n",
    "pandas_df_exposure.rename(columns={\"concept_name\": \"gender\"}, inplace=True)\n",
    "# Drop the extra 'concept_id' column, if not needed\n",
    "pandas_df_exposure.drop(columns=\"concept_id\", inplace=True)\n",
    "\n",
    "# Save the Pandas DataFrame to a CSV file\n",
    "pandas_df_exposure.to_csv(\"filtered_data_exposure.csv\", index=False)\n",
    "print(pandas_df_era.drop(\"eid\", axis=1))\n",
    "print(pandas_df_exposure.drop(\"eid\", axis=1))"
   ]
  },
  {
   "cell_type": "code",
   "execution_count": null,
   "id": "d79367f9-b092-4c68-917c-e1aa491d74bc",
   "metadata": {},
   "outputs": [],
   "source": []
  }
 ],
 "metadata": {
  "kernelspec": {
   "display_name": "Python 3 (ipykernel)",
   "language": "python",
   "name": "python3"
  },
  "language_info": {
   "codemirror_mode": {
    "name": "ipython",
    "version": 3
   },
   "file_extension": ".py",
   "mimetype": "text/x-python",
   "name": "python",
   "nbconvert_exporter": "python",
   "pygments_lexer": "ipython3",
   "version": "3.9.16"
  }
 },
 "nbformat": 4,
 "nbformat_minor": 5
}
