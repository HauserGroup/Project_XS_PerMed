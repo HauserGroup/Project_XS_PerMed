{
 "cells": [
  {
   "cell_type": "markdown",
   "metadata": {},
   "source": [
    "# SCRIPT TO OBTAIN VARIANTS OF INTERES FROM WHOLE-GENOME SEQUENCING DATA\n",
    "\n",
    "In order to run, there has to be several files in the project folder:\n",
    "- GENCODE GTF: Run Scripts/WGS/01_get_gencode_annotation.sh. Obtain from: https://ftp.ebi.ac.uk/pub/databases/gencode/Gencode_human/release_46/gencode.v46.annotation.gtf.gz (Check for newer versions).\n",
    "\n",
    "Once completed, a new Jupyter Notebook should be initialized so we can access this file. Or unmount and mount again the project (https://community.ukbiobank.ac.uk/hc/en-gb/community/posts/16019592366365-It-seems-that-the-recently-dx-uploaded-files-does-not-show-up-on-mnt-project-until-I-re-start-the-whole-Jupyter-Lab-VM)\n",
    "\n",
    "\n",
    "- PVCF BLOCKS: Run Notebooks/WGS/DragenBlockProcessing.ipynb. Obtain from: https://biobank.ndph.ox.ac.uk/ukb/ukb/auxdata/dragen_pvcf_coordinates.zip \n",
    "It needs parsing, but in https://github.com/HauserGroup/gogoGPCR2/tree/main/data/misc it is already parsed.\n",
    "\n",
    "This code needs to be run with Spark Version 2.3.1\n",
    "\n",
    "The output of this code are: OPRM1_missense_variants.bed, OPRM1_missense_variants.bim, OPRM1_missense_variants.fam and OPRM1_missense_variants.annotations that contains missense variants of OPRM1 gene.\n",
    "\n",
    "#### Initialization \n",
    "##### Load packages\n"
   ]
  },
  {
   "cell_type": "markdown",
   "metadata": {},
   "source": [
    "Import to current directory:\n",
    "- src/project_permed"
   ]
  },
  {
   "cell_type": "code",
   "execution_count": null,
   "metadata": {
    "tags": []
   },
   "outputs": [],
   "source": [
    "import dxpy\n",
    "import pyspark\n",
    "\n",
    "import hail as hl\n",
    "from pathlib import Path\n",
    "from datetime import datetime\n",
    "\n",
    "from matrixtables import smart_split_multi_mt"
   ]
  },
  {
   "cell_type": "code",
   "execution_count": 5,
   "metadata": {
    "tags": []
   },
   "outputs": [],
   "source": [
    "# Constants\n",
    "DATABASE = \"matrix_tables\"\n",
    "REFERENCE_GENOME = \"GRCh38\"\n",
    "PROJ_NAME = \"OPRM1\"\n",
    "\n",
    "Path(\"/tmp\").resolve().mkdir(parents=True, exist_ok=True)\n",
    "\n",
    "LOG_FILE = (\n",
    "    Path(\"../hail_logs\", f\"{PROJ_NAME}_{datetime.now().strftime('%H%M')}.log\")\n",
    "    .resolve()\n",
    "    .__str__()\n",
    ")"
   ]
  },
  {
   "cell_type": "markdown",
   "metadata": {},
   "source": [
    "#### Hail and spark configuration"
   ]
  },
  {
   "cell_type": "code",
   "execution_count": 6,
   "metadata": {
    "tags": []
   },
   "outputs": [
    {
     "name": "stderr",
     "output_type": "stream",
     "text": [
      "pip-installed Hail requires additional configuration options in Spark referring\n",
      "  to the path to the Hail Python module directory HAIL_DIR,\n",
      "  e.g. /path/to/python/site-packages/hail:\n",
      "    spark.jars=HAIL_DIR/backend/hail-all-spark.jar\n",
      "    spark.driver.extraClassPath=HAIL_DIR/backend/hail-all-spark.jar\n",
      "    spark.executor.extraClassPath=./hail-all-spark.jarRunning on Apache Spark version 3.2.3\n",
      "SparkUI available at http://ip-10-60-154-109.eu-west-2.compute.internal:8081\n",
      "Welcome to\n",
      "     __  __     <>__\n",
      "    / /_/ /__  __/ /\n",
      "   / __  / _ `/ / /\n",
      "  /_/ /_/\\_,_/_/_/   version 0.2.116-cd64e0876c94\n",
      "LOGGING: writing to /opt/hail_logs/OPRM1_1224.log\n"
     ]
    }
   ],
   "source": [
    "# Spark init\n",
    "sc = pyspark.SparkContext()\n",
    "spark = pyspark.sql.SparkSession(sc)\n",
    "\n",
    "# Create database in DNAX\n",
    "spark.sql(f\"CREATE DATABASE IF NOT EXISTS {DATABASE} LOCATION 'dnax://'\")\n",
    "mt_database = dxpy.find_one_data_object(name=DATABASE, classname=\"database\")[\"id\"]\n",
    "\n",
    "# Hail init\n",
    "hl.init(sc=sc, default_reference=REFERENCE_GENOME, log=LOG_FILE)"
   ]
  },
  {
   "cell_type": "markdown",
   "metadata": {},
   "source": [
    "#### Variables"
   ]
  },
  {
   "cell_type": "code",
   "execution_count": null,
   "metadata": {
    "tags": []
   },
   "outputs": [],
   "source": [
    "# RAP\n",
    "VCF_VERSION = \"v1\"\n",
    "FIELD_ID = 24310  # DRAGEN population level WGS variants, pVCF format 500k release\n",
    "\n",
    "# Paths\n",
    "BULK_DIR = Path(\"/mnt/project/Bulk\")\n",
    "\n",
    "# Genes\n",
    "GENES = [\"OPRM1\"]"
   ]
  },
  {
   "cell_type": "markdown",
   "metadata": {},
   "source": [
    "### Quality control\n",
    "\n",
    "#### Gene intervals and blocks "
   ]
  },
  {
   "cell_type": "code",
   "execution_count": 8,
   "metadata": {
    "tags": []
   },
   "outputs": [
    {
     "name": "stderr",
     "output_type": "stream",
     "text": [
      "2025-02-13 12:24:33.634 Hail: INFO: Reading table without type imputation\n",
      "  Loading field 'f0' as type str (not specified)\n",
      "  Loading field 'f1' as type str (not specified)\n",
      "  Loading field 'f2' as type str (not specified)\n",
      "  Loading field 'f3' as type int32 (user-supplied)\n",
      "  Loading field 'f4' as type int32 (user-supplied)\n",
      "  Loading field 'f5' as type float64 (user-supplied)\n",
      "  Loading field 'f6' as type str (not specified)\n",
      "  Loading field 'f7' as type int32 (user-supplied)\n",
      "  Loading field 'f8' as type str (not specified)\n",
      "2025-02-13 12:24:50.608 Hail: INFO: wrote table with 3467156 rows in 12 partitions to /tmp/85ErUHzyFapqJxSSp0VrMo\n",
      "2025-02-13 12:24:54.875 Hail: INFO: Ordering unsorted dataset with network shuffle\n",
      "2025-02-13 12:24:59.773 Hail: INFO: get_gene_intervals found 1 entries:\n",
      "gene: OPRM1 (ENSG00000112038)\n"
     ]
    },
    {
     "data": {
      "text/plain": [
       "[Interval(start=Locus(contig=chr6, position=154010496, reference_genome=GRCh38), end=Locus(contig=chr6, position=154246867, reference_genome=GRCh38), includes_start=True, includes_end=True)]"
      ]
     },
     "execution_count": 8,
     "metadata": {},
     "output_type": "execute_result"
    }
   ],
   "source": [
    "# Get gene intervals\n",
    "gene_interval = hl.experimental.get_gene_intervals(\n",
    "    gene_symbols=GENES,\n",
    "    reference_genome=\"GRCh38\",\n",
    "    gtf_file=\"file:///mnt/project/WGS_Lucia/WGS_QC/gencode.v46.annotation.gtf\",\n",
    ")\n",
    "gene_interval"
   ]
  },
  {
   "cell_type": "code",
   "execution_count": null,
   "metadata": {
    "tags": []
   },
   "outputs": [
    {
     "name": "stderr",
     "output_type": "stream",
     "text": [
      "2025-02-13 12:25:00.953 Hail: INFO: Reading table without type imputation\n",
      "  Loading field 'Row_Number' as type str (not specified)\n",
      "  Loading field 'Chromosome' as type str (not specified)\n",
      "  Loading field 'Block' as type str (not specified)\n",
      "  Loading field 'Starting_Position' as type str (not specified)\n",
      "  Loading field 'Ending_Position' as type str (not specified)\n"
     ]
    }
   ],
   "source": [
    "# Get DRAGEN pVCF blocks\n",
    "blocks = hl.import_table(\n",
    "    \"file:///mnt/project/WGS_Lucia/WGS_QC/dragen_pvcf_blocks.tsv\", no_header=False\n",
    ")\n",
    "blocks = blocks.annotate(\n",
    "    Chromosome=blocks.Chromosome.replace(\"23\", \"X\").replace(\"24\", \"Y\")\n",
    ")\n",
    "blocks = blocks.annotate(region=hl.str(\"\").join([hl.str(\"chr\"), blocks.Chromosome]))\n",
    "blocks = blocks.annotate(\n",
    "    interval=hl.locus_interval(\n",
    "        blocks.region,\n",
    "        hl.int32(blocks.Starting_Position),\n",
    "        hl.int32(blocks.Ending_Position),\n",
    "        reference_genome=\"GRCh38\",\n",
    "    )\n",
    ").key_by(\"interval\")"
   ]
  },
  {
   "cell_type": "code",
   "execution_count": 10,
   "metadata": {
    "tags": []
   },
   "outputs": [
    {
     "data": {
      "text/html": [
       "<table><thead><tr><td style=\"white-space: nowrap; max-width: 500px; overflow: hidden; text-overflow: ellipsis; \" colspan=\"1\"><div style=\"text-align: left;\"></div></td><td style=\"white-space: nowrap; max-width: 500px; overflow: hidden; text-overflow: ellipsis; \" colspan=\"1\"><div style=\"text-align: left;\"></div></td><td style=\"white-space: nowrap; max-width: 500px; overflow: hidden; text-overflow: ellipsis; \" colspan=\"1\"><div style=\"text-align: left;\"></div></td><td style=\"white-space: nowrap; max-width: 500px; overflow: hidden; text-overflow: ellipsis; \" colspan=\"1\"><div style=\"text-align: left;\"></div></td><td style=\"white-space: nowrap; max-width: 500px; overflow: hidden; text-overflow: ellipsis; \" colspan=\"1\"><div style=\"text-align: left;\"></div></td><td style=\"white-space: nowrap; max-width: 500px; overflow: hidden; text-overflow: ellipsis; \" colspan=\"1\"><div style=\"text-align: left;\"></div></td><td style=\"white-space: nowrap; max-width: 500px; overflow: hidden; text-overflow: ellipsis; \" colspan=\"1\"><div style=\"text-align: left;\"></div></td></tr><tr><td style=\"white-space: nowrap; max-width: 500px; overflow: hidden; text-overflow: ellipsis; \" colspan=\"1\"><div style=\"text-align: left;border-bottom: solid 2px #000; padding-bottom: 5px\">Row_Number</div></td><td style=\"white-space: nowrap; max-width: 500px; overflow: hidden; text-overflow: ellipsis; \" colspan=\"1\"><div style=\"text-align: left;border-bottom: solid 2px #000; padding-bottom: 5px\">Chromosome</div></td><td style=\"white-space: nowrap; max-width: 500px; overflow: hidden; text-overflow: ellipsis; \" colspan=\"1\"><div style=\"text-align: left;border-bottom: solid 2px #000; padding-bottom: 5px\">Block</div></td><td style=\"white-space: nowrap; max-width: 500px; overflow: hidden; text-overflow: ellipsis; \" colspan=\"1\"><div style=\"text-align: left;border-bottom: solid 2px #000; padding-bottom: 5px\">Starting_Position</div></td><td style=\"white-space: nowrap; max-width: 500px; overflow: hidden; text-overflow: ellipsis; \" colspan=\"1\"><div style=\"text-align: left;border-bottom: solid 2px #000; padding-bottom: 5px\">Ending_Position</div></td><td style=\"white-space: nowrap; max-width: 500px; overflow: hidden; text-overflow: ellipsis; \" colspan=\"1\"><div style=\"text-align: left;border-bottom: solid 2px #000; padding-bottom: 5px\">region</div></td><td style=\"white-space: nowrap; max-width: 500px; overflow: hidden; text-overflow: ellipsis; \" colspan=\"1\"><div style=\"text-align: left;border-bottom: solid 2px #000; padding-bottom: 5px\">interval</div></td></tr><tr><td style=\"white-space: nowrap; max-width: 500px; overflow: hidden; text-overflow: ellipsis; text-align: left;\">str</td><td style=\"white-space: nowrap; max-width: 500px; overflow: hidden; text-overflow: ellipsis; text-align: left;\">str</td><td style=\"white-space: nowrap; max-width: 500px; overflow: hidden; text-overflow: ellipsis; text-align: left;\">str</td><td style=\"white-space: nowrap; max-width: 500px; overflow: hidden; text-overflow: ellipsis; text-align: left;\">str</td><td style=\"white-space: nowrap; max-width: 500px; overflow: hidden; text-overflow: ellipsis; text-align: left;\">str</td><td style=\"white-space: nowrap; max-width: 500px; overflow: hidden; text-overflow: ellipsis; text-align: left;\">str</td><td style=\"white-space: nowrap; max-width: 500px; overflow: hidden; text-overflow: ellipsis; text-align: left;\">interval&lt;locus&lt;GRCh38&gt;&gt;</td></tr>\n",
       "</thead><tbody><tr><td style=\"white-space: nowrap; max-width: 500px; overflow: hidden; text-overflow: ellipsis; \">&quot;60766&quot;</td><td style=\"white-space: nowrap; max-width: 500px; overflow: hidden; text-overflow: ellipsis; \">&quot;6&quot;</td><td style=\"white-space: nowrap; max-width: 500px; overflow: hidden; text-overflow: ellipsis; \">&quot;7700&quot;</td><td style=\"white-space: nowrap; max-width: 500px; overflow: hidden; text-overflow: ellipsis; \">&quot;153991433&quot;</td><td style=\"white-space: nowrap; max-width: 500px; overflow: hidden; text-overflow: ellipsis; \">&quot;154011429&quot;</td><td style=\"white-space: nowrap; max-width: 500px; overflow: hidden; text-overflow: ellipsis; \">&quot;chr6&quot;</td><td style=\"white-space: nowrap; max-width: 500px; overflow: hidden; text-overflow: ellipsis; \">[chr6:153991433-chr6:154011429)</td></tr>\n",
       "<tr><td style=\"white-space: nowrap; max-width: 500px; overflow: hidden; text-overflow: ellipsis; \">&quot;60767&quot;</td><td style=\"white-space: nowrap; max-width: 500px; overflow: hidden; text-overflow: ellipsis; \">&quot;6&quot;</td><td style=\"white-space: nowrap; max-width: 500px; overflow: hidden; text-overflow: ellipsis; \">&quot;7701&quot;</td><td style=\"white-space: nowrap; max-width: 500px; overflow: hidden; text-overflow: ellipsis; \">&quot;154011430&quot;</td><td style=\"white-space: nowrap; max-width: 500px; overflow: hidden; text-overflow: ellipsis; \">&quot;154031420&quot;</td><td style=\"white-space: nowrap; max-width: 500px; overflow: hidden; text-overflow: ellipsis; \">&quot;chr6&quot;</td><td style=\"white-space: nowrap; max-width: 500px; overflow: hidden; text-overflow: ellipsis; \">[chr6:154011430-chr6:154031420)</td></tr>\n",
       "<tr><td style=\"white-space: nowrap; max-width: 500px; overflow: hidden; text-overflow: ellipsis; \">&quot;60768&quot;</td><td style=\"white-space: nowrap; max-width: 500px; overflow: hidden; text-overflow: ellipsis; \">&quot;6&quot;</td><td style=\"white-space: nowrap; max-width: 500px; overflow: hidden; text-overflow: ellipsis; \">&quot;7702&quot;</td><td style=\"white-space: nowrap; max-width: 500px; overflow: hidden; text-overflow: ellipsis; \">&quot;154031421&quot;</td><td style=\"white-space: nowrap; max-width: 500px; overflow: hidden; text-overflow: ellipsis; \">&quot;154051414&quot;</td><td style=\"white-space: nowrap; max-width: 500px; overflow: hidden; text-overflow: ellipsis; \">&quot;chr6&quot;</td><td style=\"white-space: nowrap; max-width: 500px; overflow: hidden; text-overflow: ellipsis; \">[chr6:154031421-chr6:154051414)</td></tr>\n",
       "<tr><td style=\"white-space: nowrap; max-width: 500px; overflow: hidden; text-overflow: ellipsis; \">&quot;60769&quot;</td><td style=\"white-space: nowrap; max-width: 500px; overflow: hidden; text-overflow: ellipsis; \">&quot;6&quot;</td><td style=\"white-space: nowrap; max-width: 500px; overflow: hidden; text-overflow: ellipsis; \">&quot;7703&quot;</td><td style=\"white-space: nowrap; max-width: 500px; overflow: hidden; text-overflow: ellipsis; \">&quot;154051415&quot;</td><td style=\"white-space: nowrap; max-width: 500px; overflow: hidden; text-overflow: ellipsis; \">&quot;154071408&quot;</td><td style=\"white-space: nowrap; max-width: 500px; overflow: hidden; text-overflow: ellipsis; \">&quot;chr6&quot;</td><td style=\"white-space: nowrap; max-width: 500px; overflow: hidden; text-overflow: ellipsis; \">[chr6:154051415-chr6:154071408)</td></tr>\n",
       "<tr><td style=\"white-space: nowrap; max-width: 500px; overflow: hidden; text-overflow: ellipsis; \">&quot;60770&quot;</td><td style=\"white-space: nowrap; max-width: 500px; overflow: hidden; text-overflow: ellipsis; \">&quot;6&quot;</td><td style=\"white-space: nowrap; max-width: 500px; overflow: hidden; text-overflow: ellipsis; \">&quot;7704&quot;</td><td style=\"white-space: nowrap; max-width: 500px; overflow: hidden; text-overflow: ellipsis; \">&quot;154071409&quot;</td><td style=\"white-space: nowrap; max-width: 500px; overflow: hidden; text-overflow: ellipsis; \">&quot;154091406&quot;</td><td style=\"white-space: nowrap; max-width: 500px; overflow: hidden; text-overflow: ellipsis; \">&quot;chr6&quot;</td><td style=\"white-space: nowrap; max-width: 500px; overflow: hidden; text-overflow: ellipsis; \">[chr6:154071409-chr6:154091406)</td></tr>\n",
       "<tr><td style=\"white-space: nowrap; max-width: 500px; overflow: hidden; text-overflow: ellipsis; \">&quot;60771&quot;</td><td style=\"white-space: nowrap; max-width: 500px; overflow: hidden; text-overflow: ellipsis; \">&quot;6&quot;</td><td style=\"white-space: nowrap; max-width: 500px; overflow: hidden; text-overflow: ellipsis; \">&quot;7705&quot;</td><td style=\"white-space: nowrap; max-width: 500px; overflow: hidden; text-overflow: ellipsis; \">&quot;154091407&quot;</td><td style=\"white-space: nowrap; max-width: 500px; overflow: hidden; text-overflow: ellipsis; \">&quot;154111396&quot;</td><td style=\"white-space: nowrap; max-width: 500px; overflow: hidden; text-overflow: ellipsis; \">&quot;chr6&quot;</td><td style=\"white-space: nowrap; max-width: 500px; overflow: hidden; text-overflow: ellipsis; \">[chr6:154091407-chr6:154111396)</td></tr>\n",
       "<tr><td style=\"white-space: nowrap; max-width: 500px; overflow: hidden; text-overflow: ellipsis; \">&quot;60772&quot;</td><td style=\"white-space: nowrap; max-width: 500px; overflow: hidden; text-overflow: ellipsis; \">&quot;6&quot;</td><td style=\"white-space: nowrap; max-width: 500px; overflow: hidden; text-overflow: ellipsis; \">&quot;7706&quot;</td><td style=\"white-space: nowrap; max-width: 500px; overflow: hidden; text-overflow: ellipsis; \">&quot;154111397&quot;</td><td style=\"white-space: nowrap; max-width: 500px; overflow: hidden; text-overflow: ellipsis; \">&quot;154131395&quot;</td><td style=\"white-space: nowrap; max-width: 500px; overflow: hidden; text-overflow: ellipsis; \">&quot;chr6&quot;</td><td style=\"white-space: nowrap; max-width: 500px; overflow: hidden; text-overflow: ellipsis; \">[chr6:154111397-chr6:154131395)</td></tr>\n",
       "<tr><td style=\"white-space: nowrap; max-width: 500px; overflow: hidden; text-overflow: ellipsis; \">&quot;60773&quot;</td><td style=\"white-space: nowrap; max-width: 500px; overflow: hidden; text-overflow: ellipsis; \">&quot;6&quot;</td><td style=\"white-space: nowrap; max-width: 500px; overflow: hidden; text-overflow: ellipsis; \">&quot;7707&quot;</td><td style=\"white-space: nowrap; max-width: 500px; overflow: hidden; text-overflow: ellipsis; \">&quot;154131396&quot;</td><td style=\"white-space: nowrap; max-width: 500px; overflow: hidden; text-overflow: ellipsis; \">&quot;154151386&quot;</td><td style=\"white-space: nowrap; max-width: 500px; overflow: hidden; text-overflow: ellipsis; \">&quot;chr6&quot;</td><td style=\"white-space: nowrap; max-width: 500px; overflow: hidden; text-overflow: ellipsis; \">[chr6:154131396-chr6:154151386)</td></tr>\n",
       "<tr><td style=\"white-space: nowrap; max-width: 500px; overflow: hidden; text-overflow: ellipsis; \">&quot;60774&quot;</td><td style=\"white-space: nowrap; max-width: 500px; overflow: hidden; text-overflow: ellipsis; \">&quot;6&quot;</td><td style=\"white-space: nowrap; max-width: 500px; overflow: hidden; text-overflow: ellipsis; \">&quot;7708&quot;</td><td style=\"white-space: nowrap; max-width: 500px; overflow: hidden; text-overflow: ellipsis; \">&quot;154151387&quot;</td><td style=\"white-space: nowrap; max-width: 500px; overflow: hidden; text-overflow: ellipsis; \">&quot;154171378&quot;</td><td style=\"white-space: nowrap; max-width: 500px; overflow: hidden; text-overflow: ellipsis; \">&quot;chr6&quot;</td><td style=\"white-space: nowrap; max-width: 500px; overflow: hidden; text-overflow: ellipsis; \">[chr6:154151387-chr6:154171378)</td></tr>\n",
       "<tr><td style=\"white-space: nowrap; max-width: 500px; overflow: hidden; text-overflow: ellipsis; \">&quot;60775&quot;</td><td style=\"white-space: nowrap; max-width: 500px; overflow: hidden; text-overflow: ellipsis; \">&quot;6&quot;</td><td style=\"white-space: nowrap; max-width: 500px; overflow: hidden; text-overflow: ellipsis; \">&quot;7709&quot;</td><td style=\"white-space: nowrap; max-width: 500px; overflow: hidden; text-overflow: ellipsis; \">&quot;154171379&quot;</td><td style=\"white-space: nowrap; max-width: 500px; overflow: hidden; text-overflow: ellipsis; \">&quot;154191374&quot;</td><td style=\"white-space: nowrap; max-width: 500px; overflow: hidden; text-overflow: ellipsis; \">&quot;chr6&quot;</td><td style=\"white-space: nowrap; max-width: 500px; overflow: hidden; text-overflow: ellipsis; \">[chr6:154171379-chr6:154191374)</td></tr>\n",
       "</tbody></table><p style=\"background: #fdd; padding: 0.4em;\">showing top 10 rows</p>\n"
      ],
      "text/plain": [
       "+------------+------------+--------+-------------------+-----------------+\n",
       "| Row_Number | Chromosome | Block  | Starting_Position | Ending_Position |\n",
       "+------------+------------+--------+-------------------+-----------------+\n",
       "| str        | str        | str    | str               | str             |\n",
       "+------------+------------+--------+-------------------+-----------------+\n",
       "| \"60766\"    | \"6\"        | \"7700\" | \"153991433\"       | \"154011429\"     |\n",
       "| \"60767\"    | \"6\"        | \"7701\" | \"154011430\"       | \"154031420\"     |\n",
       "| \"60768\"    | \"6\"        | \"7702\" | \"154031421\"       | \"154051414\"     |\n",
       "| \"60769\"    | \"6\"        | \"7703\" | \"154051415\"       | \"154071408\"     |\n",
       "| \"60770\"    | \"6\"        | \"7704\" | \"154071409\"       | \"154091406\"     |\n",
       "| \"60771\"    | \"6\"        | \"7705\" | \"154091407\"       | \"154111396\"     |\n",
       "| \"60772\"    | \"6\"        | \"7706\" | \"154111397\"       | \"154131395\"     |\n",
       "| \"60773\"    | \"6\"        | \"7707\" | \"154131396\"       | \"154151386\"     |\n",
       "| \"60774\"    | \"6\"        | \"7708\" | \"154151387\"       | \"154171378\"     |\n",
       "| \"60775\"    | \"6\"        | \"7709\" | \"154171379\"       | \"154191374\"     |\n",
       "+------------+------------+--------+-------------------+-----------------+\n",
       "\n",
       "+--------+---------------------------------+\n",
       "| region | interval                        |\n",
       "+--------+---------------------------------+\n",
       "| str    | interval<locus<GRCh38>>         |\n",
       "+--------+---------------------------------+\n",
       "| \"chr6\" | [chr6:153991433-chr6:154011429) |\n",
       "| \"chr6\" | [chr6:154011430-chr6:154031420) |\n",
       "| \"chr6\" | [chr6:154031421-chr6:154051414) |\n",
       "| \"chr6\" | [chr6:154051415-chr6:154071408) |\n",
       "| \"chr6\" | [chr6:154071409-chr6:154091406) |\n",
       "| \"chr6\" | [chr6:154091407-chr6:154111396) |\n",
       "| \"chr6\" | [chr6:154111397-chr6:154131395) |\n",
       "| \"chr6\" | [chr6:154131396-chr6:154151386) |\n",
       "| \"chr6\" | [chr6:154151387-chr6:154171378) |\n",
       "| \"chr6\" | [chr6:154171379-chr6:154191374) |\n",
       "+--------+---------------------------------+\n",
       "showing top 10 rows"
      ]
     },
     "metadata": {},
     "output_type": "display_data"
    }
   ],
   "source": [
    "# Get blocks for given genes\n",
    "gb = blocks.filter(hl.any(lambda inter: blocks.interval.overlaps(inter), gene_interval))\n",
    "gb.show()"
   ]
  },
  {
   "cell_type": "markdown",
   "metadata": {},
   "source": [
    "#### Import vcf files of specific blocks"
   ]
  },
  {
   "cell_type": "code",
   "execution_count": null,
   "metadata": {
    "tags": []
   },
   "outputs": [
    {
     "name": "stderr",
     "output_type": "stream",
     "text": [
      "2025-02-13 12:25:04.869 Hail: INFO: Coerced sorted dataset\n",
      "2025-02-13 12:25:07.149 Hail: INFO: Coerced sorted dataset\n"
     ]
    }
   ],
   "source": [
    "VCF_DIR = Path(\n",
    "    \"DRAGEN WGS/DRAGEN population level WGS variants, pVCF format 500k release\"\n",
    ")\n",
    "\n",
    "vcf_files = [\n",
    "    f\"file://{BULK_DIR / VCF_DIR}/{chromosome}/ukb{FIELD_ID}_c{chromosome.replace('chr', '')}_b{block}_{VCF_VERSION}.vcf.gz\"\n",
    "    for block, chromosome in zip(gb.Block.collect(), gb.region.collect())\n",
    "]\n",
    "\n",
    "mt = hl.import_vcf(\n",
    "    vcf_files,\n",
    "    drop_samples=False,\n",
    "    reference_genome=\"GRCh38\",\n",
    "    array_elements_required=False,\n",
    "    force_bgz=True,\n",
    ")"
   ]
  },
  {
   "cell_type": "code",
   "execution_count": 12,
   "metadata": {
    "tags": []
   },
   "outputs": [],
   "source": [
    "# Only genes of interest\n",
    "mt = hl.filter_intervals(mt, gene_interval)"
   ]
  },
  {
   "cell_type": "code",
   "execution_count": 13,
   "metadata": {
    "tags": []
   },
   "outputs": [],
   "source": [
    "# Remove singletons (variants that appear only once across all samples)\n",
    "mt = mt.filter_rows(hl.agg.sum(mt.GT.n_alt_alleles()) > 1)"
   ]
  },
  {
   "cell_type": "code",
   "execution_count": 14,
   "metadata": {
    "tags": []
   },
   "outputs": [
    {
     "name": "stderr",
     "output_type": "stream",
     "text": [
      "2025-02-13 12:25:33.245 Hail: INFO: scanning VCF for sortedness...\n",
      "2025-02-13 12:29:24.577 Hail: INFO: Coerced sorted VCF - no additional import work to do\n",
      "2025-02-13 12:42:54.668 Hail: INFO: wrote matrix table with 46265 rows and 490541 columns in 678 partitions to /tmp/OPRM1.FIRST.cp.mt\n"
     ]
    }
   ],
   "source": [
    "# First checkpoint\n",
    "stage = \"FIRST\"\n",
    "checkpoint_file = f\"/tmp/{PROJ_NAME}.{stage}.cp.mt\"\n",
    "\n",
    "mt = mt.checkpoint(checkpoint_file, overwrite=True)"
   ]
  },
  {
   "cell_type": "markdown",
   "metadata": {},
   "source": [
    "#### Multi-allele filtering"
   ]
  },
  {
   "cell_type": "code",
   "execution_count": 15,
   "metadata": {
    "tags": []
   },
   "outputs": [],
   "source": [
    "# Remove variants with 6 or more alleles\n",
    "mt = mt.filter_rows(mt.alleles.length() <= 6)"
   ]
  },
  {
   "cell_type": "code",
   "execution_count": 16,
   "metadata": {
    "tags": []
   },
   "outputs": [],
   "source": [
    "# Split multi-allele variants into single ones\n",
    "mt = smart_split_multi_mt(mt)"
   ]
  },
  {
   "cell_type": "code",
   "execution_count": 17,
   "metadata": {
    "tags": []
   },
   "outputs": [
    {
     "name": "stderr",
     "output_type": "stream",
     "text": [
      "2025-02-13 12:53:52.035 Hail: INFO: wrote matrix table with 59311 rows and 490541 columns in 1356 partitions to /tmp/OPRM1.SECOND.cp.mt\n"
     ]
    }
   ],
   "source": [
    "# Second checkpoint\n",
    "stage = \"SECOND\"\n",
    "checkpoint_file = f\"/tmp/{PROJ_NAME}.{stage}.cp.mt\"\n",
    "\n",
    "mt = mt.checkpoint(checkpoint_file, overwrite=True)"
   ]
  },
  {
   "cell_type": "markdown",
   "metadata": {},
   "source": [
    "#### Quality control filtering"
   ]
  },
  {
   "cell_type": "code",
   "execution_count": 18,
   "metadata": {
    "tags": []
   },
   "outputs": [],
   "source": [
    "mt = mt.filter_entries(mt.FT == \"PASS\")\n",
    "\n",
    "# Then, filter variants where there is at least one non-missing genotype\n",
    "mt = mt.filter_rows(hl.agg.any(hl.is_defined(mt.GT)))"
   ]
  },
  {
   "cell_type": "code",
   "execution_count": null,
   "metadata": {
    "tags": []
   },
   "outputs": [],
   "source": [
    "# Compute statistics about the number and fraction of filtered entries.\n",
    "mt = hl.MatrixTable.compute_entry_filter_stats(\n",
    "    mt, row_field=\"entry_stats_row\", col_field=\"entry_stats_col\"\n",
    ")"
   ]
  },
  {
   "cell_type": "code",
   "execution_count": null,
   "metadata": {
    "tags": []
   },
   "outputs": [],
   "source": [
    "row_fraction_threshold = 0.95\n",
    "\n",
    "# Filter variants where at least 95% of genotypes are unfiltered\n",
    "mt = mt.filter_rows((1 - mt.entry_stats_row.fraction_filtered) > row_fraction_threshold)"
   ]
  },
  {
   "cell_type": "code",
   "execution_count": null,
   "metadata": {
    "tags": []
   },
   "outputs": [],
   "source": [
    "col_fraction_threshold = 0.95\n",
    "\n",
    "# Filter samples where at least 95% of variants are unfiltered\n",
    "mt = mt.filter_cols((1 - mt.entry_stats_col.fraction_filtered) > col_fraction_threshold)"
   ]
  },
  {
   "cell_type": "code",
   "execution_count": 22,
   "metadata": {
    "tags": []
   },
   "outputs": [
    {
     "name": "stderr",
     "output_type": "stream",
     "text": [
      "2025-02-13 13:05:37.898 Hail: INFO: wrote matrix table with 58863 rows and 490541 columns in 1356 partitions to /tmp/OPRM1.THIRD.cp.mt\n"
     ]
    }
   ],
   "source": [
    "# third checkpoint\n",
    "stage = \"THIRD\"\n",
    "checkpoint_file = f\"/tmp/{PROJ_NAME}.{stage}.cp.mt\"\n",
    "\n",
    "mt = mt.checkpoint(checkpoint_file, overwrite=True)"
   ]
  },
  {
   "cell_type": "markdown",
   "metadata": {},
   "source": [
    "#### Variant Effect Predictor (VEP)"
   ]
  },
  {
   "cell_type": "code",
   "execution_count": 23,
   "metadata": {
    "tags": []
   },
   "outputs": [],
   "source": [
    "VEP_JSON = Path(\"GRCh38_VEP.json\").resolve()"
   ]
  },
  {
   "cell_type": "code",
   "execution_count": null,
   "metadata": {
    "tags": []
   },
   "outputs": [
    {
     "name": "stderr",
     "output_type": "stream",
     "text": [
      "2025-02-13 13:10:55.778 Hail: INFO: wrote table with 58863 rows in 1356 partitions to /tmp/persist_TableIUGw2uRitt\n"
     ]
    }
   ],
   "source": [
    "mt = hl.vep(mt, f\"file:{VEP_JSON}\", block_size=100)"
   ]
  },
  {
   "cell_type": "code",
   "execution_count": null,
   "metadata": {
    "tags": []
   },
   "outputs": [],
   "source": [
    "is_MANE = mt.aggregate_rows(\n",
    "    hl.agg.all(hl.is_defined(mt.vep.transcript_consequences.mane_select))\n",
    ")\n",
    "assert is_MANE, \"Selected transcript may not be MANE Select. Check manually.\"\n",
    "\n",
    "mt = mt.annotate_rows(\n",
    "    protCons=mt.vep.transcript_consequences.amino_acids[0].split(\"/\")[0]\n",
    "    + hl.str(mt.vep.transcript_consequences.protein_end[0])\n",
    "    + mt.vep.transcript_consequences.amino_acids[0].split(\"/\")[-1],\n",
    "    varid=hl.variant_str(mt.locus, mt.alleles),\n",
    ")"
   ]
  },
  {
   "cell_type": "code",
   "execution_count": null,
   "metadata": {
    "tags": []
   },
   "outputs": [
    {
     "name": "stderr",
     "output_type": "stream",
     "text": [
      "2025-02-13 13:23:13.592 Hail: INFO: wrote matrix table with 58863 rows and 490541 columns in 1356 partitions to /tmp/OPRM1.FOURTH.cp.mt\n"
     ]
    }
   ],
   "source": [
    "# Seven checkpoint\n",
    "stage = \"FOURTH\"\n",
    "checkpoint_file = f\"/tmp/{PROJ_NAME}.{stage}.cp.mt\"\n",
    "\n",
    "mt = mt.checkpoint(checkpoint_file, overwrite=True)\n",
    "# mt = hl.read_matrix_table(checkpoint_file)"
   ]
  },
  {
   "cell_type": "markdown",
   "metadata": {},
   "source": [
    "### Filtering"
   ]
  },
  {
   "cell_type": "code",
   "execution_count": null,
   "metadata": {
    "tags": []
   },
   "outputs": [],
   "source": [
    "GENE = \"OPRM1\"\n",
    "# gene=mt.vep.transcript_consequences.gene_symbol[0]\n",
    "mt = mt.filter_rows(\n",
    "    (mt.vep.transcript_consequences.gene_symbol[0] == GENE)\n",
    "    & (mt.vep.most_severe_consequence == \"missense_variant\")\n",
    ")"
   ]
  },
  {
   "cell_type": "code",
   "execution_count": 28,
   "metadata": {
    "tags": []
   },
   "outputs": [
    {
     "name": "stdout",
     "output_type": "stream",
     "text": [
      "229 variants after quality filtering\n"
     ]
    }
   ],
   "source": [
    "print(f\"{mt.count_rows()} variants after quality filtering\")"
   ]
  },
  {
   "cell_type": "code",
   "execution_count": null,
   "metadata": {
    "tags": []
   },
   "outputs": [
    {
     "name": "stderr",
     "output_type": "stream",
     "text": [
      "2025-02-13 13:31:18.884 Hail: INFO: wrote matrix table with 229 rows and 490541 columns in 1356 partitions to /tmp/OPRM1.FITH.cp.mt\n"
     ]
    }
   ],
   "source": [
    "# Seven checkpoint\n",
    "stage = \"FITH\"\n",
    "checkpoint_file = f\"/tmp/{PROJ_NAME}.{stage}.cp.mt\"\n",
    "\n",
    "mt = mt.checkpoint(checkpoint_file, overwrite=True)\n",
    "# mt = hl.read_matrix_table(checkpoint_file)"
   ]
  },
  {
   "cell_type": "markdown",
   "metadata": {},
   "source": [
    "#### Export "
   ]
  },
  {
   "cell_type": "code",
   "execution_count": null,
   "metadata": {
    "tags": []
   },
   "outputs": [
    {
     "name": "stderr",
     "output_type": "stream",
     "text": [
      "2025-02-13 13:31:25.657 Hail: INFO: merging 1357 files totalling 26.8M...\n",
      "2025-02-13 13:31:26.273 Hail: INFO: while writing:\n",
      "    file:/tmp/OPRM1_missense_variants.bed\n",
      "  merge time: 615.845ms\n",
      "2025-02-13 13:31:26.455 Hail: INFO: merging 1356 files totalling 9.4K...\n",
      "2025-02-13 13:31:26.663 Hail: INFO: while writing:\n",
      "    file:/tmp/OPRM1_missense_variants.bim\n",
      "  merge time: 208.017ms\n"
     ]
    }
   ],
   "source": [
    "# PLINK file\n",
    "PLINK_FILE = \"/tmp/OPRM1_missense_variants\"\n",
    "\n",
    "\n",
    "hl.export_plink(mt, varid=mt.varid, output=\"file:\" + PLINK_FILE)"
   ]
  },
  {
   "cell_type": "code",
   "execution_count": 31,
   "metadata": {
    "tags": []
   },
   "outputs": [
    {
     "name": "stdout",
     "output_type": "stream",
     "text": [
      "[===========================================================>] Uploaded 28,083,647 of 28,083,647 bytes (100%) /tmp/OPRM1_missense_variants.bed\n",
      "ID                                file-Gyfz8GQJb4JF6YG1yz0Ff63P\n",
      "Class                             file\n",
      "Project                           project-GfVK998Jb4JJgVBjKXPyxJ9q\n",
      "Folder                            /WGS_Lucia/WGS_QC/Output\n",
      "Name                              OPRM1_missense_variants.bed\n",
      "State                             \u001b[33mclosing\u001b[0m\n",
      "Visibility                        visible\n",
      "Types                             -\n",
      "Properties                        -\n",
      "Tags                              -\n",
      "Outgoing links                    -\n",
      "Created                           Thu Feb 13 13:31:30 2025\n",
      "Created by                        luciass6\n",
      " via the job                      job-Gyfx36QJb4J98f1V04bB0QV9\n",
      "Last modified                     Thu Feb 13 13:31:31 2025\n",
      "Media type                        \n",
      "archivalState                     \"live\"\n",
      "cloudAccount                      \"cloudaccount-dnanexus\"\n",
      "[===========================================================>] Uploaded 9,618 of 9,618 bytes (100%) /tmp/OPRM1_missense_variants.bim\n",
      "ID                                file-Gyfz8J0Jb4J0q7Qx1j7y99K2\n",
      "Class                             file\n",
      "Project                           project-GfVK998Jb4JJgVBjKXPyxJ9q\n",
      "Folder                            /WGS_Lucia/WGS_QC/Output\n",
      "Name                              OPRM1_missense_variants.bim\n",
      "State                             \u001b[33mclosing\u001b[0m\n",
      "Visibility                        visible\n",
      "Types                             -\n",
      "Properties                        -\n",
      "Tags                              -\n",
      "Outgoing links                    -\n",
      "Created                           Thu Feb 13 13:31:32 2025\n",
      "Created by                        luciass6\n",
      " via the job                      job-Gyfx36QJb4J98f1V04bB0QV9\n",
      "Last modified                     Thu Feb 13 13:31:32 2025\n",
      "Media type                        \n",
      "archivalState                     \"live\"\n",
      "cloudAccount                      \"cloudaccount-dnanexus\"\n",
      "[===========================================================>] Uploaded 9,320,279 of 9,320,279 bytes (100%) /tmp/OPRM1_missense_variants.fam\n",
      "ID                                file-Gyfz8J0Jb4J41Y37Fbv9p94K\n",
      "Class                             file\n",
      "Project                           project-GfVK998Jb4JJgVBjKXPyxJ9q\n",
      "Folder                            /WGS_Lucia/WGS_QC/Output\n",
      "Name                              OPRM1_missense_variants.fam\n",
      "State                             \u001b[33mclosing\u001b[0m\n",
      "Visibility                        visible\n",
      "Types                             -\n",
      "Properties                        -\n",
      "Tags                              -\n",
      "Outgoing links                    -\n",
      "Created                           Thu Feb 13 13:31:32 2025\n",
      "Created by                        luciass6\n",
      " via the job                      job-Gyfx36QJb4J98f1V04bB0QV9\n",
      "Last modified                     Thu Feb 13 13:31:33 2025\n",
      "Media type                        \n",
      "archivalState                     \"live\"\n",
      "cloudAccount                      \"cloudaccount-dnanexus\"\n"
     ]
    }
   ],
   "source": [
    "bed_file = PLINK_FILE + \".bed\"\n",
    "bim_file = PLINK_FILE + \".bim\"\n",
    "fam_file = PLINK_FILE + \".fam\"\n",
    "\n",
    "!dx upload $bed_file $bim_file $fam_file --path /WGS_Lucia/WGS_QC/Output/Drug_variant_matrix/"
   ]
  },
  {
   "cell_type": "code",
   "execution_count": null,
   "metadata": {
    "tags": []
   },
   "outputs": [
    {
     "name": "stderr",
     "output_type": "stream",
     "text": [
      "2025-02-13 13:31:44.178 Hail: INFO: Coerced sorted dataset\n",
      "2025-02-13 13:31:46.241 Hail: INFO: merging 9 files totalling 6.9K...\n",
      "2025-02-13 13:31:46.264 Hail: INFO: while writing:\n",
      "    file:/tmp/OPRM1_missense_variants.annotations\n",
      "  merge time: 22.238ms\n"
     ]
    }
   ],
   "source": [
    "# ANNOTATIONS file\n",
    "ANNOTATIONS_FILE = \"/tmp/OPRM1_missense_variants.annotations\"\n",
    "\n",
    "annotations = (\n",
    "    mt.select_rows(\n",
    "        varid=mt.varid,\n",
    "        gene=mt.vep.transcript_consequences.gene_symbol[0],\n",
    "        annotation=hl.if_else(\n",
    "            # Check if 'protCons' is missing, if so, use \"most_severe_consequence\"\n",
    "            hl.is_missing(mt.protCons),\n",
    "            mt.vep.most_severe_consequence,\n",
    "            mt.protCons,\n",
    "        ),\n",
    "    )\n",
    "    .rows()\n",
    "    .key_by(\"varid\")\n",
    "    .drop(\"locus\")\n",
    "    .drop(\"alleles\")\n",
    ")\n",
    "\n",
    "annotations.export(\"file:\" + ANNOTATIONS_FILE, header=False)"
   ]
  },
  {
   "cell_type": "code",
   "execution_count": 33,
   "metadata": {
    "tags": []
   },
   "outputs": [
    {
     "name": "stdout",
     "output_type": "stream",
     "text": [
      "[===========================================================>] Uploaded 7,029 of 7,029 bytes (100%) /tmp/OPRM1_missense_variants.annotations\n",
      "ID                                file-Gyfz8V0Jb4JF6YG1yz0Ff63k\n",
      "Class                             file\n",
      "Project                           project-GfVK998Jb4JJgVBjKXPyxJ9q\n",
      "Folder                            /WGS_Lucia/WGS_QC/Output\n",
      "Name                              OPRM1_missense_variants.annotations\n",
      "State                             \u001b[33mclosing\u001b[0m\n",
      "Visibility                        visible\n",
      "Types                             -\n",
      "Properties                        -\n",
      "Tags                              -\n",
      "Outgoing links                    -\n",
      "Created                           Thu Feb 13 13:31:48 2025\n",
      "Created by                        luciass6\n",
      " via the job                      job-Gyfx36QJb4J98f1V04bB0QV9\n",
      "Last modified                     Thu Feb 13 13:31:49 2025\n",
      "Media type                        \n",
      "archivalState                     \"live\"\n",
      "cloudAccount                      \"cloudaccount-dnanexus\"\n"
     ]
    }
   ],
   "source": [
    "!dx upload $ANNOTATIONS_FILE --path /WGS_Lucia/WGS_QC/Output/Drug_variant_matrix/"
   ]
  }
 ],
 "metadata": {
  "kernelspec": {
   "display_name": "Python 3 (ipykernel)",
   "language": "python",
   "name": "python3"
  },
  "language_info": {
   "codemirror_mode": {
    "name": "ipython",
    "version": 3
   },
   "file_extension": ".py",
   "mimetype": "text/x-python",
   "name": "python",
   "nbconvert_exporter": "python",
   "pygments_lexer": "ipython3",
   "version": "3.9.16"
  }
 },
 "nbformat": 4,
 "nbformat_minor": 4
}
