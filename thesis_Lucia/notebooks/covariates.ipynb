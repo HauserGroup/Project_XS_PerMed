{
 "cells": [
  {
   "cell_type": "markdown",
   "metadata": {},
   "source": [
    "# SCRIPT TO GENERATE COVARIATES\n",
    "\n",
    "## This script should be only run once\n",
    "\n",
    "#### Initialization \n",
    "##### Load packages"
   ]
  },
  {
   "cell_type": "markdown",
   "metadata": {},
   "source": [
    "Import to current directory: src/project_permed"
   ]
  },
  {
   "cell_type": "code",
   "execution_count": null,
   "metadata": {
    "tags": []
   },
   "outputs": [],
   "source": [
    "import dxdata\n",
    "import dxpy\n",
    "import pyspark\n",
    "from pyspark.sql import functions as F\n",
    "from pyspark.sql.types import IntegerType\n",
    "\n",
    "from fields import fields_for_id"
   ]
  },
  {
   "cell_type": "markdown",
   "metadata": {},
   "source": [
    "##### Spark and dataset configuration"
   ]
  },
  {
   "cell_type": "code",
   "execution_count": null,
   "metadata": {
    "tags": []
   },
   "outputs": [],
   "source": [
    "sc = pyspark.SparkContext()\n",
    "spark = pyspark.sql.SparkSession(sc)\n",
    "spark.conf.set(\"spark.sql.autoBroadcastJoinThreshold\", -1)\n",
    "\n",
    "dispensed_dataset_id = dxpy.find_one_data_object(\n",
    "    typename=\"Dataset\", name=\"app*.dataset\", folder=\"/\", name_mode=\"glob\"\n",
    ")[\"id\"]\n",
    "dataset = dxdata.load_dataset(id=dispensed_dataset_id)\n",
    "\n",
    "participant = dataset[\"participant\"]"
   ]
  },
  {
   "cell_type": "markdown",
   "metadata": {},
   "source": [
    "#### Data\n",
    "##### Retrieve covariates and 20 first PCs. Retrieve also date to each target disease if necessary"
   ]
  },
  {
   "cell_type": "code",
   "execution_count": null,
   "metadata": {
    "tags": []
   },
   "outputs": [],
   "source": [
    "# Add diagnosis fields (first diagnosis date fields)\n",
    "# disease_fields = { \"M47\": \"131916\", \"M13\": \"131864\", \"M19\": \"131876\", \"M79\": \"131960\", \"M54\": \"131928\", \"M51\": \"131924\", \"M25\": \"131888\", \"M16\": \"131870\", \"M75\": \"131954\",  \"M17\": \"131872\"}\n",
    "\n",
    "fields = [\n",
    "    \"21022\",  # Age at recruitment\n",
    "    \"22001\",  # Genetic sex\n",
    "    \"22009\",  # Genetic principal components\n",
    "]  # + list(disease_fields.values())\n",
    "\n",
    "# Get names of given fields\n",
    "field_names = [fields_for_id(id, participant) for id in fields]\n",
    "field_names = [\"eid\"] + [field.name for fields in field_names for field in fields]"
   ]
  },
  {
   "cell_type": "code",
   "execution_count": 4,
   "metadata": {
    "tags": []
   },
   "outputs": [
    {
     "name": "stderr",
     "output_type": "stream",
     "text": [
      "/opt/conda/lib/python3.11/site-packages/thrift/transport/TSSLSocket.py:53: DeprecationWarning: ssl.PROTOCOL_TLS is deprecated\n",
      "  self._context = ssl.SSLContext(ssl_version)\n"
     ]
    },
    {
     "name": "stdout",
     "output_type": "stream",
     "text": [
      "Number of entries 488006\n",
      "+------+------+---------+---------+---------+---------+---------+---------+---------+---------+---------+----------+----------+----------+----------+----------+----------+----------+----------+----------+----------+----------+----------+----------+----------+----------+----------+----------+----------+----------+----------+----------+----------+----------+----------+----------+----------+----------+----------+----------+----------+----------+-------+----------+----------+----------+-------+-------+----------+-------+-------+----------+\n",
      "|p21022|p22001|p22009_a1|p22009_a2|p22009_a3|p22009_a4|p22009_a5|p22009_a6|p22009_a7|p22009_a8|p22009_a9|p22009_a10|p22009_a11|p22009_a12|p22009_a13|p22009_a14|p22009_a15|p22009_a16|p22009_a17|p22009_a18|p22009_a19|p22009_a20|p22009_a21|p22009_a22|p22009_a23|p22009_a24|p22009_a25|p22009_a26|p22009_a27|p22009_a28|p22009_a29|p22009_a30|p22009_a31|p22009_a32|p22009_a33|p22009_a34|p22009_a35|p22009_a36|p22009_a37|p22009_a38|p22009_a39|p22009_a40|p131916|p131864   |p131876   |p131960   |p131928|p131924|p131888   |p131870|p131954|p131872   |\n",
      "+------+------+---------+---------+---------+---------+---------+---------+---------+---------+---------+----------+----------+----------+----------+----------+----------+----------+----------+----------+----------+----------+----------+----------+----------+----------+----------+----------+----------+----------+----------+----------+----------+----------+----------+----------+----------+----------+----------+----------+----------+----------+-------+----------+----------+----------+-------+-------+----------+-------+-------+----------+\n",
      "|52    |0     |-12.417  |6.75787  |-4.42069 |0.749104 |-1.30339 |0.0162366|1.29456  |-1.45318 |-2.0664  |-2.42804  |-2.04608  |-0.119549 |-0.705609 |-1.9216   |1.42809   |3.75853   |0.0576762 |-0.0193767|1.18116   |-1.58071  |-0.475445 |1.18324   |1.57487   |2.3263    |-0.720193 |1.48918   |0.0215807 |1.42843   |-0.658087 |0.418804  |-1.99566  |2.15477   |-2.60989  |1.14433   |-2.75235  |-4.09934  |3.84083   |-4.06156  |2.58653   |0.329857  |NULL   |NULL      |NULL      |NULL      |NULL   |NULL   |NULL      |NULL   |NULL   |NULL      |\n",
      "|62    |0     |-13.4575 |3.1192   |-3.80769 |0.058633 |1.65784  |-3.14993 |1.18964  |0.404512 |-0.392535|-1.66457  |-5.22365  |0.331025  |3.12406   |-1.8549   |-0.890671 |-2.07628  |0.792801  |0.874319  |9.47393   |-0.0801367|-1.61753  |-2.91218  |-4.40226  |2.21777   |-1.90957  |-1.12816  |2.49887   |-0.381665 |4.55801   |2.76412   |-2.64725  |-4.1248   |-3.14015  |-0.865474 |2.07314   |-0.646946 |-2.23053  |-1.07163  |1.49968   |-0.318132 |NULL   |2006-03-01|2000-06-12|2000-06-12|NULL   |NULL   |2002-12-20|NULL   |NULL   |NULL      |\n",
      "|45    |0     |-15.3248 |6.00963  |-4.31467 |7.57902  |15.3852  |-0.782605|-0.689497|-0.657491|-0.795902|-2.82219  |2.94301   |-1.2757   |-0.510151 |-3.2192   |-0.748521 |0.831899  |1.4605    |0.693367  |0.40339   |1.04323   |0.300689  |-2.69412  |-1.84067  |2.81347   |1.93541   |2.45593   |-0.880779 |1.19241   |1.27559   |6.96248   |-2.74776  |4.14629   |3.87236   |0.305704  |2.423     |-1.52291  |-9.09281  |-0.328795 |2.34247   |4.39619   |NULL   |NULL      |NULL      |NULL      |NULL   |NULL   |NULL      |NULL   |NULL   |2013-08-08|\n",
      "+------+------+---------+---------+---------+---------+---------+---------+---------+---------+---------+----------+----------+----------+----------+----------+----------+----------+----------+----------+----------+----------+----------+----------+----------+----------+----------+----------+----------+----------+----------+----------+----------+----------+----------+----------+----------+----------+----------+----------+----------+----------+-------+----------+----------+----------+-------+-------+----------+-------+-------+----------+\n",
      "only showing top 3 rows\n",
      "\n"
     ]
    }
   ],
   "source": [
    "# Retrieve data\n",
    "df = participant.retrieve_fields(\n",
    "    names=field_names, engine=dxdata.connect(), coding_values=\"raw\"\n",
    ")\n",
    "core_fields = [\"p21022\", \"p22001\"] + [f\"p22009_a{i}\" for i in range(1, 40)]\n",
    "df = df.na.drop(subset=core_fields)\n",
    "print(f\"Number of entries {df.count()}\")\n",
    "df.drop(\"eid\").show(3, truncate=False)"
   ]
  },
  {
   "cell_type": "code",
   "execution_count": null,
   "metadata": {
    "tags": []
   },
   "outputs": [],
   "source": [
    "# Rename PC columns\n",
    "pcs = {f\"p22009_a{i}\": f\"PC{i}\" for i in range(1, 21)}\n",
    "covs = [\"FID\", \"IID\", \"SEX\", \"AGE\", \"AGE2\", \"AGESEX\", \"AGE2SEX\"] + list(\n",
    "    pcs.values()\n",
    ")  # + [f\"HAS_{k}\" for k in disease_fields]\n",
    "\n",
    "# Add flags for each disease when necessary\n",
    "# for code, field_id in disease_fields.items():\n",
    "#    df = df.withColumn(f\"HAS_{code}\", F.when(F.col(f\"p{field_id}\").isNotNull(), 1).otherwise(0))\n",
    "\n",
    "# Final DataFrame with renamed and computed columns\n",
    "df = (\n",
    "    df.select([F.col(c).alias(pcs.get(c, c)) for c in df.columns])\n",
    "    .withColumn(\"FID\", F.col(\"eid\"))\n",
    "    .withColumn(\"IID\", F.col(\"eid\"))\n",
    "    .withColumn(\"SEX\", F.col(\"p22001\").cast(IntegerType()))\n",
    "    .withColumn(\"AGE\", F.col(\"p21022\").cast(IntegerType()))\n",
    "    .withColumn(\"AGE2\", (F.col(\"p21022\") ** 2).cast(IntegerType()))\n",
    "    .withColumn(\"AGESEX\", (F.col(\"p21022\") * F.col(\"p22001\")).cast(IntegerType()))\n",
    "    .withColumn(\n",
    "        \"AGE2SEX\", ((F.col(\"p21022\") ** 2) * F.col(\"p22001\")).cast(IntegerType())\n",
    "    )\n",
    "    .select(*covs)\n",
    ")"
   ]
  },
  {
   "cell_type": "code",
   "execution_count": 6,
   "metadata": {
    "tags": []
   },
   "outputs": [
    {
     "name": "stdout",
     "output_type": "stream",
     "text": [
      "+-------+-------+---+---+----+------+-------+--------+-------+--------+--------+--------+---------+---------+---------+---------+--------+--------+---------+---------+-------+---------+--------+---------+----------+-------+----------+-------+-------+-------+-------+-------+-------+-------+-------+-------+-------+\n",
      "|FID    |IID    |SEX|AGE|AGE2|AGESEX|AGE2SEX|PC1     |PC2    |PC3     |PC4     |PC5     |PC6      |PC7      |PC8      |PC9      |PC10    |PC11    |PC12     |PC13     |PC14   |PC15     |PC16    |PC17     |PC18      |PC19   |PC20      |HAS_M47|HAS_M13|HAS_M19|HAS_M79|HAS_M54|HAS_M51|HAS_M25|HAS_M16|HAS_M75|HAS_M17|\n",
      "+-------+-------+---+---+----+------+-------+--------+-------+--------+--------+--------+---------+---------+---------+---------+--------+--------+---------+---------+-------+---------+--------+---------+----------+-------+----------+-------+-------+-------+-------+-------+-------+-------+-------+-------+-------+\n",
      "|1000146|1000146|0  |52 |2704|0     |0      |-12.417 |6.75787|-4.42069|0.749104|-1.30339|0.0162366|1.29456  |-1.45318 |-2.0664  |-2.42804|-2.04608|-0.119549|-0.705609|-1.9216|1.42809  |3.75853 |0.0576762|-0.0193767|1.18116|-1.58071  |0      |0      |0      |0      |0      |0      |0      |0      |0      |0      |\n",
      "|1000181|1000181|0  |62 |3844|0     |0      |-13.4575|3.1192 |-3.80769|0.058633|1.65784 |-3.14993 |1.18964  |0.404512 |-0.392535|-1.66457|-5.22365|0.331025 |3.12406  |-1.8549|-0.890671|-2.07628|0.792801 |0.874319  |9.47393|-0.0801367|0      |1      |1      |1      |0      |0      |1      |0      |0      |0      |\n",
      "|1000215|1000215|0  |45 |2025|0     |0      |-15.3248|6.00963|-4.31467|7.57902 |15.3852 |-0.782605|-0.689497|-0.657491|-0.795902|-2.82219|2.94301 |-1.2757  |-0.510151|-3.2192|-0.748521|0.831899|1.4605   |0.693367  |0.40339|1.04323   |0      |0      |0      |0      |0      |0      |0      |0      |0      |1      |\n",
      "+-------+-------+---+---+----+------+-------+--------+-------+--------+--------+--------+---------+---------+---------+---------+--------+--------+---------+---------+-------+---------+--------+---------+----------+-------+----------+-------+-------+-------+-------+-------+-------+-------+-------+-------+-------+\n",
      "only showing top 3 rows\n",
      "\n"
     ]
    }
   ],
   "source": [
    "df.drop(\"eid\").show(3, truncate=False)"
   ]
  },
  {
   "cell_type": "markdown",
   "metadata": {},
   "source": [
    "##### Save and Export"
   ]
  },
  {
   "cell_type": "code",
   "execution_count": null,
   "metadata": {
    "tags": []
   },
   "outputs": [],
   "source": [
    "# Save DataFrame\n",
    "df.coalesce(1).write.csv(\"/tmp/covariates.tsv\", sep=\"\\t\", header=True)\n",
    "# df.coalesce(1).write.csv(\"/tmp/covariates_with_target_diseases.tsv\",sep=\"\\t\", header=True)\n",
    "# df.coalesce(1).write.mode(\"overwrite\").csv(\"/tmp/covariates_with_target_diseases.tsv\",sep=\"\\t\",header=True)"
   ]
  },
  {
   "cell_type": "code",
   "execution_count": null,
   "metadata": {
    "tags": []
   },
   "outputs": [
    {
     "name": "stdout",
     "output_type": "stream",
     "text": [
      "2025-04-25 09:24:53,320 WARN metrics.MetricsReporter: Unable to initialize metrics scraping configurations from hive-site.xml. Message:InputStream cannot be null\n",
      "2025-04-25 09:24:53,429 WARN service.DNAxApiSvc: Using default configurations. Unable to find dnanexus.conf.location=null\n",
      "2025-04-25 09:24:53,429 INFO service.DNAxApiSvc: apiserver connection-pool config. MaxPoolSize=10, MaxPoolPerRoute=10,MaxWaitTimeout=60000\n",
      "2025-04-25 09:24:53,429 INFO service.DNAxApiSvc: initializing http connection manager pools\n",
      "2025-04-25 09:24:53,871 INFO service.DNAxApiSvc: Worker process - IdleConnectionMonitorThread disabled\n",
      "2025-04-25 09:24:53,871 INFO service.DNAxApiSvc: Worker process - IdleConnectionMonitorThread disabled\n",
      "2025-04-25 09:24:53,872 INFO service.DNAxApiSvc: initializing DNAxApiSvc\n",
      "2025-04-25 09:24:54,715 WARN service.DNAxApiSvc: Shutting down Runtime service for Connection Pools\n",
      "2025-04-25 09:24:54,723 INFO service.DNAxApiSvc: shutting down httpClientConnManager\n",
      "2025-04-25 09:24:54,724 INFO service.DNAxApiSvc: shutting down httpsClientConnManager\n",
      "[===========================================================>] Uploaded 110,329,068 of 110,329,068 bytes (100%) ../tmp/covariates_with_target_diseases.tsv\n",
      "ID                                file-J05b9p0Jb4J0yBgg2gqvgZBB\n",
      "Class                             file\n",
      "Project                           project-GfVK998Jb4JJgVBjKXPyxJ9q\n",
      "Folder                            /WGS_Lucia/Data/Input_regenie\n",
      "Name                              covariates_with_target_diseases.tsv\n",
      "State                             \u001b[33mclosing\u001b[0m\n",
      "Visibility                        visible\n",
      "Types                             -\n",
      "Properties                        -\n",
      "Tags                              -\n",
      "Outgoing links                    -\n",
      "Created                           Fri Apr 25 09:24:56 2025\n",
      "Created by                        luciass6\n",
      " via the job                      job-J05ZKb0Jb4J8xpJP5BV53P53\n",
      "Last modified                     Fri Apr 25 09:24:58 2025\n",
      "Media type                        \n",
      "archivalState                     \"live\"\n",
      "cloudAccount                      \"cloudaccount-dnanexus\"\n"
     ]
    }
   ],
   "source": [
    "# Upload DataFrame\n",
    "!hadoop fs -getmerge /tmp/covariates.tsv ../tmp/covariates_with_target_diseases.tsv\n",
    "!dx upload ../tmp/covariates.tsv --path WGS_Lucia/Data/Input_regenie/\n",
    "#!hadoop fs -getmerge /tmp/covariates_with_target_diseases.tsv ../tmp/covariates_with_target_diseases.tsv\n",
    "#!dx upload ../tmp/covariates_with_target_diseases.tsv --path WGS_Lucia/Data/Input_regenie/"
   ]
  },
  {
   "cell_type": "code",
   "execution_count": null,
   "metadata": {},
   "outputs": [],
   "source": []
  }
 ],
 "metadata": {
  "kernelspec": {
   "display_name": "Python 3 (ipykernel)",
   "language": "python",
   "name": "python3"
  },
  "language_info": {
   "codemirror_mode": {
    "name": "ipython",
    "version": 3
   },
   "file_extension": ".py",
   "mimetype": "text/x-python",
   "name": "python",
   "nbconvert_exporter": "python",
   "pygments_lexer": "ipython3",
   "version": "3.11.5"
  }
 },
 "nbformat": 4,
 "nbformat_minor": 4
}
