{
 "cells": [
  {
   "cell_type": "markdown",
   "metadata": {},
   "source": [
    "# SCRIPT TO PERFORM QUALITY CONTROL ON WHOLE-GENOME SEQUENCING DATA\n",
    "\n",
    "In order to run, there has to be several files in the project folder:\n",
    "- GENCODE GTF: Run Scripts/WGS/01_get_gencode_annotation.sh. Obtain from: https://ftp.ebi.ac.uk/pub/databases/gencode/Gencode_human/release_46/gencode.v46.annotation.gtf.gz (Check for newer versions).\n",
    "\n",
    "Once completed, a new Jupyter Notebook should be initialized so we can access this file. Or unmount and mount again the project (https://community.ukbiobank.ac.uk/hc/en-gb/community/posts/16019592366365-It-seems-that-the-recently-dx-uploaded-files-does-not-show-up-on-mnt-project-until-I-re-start-the-whole-Jupyter-Lab-VM)\n",
    "\n",
    "\n",
    "- PVCF BLOCKS: Run Notebooks/WGS/DragenBlockProcessing.ipynb. Obtain from: https://biobank.ndph.ox.ac.uk/ukb/ukb/auxdata/dragen_pvcf_coordinates.zip \n",
    "It needs parsing, but in https://github.com/HauserGroup/gogoGPCR2/tree/main/data/misc it is already parsed.\n",
    "\n",
    "- Samples to remove file: Run Notebooks/WGS/01_QC_Samples.ipynb\n",
    "\n",
    "If you find problems, run it with Spark Version: 2.3.1  (At least 8 nodes)\n",
    "\n",
    "#### Initialization \n",
    "##### Load packages\n"
   ]
  },
  {
   "cell_type": "markdown",
   "metadata": {},
   "source": [
    "Import to current directory: src/project_permed"
   ]
  },
  {
   "cell_type": "code",
   "execution_count": null,
   "metadata": {
    "tags": []
   },
   "outputs": [],
   "source": [
    "import dxpy\n",
    "import pyspark\n",
    "\n",
    "import hail as hl\n",
    "from pathlib import Path\n",
    "from datetime import datetime\n",
    "import pandas as pd\n",
    "import re\n",
    "\n",
    "from matrixtables import smart_split_multi_mt"
   ]
  },
  {
   "cell_type": "code",
   "execution_count": 2,
   "metadata": {
    "tags": []
   },
   "outputs": [],
   "source": [
    "# Constants\n",
    "DATABASE = \"matrix_tables\"\n",
    "REFERENCE_GENOME = \"GRCh38\"\n",
    "PROJ_NAME = \"OPRM1\"\n",
    "\n",
    "Path(\"/tmp\").resolve().mkdir(parents=True, exist_ok=True)\n",
    "\n",
    "LOG_FILE = (\n",
    "    Path(\"../hail_logs\", f\"{PROJ_NAME}_{datetime.now().strftime('%H%M')}.log\")\n",
    "    .resolve()\n",
    "    .__str__()\n",
    ")"
   ]
  },
  {
   "cell_type": "markdown",
   "metadata": {},
   "source": [
    "#### Hail and spark configuration"
   ]
  },
  {
   "cell_type": "code",
   "execution_count": 3,
   "metadata": {
    "tags": []
   },
   "outputs": [
    {
     "name": "stderr",
     "output_type": "stream",
     "text": [
      "pip-installed Hail requires additional configuration options in Spark referring\n",
      "  to the path to the Hail Python module directory HAIL_DIR,\n",
      "  e.g. /path/to/python/site-packages/hail:\n",
      "    spark.jars=HAIL_DIR/backend/hail-all-spark.jar\n",
      "    spark.driver.extraClassPath=HAIL_DIR/backend/hail-all-spark.jar\n",
      "    spark.executor.extraClassPath=./hail-all-spark.jarRunning on Apache Spark version 3.2.3\n",
      "SparkUI available at http://ip-10-60-53-200.eu-west-2.compute.internal:8081\n",
      "Welcome to\n",
      "     __  __     <>__\n",
      "    / /_/ /__  __/ /\n",
      "   / __  / _ `/ / /\n",
      "  /_/ /_/\\_,_/_/_/   version 0.2.116-cd64e0876c94\n",
      "LOGGING: writing to /opt/hail_logs/OPRM1_0849.log\n"
     ]
    }
   ],
   "source": [
    "# Spark init\n",
    "sc = pyspark.SparkContext()\n",
    "spark = pyspark.sql.SparkSession(sc)\n",
    "\n",
    "# Create database in DNAX\n",
    "spark.sql(f\"CREATE DATABASE IF NOT EXISTS {DATABASE} LOCATION 'dnax://'\")\n",
    "mt_database = dxpy.find_one_data_object(name=DATABASE, classname=\"database\")[\"id\"]\n",
    "\n",
    "# Hail init\n",
    "hl.init(sc=sc, default_reference=REFERENCE_GENOME, log=LOG_FILE)"
   ]
  },
  {
   "cell_type": "markdown",
   "metadata": {},
   "source": [
    "#### Variables"
   ]
  },
  {
   "cell_type": "code",
   "execution_count": null,
   "metadata": {
    "tags": []
   },
   "outputs": [],
   "source": [
    "# RAP\n",
    "VCF_VERSION = \"v1\"\n",
    "FIELD_ID = 24310  # DRAGEN population level WGS variants, pVCF format 500k release\n",
    "\n",
    "# Paths\n",
    "BULK_DIR = Path(\"/mnt/project/Bulk\")\n",
    "\n",
    "# Genes\n",
    "GENES = [\"OPRM1\"]"
   ]
  },
  {
   "cell_type": "markdown",
   "metadata": {},
   "source": [
    "### Quality control\n",
    "\n",
    "#### Gene intervals and blocks "
   ]
  },
  {
   "cell_type": "code",
   "execution_count": 5,
   "metadata": {
    "tags": []
   },
   "outputs": [
    {
     "name": "stderr",
     "output_type": "stream",
     "text": [
      "2025-05-23 08:49:41.997 Hail: INFO: Reading table without type imputation\n",
      "  Loading field 'f0' as type str (not specified)\n",
      "  Loading field 'f1' as type str (not specified)\n",
      "  Loading field 'f2' as type str (not specified)\n",
      "  Loading field 'f3' as type int32 (user-supplied)\n",
      "  Loading field 'f4' as type int32 (user-supplied)\n",
      "  Loading field 'f5' as type float64 (user-supplied)\n",
      "  Loading field 'f6' as type str (not specified)\n",
      "  Loading field 'f7' as type int32 (user-supplied)\n",
      "  Loading field 'f8' as type str (not specified)\n",
      "2025-05-23 08:50:01.263 Hail: INFO: wrote table with 3467156 rows in 12 partitions to /tmp/MtIAZBJKJ3eIoxiJtpAKnW\n",
      "2025-05-23 08:50:05.343 Hail: INFO: Ordering unsorted dataset with network shuffle\n",
      "2025-05-23 08:50:10.319 Hail: INFO: get_gene_intervals found 1 entries:\n",
      "gene: OPRM1 (ENSG00000112038)\n"
     ]
    },
    {
     "data": {
      "text/plain": [
       "[Interval(start=Locus(contig=chr6, position=154010496, reference_genome=GRCh38), end=Locus(contig=chr6, position=154246867, reference_genome=GRCh38), includes_start=True, includes_end=True)]"
      ]
     },
     "execution_count": 5,
     "metadata": {},
     "output_type": "execute_result"
    }
   ],
   "source": [
    "# Get gene intervals\n",
    "gene_interval = hl.experimental.get_gene_intervals(\n",
    "    gene_symbols=GENES,\n",
    "    reference_genome=\"GRCh38\",\n",
    "    gtf_file=\"file:///mnt/project/WGS_Lucia/WGS_QC/gencode.v46.annotation.gtf\",\n",
    ")\n",
    "gene_interval"
   ]
  },
  {
   "cell_type": "code",
   "execution_count": null,
   "metadata": {
    "tags": []
   },
   "outputs": [
    {
     "name": "stderr",
     "output_type": "stream",
     "text": [
      "2025-05-23 08:50:11.647 Hail: INFO: Reading table without type imputation\n",
      "  Loading field 'Row_Number' as type str (not specified)\n",
      "  Loading field 'Chromosome' as type str (not specified)\n",
      "  Loading field 'Block' as type str (not specified)\n",
      "  Loading field 'Starting_Position' as type str (not specified)\n",
      "  Loading field 'Ending_Position' as type str (not specified)\n"
     ]
    }
   ],
   "source": [
    "# Get DRAGEN pVCF blocks\n",
    "blocks = hl.import_table(\n",
    "    \"file:///mnt/project/WGS_Lucia/WGS_QC/dragen_pvcf_blocks.tsv\", no_header=False\n",
    ")\n",
    "blocks = blocks.annotate(\n",
    "    Chromosome=blocks.Chromosome.replace(\"23\", \"X\").replace(\"24\", \"Y\")\n",
    ")\n",
    "blocks = blocks.annotate(region=hl.str(\"\").join([hl.str(\"chr\"), blocks.Chromosome]))\n",
    "blocks = blocks.annotate(\n",
    "    interval=hl.locus_interval(\n",
    "        blocks.region,\n",
    "        hl.int32(blocks.Starting_Position),\n",
    "        hl.int32(blocks.Ending_Position),\n",
    "        reference_genome=\"GRCh38\",\n",
    "    )\n",
    ").key_by(\"interval\")"
   ]
  },
  {
   "cell_type": "code",
   "execution_count": 7,
   "metadata": {
    "tags": []
   },
   "outputs": [
    {
     "data": {
      "text/html": [
       "<table><thead><tr><td style=\"white-space: nowrap; max-width: 500px; overflow: hidden; text-overflow: ellipsis; \" colspan=\"1\"><div style=\"text-align: left;\"></div></td><td style=\"white-space: nowrap; max-width: 500px; overflow: hidden; text-overflow: ellipsis; \" colspan=\"1\"><div style=\"text-align: left;\"></div></td><td style=\"white-space: nowrap; max-width: 500px; overflow: hidden; text-overflow: ellipsis; \" colspan=\"1\"><div style=\"text-align: left;\"></div></td><td style=\"white-space: nowrap; max-width: 500px; overflow: hidden; text-overflow: ellipsis; \" colspan=\"1\"><div style=\"text-align: left;\"></div></td><td style=\"white-space: nowrap; max-width: 500px; overflow: hidden; text-overflow: ellipsis; \" colspan=\"1\"><div style=\"text-align: left;\"></div></td><td style=\"white-space: nowrap; max-width: 500px; overflow: hidden; text-overflow: ellipsis; \" colspan=\"1\"><div style=\"text-align: left;\"></div></td><td style=\"white-space: nowrap; max-width: 500px; overflow: hidden; text-overflow: ellipsis; \" colspan=\"1\"><div style=\"text-align: left;\"></div></td></tr><tr><td style=\"white-space: nowrap; max-width: 500px; overflow: hidden; text-overflow: ellipsis; \" colspan=\"1\"><div style=\"text-align: left;border-bottom: solid 2px #000; padding-bottom: 5px\">Row_Number</div></td><td style=\"white-space: nowrap; max-width: 500px; overflow: hidden; text-overflow: ellipsis; \" colspan=\"1\"><div style=\"text-align: left;border-bottom: solid 2px #000; padding-bottom: 5px\">Chromosome</div></td><td style=\"white-space: nowrap; max-width: 500px; overflow: hidden; text-overflow: ellipsis; \" colspan=\"1\"><div style=\"text-align: left;border-bottom: solid 2px #000; padding-bottom: 5px\">Block</div></td><td style=\"white-space: nowrap; max-width: 500px; overflow: hidden; text-overflow: ellipsis; \" colspan=\"1\"><div style=\"text-align: left;border-bottom: solid 2px #000; padding-bottom: 5px\">Starting_Position</div></td><td style=\"white-space: nowrap; max-width: 500px; overflow: hidden; text-overflow: ellipsis; \" colspan=\"1\"><div style=\"text-align: left;border-bottom: solid 2px #000; padding-bottom: 5px\">Ending_Position</div></td><td style=\"white-space: nowrap; max-width: 500px; overflow: hidden; text-overflow: ellipsis; \" colspan=\"1\"><div style=\"text-align: left;border-bottom: solid 2px #000; padding-bottom: 5px\">region</div></td><td style=\"white-space: nowrap; max-width: 500px; overflow: hidden; text-overflow: ellipsis; \" colspan=\"1\"><div style=\"text-align: left;border-bottom: solid 2px #000; padding-bottom: 5px\">interval</div></td></tr><tr><td style=\"white-space: nowrap; max-width: 500px; overflow: hidden; text-overflow: ellipsis; text-align: left;\">str</td><td style=\"white-space: nowrap; max-width: 500px; overflow: hidden; text-overflow: ellipsis; text-align: left;\">str</td><td style=\"white-space: nowrap; max-width: 500px; overflow: hidden; text-overflow: ellipsis; text-align: left;\">str</td><td style=\"white-space: nowrap; max-width: 500px; overflow: hidden; text-overflow: ellipsis; text-align: left;\">str</td><td style=\"white-space: nowrap; max-width: 500px; overflow: hidden; text-overflow: ellipsis; text-align: left;\">str</td><td style=\"white-space: nowrap; max-width: 500px; overflow: hidden; text-overflow: ellipsis; text-align: left;\">str</td><td style=\"white-space: nowrap; max-width: 500px; overflow: hidden; text-overflow: ellipsis; text-align: left;\">interval&lt;locus&lt;GRCh38&gt;&gt;</td></tr>\n",
       "</thead><tbody><tr><td style=\"white-space: nowrap; max-width: 500px; overflow: hidden; text-overflow: ellipsis; \">&quot;60766&quot;</td><td style=\"white-space: nowrap; max-width: 500px; overflow: hidden; text-overflow: ellipsis; \">&quot;6&quot;</td><td style=\"white-space: nowrap; max-width: 500px; overflow: hidden; text-overflow: ellipsis; \">&quot;7700&quot;</td><td style=\"white-space: nowrap; max-width: 500px; overflow: hidden; text-overflow: ellipsis; \">&quot;153991433&quot;</td><td style=\"white-space: nowrap; max-width: 500px; overflow: hidden; text-overflow: ellipsis; \">&quot;154011429&quot;</td><td style=\"white-space: nowrap; max-width: 500px; overflow: hidden; text-overflow: ellipsis; \">&quot;chr6&quot;</td><td style=\"white-space: nowrap; max-width: 500px; overflow: hidden; text-overflow: ellipsis; \">[chr6:153991433-chr6:154011429)</td></tr>\n",
       "<tr><td style=\"white-space: nowrap; max-width: 500px; overflow: hidden; text-overflow: ellipsis; \">&quot;60767&quot;</td><td style=\"white-space: nowrap; max-width: 500px; overflow: hidden; text-overflow: ellipsis; \">&quot;6&quot;</td><td style=\"white-space: nowrap; max-width: 500px; overflow: hidden; text-overflow: ellipsis; \">&quot;7701&quot;</td><td style=\"white-space: nowrap; max-width: 500px; overflow: hidden; text-overflow: ellipsis; \">&quot;154011430&quot;</td><td style=\"white-space: nowrap; max-width: 500px; overflow: hidden; text-overflow: ellipsis; \">&quot;154031420&quot;</td><td style=\"white-space: nowrap; max-width: 500px; overflow: hidden; text-overflow: ellipsis; \">&quot;chr6&quot;</td><td style=\"white-space: nowrap; max-width: 500px; overflow: hidden; text-overflow: ellipsis; \">[chr6:154011430-chr6:154031420)</td></tr>\n",
       "<tr><td style=\"white-space: nowrap; max-width: 500px; overflow: hidden; text-overflow: ellipsis; \">&quot;60768&quot;</td><td style=\"white-space: nowrap; max-width: 500px; overflow: hidden; text-overflow: ellipsis; \">&quot;6&quot;</td><td style=\"white-space: nowrap; max-width: 500px; overflow: hidden; text-overflow: ellipsis; \">&quot;7702&quot;</td><td style=\"white-space: nowrap; max-width: 500px; overflow: hidden; text-overflow: ellipsis; \">&quot;154031421&quot;</td><td style=\"white-space: nowrap; max-width: 500px; overflow: hidden; text-overflow: ellipsis; \">&quot;154051414&quot;</td><td style=\"white-space: nowrap; max-width: 500px; overflow: hidden; text-overflow: ellipsis; \">&quot;chr6&quot;</td><td style=\"white-space: nowrap; max-width: 500px; overflow: hidden; text-overflow: ellipsis; \">[chr6:154031421-chr6:154051414)</td></tr>\n",
       "<tr><td style=\"white-space: nowrap; max-width: 500px; overflow: hidden; text-overflow: ellipsis; \">&quot;60769&quot;</td><td style=\"white-space: nowrap; max-width: 500px; overflow: hidden; text-overflow: ellipsis; \">&quot;6&quot;</td><td style=\"white-space: nowrap; max-width: 500px; overflow: hidden; text-overflow: ellipsis; \">&quot;7703&quot;</td><td style=\"white-space: nowrap; max-width: 500px; overflow: hidden; text-overflow: ellipsis; \">&quot;154051415&quot;</td><td style=\"white-space: nowrap; max-width: 500px; overflow: hidden; text-overflow: ellipsis; \">&quot;154071408&quot;</td><td style=\"white-space: nowrap; max-width: 500px; overflow: hidden; text-overflow: ellipsis; \">&quot;chr6&quot;</td><td style=\"white-space: nowrap; max-width: 500px; overflow: hidden; text-overflow: ellipsis; \">[chr6:154051415-chr6:154071408)</td></tr>\n",
       "<tr><td style=\"white-space: nowrap; max-width: 500px; overflow: hidden; text-overflow: ellipsis; \">&quot;60770&quot;</td><td style=\"white-space: nowrap; max-width: 500px; overflow: hidden; text-overflow: ellipsis; \">&quot;6&quot;</td><td style=\"white-space: nowrap; max-width: 500px; overflow: hidden; text-overflow: ellipsis; \">&quot;7704&quot;</td><td style=\"white-space: nowrap; max-width: 500px; overflow: hidden; text-overflow: ellipsis; \">&quot;154071409&quot;</td><td style=\"white-space: nowrap; max-width: 500px; overflow: hidden; text-overflow: ellipsis; \">&quot;154091406&quot;</td><td style=\"white-space: nowrap; max-width: 500px; overflow: hidden; text-overflow: ellipsis; \">&quot;chr6&quot;</td><td style=\"white-space: nowrap; max-width: 500px; overflow: hidden; text-overflow: ellipsis; \">[chr6:154071409-chr6:154091406)</td></tr>\n",
       "<tr><td style=\"white-space: nowrap; max-width: 500px; overflow: hidden; text-overflow: ellipsis; \">&quot;60771&quot;</td><td style=\"white-space: nowrap; max-width: 500px; overflow: hidden; text-overflow: ellipsis; \">&quot;6&quot;</td><td style=\"white-space: nowrap; max-width: 500px; overflow: hidden; text-overflow: ellipsis; \">&quot;7705&quot;</td><td style=\"white-space: nowrap; max-width: 500px; overflow: hidden; text-overflow: ellipsis; \">&quot;154091407&quot;</td><td style=\"white-space: nowrap; max-width: 500px; overflow: hidden; text-overflow: ellipsis; \">&quot;154111396&quot;</td><td style=\"white-space: nowrap; max-width: 500px; overflow: hidden; text-overflow: ellipsis; \">&quot;chr6&quot;</td><td style=\"white-space: nowrap; max-width: 500px; overflow: hidden; text-overflow: ellipsis; \">[chr6:154091407-chr6:154111396)</td></tr>\n",
       "<tr><td style=\"white-space: nowrap; max-width: 500px; overflow: hidden; text-overflow: ellipsis; \">&quot;60772&quot;</td><td style=\"white-space: nowrap; max-width: 500px; overflow: hidden; text-overflow: ellipsis; \">&quot;6&quot;</td><td style=\"white-space: nowrap; max-width: 500px; overflow: hidden; text-overflow: ellipsis; \">&quot;7706&quot;</td><td style=\"white-space: nowrap; max-width: 500px; overflow: hidden; text-overflow: ellipsis; \">&quot;154111397&quot;</td><td style=\"white-space: nowrap; max-width: 500px; overflow: hidden; text-overflow: ellipsis; \">&quot;154131395&quot;</td><td style=\"white-space: nowrap; max-width: 500px; overflow: hidden; text-overflow: ellipsis; \">&quot;chr6&quot;</td><td style=\"white-space: nowrap; max-width: 500px; overflow: hidden; text-overflow: ellipsis; \">[chr6:154111397-chr6:154131395)</td></tr>\n",
       "<tr><td style=\"white-space: nowrap; max-width: 500px; overflow: hidden; text-overflow: ellipsis; \">&quot;60773&quot;</td><td style=\"white-space: nowrap; max-width: 500px; overflow: hidden; text-overflow: ellipsis; \">&quot;6&quot;</td><td style=\"white-space: nowrap; max-width: 500px; overflow: hidden; text-overflow: ellipsis; \">&quot;7707&quot;</td><td style=\"white-space: nowrap; max-width: 500px; overflow: hidden; text-overflow: ellipsis; \">&quot;154131396&quot;</td><td style=\"white-space: nowrap; max-width: 500px; overflow: hidden; text-overflow: ellipsis; \">&quot;154151386&quot;</td><td style=\"white-space: nowrap; max-width: 500px; overflow: hidden; text-overflow: ellipsis; \">&quot;chr6&quot;</td><td style=\"white-space: nowrap; max-width: 500px; overflow: hidden; text-overflow: ellipsis; \">[chr6:154131396-chr6:154151386)</td></tr>\n",
       "<tr><td style=\"white-space: nowrap; max-width: 500px; overflow: hidden; text-overflow: ellipsis; \">&quot;60774&quot;</td><td style=\"white-space: nowrap; max-width: 500px; overflow: hidden; text-overflow: ellipsis; \">&quot;6&quot;</td><td style=\"white-space: nowrap; max-width: 500px; overflow: hidden; text-overflow: ellipsis; \">&quot;7708&quot;</td><td style=\"white-space: nowrap; max-width: 500px; overflow: hidden; text-overflow: ellipsis; \">&quot;154151387&quot;</td><td style=\"white-space: nowrap; max-width: 500px; overflow: hidden; text-overflow: ellipsis; \">&quot;154171378&quot;</td><td style=\"white-space: nowrap; max-width: 500px; overflow: hidden; text-overflow: ellipsis; \">&quot;chr6&quot;</td><td style=\"white-space: nowrap; max-width: 500px; overflow: hidden; text-overflow: ellipsis; \">[chr6:154151387-chr6:154171378)</td></tr>\n",
       "<tr><td style=\"white-space: nowrap; max-width: 500px; overflow: hidden; text-overflow: ellipsis; \">&quot;60775&quot;</td><td style=\"white-space: nowrap; max-width: 500px; overflow: hidden; text-overflow: ellipsis; \">&quot;6&quot;</td><td style=\"white-space: nowrap; max-width: 500px; overflow: hidden; text-overflow: ellipsis; \">&quot;7709&quot;</td><td style=\"white-space: nowrap; max-width: 500px; overflow: hidden; text-overflow: ellipsis; \">&quot;154171379&quot;</td><td style=\"white-space: nowrap; max-width: 500px; overflow: hidden; text-overflow: ellipsis; \">&quot;154191374&quot;</td><td style=\"white-space: nowrap; max-width: 500px; overflow: hidden; text-overflow: ellipsis; \">&quot;chr6&quot;</td><td style=\"white-space: nowrap; max-width: 500px; overflow: hidden; text-overflow: ellipsis; \">[chr6:154171379-chr6:154191374)</td></tr>\n",
       "</tbody></table><p style=\"background: #fdd; padding: 0.4em;\">showing top 10 rows</p>\n"
      ],
      "text/plain": [
       "+------------+------------+--------+-------------------+-----------------+\n",
       "| Row_Number | Chromosome | Block  | Starting_Position | Ending_Position |\n",
       "+------------+------------+--------+-------------------+-----------------+\n",
       "| str        | str        | str    | str               | str             |\n",
       "+------------+------------+--------+-------------------+-----------------+\n",
       "| \"60766\"    | \"6\"        | \"7700\" | \"153991433\"       | \"154011429\"     |\n",
       "| \"60767\"    | \"6\"        | \"7701\" | \"154011430\"       | \"154031420\"     |\n",
       "| \"60768\"    | \"6\"        | \"7702\" | \"154031421\"       | \"154051414\"     |\n",
       "| \"60769\"    | \"6\"        | \"7703\" | \"154051415\"       | \"154071408\"     |\n",
       "| \"60770\"    | \"6\"        | \"7704\" | \"154071409\"       | \"154091406\"     |\n",
       "| \"60771\"    | \"6\"        | \"7705\" | \"154091407\"       | \"154111396\"     |\n",
       "| \"60772\"    | \"6\"        | \"7706\" | \"154111397\"       | \"154131395\"     |\n",
       "| \"60773\"    | \"6\"        | \"7707\" | \"154131396\"       | \"154151386\"     |\n",
       "| \"60774\"    | \"6\"        | \"7708\" | \"154151387\"       | \"154171378\"     |\n",
       "| \"60775\"    | \"6\"        | \"7709\" | \"154171379\"       | \"154191374\"     |\n",
       "+------------+------------+--------+-------------------+-----------------+\n",
       "\n",
       "+--------+---------------------------------+\n",
       "| region | interval                        |\n",
       "+--------+---------------------------------+\n",
       "| str    | interval<locus<GRCh38>>         |\n",
       "+--------+---------------------------------+\n",
       "| \"chr6\" | [chr6:153991433-chr6:154011429) |\n",
       "| \"chr6\" | [chr6:154011430-chr6:154031420) |\n",
       "| \"chr6\" | [chr6:154031421-chr6:154051414) |\n",
       "| \"chr6\" | [chr6:154051415-chr6:154071408) |\n",
       "| \"chr6\" | [chr6:154071409-chr6:154091406) |\n",
       "| \"chr6\" | [chr6:154091407-chr6:154111396) |\n",
       "| \"chr6\" | [chr6:154111397-chr6:154131395) |\n",
       "| \"chr6\" | [chr6:154131396-chr6:154151386) |\n",
       "| \"chr6\" | [chr6:154151387-chr6:154171378) |\n",
       "| \"chr6\" | [chr6:154171379-chr6:154191374) |\n",
       "+--------+---------------------------------+\n",
       "showing top 10 rows"
      ]
     },
     "metadata": {},
     "output_type": "display_data"
    }
   ],
   "source": [
    "# Get blocks for given genes\n",
    "gb = blocks.filter(hl.any(lambda inter: blocks.interval.overlaps(inter), gene_interval))\n",
    "gb.show()"
   ]
  },
  {
   "cell_type": "markdown",
   "metadata": {},
   "source": [
    "#### Import vcf files of specific blocks"
   ]
  },
  {
   "cell_type": "code",
   "execution_count": null,
   "metadata": {
    "tags": []
   },
   "outputs": [
    {
     "name": "stderr",
     "output_type": "stream",
     "text": [
      "2025-05-23 08:50:15.729 Hail: INFO: Coerced sorted dataset\n",
      "2025-05-23 08:50:18.119 Hail: INFO: Coerced sorted dataset\n"
     ]
    }
   ],
   "source": [
    "VCF_DIR = Path(\n",
    "    \"DRAGEN WGS/DRAGEN population level WGS variants, pVCF format 500k release\"\n",
    ")\n",
    "\n",
    "vcf_files = [\n",
    "    f\"file://{BULK_DIR / VCF_DIR}/{chromosome}/ukb{FIELD_ID}_c{chromosome.replace('chr', '')}_b{block}_{VCF_VERSION}.vcf.gz\"\n",
    "    for block, chromosome in zip(gb.Block.collect(), gb.region.collect())\n",
    "]\n",
    "\n",
    "mt = hl.import_vcf(\n",
    "    vcf_files,\n",
    "    drop_samples=False,\n",
    "    reference_genome=\"GRCh38\",\n",
    "    array_elements_required=False,\n",
    "    force_bgz=True,\n",
    ")"
   ]
  },
  {
   "cell_type": "code",
   "execution_count": 9,
   "metadata": {
    "tags": []
   },
   "outputs": [
    {
     "name": "stderr",
     "output_type": "stream",
     "text": [
      "2025-05-23 08:50:43.666 Hail: INFO: scanning VCF for sortedness...\n",
      "2025-05-23 08:53:19.552 Hail: INFO: Coerced sorted VCF - no additional import work to do\n"
     ]
    },
    {
     "name": "stdout",
     "output_type": "stream",
     "text": [
      "78512 variants after gene filtering\n"
     ]
    }
   ],
   "source": [
    "# Only genes of interest\n",
    "mt = hl.filter_intervals(mt, gene_interval)\n",
    "print(f\"{mt.count_rows()} variants after gene filtering\")"
   ]
  },
  {
   "cell_type": "code",
   "execution_count": 10,
   "metadata": {
    "tags": []
   },
   "outputs": [
    {
     "name": "stdout",
     "output_type": "stream",
     "text": [
      "46265 variants after removing singletons\n"
     ]
    }
   ],
   "source": [
    "# Remove singletons (variants that appear only once across all samples)\n",
    "mt = mt.filter_rows(hl.agg.sum(mt.GT.n_alt_alleles()) > 1)\n",
    "print(f\"{mt.count_rows()} variants after removing singletons\")"
   ]
  },
  {
   "cell_type": "code",
   "execution_count": 11,
   "metadata": {
    "tags": []
   },
   "outputs": [
    {
     "name": "stderr",
     "output_type": "stream",
     "text": [
      "2025-05-23 09:07:43.587 Hail: INFO: wrote matrix table with 46265 rows and 490541 columns in 678 partitions to /tmp/OPRM1.FIRST.cp.mt\n"
     ]
    }
   ],
   "source": [
    "# First checkpoint\n",
    "stage = \"FIRST\"\n",
    "checkpoint_file = f\"/tmp/{PROJ_NAME}.{stage}.cp.mt\"\n",
    "\n",
    "mt = mt.checkpoint(checkpoint_file, overwrite=True)"
   ]
  },
  {
   "cell_type": "markdown",
   "metadata": {},
   "source": [
    "#### Multi-allele filtering"
   ]
  },
  {
   "cell_type": "code",
   "execution_count": 12,
   "metadata": {
    "tags": []
   },
   "outputs": [
    {
     "name": "stdout",
     "output_type": "stream",
     "text": [
      "46054 variants with not more than 6 alleles\n"
     ]
    }
   ],
   "source": [
    "# Remove variants with 6 or more alleles\n",
    "mt = mt.filter_rows(mt.alleles.length() <= 6)\n",
    "print(f\"{mt.count_rows()} variants with not more than 6 alleles\")"
   ]
  },
  {
   "cell_type": "code",
   "execution_count": 13,
   "metadata": {
    "tags": []
   },
   "outputs": [
    {
     "name": "stdout",
     "output_type": "stream",
     "text": [
      "59311 variants after multi-allele splitting\n"
     ]
    }
   ],
   "source": [
    "# Split multi-allele variants into single ones\n",
    "mt = smart_split_multi_mt(mt)\n",
    "print(f\"{mt.count_rows()} variants after multi-allele splitting\")"
   ]
  },
  {
   "cell_type": "code",
   "execution_count": 14,
   "metadata": {
    "tags": []
   },
   "outputs": [
    {
     "name": "stderr",
     "output_type": "stream",
     "text": [
      "2025-05-23 09:20:00.113 Hail: INFO: wrote matrix table with 59311 rows and 490541 columns in 1356 partitions to /tmp/OPRM1.SECOND.cp.mt\n"
     ]
    }
   ],
   "source": [
    "# Second checkpoint\n",
    "stage = \"SECOND\"\n",
    "checkpoint_file = f\"/tmp/{PROJ_NAME}.{stage}.cp.mt\"\n",
    "\n",
    "mt = mt.checkpoint(checkpoint_file, overwrite=True)"
   ]
  },
  {
   "cell_type": "markdown",
   "metadata": {},
   "source": [
    "#### Quality control filtering"
   ]
  },
  {
   "cell_type": "code",
   "execution_count": 15,
   "metadata": {
    "tags": []
   },
   "outputs": [],
   "source": [
    "mt = mt.filter_entries(mt.FT == \"PASS\")\n",
    "\n",
    "# Then, filter variants where there is at least one non-missing genotype\n",
    "mt = mt.filter_rows(hl.agg.any(hl.is_defined(mt.GT)))"
   ]
  },
  {
   "cell_type": "code",
   "execution_count": 16,
   "metadata": {
    "tags": []
   },
   "outputs": [
    {
     "name": "stderr",
     "output_type": "stream",
     "text": [
      "2025-05-23 09:22:13.277 Hail: INFO: wrote matrix table with 59311 rows and 490541 columns in 1356 partitions to /tmp/OPRM1.THIRD.cp.mt\n"
     ]
    }
   ],
   "source": [
    "# third checkpoint\n",
    "stage = \"THIRD\"\n",
    "checkpoint_file = f\"/tmp/{PROJ_NAME}.{stage}.cp.mt\"\n",
    "\n",
    "mt = mt.checkpoint(checkpoint_file, overwrite=True)"
   ]
  },
  {
   "cell_type": "code",
   "execution_count": null,
   "metadata": {
    "tags": []
   },
   "outputs": [],
   "source": [
    "# Compute statistics about the number and fraction of filtered entries.\n",
    "mt = hl.MatrixTable.compute_entry_filter_stats(\n",
    "    mt, row_field=\"entry_stats_row\", col_field=\"entry_stats_col\"\n",
    ")"
   ]
  },
  {
   "cell_type": "code",
   "execution_count": 18,
   "metadata": {
    "tags": []
   },
   "outputs": [
    {
     "name": "stderr",
     "output_type": "stream",
     "text": [
      "2025-05-23 09:29:40.545 Hail: INFO: wrote matrix table with 59311 rows and 490541 columns in 1356 partitions to /tmp/OPRM1.FORTH.cp.mt\n"
     ]
    }
   ],
   "source": [
    "# forth checkpoint\n",
    "stage = \"FORTH\"\n",
    "checkpoint_file = f\"/tmp/{PROJ_NAME}.{stage}.cp.mt\"\n",
    "\n",
    "mt = mt.checkpoint(checkpoint_file, overwrite=True)"
   ]
  },
  {
   "cell_type": "code",
   "execution_count": null,
   "metadata": {
    "tags": []
   },
   "outputs": [],
   "source": [
    "row_fraction_threshold = 0.95\n",
    "\n",
    "# Filter variants where at least 95% of genotypes are unfiltered\n",
    "mt = mt.filter_rows((1 - mt.entry_stats_row.fraction_filtered) > row_fraction_threshold)"
   ]
  },
  {
   "cell_type": "code",
   "execution_count": null,
   "metadata": {
    "tags": []
   },
   "outputs": [],
   "source": [
    "col_fraction_threshold = 0.95\n",
    "\n",
    "# Filter samples where at least 95% of variants are unfiltered\n",
    "mt = mt.filter_cols((1 - mt.entry_stats_col.fraction_filtered) > col_fraction_threshold)"
   ]
  },
  {
   "cell_type": "code",
   "execution_count": 21,
   "metadata": {
    "tags": []
   },
   "outputs": [
    {
     "name": "stderr",
     "output_type": "stream",
     "text": [
      "2025-05-23 09:33:34.175 Hail: INFO: wrote matrix table with 58863 rows and 490541 columns in 1356 partitions to /tmp/OPRM1.FIVE.cp.mt\n"
     ]
    }
   ],
   "source": [
    "# Five checkpoint\n",
    "stage = \"FIVE\"\n",
    "checkpoint_file = f\"/tmp/{PROJ_NAME}.{stage}.cp.mt\"\n",
    "\n",
    "mt = mt.checkpoint(checkpoint_file, overwrite=True)"
   ]
  },
  {
   "cell_type": "markdown",
   "metadata": {},
   "source": [
    "#### Remove samples from 01_QC_Samples.ipynb"
   ]
  },
  {
   "cell_type": "code",
   "execution_count": null,
   "metadata": {
    "tags": []
   },
   "outputs": [
    {
     "name": "stderr",
     "output_type": "stream",
     "text": [
      "2025-05-23 09:33:36.300 Hail: INFO: Reading table without type imputation\n",
      "  Loading field 'eid' as type str (not specified)\n"
     ]
    }
   ],
   "source": [
    "samples_to_remove = hl.import_table(\n",
    "    \"file:///mnt/project/WGS_Lucia/Data/samples_to_remove.tsv\", key=\"eid\"\n",
    ")\n",
    "\n",
    "mt = mt.anti_join_cols(samples_to_remove)\n",
    "\n",
    "# Filter rows (variants) where any sample information is still present\n",
    "mt = mt.filter_rows(hl.agg.any(mt.GT.n_alt_alleles() > 0))"
   ]
  },
  {
   "cell_type": "code",
   "execution_count": 23,
   "metadata": {
    "tags": []
   },
   "outputs": [
    {
     "name": "stderr",
     "output_type": "stream",
     "text": [
      "2025-05-23 09:38:28.278 Hail: INFO: wrote matrix table with 52078 rows and 431455 columns in 1356 partitions to /tmp/OPRM1.SIX.cp.mt\n"
     ]
    }
   ],
   "source": [
    "# Six checkpoint\n",
    "stage = \"SIX\"\n",
    "checkpoint_file = f\"/tmp/{PROJ_NAME}.{stage}.cp.mt\"\n",
    "\n",
    "mt = mt.checkpoint(checkpoint_file, overwrite=True)"
   ]
  },
  {
   "cell_type": "markdown",
   "metadata": {},
   "source": [
    "#### Variant Effect Predictor (VEP)"
   ]
  },
  {
   "cell_type": "code",
   "execution_count": 24,
   "metadata": {
    "tags": []
   },
   "outputs": [],
   "source": [
    "VEP_JSON = Path(\"GRCh38_VEP.json\").resolve()"
   ]
  },
  {
   "cell_type": "code",
   "execution_count": null,
   "metadata": {
    "tags": []
   },
   "outputs": [
    {
     "name": "stderr",
     "output_type": "stream",
     "text": [
      "2025-05-23 09:41:09.982 Hail: INFO: wrote table with 52078 rows in 1356 partitions to /tmp/persist_TablelVfWNjw02e\n"
     ]
    }
   ],
   "source": [
    "mt = hl.vep(mt, f\"file:{VEP_JSON}\", block_size=100)"
   ]
  },
  {
   "cell_type": "code",
   "execution_count": null,
   "metadata": {
    "tags": []
   },
   "outputs": [],
   "source": [
    "is_MANE = mt.aggregate_rows(\n",
    "    hl.agg.all(hl.is_defined(mt.vep.transcript_consequences.mane_select))\n",
    ")\n",
    "assert is_MANE, \"Selected transcript may not be MANE Select. Check manually.\"\n",
    "\n",
    "mt = mt.annotate_rows(\n",
    "    protCons=mt.vep.transcript_consequences.amino_acids[0].split(\"/\")[0]\n",
    "    + hl.str(mt.vep.transcript_consequences.protein_end[0])\n",
    "    + mt.vep.transcript_consequences.amino_acids[0].split(\"/\")[-1],\n",
    "    varid=hl.variant_str(mt.locus, mt.alleles),\n",
    ")"
   ]
  },
  {
   "cell_type": "code",
   "execution_count": 27,
   "metadata": {
    "tags": []
   },
   "outputs": [
    {
     "name": "stderr",
     "output_type": "stream",
     "text": [
      "2025-05-23 09:47:05.110 Hail: INFO: wrote matrix table with 52078 rows and 431455 columns in 1356 partitions to /tmp/OPRM1.SEVEN.cp.mt\n"
     ]
    }
   ],
   "source": [
    "# Seven checkpoint\n",
    "stage = \"SEVEN\"\n",
    "checkpoint_file = f\"/tmp/{PROJ_NAME}.{stage}.cp.mt\"\n",
    "\n",
    "mt = mt.checkpoint(checkpoint_file, overwrite=True)"
   ]
  },
  {
   "cell_type": "markdown",
   "metadata": {},
   "source": [
    "### Filtering"
   ]
  },
  {
   "cell_type": "code",
   "execution_count": 28,
   "metadata": {
    "tags": []
   },
   "outputs": [],
   "source": [
    "mt = hl.variant_qc(mt)\n",
    "mt = mt.filter_rows(mt.variant_qc.n_non_ref > 0)\n",
    "mt = mt.filter_rows(mt.variant_qc.gq_stats.mean >= 20)\n",
    "mt = mt.filter_rows(mt.variant_qc.call_rate >= 0.95)\n",
    "mt = mt.filter_rows(mt.vep.most_severe_consequence != \"intron_variant\")\n",
    "mt = mt.filter_rows(mt.vep.most_severe_consequence != \"downstream_gene_variant\")\n",
    "mt = mt.filter_rows(mt.vep.most_severe_consequence != \"upstream_gene_variant\")"
   ]
  },
  {
   "cell_type": "code",
   "execution_count": 29,
   "metadata": {
    "tags": []
   },
   "outputs": [],
   "source": [
    "GENE = \"OPRM1\"\n",
    "\n",
    "# gene=mt.vep.transcript_consequences.gene_symbol[0]\n",
    "mt = mt.filter_rows(mt.vep.transcript_consequences.gene_symbol[0] == GENE)"
   ]
  },
  {
   "cell_type": "code",
   "execution_count": 30,
   "metadata": {
    "tags": []
   },
   "outputs": [
    {
     "name": "stdout",
     "output_type": "stream",
     "text": [
      "3401 variants after quality filtering\n"
     ]
    }
   ],
   "source": [
    "print(f\"{mt.count_rows()} variants after quality filtering\")"
   ]
  },
  {
   "cell_type": "code",
   "execution_count": 31,
   "metadata": {
    "tags": []
   },
   "outputs": [
    {
     "name": "stderr",
     "output_type": "stream",
     "text": [
      "2025-05-23 09:53:44.531 Hail: INFO: wrote matrix table with 3401 rows and 431455 columns in 1356 partitions to /tmp/OPRM1.EIGHT.cp.mt\n"
     ]
    }
   ],
   "source": [
    "# Eight checkpoint\n",
    "stage = \"EIGHT\"\n",
    "checkpoint_file = f\"/tmp/{PROJ_NAME}.{stage}.cp.mt\"\n",
    "\n",
    "mt = mt.checkpoint(checkpoint_file, overwrite=True)"
   ]
  },
  {
   "cell_type": "markdown",
   "metadata": {},
   "source": [
    "### Formating"
   ]
  },
  {
   "cell_type": "code",
   "execution_count": 32,
   "metadata": {
    "tags": []
   },
   "outputs": [
    {
     "data": {
      "text/html": [
       "<table><thead><tr><td style=\"white-space: nowrap; max-width: 500px; overflow: hidden; text-overflow: ellipsis; \" colspan=\"1\"><div style=\"text-align: left;\"></div></td><td style=\"white-space: nowrap; max-width: 500px; overflow: hidden; text-overflow: ellipsis; \" colspan=\"1\"><div style=\"text-align: left;\"></div></td><td style=\"white-space: nowrap; max-width: 500px; overflow: hidden; text-overflow: ellipsis; \" colspan=\"1\"><div style=\"text-align: left;\"></div></td><td style=\"white-space: nowrap; max-width: 500px; overflow: hidden; text-overflow: ellipsis; \" colspan=\"1\"><div style=\"text-align: left;\"></div></td><td style=\"white-space: nowrap; max-width: 500px; overflow: hidden; text-overflow: ellipsis; \" colspan=\"1\"><div style=\"text-align: left;\"></div></td><td style=\"white-space: nowrap; max-width: 500px; overflow: hidden; text-overflow: ellipsis; \" colspan=\"1\"><div style=\"text-align: left;\"></div></td><td style=\"white-space: nowrap; max-width: 500px; overflow: hidden; text-overflow: ellipsis; \" colspan=\"1\"><div style=\"text-align: left;\"></div></td><td style=\"white-space: nowrap; max-width: 500px; overflow: hidden; text-overflow: ellipsis; \" colspan=\"1\"><div style=\"text-align: left;\"></div></td><td style=\"white-space: nowrap; max-width: 500px; overflow: hidden; text-overflow: ellipsis; \" colspan=\"1\"><div style=\"text-align: left;\"></div></td><td style=\"white-space: nowrap; max-width: 500px; overflow: hidden; text-overflow: ellipsis; \" colspan=\"1\"><div style=\"text-align: left;\"></div></td><td style=\"white-space: nowrap; max-width: 500px; overflow: hidden; text-overflow: ellipsis; \" colspan=\"1\"><div style=\"text-align: left;\"></div></td><td style=\"white-space: nowrap; max-width: 500px; overflow: hidden; text-overflow: ellipsis; \" colspan=\"1\"><div style=\"text-align: left;\"></div></td><td style=\"white-space: nowrap; max-width: 500px; overflow: hidden; text-overflow: ellipsis; \" colspan=\"1\"><div style=\"text-align: left;\"></div></td><td style=\"white-space: nowrap; max-width: 500px; overflow: hidden; text-overflow: ellipsis; \" colspan=\"1\"><div style=\"text-align: left;\"></div></td><td style=\"white-space: nowrap; max-width: 500px; overflow: hidden; text-overflow: ellipsis; \" colspan=\"1\"><div style=\"text-align: left;\"></div></td><td style=\"white-space: nowrap; max-width: 500px; overflow: hidden; text-overflow: ellipsis; \" colspan=\"1\"><div style=\"text-align: left;\"></div></td><td style=\"white-space: nowrap; max-width: 500px; overflow: hidden; text-overflow: ellipsis; \" colspan=\"1\"><div style=\"text-align: left;\"></div></td><td style=\"white-space: nowrap; max-width: 500px; overflow: hidden; text-overflow: ellipsis; \" colspan=\"1\"><div style=\"text-align: left;\"></div></td><td style=\"white-space: nowrap; max-width: 500px; overflow: hidden; text-overflow: ellipsis; \" colspan=\"1\"><div style=\"text-align: left;\"></div></td><td style=\"white-space: nowrap; max-width: 500px; overflow: hidden; text-overflow: ellipsis; \" colspan=\"1\"><div style=\"text-align: left;\"></div></td><td style=\"white-space: nowrap; max-width: 500px; overflow: hidden; text-overflow: ellipsis; \" colspan=\"1\"><div style=\"text-align: left;\"></div></td><td style=\"white-space: nowrap; max-width: 500px; overflow: hidden; text-overflow: ellipsis; \" colspan=\"1\"><div style=\"text-align: left;\"></div></td><td style=\"white-space: nowrap; max-width: 500px; overflow: hidden; text-overflow: ellipsis; \" colspan=\"1\"><div style=\"text-align: left;\"></div></td><td style=\"white-space: nowrap; max-width: 500px; overflow: hidden; text-overflow: ellipsis; \" colspan=\"1\"><div style=\"text-align: left;\"></div></td><td style=\"white-space: nowrap; max-width: 500px; overflow: hidden; text-overflow: ellipsis; \" colspan=\"1\"><div style=\"text-align: left;\"></div></td></tr><tr><td style=\"white-space: nowrap; max-width: 500px; overflow: hidden; text-overflow: ellipsis; \" colspan=\"1\"><div style=\"text-align: left;border-bottom: solid 2px #000; padding-bottom: 5px\">varid</div></td><td style=\"white-space: nowrap; max-width: 500px; overflow: hidden; text-overflow: ellipsis; \" colspan=\"1\"><div style=\"text-align: left;border-bottom: solid 2px #000; padding-bottom: 5px\">protCons</div></td><td style=\"white-space: nowrap; max-width: 500px; overflow: hidden; text-overflow: ellipsis; \" colspan=\"1\"><div style=\"text-align: left;border-bottom: solid 2px #000; padding-bottom: 5px\">most_severe_consequence</div></td><td style=\"white-space: nowrap; max-width: 500px; overflow: hidden; text-overflow: ellipsis; \" colspan=\"1\"><div style=\"text-align: left;border-bottom: solid 2px #000; padding-bottom: 5px\">protein_end</div></td><td style=\"white-space: nowrap; max-width: 500px; overflow: hidden; text-overflow: ellipsis; \" colspan=\"1\"><div style=\"text-align: left;border-bottom: solid 2px #000; padding-bottom: 5px\">protein_start</div></td><td style=\"white-space: nowrap; max-width: 500px; overflow: hidden; text-overflow: ellipsis; \" colspan=\"1\"><div style=\"text-align: left;border-bottom: solid 2px #000; padding-bottom: 5px\">amino_acids</div></td><td style=\"white-space: nowrap; max-width: 500px; overflow: hidden; text-overflow: ellipsis; \" colspan=\"1\"><div style=\"text-align: left;border-bottom: solid 2px #000; padding-bottom: 5px\">gene_id</div></td><td style=\"white-space: nowrap; max-width: 500px; overflow: hidden; text-overflow: ellipsis; \" colspan=\"1\"><div style=\"text-align: left;border-bottom: solid 2px #000; padding-bottom: 5px\">transcript_id</div></td><td style=\"white-space: nowrap; max-width: 500px; overflow: hidden; text-overflow: ellipsis; \" colspan=\"1\"><div style=\"text-align: left;border-bottom: solid 2px #000; padding-bottom: 5px\">gq_stats.mean</div></td><td style=\"white-space: nowrap; max-width: 500px; overflow: hidden; text-overflow: ellipsis; \" colspan=\"1\"><div style=\"text-align: left;border-bottom: solid 2px #000; padding-bottom: 5px\">gq_stats.stdev</div></td><td style=\"white-space: nowrap; max-width: 500px; overflow: hidden; text-overflow: ellipsis; \" colspan=\"1\"><div style=\"text-align: left;border-bottom: solid 2px #000; padding-bottom: 5px\">gq_stats.min</div></td><td style=\"white-space: nowrap; max-width: 500px; overflow: hidden; text-overflow: ellipsis; \" colspan=\"1\"><div style=\"text-align: left;border-bottom: solid 2px #000; padding-bottom: 5px\">gq_stats.max</div></td><td style=\"white-space: nowrap; max-width: 500px; overflow: hidden; text-overflow: ellipsis; \" colspan=\"1\"><div style=\"text-align: left;border-bottom: solid 2px #000; padding-bottom: 5px\">AC</div></td><td style=\"white-space: nowrap; max-width: 500px; overflow: hidden; text-overflow: ellipsis; \" colspan=\"1\"><div style=\"text-align: left;border-bottom: solid 2px #000; padding-bottom: 5px\">AF</div></td><td style=\"white-space: nowrap; max-width: 500px; overflow: hidden; text-overflow: ellipsis; \" colspan=\"1\"><div style=\"text-align: left;border-bottom: solid 2px #000; padding-bottom: 5px\">AN</div></td><td style=\"white-space: nowrap; max-width: 500px; overflow: hidden; text-overflow: ellipsis; \" colspan=\"1\"><div style=\"text-align: left;border-bottom: solid 2px #000; padding-bottom: 5px\">homozygote_count</div></td><td style=\"white-space: nowrap; max-width: 500px; overflow: hidden; text-overflow: ellipsis; \" colspan=\"1\"><div style=\"text-align: left;border-bottom: solid 2px #000; padding-bottom: 5px\">call_rate</div></td><td style=\"white-space: nowrap; max-width: 500px; overflow: hidden; text-overflow: ellipsis; \" colspan=\"1\"><div style=\"text-align: left;border-bottom: solid 2px #000; padding-bottom: 5px\">n_called</div></td><td style=\"white-space: nowrap; max-width: 500px; overflow: hidden; text-overflow: ellipsis; \" colspan=\"1\"><div style=\"text-align: left;border-bottom: solid 2px #000; padding-bottom: 5px\">n_not_called</div></td><td style=\"white-space: nowrap; max-width: 500px; overflow: hidden; text-overflow: ellipsis; \" colspan=\"1\"><div style=\"text-align: left;border-bottom: solid 2px #000; padding-bottom: 5px\">n_filtered</div></td><td style=\"white-space: nowrap; max-width: 500px; overflow: hidden; text-overflow: ellipsis; \" colspan=\"1\"><div style=\"text-align: left;border-bottom: solid 2px #000; padding-bottom: 5px\">n_het</div></td><td style=\"white-space: nowrap; max-width: 500px; overflow: hidden; text-overflow: ellipsis; \" colspan=\"1\"><div style=\"text-align: left;border-bottom: solid 2px #000; padding-bottom: 5px\">n_non_ref</div></td><td style=\"white-space: nowrap; max-width: 500px; overflow: hidden; text-overflow: ellipsis; \" colspan=\"1\"><div style=\"text-align: left;border-bottom: solid 2px #000; padding-bottom: 5px\">het_freq_hwe</div></td><td style=\"white-space: nowrap; max-width: 500px; overflow: hidden; text-overflow: ellipsis; \" colspan=\"1\"><div style=\"text-align: left;border-bottom: solid 2px #000; padding-bottom: 5px\">p_value_hwe</div></td><td style=\"white-space: nowrap; max-width: 500px; overflow: hidden; text-overflow: ellipsis; \" colspan=\"1\"><div style=\"text-align: left;border-bottom: solid 2px #000; padding-bottom: 5px\">p_value_excess_het</div></td></tr><tr><td style=\"white-space: nowrap; max-width: 500px; overflow: hidden; text-overflow: ellipsis; text-align: left;\">str</td><td style=\"white-space: nowrap; max-width: 500px; overflow: hidden; text-overflow: ellipsis; text-align: left;\">str</td><td style=\"white-space: nowrap; max-width: 500px; overflow: hidden; text-overflow: ellipsis; text-align: left;\">str</td><td style=\"white-space: nowrap; max-width: 500px; overflow: hidden; text-overflow: ellipsis; text-align: left;\">int32</td><td style=\"white-space: nowrap; max-width: 500px; overflow: hidden; text-overflow: ellipsis; text-align: left;\">int32</td><td style=\"white-space: nowrap; max-width: 500px; overflow: hidden; text-overflow: ellipsis; text-align: left;\">str</td><td style=\"white-space: nowrap; max-width: 500px; overflow: hidden; text-overflow: ellipsis; text-align: left;\">str</td><td style=\"white-space: nowrap; max-width: 500px; overflow: hidden; text-overflow: ellipsis; text-align: left;\">str</td><td style=\"white-space: nowrap; max-width: 500px; overflow: hidden; text-overflow: ellipsis; text-align: left;\">float64</td><td style=\"white-space: nowrap; max-width: 500px; overflow: hidden; text-overflow: ellipsis; text-align: left;\">float64</td><td style=\"white-space: nowrap; max-width: 500px; overflow: hidden; text-overflow: ellipsis; text-align: left;\">float64</td><td style=\"white-space: nowrap; max-width: 500px; overflow: hidden; text-overflow: ellipsis; text-align: left;\">float64</td><td style=\"white-space: nowrap; max-width: 500px; overflow: hidden; text-overflow: ellipsis; text-align: left;\">int32</td><td style=\"white-space: nowrap; max-width: 500px; overflow: hidden; text-overflow: ellipsis; text-align: left;\">float64</td><td style=\"white-space: nowrap; max-width: 500px; overflow: hidden; text-overflow: ellipsis; text-align: left;\">int32</td><td style=\"white-space: nowrap; max-width: 500px; overflow: hidden; text-overflow: ellipsis; text-align: left;\">int32</td><td style=\"white-space: nowrap; max-width: 500px; overflow: hidden; text-overflow: ellipsis; text-align: left;\">float64</td><td style=\"white-space: nowrap; max-width: 500px; overflow: hidden; text-overflow: ellipsis; text-align: left;\">int64</td><td style=\"white-space: nowrap; max-width: 500px; overflow: hidden; text-overflow: ellipsis; text-align: left;\">int64</td><td style=\"white-space: nowrap; max-width: 500px; overflow: hidden; text-overflow: ellipsis; text-align: left;\">int64</td><td style=\"white-space: nowrap; max-width: 500px; overflow: hidden; text-overflow: ellipsis; text-align: left;\">int64</td><td style=\"white-space: nowrap; max-width: 500px; overflow: hidden; text-overflow: ellipsis; text-align: left;\">int64</td><td style=\"white-space: nowrap; max-width: 500px; overflow: hidden; text-overflow: ellipsis; text-align: left;\">float64</td><td style=\"white-space: nowrap; max-width: 500px; overflow: hidden; text-overflow: ellipsis; text-align: left;\">float64</td><td style=\"white-space: nowrap; max-width: 500px; overflow: hidden; text-overflow: ellipsis; text-align: left;\">float64</td></tr>\n",
       "</thead><tbody><tr><td style=\"white-space: nowrap; max-width: 500px; overflow: hidden; text-overflow: ellipsis; \">&quot;chr6:154010515:G:C&quot;</td><td style=\"white-space: nowrap; max-width: 500px; overflow: hidden; text-overflow: ellipsis; \">NA</td><td style=\"white-space: nowrap; max-width: 500px; overflow: hidden; text-overflow: ellipsis; \">&quot;5_prime_UTR_variant&quot;</td><td style=\"white-space: nowrap; max-width: 500px; overflow: hidden; text-overflow: ellipsis; \">NA</td><td style=\"white-space: nowrap; max-width: 500px; overflow: hidden; text-overflow: ellipsis; \">NA</td><td style=\"white-space: nowrap; max-width: 500px; overflow: hidden; text-overflow: ellipsis; \">NA</td><td style=\"white-space: nowrap; max-width: 500px; overflow: hidden; text-overflow: ellipsis; \">&quot;ENSG00000112038&quot;</td><td style=\"white-space: nowrap; max-width: 500px; overflow: hidden; text-overflow: ellipsis; \">&quot;ENST00000434900&quot;</td><td style=\"white-space: nowrap; max-width: 500px; overflow: hidden; text-overflow: ellipsis; \">5.75e+01</td><td style=\"white-space: nowrap; max-width: 500px; overflow: hidden; text-overflow: ellipsis; \">1.38e+01</td><td style=\"white-space: nowrap; max-width: 500px; overflow: hidden; text-overflow: ellipsis; \">1.30e+01</td><td style=\"white-space: nowrap; max-width: 500px; overflow: hidden; text-overflow: ellipsis; \">9.90e+01</td><td style=\"white-space: nowrap; max-width: 500px; overflow: hidden; text-overflow: ellipsis; \">1</td><td style=\"white-space: nowrap; max-width: 500px; overflow: hidden; text-overflow: ellipsis; \">1.16e-06</td><td style=\"white-space: nowrap; max-width: 500px; overflow: hidden; text-overflow: ellipsis; \">862910</td><td style=\"white-space: nowrap; max-width: 500px; overflow: hidden; text-overflow: ellipsis; \">0</td><td style=\"white-space: nowrap; max-width: 500px; overflow: hidden; text-overflow: ellipsis; \">1.00e+00</td><td style=\"white-space: nowrap; max-width: 500px; overflow: hidden; text-overflow: ellipsis; \">431455</td><td style=\"white-space: nowrap; max-width: 500px; overflow: hidden; text-overflow: ellipsis; \">0</td><td style=\"white-space: nowrap; max-width: 500px; overflow: hidden; text-overflow: ellipsis; \">0</td><td style=\"white-space: nowrap; max-width: 500px; overflow: hidden; text-overflow: ellipsis; \">1</td><td style=\"white-space: nowrap; max-width: 500px; overflow: hidden; text-overflow: ellipsis; \">1</td><td style=\"white-space: nowrap; max-width: 500px; overflow: hidden; text-overflow: ellipsis; \">2.32e-06</td><td style=\"white-space: nowrap; max-width: 500px; overflow: hidden; text-overflow: ellipsis; \">5.00e-01</td><td style=\"white-space: nowrap; max-width: 500px; overflow: hidden; text-overflow: ellipsis; \">5.00e-01</td></tr>\n",
       "<tr><td style=\"white-space: nowrap; max-width: 500px; overflow: hidden; text-overflow: ellipsis; \">&quot;chr6:154010520:G:A&quot;</td><td style=\"white-space: nowrap; max-width: 500px; overflow: hidden; text-overflow: ellipsis; \">NA</td><td style=\"white-space: nowrap; max-width: 500px; overflow: hidden; text-overflow: ellipsis; \">&quot;5_prime_UTR_variant&quot;</td><td style=\"white-space: nowrap; max-width: 500px; overflow: hidden; text-overflow: ellipsis; \">NA</td><td style=\"white-space: nowrap; max-width: 500px; overflow: hidden; text-overflow: ellipsis; \">NA</td><td style=\"white-space: nowrap; max-width: 500px; overflow: hidden; text-overflow: ellipsis; \">NA</td><td style=\"white-space: nowrap; max-width: 500px; overflow: hidden; text-overflow: ellipsis; \">&quot;ENSG00000112038&quot;</td><td style=\"white-space: nowrap; max-width: 500px; overflow: hidden; text-overflow: ellipsis; \">&quot;ENST00000434900&quot;</td><td style=\"white-space: nowrap; max-width: 500px; overflow: hidden; text-overflow: ellipsis; \">5.75e+01</td><td style=\"white-space: nowrap; max-width: 500px; overflow: hidden; text-overflow: ellipsis; \">1.38e+01</td><td style=\"white-space: nowrap; max-width: 500px; overflow: hidden; text-overflow: ellipsis; \">1.30e+01</td><td style=\"white-space: nowrap; max-width: 500px; overflow: hidden; text-overflow: ellipsis; \">9.90e+01</td><td style=\"white-space: nowrap; max-width: 500px; overflow: hidden; text-overflow: ellipsis; \">2</td><td style=\"white-space: nowrap; max-width: 500px; overflow: hidden; text-overflow: ellipsis; \">2.32e-06</td><td style=\"white-space: nowrap; max-width: 500px; overflow: hidden; text-overflow: ellipsis; \">862908</td><td style=\"white-space: nowrap; max-width: 500px; overflow: hidden; text-overflow: ellipsis; \">0</td><td style=\"white-space: nowrap; max-width: 500px; overflow: hidden; text-overflow: ellipsis; \">1.00e+00</td><td style=\"white-space: nowrap; max-width: 500px; overflow: hidden; text-overflow: ellipsis; \">431454</td><td style=\"white-space: nowrap; max-width: 500px; overflow: hidden; text-overflow: ellipsis; \">0</td><td style=\"white-space: nowrap; max-width: 500px; overflow: hidden; text-overflow: ellipsis; \">1</td><td style=\"white-space: nowrap; max-width: 500px; overflow: hidden; text-overflow: ellipsis; \">2</td><td style=\"white-space: nowrap; max-width: 500px; overflow: hidden; text-overflow: ellipsis; \">2</td><td style=\"white-space: nowrap; max-width: 500px; overflow: hidden; text-overflow: ellipsis; \">4.64e-06</td><td style=\"white-space: nowrap; max-width: 500px; overflow: hidden; text-overflow: ellipsis; \">5.00e-01</td><td style=\"white-space: nowrap; max-width: 500px; overflow: hidden; text-overflow: ellipsis; \">5.00e-01</td></tr>\n",
       "<tr><td style=\"white-space: nowrap; max-width: 500px; overflow: hidden; text-overflow: ellipsis; \">&quot;chr6:154010521:G:A&quot;</td><td style=\"white-space: nowrap; max-width: 500px; overflow: hidden; text-overflow: ellipsis; \">NA</td><td style=\"white-space: nowrap; max-width: 500px; overflow: hidden; text-overflow: ellipsis; \">&quot;5_prime_UTR_variant&quot;</td><td style=\"white-space: nowrap; max-width: 500px; overflow: hidden; text-overflow: ellipsis; \">NA</td><td style=\"white-space: nowrap; max-width: 500px; overflow: hidden; text-overflow: ellipsis; \">NA</td><td style=\"white-space: nowrap; max-width: 500px; overflow: hidden; text-overflow: ellipsis; \">NA</td><td style=\"white-space: nowrap; max-width: 500px; overflow: hidden; text-overflow: ellipsis; \">&quot;ENSG00000112038&quot;</td><td style=\"white-space: nowrap; max-width: 500px; overflow: hidden; text-overflow: ellipsis; \">&quot;ENST00000434900&quot;</td><td style=\"white-space: nowrap; max-width: 500px; overflow: hidden; text-overflow: ellipsis; \">5.75e+01</td><td style=\"white-space: nowrap; max-width: 500px; overflow: hidden; text-overflow: ellipsis; \">1.38e+01</td><td style=\"white-space: nowrap; max-width: 500px; overflow: hidden; text-overflow: ellipsis; \">1.30e+01</td><td style=\"white-space: nowrap; max-width: 500px; overflow: hidden; text-overflow: ellipsis; \">9.90e+01</td><td style=\"white-space: nowrap; max-width: 500px; overflow: hidden; text-overflow: ellipsis; \">3</td><td style=\"white-space: nowrap; max-width: 500px; overflow: hidden; text-overflow: ellipsis; \">3.48e-06</td><td style=\"white-space: nowrap; max-width: 500px; overflow: hidden; text-overflow: ellipsis; \">862908</td><td style=\"white-space: nowrap; max-width: 500px; overflow: hidden; text-overflow: ellipsis; \">0</td><td style=\"white-space: nowrap; max-width: 500px; overflow: hidden; text-overflow: ellipsis; \">1.00e+00</td><td style=\"white-space: nowrap; max-width: 500px; overflow: hidden; text-overflow: ellipsis; \">431454</td><td style=\"white-space: nowrap; max-width: 500px; overflow: hidden; text-overflow: ellipsis; \">0</td><td style=\"white-space: nowrap; max-width: 500px; overflow: hidden; text-overflow: ellipsis; \">1</td><td style=\"white-space: nowrap; max-width: 500px; overflow: hidden; text-overflow: ellipsis; \">3</td><td style=\"white-space: nowrap; max-width: 500px; overflow: hidden; text-overflow: ellipsis; \">3</td><td style=\"white-space: nowrap; max-width: 500px; overflow: hidden; text-overflow: ellipsis; \">6.95e-06</td><td style=\"white-space: nowrap; max-width: 500px; overflow: hidden; text-overflow: ellipsis; \">5.00e-01</td><td style=\"white-space: nowrap; max-width: 500px; overflow: hidden; text-overflow: ellipsis; \">5.00e-01</td></tr>\n",
       "<tr><td style=\"white-space: nowrap; max-width: 500px; overflow: hidden; text-overflow: ellipsis; \">&quot;chr6:154010530:C:T&quot;</td><td style=\"white-space: nowrap; max-width: 500px; overflow: hidden; text-overflow: ellipsis; \">NA</td><td style=\"white-space: nowrap; max-width: 500px; overflow: hidden; text-overflow: ellipsis; \">&quot;5_prime_UTR_variant&quot;</td><td style=\"white-space: nowrap; max-width: 500px; overflow: hidden; text-overflow: ellipsis; \">NA</td><td style=\"white-space: nowrap; max-width: 500px; overflow: hidden; text-overflow: ellipsis; \">NA</td><td style=\"white-space: nowrap; max-width: 500px; overflow: hidden; text-overflow: ellipsis; \">NA</td><td style=\"white-space: nowrap; max-width: 500px; overflow: hidden; text-overflow: ellipsis; \">&quot;ENSG00000112038&quot;</td><td style=\"white-space: nowrap; max-width: 500px; overflow: hidden; text-overflow: ellipsis; \">&quot;ENST00000434900&quot;</td><td style=\"white-space: nowrap; max-width: 500px; overflow: hidden; text-overflow: ellipsis; \">5.75e+01</td><td style=\"white-space: nowrap; max-width: 500px; overflow: hidden; text-overflow: ellipsis; \">1.38e+01</td><td style=\"white-space: nowrap; max-width: 500px; overflow: hidden; text-overflow: ellipsis; \">1.30e+01</td><td style=\"white-space: nowrap; max-width: 500px; overflow: hidden; text-overflow: ellipsis; \">9.90e+01</td><td style=\"white-space: nowrap; max-width: 500px; overflow: hidden; text-overflow: ellipsis; \">3</td><td style=\"white-space: nowrap; max-width: 500px; overflow: hidden; text-overflow: ellipsis; \">3.48e-06</td><td style=\"white-space: nowrap; max-width: 500px; overflow: hidden; text-overflow: ellipsis; \">862910</td><td style=\"white-space: nowrap; max-width: 500px; overflow: hidden; text-overflow: ellipsis; \">0</td><td style=\"white-space: nowrap; max-width: 500px; overflow: hidden; text-overflow: ellipsis; \">1.00e+00</td><td style=\"white-space: nowrap; max-width: 500px; overflow: hidden; text-overflow: ellipsis; \">431455</td><td style=\"white-space: nowrap; max-width: 500px; overflow: hidden; text-overflow: ellipsis; \">0</td><td style=\"white-space: nowrap; max-width: 500px; overflow: hidden; text-overflow: ellipsis; \">0</td><td style=\"white-space: nowrap; max-width: 500px; overflow: hidden; text-overflow: ellipsis; \">3</td><td style=\"white-space: nowrap; max-width: 500px; overflow: hidden; text-overflow: ellipsis; \">3</td><td style=\"white-space: nowrap; max-width: 500px; overflow: hidden; text-overflow: ellipsis; \">6.95e-06</td><td style=\"white-space: nowrap; max-width: 500px; overflow: hidden; text-overflow: ellipsis; \">5.00e-01</td><td style=\"white-space: nowrap; max-width: 500px; overflow: hidden; text-overflow: ellipsis; \">5.00e-01</td></tr>\n",
       "<tr><td style=\"white-space: nowrap; max-width: 500px; overflow: hidden; text-overflow: ellipsis; \">&quot;chr6:154010543:G:T&quot;</td><td style=\"white-space: nowrap; max-width: 500px; overflow: hidden; text-overflow: ellipsis; \">NA</td><td style=\"white-space: nowrap; max-width: 500px; overflow: hidden; text-overflow: ellipsis; \">&quot;5_prime_UTR_variant&quot;</td><td style=\"white-space: nowrap; max-width: 500px; overflow: hidden; text-overflow: ellipsis; \">NA</td><td style=\"white-space: nowrap; max-width: 500px; overflow: hidden; text-overflow: ellipsis; \">NA</td><td style=\"white-space: nowrap; max-width: 500px; overflow: hidden; text-overflow: ellipsis; \">NA</td><td style=\"white-space: nowrap; max-width: 500px; overflow: hidden; text-overflow: ellipsis; \">&quot;ENSG00000112038&quot;</td><td style=\"white-space: nowrap; max-width: 500px; overflow: hidden; text-overflow: ellipsis; \">&quot;ENST00000434900&quot;</td><td style=\"white-space: nowrap; max-width: 500px; overflow: hidden; text-overflow: ellipsis; \">5.75e+01</td><td style=\"white-space: nowrap; max-width: 500px; overflow: hidden; text-overflow: ellipsis; \">1.38e+01</td><td style=\"white-space: nowrap; max-width: 500px; overflow: hidden; text-overflow: ellipsis; \">1.30e+01</td><td style=\"white-space: nowrap; max-width: 500px; overflow: hidden; text-overflow: ellipsis; \">9.90e+01</td><td style=\"white-space: nowrap; max-width: 500px; overflow: hidden; text-overflow: ellipsis; \">8</td><td style=\"white-space: nowrap; max-width: 500px; overflow: hidden; text-overflow: ellipsis; \">9.27e-06</td><td style=\"white-space: nowrap; max-width: 500px; overflow: hidden; text-overflow: ellipsis; \">862910</td><td style=\"white-space: nowrap; max-width: 500px; overflow: hidden; text-overflow: ellipsis; \">0</td><td style=\"white-space: nowrap; max-width: 500px; overflow: hidden; text-overflow: ellipsis; \">1.00e+00</td><td style=\"white-space: nowrap; max-width: 500px; overflow: hidden; text-overflow: ellipsis; \">431455</td><td style=\"white-space: nowrap; max-width: 500px; overflow: hidden; text-overflow: ellipsis; \">0</td><td style=\"white-space: nowrap; max-width: 500px; overflow: hidden; text-overflow: ellipsis; \">0</td><td style=\"white-space: nowrap; max-width: 500px; overflow: hidden; text-overflow: ellipsis; \">8</td><td style=\"white-space: nowrap; max-width: 500px; overflow: hidden; text-overflow: ellipsis; \">8</td><td style=\"white-space: nowrap; max-width: 500px; overflow: hidden; text-overflow: ellipsis; \">1.85e-05</td><td style=\"white-space: nowrap; max-width: 500px; overflow: hidden; text-overflow: ellipsis; \">5.00e-01</td><td style=\"white-space: nowrap; max-width: 500px; overflow: hidden; text-overflow: ellipsis; \">5.00e-01</td></tr>\n",
       "</tbody></table><p style=\"background: #fdd; padding: 0.4em;\">showing top 5 rows</p>\n"
      ],
      "text/plain": [
       "+----------------------+----------+-------------------------+-------------+\n",
       "| varid                | protCons | most_severe_consequence | protein_end |\n",
       "+----------------------+----------+-------------------------+-------------+\n",
       "| str                  | str      | str                     |       int32 |\n",
       "+----------------------+----------+-------------------------+-------------+\n",
       "| \"chr6:154010515:G:C\" | NA       | \"5_prime_UTR_variant\"   |          NA |\n",
       "| \"chr6:154010520:G:A\" | NA       | \"5_prime_UTR_variant\"   |          NA |\n",
       "| \"chr6:154010521:G:A\" | NA       | \"5_prime_UTR_variant\"   |          NA |\n",
       "| \"chr6:154010530:C:T\" | NA       | \"5_prime_UTR_variant\"   |          NA |\n",
       "| \"chr6:154010543:G:T\" | NA       | \"5_prime_UTR_variant\"   |          NA |\n",
       "+----------------------+----------+-------------------------+-------------+\n",
       "\n",
       "+---------------+-------------+-------------------+-------------------+\n",
       "| protein_start | amino_acids | gene_id           | transcript_id     |\n",
       "+---------------+-------------+-------------------+-------------------+\n",
       "|         int32 | str         | str               | str               |\n",
       "+---------------+-------------+-------------------+-------------------+\n",
       "|            NA | NA          | \"ENSG00000112038\" | \"ENST00000434900\" |\n",
       "|            NA | NA          | \"ENSG00000112038\" | \"ENST00000434900\" |\n",
       "|            NA | NA          | \"ENSG00000112038\" | \"ENST00000434900\" |\n",
       "|            NA | NA          | \"ENSG00000112038\" | \"ENST00000434900\" |\n",
       "|            NA | NA          | \"ENSG00000112038\" | \"ENST00000434900\" |\n",
       "+---------------+-------------+-------------------+-------------------+\n",
       "\n",
       "+---------------+----------------+--------------+--------------+-------+\n",
       "| gq_stats.mean | gq_stats.stdev | gq_stats.min | gq_stats.max |    AC |\n",
       "+---------------+----------------+--------------+--------------+-------+\n",
       "|       float64 |        float64 |      float64 |      float64 | int32 |\n",
       "+---------------+----------------+--------------+--------------+-------+\n",
       "|      5.75e+01 |       1.38e+01 |     1.30e+01 |     9.90e+01 |     1 |\n",
       "|      5.75e+01 |       1.38e+01 |     1.30e+01 |     9.90e+01 |     2 |\n",
       "|      5.75e+01 |       1.38e+01 |     1.30e+01 |     9.90e+01 |     3 |\n",
       "|      5.75e+01 |       1.38e+01 |     1.30e+01 |     9.90e+01 |     3 |\n",
       "|      5.75e+01 |       1.38e+01 |     1.30e+01 |     9.90e+01 |     8 |\n",
       "+---------------+----------------+--------------+--------------+-------+\n",
       "\n",
       "+----------+--------+------------------+-----------+----------+--------------+\n",
       "|       AF |     AN | homozygote_count | call_rate | n_called | n_not_called |\n",
       "+----------+--------+------------------+-----------+----------+--------------+\n",
       "|  float64 |  int32 |            int32 |   float64 |    int64 |        int64 |\n",
       "+----------+--------+------------------+-----------+----------+--------------+\n",
       "| 1.16e-06 | 862910 |                0 |  1.00e+00 |   431455 |            0 |\n",
       "| 2.32e-06 | 862908 |                0 |  1.00e+00 |   431454 |            0 |\n",
       "| 3.48e-06 | 862908 |                0 |  1.00e+00 |   431454 |            0 |\n",
       "| 3.48e-06 | 862910 |                0 |  1.00e+00 |   431455 |            0 |\n",
       "| 9.27e-06 | 862910 |                0 |  1.00e+00 |   431455 |            0 |\n",
       "+----------+--------+------------------+-----------+----------+--------------+\n",
       "\n",
       "+------------+-------+-----------+--------------+-------------+\n",
       "| n_filtered | n_het | n_non_ref | het_freq_hwe | p_value_hwe |\n",
       "+------------+-------+-----------+--------------+-------------+\n",
       "|      int64 | int64 |     int64 |      float64 |     float64 |\n",
       "+------------+-------+-----------+--------------+-------------+\n",
       "|          0 |     1 |         1 |     2.32e-06 |    5.00e-01 |\n",
       "|          1 |     2 |         2 |     4.64e-06 |    5.00e-01 |\n",
       "|          1 |     3 |         3 |     6.95e-06 |    5.00e-01 |\n",
       "|          0 |     3 |         3 |     6.95e-06 |    5.00e-01 |\n",
       "|          0 |     8 |         8 |     1.85e-05 |    5.00e-01 |\n",
       "+------------+-------+-----------+--------------+-------------+\n",
       "\n",
       "+--------------------+\n",
       "| p_value_excess_het |\n",
       "+--------------------+\n",
       "|            float64 |\n",
       "+--------------------+\n",
       "|           5.00e-01 |\n",
       "|           5.00e-01 |\n",
       "|           5.00e-01 |\n",
       "|           5.00e-01 |\n",
       "|           5.00e-01 |\n",
       "+--------------------+\n",
       "showing top 5 rows"
      ]
     },
     "metadata": {},
     "output_type": "display_data"
    }
   ],
   "source": [
    "qt = mt.rows()\n",
    "qt = qt.explode(qt.vep.transcript_consequences)\n",
    "\n",
    "qt = qt.select(\n",
    "    qt.varid,\n",
    "    qt.protCons,\n",
    "    qt.vep.most_severe_consequence,\n",
    "    qt.vep.transcript_consequences.protein_end,\n",
    "    qt.vep.transcript_consequences.protein_start,\n",
    "    qt.vep.transcript_consequences.amino_acids,\n",
    "    qt.vep.transcript_consequences.gene_id,\n",
    "    qt.vep.transcript_consequences.transcript_id,\n",
    "    **qt.variant_qc.flatten(),\n",
    ")\n",
    "\n",
    "qt = qt.annotate(AC=qt.AC[1], AF=qt.AF[1], homozygote_count=qt.homozygote_count[1])\n",
    "qt = qt.key_by().drop(\"locus\", \"alleles\")\n",
    "\n",
    "qt.show(5)"
   ]
  },
  {
   "cell_type": "code",
   "execution_count": 33,
   "metadata": {
    "tags": []
   },
   "outputs": [
    {
     "name": "stdout",
     "output_type": "stream",
     "text": [
      "{'3_prime_UTR_variant': 2862, '5_prime_UTR_variant': 221, 'frameshift_variant': 10, 'inframe_deletion': 1, 'inframe_insertion': 1, 'missense_variant': 196, 'splice_donor_5th_base_variant': 2, 'splice_donor_region_variant': 4, 'splice_donor_variant': 4, 'splice_polypyrimidine_tract_variant': 13, 'splice_region_variant': 2, 'stop_gained': 10, 'synonymous_variant': 75}\n"
     ]
    }
   ],
   "source": [
    "# Group by each distinct 'most_severe_consequence' and count the number of occurrences\n",
    "consequence_counts = qt.aggregate(\n",
    "    hl.agg.group_by(qt.most_severe_consequence, hl.agg.count())\n",
    ")\n",
    "\n",
    "print(consequence_counts)"
   ]
  },
  {
   "cell_type": "markdown",
   "metadata": {},
   "source": [
    "#### Export "
   ]
  },
  {
   "cell_type": "code",
   "execution_count": 34,
   "metadata": {
    "tags": []
   },
   "outputs": [
    {
     "name": "stderr",
     "output_type": "stream",
     "text": [
      "2025-03-11 12:19:55.369 Hail: INFO: merging 1357 files totalling 697.1K...\n",
      "2025-03-11 12:19:55.655 Hail: INFO: while writing:\n",
      "    /tmp/variant_qc.tsv\n",
      "  merge time: 285.219ms\n"
     ]
    },
    {
     "name": "stdout",
     "output_type": "stream",
     "text": [
      "SLF4J: Class path contains multiple SLF4J bindings.\n",
      "SLF4J: Found binding in [jar:file:/cluster/hadoop/share/hadoop/common/lib/slf4j-reload4j-1.7.36.jar!/org/slf4j/impl/StaticLoggerBinder.class]\n",
      "SLF4J: Found binding in [jar:file:/cluster/dnax/jars/dnanexus-api-0.1.0-SNAPSHOT-jar-with-dependencies.jar!/org/slf4j/impl/StaticLoggerBinder.class]\n",
      "SLF4J: See http://www.slf4j.org/codes.html#multiple_bindings for an explanation.\n",
      "SLF4J: Actual binding is of type [org.slf4j.impl.Reload4jLoggerFactory]\n",
      "2025-03-11 12:20:29,354 WARN metrics.MetricsReporter: Unable to initialize metrics scraping configurations from hive-site.xml. Message:InputStream cannot be null\n",
      "2025-03-11 12:20:29,494 WARN service.DNAxApiSvc: Using default configurations. Unable to find dnanexus.conf.location=null\n",
      "2025-03-11 12:20:29,495 INFO service.DNAxApiSvc: apiserver connection-pool config. MaxPoolSize=10, MaxPoolPerRoute=10,MaxWaitTimeout=60000\n",
      "2025-03-11 12:20:29,495 INFO service.DNAxApiSvc: initializing http connection manager pools\n",
      "2025-03-11 12:20:29,984 INFO service.DNAxApiSvc: Worker process - IdleConnectionMonitorThread disabled\n",
      "2025-03-11 12:20:29,984 INFO service.DNAxApiSvc: Worker process - IdleConnectionMonitorThread disabled\n",
      "2025-03-11 12:20:29,985 INFO service.DNAxApiSvc: initializing DNAxApiSvc\n",
      "2025-03-11 12:20:31,314 WARN service.DNAxApiSvc: Shutting down Runtime service for Connection Pools\n",
      "2025-03-11 12:20:31,315 INFO service.DNAxApiSvc: shutting down httpClientConnManager\n",
      "2025-03-11 12:20:31,316 INFO service.DNAxApiSvc: shutting down httpsClientConnManager\n",
      "[===========================================================>] Uploaded 713,861 of 713,861 bytes (100%) ../variant_qc.tsv\n",
      "ID                                file-Gz82b4QJb4J9ZxQkpB252ZyQ\n",
      "Class                             file\n",
      "Project                           project-GfVK998Jb4JJgVBjKXPyxJ9q\n",
      "Folder                            /WGS_Lucia/WGS_QC/Output\n",
      "Name                              variant_qc.tsv\n",
      "State                             \u001b[33mclosing\u001b[0m\n",
      "Visibility                        visible\n",
      "Types                             -\n",
      "Properties                        -\n",
      "Tags                              -\n",
      "Outgoing links                    -\n",
      "Created                           Tue Mar 11 12:20:34 2025\n",
      "Created by                        luciass6\n",
      " via the job                      job-Gz813p8Jb4J97Fxpp15zKp2Y\n",
      "Last modified                     Tue Mar 11 12:20:35 2025\n",
      "Media type                        \n",
      "archivalState                     \"live\"\n",
      "cloudAccount                      \"cloudaccount-dnanexus\"\n"
     ]
    }
   ],
   "source": [
    "qt.export(\"/tmp/variant_qc.tsv\")\n",
    "!hadoop fs -getmerge /tmp/variant_qc.tsv ../variant_qc.tsv\n",
    "!dx upload ../variant_qc.tsv --path /WGS_Lucia/WGS_QC/Output/"
   ]
  },
  {
   "cell_type": "code",
   "execution_count": 35,
   "metadata": {
    "tags": []
   },
   "outputs": [],
   "source": [
    "# BGEN file\n",
    "BGEN_FILE = \"/tmp/OPRM1\"\n",
    "GPs = hl.literal([[1.0, 0.0, 0.0], [0.0, 1.0, 0.0], [0.0, 0.0, 1.0]])\n",
    "\n",
    "mt = mt.annotate_entries(GP=GPs[mt.GT.n_alt_alleles()])\n",
    "\n",
    "hl.export_bgen(\n",
    "    mt=mt, varid=mt.varid, rsid=mt.varid, gp=mt.GP, output=\"file:\" + BGEN_FILE\n",
    ")"
   ]
  },
  {
   "cell_type": "code",
   "execution_count": null,
   "metadata": {
    "tags": []
   },
   "outputs": [
    {
     "name": "stderr",
     "output_type": "stream",
     "text": [
      "2025-05-23 10:48:34.317 Hail: INFO: Coerced sorted dataset\n",
      "2025-05-23 10:48:37.199 Hail: INFO: merging 55 files totalling 149.7K...\n",
      "2025-05-23 10:48:37.282 Hail: INFO: while writing:\n",
      "    file:/tmp/OPRM1.annotations\n",
      "  merge time: 83.516ms\n"
     ]
    }
   ],
   "source": [
    "# ANNOTATIONS file\n",
    "ANNOTATIONS_FILE = \"/tmp/OPRM1.annotations\"\n",
    "\n",
    "# List of variants of interest\n",
    "variants_of_interest = [\n",
    "    \"G255E\",\n",
    "    \"C192F\",\n",
    "    \"M205T\",\n",
    "    \"N152D\",\n",
    "    \"S147C\",\n",
    "    \"M74T\",\n",
    "    \"R181C\",\n",
    "    \"A104D\",\n",
    "    \"N190K\",\n",
    "    \"T155I\",\n",
    "]\n",
    "\n",
    "annotations = (\n",
    "    mt.select_rows(\n",
    "        varid=mt.varid,\n",
    "        gene=mt.vep.transcript_consequences.gene_symbol[0],\n",
    "        annotation=hl.if_else(\n",
    "            # Check if 'protCons' is in variants_of_interest\n",
    "            hl.literal(variants_of_interest).contains(mt.protCons),\n",
    "            mt.protCons,\n",
    "            mt.vep.most_severe_consequence,\n",
    "        ),\n",
    "    )\n",
    "    .rows()\n",
    "    .key_by(\"varid\")\n",
    "    .drop(\"locus\")\n",
    "    .drop(\"alleles\")\n",
    ")\n",
    "\n",
    "annotations.export(\"file:\" + ANNOTATIONS_FILE, header=False)"
   ]
  },
  {
   "cell_type": "code",
   "execution_count": 37,
   "metadata": {
    "tags": []
   },
   "outputs": [],
   "source": [
    "# SETLIST file\n",
    "SETLIST_FILE = \"/tmp/OPRM1.setlist\"\n",
    "\n",
    "position = mt.aggregate_rows(hl.agg.min(mt.locus.position))\n",
    "names = mt.varid.collect()\n",
    "names_str = \",\".join(names)\n",
    "\n",
    "gene_symbol = mt.vep.transcript_consequences.gene_symbol.collect()[0]\n",
    "contig = mt.locus.contig.collect()[0]\n",
    "\n",
    "# Ensure gene symbol is a string and not a list\n",
    "if isinstance(gene_symbol, list):\n",
    "    gene_symbol = gene_symbol[0]\n",
    "\n",
    "line = f\"{gene_symbol}\\t{contig}\\t{position}\\t{names_str}\"\n",
    "\n",
    "with open(SETLIST_FILE, \"w\") as f:\n",
    "    f.write(line)"
   ]
  },
  {
   "cell_type": "code",
   "execution_count": 38,
   "metadata": {
    "tags": []
   },
   "outputs": [
    {
     "name": "stdout",
     "output_type": "stream",
     "text": [
      "[===========================================================>] Uploaded 15,595,366 of 15,595,366 bytes (100%) /tmp/OPRM1.bgen\n",
      "ID                                file-Gz82bFQJb4J610gbG3127990\n",
      "Class                             file\n",
      "Project                           project-GfVK998Jb4JJgVBjKXPyxJ9q\n",
      "Folder                            /WGS_Lucia/WGS_QC/Output\n",
      "Name                              OPRM1.bgen\n",
      "State                             \u001b[33mclosing\u001b[0m\n",
      "Visibility                        visible\n",
      "Types                             -\n",
      "Properties                        -\n",
      "Tags                              -\n",
      "Outgoing links                    -\n",
      "Created                           Tue Mar 11 12:21:02 2025\n",
      "Created by                        luciass6\n",
      " via the job                      job-Gz813p8Jb4J97Fxpp15zKp2Y\n",
      "Last modified                     Tue Mar 11 12:21:03 2025\n",
      "Media type                        \n",
      "archivalState                     \"live\"\n",
      "cloudAccount                      \"cloudaccount-dnanexus\"\n",
      "[===========================================================>] Uploaded 7,766,214 of 7,766,214 bytes (100%) /tmp/OPRM1.sample\n",
      "ID                                file-Gz82bG0Jb4JG3zg6k840bxk0\n",
      "Class                             file\n",
      "Project                           project-GfVK998Jb4JJgVBjKXPyxJ9q\n",
      "Folder                            /WGS_Lucia/WGS_QC/Output\n",
      "Name                              OPRM1.sample\n",
      "State                             \u001b[33mclosing\u001b[0m\n",
      "Visibility                        visible\n",
      "Types                             -\n",
      "Properties                        -\n",
      "Tags                              -\n",
      "Outgoing links                    -\n",
      "Created                           Tue Mar 11 12:21:04 2025\n",
      "Created by                        luciass6\n",
      " via the job                      job-Gz813p8Jb4J97Fxpp15zKp2Y\n",
      "Last modified                     Tue Mar 11 12:21:04 2025\n",
      "Media type                        \n",
      "archivalState                     \"live\"\n",
      "cloudAccount                      \"cloudaccount-dnanexus\"\n",
      "[===========================================================>] Uploaded 153,250 of 153,250 bytes (100%) /tmp/OPRM1.annotations\n",
      "ID                                file-Gz82bG8Jb4JJF8YFxp3jb4Fq\n",
      "Class                             file\n",
      "Project                           project-GfVK998Jb4JJgVBjKXPyxJ9q\n",
      "Folder                            /WGS_Lucia/WGS_QC/Output\n",
      "Name                              OPRM1.annotations\n",
      "State                             \u001b[33mclosing\u001b[0m\n",
      "Visibility                        visible\n",
      "Types                             -\n",
      "Properties                        -\n",
      "Tags                              -\n",
      "Outgoing links                    -\n",
      "Created                           Tue Mar 11 12:21:05 2025\n",
      "Created by                        luciass6\n",
      " via the job                      job-Gz813p8Jb4J97Fxpp15zKp2Y\n",
      "Last modified                     Tue Mar 11 12:21:05 2025\n",
      "Media type                        \n",
      "archivalState                     \"live\"\n",
      "cloudAccount                      \"cloudaccount-dnanexus\"\n",
      "[===========================================================>] Uploaded 65,517 of 65,517 bytes (100%) /tmp/OPRM1.setlist\n",
      "ID                                file-Gz82bGQJb4J28X9K6py3f14B\n",
      "Class                             file\n",
      "Project                           project-GfVK998Jb4JJgVBjKXPyxJ9q\n",
      "Folder                            /WGS_Lucia/WGS_QC/Output\n",
      "Name                              OPRM1.setlist\n",
      "State                             \u001b[33mclosing\u001b[0m\n",
      "Visibility                        visible\n",
      "Types                             -\n",
      "Properties                        -\n",
      "Tags                              -\n",
      "Outgoing links                    -\n",
      "Created                           Tue Mar 11 12:21:06 2025\n",
      "Created by                        luciass6\n",
      " via the job                      job-Gz813p8Jb4J97Fxpp15zKp2Y\n",
      "Last modified                     Tue Mar 11 12:21:06 2025\n",
      "Media type                        \n",
      "archivalState                     \"live\"\n",
      "cloudAccount                      \"cloudaccount-dnanexus\"\n"
     ]
    }
   ],
   "source": [
    "bgen_file = BGEN_FILE + \".bgen\"\n",
    "sample_file = BGEN_FILE + \".sample\"\n",
    "\n",
    "!dx upload $bgen_file $sample_file $ANNOTATIONS_FILE $SETLIST_FILE --path /WGS_Lucia/WGS_QC/Output/"
   ]
  },
  {
   "cell_type": "markdown",
   "metadata": {},
   "source": [
    "Upload AlphaMissense predictions for OPRM1. Obtained from https://alphamissense.hegelab.org/"
   ]
  },
  {
   "cell_type": "code",
   "execution_count": 34,
   "metadata": {
    "tags": []
   },
   "outputs": [
    {
     "name": "stdout",
     "output_type": "stream",
     "text": [
      "\u001b[2K[===========================================================>] Completed 657,418 of 657,418 bytes (100%) /opt/notebooks/AlphaMissense.tsvv\n"
     ]
    }
   ],
   "source": [
    "!dx download \"500k WGS:/WGS_Lucia/WGS_QC/Output/AlphaMissense.tsv\""
   ]
  },
  {
   "cell_type": "code",
   "execution_count": 53,
   "metadata": {
    "tags": []
   },
   "outputs": [],
   "source": [
    "alphamissense_df = pd.read_csv(\"AlphaMissense.tsv\", sep=\"\\t\")"
   ]
  },
  {
   "cell_type": "code",
   "execution_count": 54,
   "metadata": {
    "tags": []
   },
   "outputs": [
    {
     "name": "stdout",
     "output_type": "stream",
     "text": [
      "     # Uniprot ACC  Entry name Gene name         Ensemble id protein variant  \\\n",
      "0           P35372  OPRM_HUMAN     OPRM1  ENST00000330432.12       p.Asp2Ala   \n",
      "1           P35372  OPRM_HUMAN     OPRM1  ENST00000330432.12       p.Asp2Cys   \n",
      "2           P35372  OPRM_HUMAN     OPRM1  ENST00000330432.12       p.Asp2Glu   \n",
      "3           P35372  OPRM_HUMAN     OPRM1  ENST00000330432.12       p.Asp2Phe   \n",
      "4           P35372  OPRM_HUMAN     OPRM1  ENST00000330432.12       p.Asp2Gly   \n",
      "...            ...         ...       ...                 ...             ...   \n",
      "7576        P35372  OPRM_HUMAN     OPRM1  ENST00000330432.12     p.Pro400Ser   \n",
      "7577        P35372  OPRM_HUMAN     OPRM1  ENST00000330432.12     p.Pro400Thr   \n",
      "7578        P35372  OPRM_HUMAN     OPRM1  ENST00000330432.12     p.Pro400Val   \n",
      "7579        P35372  OPRM_HUMAN     OPRM1  ENST00000330432.12     p.Pro400Trp   \n",
      "7580        P35372  OPRM_HUMAN     OPRM1  ENST00000330432.12     p.Pro400Tyr   \n",
      "\n",
      "     is_snv a.a.1  position a.a.2  pathogenicity score pathogenicity class  \n",
      "0         y     D         2     A               0.1433       likely_benign  \n",
      "1       NaN     D         2     C               0.5176           ambiguous  \n",
      "2         y     D         2     E               0.1431       likely_benign  \n",
      "3       NaN     D         2     F               0.3714           ambiguous  \n",
      "4         y     D         2     G               0.1225       likely_benign  \n",
      "...     ...   ...       ...   ...                  ...                 ...  \n",
      "7576      y     P       400     S               0.0863       likely_benign  \n",
      "7577      y     P       400     T               0.0819       likely_benign  \n",
      "7578    NaN     P       400     V               0.1112       likely_benign  \n",
      "7579    NaN     P       400     W               0.3861           ambiguous  \n",
      "7580    NaN     P       400     Y               0.1971       likely_benign  \n",
      "\n",
      "[7581 rows x 11 columns]\n"
     ]
    }
   ],
   "source": [
    "print(alphamissense_df)"
   ]
  },
  {
   "cell_type": "code",
   "execution_count": null,
   "metadata": {
    "tags": []
   },
   "outputs": [],
   "source": [
    "# Normalize variant format to match 'protCons', e.g., \"D2A\"\n",
    "alphamissense_df[\"missense_code\"] = (\n",
    "    alphamissense_df[\"a.a.1\"]\n",
    "    + alphamissense_df[\"position\"].astype(str)\n",
    "    + alphamissense_df[\"a.a.2\"]\n",
    ")"
   ]
  },
  {
   "cell_type": "code",
   "execution_count": 90,
   "metadata": {
    "tags": []
   },
   "outputs": [
    {
     "name": "stdout",
     "output_type": "stream",
     "text": [
      "     # Uniprot ACC  Entry name Gene name         Ensemble id protein variant  \\\n",
      "0           P35372  OPRM_HUMAN     OPRM1  ENST00000330432.12       p.Asp2Ala   \n",
      "1           P35372  OPRM_HUMAN     OPRM1  ENST00000330432.12       p.Asp2Cys   \n",
      "2           P35372  OPRM_HUMAN     OPRM1  ENST00000330432.12       p.Asp2Glu   \n",
      "3           P35372  OPRM_HUMAN     OPRM1  ENST00000330432.12       p.Asp2Phe   \n",
      "4           P35372  OPRM_HUMAN     OPRM1  ENST00000330432.12       p.Asp2Gly   \n",
      "...            ...         ...       ...                 ...             ...   \n",
      "7576        P35372  OPRM_HUMAN     OPRM1  ENST00000330432.12     p.Pro400Ser   \n",
      "7577        P35372  OPRM_HUMAN     OPRM1  ENST00000330432.12     p.Pro400Thr   \n",
      "7578        P35372  OPRM_HUMAN     OPRM1  ENST00000330432.12     p.Pro400Val   \n",
      "7579        P35372  OPRM_HUMAN     OPRM1  ENST00000330432.12     p.Pro400Trp   \n",
      "7580        P35372  OPRM_HUMAN     OPRM1  ENST00000330432.12     p.Pro400Tyr   \n",
      "\n",
      "     is_snv a.a.1  position a.a.2  pathogenicity score pathogenicity class  \\\n",
      "0         y     D         2     A               0.1433       likely_benign   \n",
      "1       NaN     D         2     C               0.5176           ambiguous   \n",
      "2         y     D         2     E               0.1431       likely_benign   \n",
      "3       NaN     D         2     F               0.3714           ambiguous   \n",
      "4         y     D         2     G               0.1225       likely_benign   \n",
      "...     ...   ...       ...   ...                  ...                 ...   \n",
      "7576      y     P       400     S               0.0863       likely_benign   \n",
      "7577      y     P       400     T               0.0819       likely_benign   \n",
      "7578    NaN     P       400     V               0.1112       likely_benign   \n",
      "7579    NaN     P       400     W               0.3861           ambiguous   \n",
      "7580    NaN     P       400     Y               0.1971       likely_benign   \n",
      "\n",
      "     missense_code  \n",
      "0              D2A  \n",
      "1              D2C  \n",
      "2              D2E  \n",
      "3              D2F  \n",
      "4              D2G  \n",
      "...            ...  \n",
      "7576         P400S  \n",
      "7577         P400T  \n",
      "7578         P400V  \n",
      "7579         P400W  \n",
      "7580         P400Y  \n",
      "\n",
      "[7581 rows x 12 columns]\n"
     ]
    }
   ],
   "source": [
    "print(alphamissense_df)"
   ]
  },
  {
   "cell_type": "code",
   "execution_count": null,
   "metadata": {
    "tags": []
   },
   "outputs": [
    {
     "name": "stderr",
     "output_type": "stream",
     "text": [
      "2025-05-23 12:33:40.613 Hail: INFO: Coerced sorted dataset\n",
      "2025-05-23 12:33:43.569 Hail: INFO: merging 56 files totalling 213.6K...\n",
      "2025-05-23 12:33:43.647 Hail: INFO: while writing:\n",
      "    file:/tmp/OPRM1.annotations_2\n",
      "  merge time: 77.376ms\n"
     ]
    }
   ],
   "source": [
    "# ANNOTATIONS file 2 for mask 2 including AlphaMissense and LOFTE predictions\n",
    "ANNOTATIONS_2_FILE = \"/tmp/OPRM1.annotations_2\"\n",
    "\n",
    "variants_of_interest = [\n",
    "    \"G255E\",\n",
    "    \"C192F\",\n",
    "    \"M205T\",\n",
    "    \"N152D\",\n",
    "    \"S147C\",\n",
    "    \"M74T\",\n",
    "    \"R181C\",\n",
    "    \"A104D\",\n",
    "    \"N190K\",\n",
    "    \"T155I\",\n",
    "]\n",
    "\n",
    "\n",
    "annotations_2 = (\n",
    "    mt.select_rows(\n",
    "        varid=mt.varid,\n",
    "        gene=mt.vep.transcript_consequences.gene_symbol[0],\n",
    "        # annotation_1: protCons if missense, else fallback to most severe consequence\n",
    "        annotation_1=hl.case()\n",
    "        .when(mt.vep.most_severe_consequence == \"missense_variant\", mt.protCons)\n",
    "        .default(mt.vep.most_severe_consequence),\n",
    "        # annotation_2: if LoF present, use \"LoF\"\n",
    "        # else if protCons is in the variants of interest, use protCons\n",
    "        # else fallback to most_severe_consequence\n",
    "        annotation_2=hl.case()\n",
    "        .when(\n",
    "            hl.is_defined(\n",
    "                hl.find(lambda x: x.lof == \"HC\", mt.vep.transcript_consequences)\n",
    "            ),\n",
    "            \"LoF\",\n",
    "        )\n",
    "        .when(hl.literal(variants_of_interest).contains(mt.protCons), mt.protCons)\n",
    "        .default(mt.vep.most_severe_consequence),\n",
    "    )\n",
    "    .rows()\n",
    "    .key_by(\"varid\")\n",
    "    .drop(\"locus\", \"alleles\")\n",
    ")\n",
    "\n",
    "annotations_2.export(\"file:\" + ANNOTATIONS_2_FILE, header=True)"
   ]
  },
  {
   "cell_type": "code",
   "execution_count": null,
   "metadata": {
    "tags": []
   },
   "outputs": [
    {
     "data": {
      "text/html": [
       "<table><thead><tr><td style=\"white-space: nowrap; max-width: 500px; overflow: hidden; text-overflow: ellipsis; \" colspan=\"1\"><div style=\"text-align: left;\"></div></td><td style=\"white-space: nowrap; max-width: 500px; overflow: hidden; text-overflow: ellipsis; \" colspan=\"1\"><div style=\"text-align: left;\"></div></td><td style=\"white-space: nowrap; max-width: 500px; overflow: hidden; text-overflow: ellipsis; \" colspan=\"1\"><div style=\"text-align: left;\"></div></td></tr><tr><td style=\"white-space: nowrap; max-width: 500px; overflow: hidden; text-overflow: ellipsis; \" colspan=\"1\"><div style=\"text-align: left;border-bottom: solid 2px #000; padding-bottom: 5px\">locus</div></td><td style=\"white-space: nowrap; max-width: 500px; overflow: hidden; text-overflow: ellipsis; \" colspan=\"1\"><div style=\"text-align: left;border-bottom: solid 2px #000; padding-bottom: 5px\">alleles</div></td><td style=\"white-space: nowrap; max-width: 500px; overflow: hidden; text-overflow: ellipsis; \" colspan=\"1\"><div style=\"text-align: left;border-bottom: solid 2px #000; padding-bottom: 5px\">lof_set</div></td></tr><tr><td style=\"white-space: nowrap; max-width: 500px; overflow: hidden; text-overflow: ellipsis; text-align: left;\">locus&lt;GRCh38&gt;</td><td style=\"white-space: nowrap; max-width: 500px; overflow: hidden; text-overflow: ellipsis; text-align: left;\">array&lt;str&gt;</td><td style=\"white-space: nowrap; max-width: 500px; overflow: hidden; text-overflow: ellipsis; text-align: left;\">set&lt;str&gt;</td></tr>\n",
       "</thead><tbody><tr><td style=\"white-space: nowrap; max-width: 500px; overflow: hidden; text-overflow: ellipsis; \">chr6:154010515</td><td style=\"white-space: nowrap; max-width: 500px; overflow: hidden; text-overflow: ellipsis; \">[&quot;G&quot;,&quot;C&quot;]</td><td style=\"white-space: nowrap; max-width: 500px; overflow: hidden; text-overflow: ellipsis; \">{}</td></tr>\n",
       "<tr><td style=\"white-space: nowrap; max-width: 500px; overflow: hidden; text-overflow: ellipsis; \">chr6:154010520</td><td style=\"white-space: nowrap; max-width: 500px; overflow: hidden; text-overflow: ellipsis; \">[&quot;G&quot;,&quot;A&quot;]</td><td style=\"white-space: nowrap; max-width: 500px; overflow: hidden; text-overflow: ellipsis; \">{}</td></tr>\n",
       "<tr><td style=\"white-space: nowrap; max-width: 500px; overflow: hidden; text-overflow: ellipsis; \">chr6:154010521</td><td style=\"white-space: nowrap; max-width: 500px; overflow: hidden; text-overflow: ellipsis; \">[&quot;G&quot;,&quot;A&quot;]</td><td style=\"white-space: nowrap; max-width: 500px; overflow: hidden; text-overflow: ellipsis; \">{}</td></tr>\n",
       "<tr><td style=\"white-space: nowrap; max-width: 500px; overflow: hidden; text-overflow: ellipsis; \">chr6:154010530</td><td style=\"white-space: nowrap; max-width: 500px; overflow: hidden; text-overflow: ellipsis; \">[&quot;C&quot;,&quot;T&quot;]</td><td style=\"white-space: nowrap; max-width: 500px; overflow: hidden; text-overflow: ellipsis; \">{}</td></tr>\n",
       "<tr><td style=\"white-space: nowrap; max-width: 500px; overflow: hidden; text-overflow: ellipsis; \">chr6:154010543</td><td style=\"white-space: nowrap; max-width: 500px; overflow: hidden; text-overflow: ellipsis; \">[&quot;G&quot;,&quot;T&quot;]</td><td style=\"white-space: nowrap; max-width: 500px; overflow: hidden; text-overflow: ellipsis; \">{}</td></tr>\n",
       "<tr><td style=\"white-space: nowrap; max-width: 500px; overflow: hidden; text-overflow: ellipsis; \">chr6:154010545</td><td style=\"white-space: nowrap; max-width: 500px; overflow: hidden; text-overflow: ellipsis; \">[&quot;T&quot;,&quot;C&quot;]</td><td style=\"white-space: nowrap; max-width: 500px; overflow: hidden; text-overflow: ellipsis; \">{}</td></tr>\n",
       "<tr><td style=\"white-space: nowrap; max-width: 500px; overflow: hidden; text-overflow: ellipsis; \">chr6:154010546</td><td style=\"white-space: nowrap; max-width: 500px; overflow: hidden; text-overflow: ellipsis; \">[&quot;G&quot;,&quot;A&quot;]</td><td style=\"white-space: nowrap; max-width: 500px; overflow: hidden; text-overflow: ellipsis; \">{}</td></tr>\n",
       "<tr><td style=\"white-space: nowrap; max-width: 500px; overflow: hidden; text-overflow: ellipsis; \">chr6:154010551</td><td style=\"white-space: nowrap; max-width: 500px; overflow: hidden; text-overflow: ellipsis; \">[&quot;G&quot;,&quot;GCCCT&quot;]</td><td style=\"white-space: nowrap; max-width: 500px; overflow: hidden; text-overflow: ellipsis; \">{}</td></tr>\n",
       "<tr><td style=\"white-space: nowrap; max-width: 500px; overflow: hidden; text-overflow: ellipsis; \">chr6:154010551</td><td style=\"white-space: nowrap; max-width: 500px; overflow: hidden; text-overflow: ellipsis; \">[&quot;G&quot;,&quot;T&quot;]</td><td style=\"white-space: nowrap; max-width: 500px; overflow: hidden; text-overflow: ellipsis; \">{}</td></tr>\n",
       "<tr><td style=\"white-space: nowrap; max-width: 500px; overflow: hidden; text-overflow: ellipsis; \">chr6:154010555</td><td style=\"white-space: nowrap; max-width: 500px; overflow: hidden; text-overflow: ellipsis; \">[&quot;T&quot;,&quot;G&quot;]</td><td style=\"white-space: nowrap; max-width: 500px; overflow: hidden; text-overflow: ellipsis; \">{}</td></tr>\n",
       "</tbody></table><p style=\"background: #fdd; padding: 0.4em;\">showing top 10 rows</p>\n"
      ],
      "text/plain": [
       "+----------------+---------------+----------+\n",
       "| locus          | alleles       | lof_set  |\n",
       "+----------------+---------------+----------+\n",
       "| locus<GRCh38>  | array<str>    | set<str> |\n",
       "+----------------+---------------+----------+\n",
       "| chr6:154010515 | [\"G\",\"C\"]     | {}       |\n",
       "| chr6:154010520 | [\"G\",\"A\"]     | {}       |\n",
       "| chr6:154010521 | [\"G\",\"A\"]     | {}       |\n",
       "| chr6:154010530 | [\"C\",\"T\"]     | {}       |\n",
       "| chr6:154010543 | [\"G\",\"T\"]     | {}       |\n",
       "| chr6:154010545 | [\"T\",\"C\"]     | {}       |\n",
       "| chr6:154010546 | [\"G\",\"A\"]     | {}       |\n",
       "| chr6:154010551 | [\"G\",\"GCCCT\"] | {}       |\n",
       "| chr6:154010551 | [\"G\",\"T\"]     | {}       |\n",
       "| chr6:154010555 | [\"T\",\"G\"]     | {}       |\n",
       "+----------------+---------------+----------+\n",
       "showing top 10 rows"
      ]
     },
     "metadata": {},
     "output_type": "display_data"
    }
   ],
   "source": [
    "mt.select_rows(\n",
    "    lof_set=hl.set(\n",
    "        hl.map(\n",
    "            lambda x: x.lof,\n",
    "            hl.filter(lambda x: hl.is_defined(x.lof), mt.vep.transcript_consequences),\n",
    "        )\n",
    "    )\n",
    ").rows().show(10)"
   ]
  },
  {
   "cell_type": "code",
   "execution_count": 152,
   "metadata": {
    "tags": []
   },
   "outputs": [
    {
     "name": "stdout",
     "output_type": "stream",
     "text": [
      "                    varid   gene         annotation_1         annotation_2\n",
      "0      chr6:154010515:G:C  OPRM1  5_prime_UTR_variant  5_prime_UTR_variant\n",
      "1      chr6:154010520:G:A  OPRM1  5_prime_UTR_variant  5_prime_UTR_variant\n",
      "2      chr6:154010521:G:A  OPRM1  5_prime_UTR_variant  5_prime_UTR_variant\n",
      "3      chr6:154010530:C:T  OPRM1  5_prime_UTR_variant  5_prime_UTR_variant\n",
      "4      chr6:154010543:G:T  OPRM1  5_prime_UTR_variant  5_prime_UTR_variant\n",
      "...                   ...    ...                  ...                  ...\n",
      "3396   chr6:154132310:G:A  OPRM1  3_prime_UTR_variant  3_prime_UTR_variant\n",
      "3397   chr6:154132324:T:C  OPRM1  3_prime_UTR_variant  3_prime_UTR_variant\n",
      "3398  chr6:154132336:A:AT  OPRM1  3_prime_UTR_variant  3_prime_UTR_variant\n",
      "3399   chr6:154132339:A:C  OPRM1  3_prime_UTR_variant  3_prime_UTR_variant\n",
      "3400   chr6:154132340:C:T  OPRM1  3_prime_UTR_variant  3_prime_UTR_variant\n",
      "\n",
      "[3401 rows x 4 columns]\n"
     ]
    }
   ],
   "source": [
    "# Load exported annotations\n",
    "annotations_2_df = pd.read_csv(\"/tmp/OPRM1.annotations_2\", sep=\"\\t\", header=0)\n",
    "print(annotations_2_df)"
   ]
  },
  {
   "cell_type": "code",
   "execution_count": null,
   "metadata": {
    "tags": []
   },
   "outputs": [
    {
     "name": "stdout",
     "output_type": "stream",
     "text": [
      "                    varid   gene         annotation_1         annotation_2  \\\n",
      "0      chr6:154010515:G:C  OPRM1  5_prime_UTR_variant  5_prime_UTR_variant   \n",
      "1      chr6:154010520:G:A  OPRM1  5_prime_UTR_variant  5_prime_UTR_variant   \n",
      "2      chr6:154010521:G:A  OPRM1  5_prime_UTR_variant  5_prime_UTR_variant   \n",
      "3      chr6:154010530:C:T  OPRM1  5_prime_UTR_variant  5_prime_UTR_variant   \n",
      "4      chr6:154010543:G:T  OPRM1  5_prime_UTR_variant  5_prime_UTR_variant   \n",
      "...                   ...    ...                  ...                  ...   \n",
      "3396   chr6:154132310:G:A  OPRM1  3_prime_UTR_variant  3_prime_UTR_variant   \n",
      "3397   chr6:154132324:T:C  OPRM1  3_prime_UTR_variant  3_prime_UTR_variant   \n",
      "3398  chr6:154132336:A:AT  OPRM1  3_prime_UTR_variant  3_prime_UTR_variant   \n",
      "3399   chr6:154132339:A:C  OPRM1  3_prime_UTR_variant  3_prime_UTR_variant   \n",
      "3400   chr6:154132340:C:T  OPRM1  3_prime_UTR_variant  3_prime_UTR_variant   \n",
      "\n",
      "     missense_code pathogenicity class  \n",
      "0              NaN                 NaN  \n",
      "1              NaN                 NaN  \n",
      "2              NaN                 NaN  \n",
      "3              NaN                 NaN  \n",
      "4              NaN                 NaN  \n",
      "...            ...                 ...  \n",
      "3396           NaN                 NaN  \n",
      "3397           NaN                 NaN  \n",
      "3398           NaN                 NaN  \n",
      "3399           NaN                 NaN  \n",
      "3400           NaN                 NaN  \n",
      "\n",
      "[3401 rows x 6 columns]\n"
     ]
    }
   ],
   "source": [
    "# Merge AlphaMissense info\n",
    "annotations_2_df = annotations_2_df.merge(\n",
    "    alphamissense_df[[\"missense_code\", \"pathogenicity class\"]],\n",
    "    left_on=\"annotation_1\",\n",
    "    right_on=\"missense_code\",\n",
    "    how=\"left\",\n",
    ")\n",
    "\n",
    "print(annotations_2_df)"
   ]
  },
  {
   "cell_type": "code",
   "execution_count": null,
   "metadata": {
    "tags": []
   },
   "outputs": [
    {
     "name": "stdout",
     "output_type": "stream",
     "text": [
      "                    varid   gene           annotation\n",
      "0      chr6:154010515:G:C  OPRM1  5_prime_UTR_variant\n",
      "1      chr6:154010520:G:A  OPRM1  5_prime_UTR_variant\n",
      "2      chr6:154010521:G:A  OPRM1  5_prime_UTR_variant\n",
      "3      chr6:154010530:C:T  OPRM1  5_prime_UTR_variant\n",
      "4      chr6:154010543:G:T  OPRM1  5_prime_UTR_variant\n",
      "...                   ...    ...                  ...\n",
      "3396   chr6:154132310:G:A  OPRM1  3_prime_UTR_variant\n",
      "3397   chr6:154132324:T:C  OPRM1  3_prime_UTR_variant\n",
      "3398  chr6:154132336:A:AT  OPRM1  3_prime_UTR_variant\n",
      "3399   chr6:154132339:A:C  OPRM1  3_prime_UTR_variant\n",
      "3400   chr6:154132340:C:T  OPRM1  3_prime_UTR_variant\n",
      "\n",
      "[3401 rows x 3 columns]\n"
     ]
    }
   ],
   "source": [
    "# Use AlphaMissense value if available, else keep annotation_2\n",
    "annotations_2_df[\"annotation\"] = annotations_2_df.apply(\n",
    "    lambda row: row[\"pathogenicity class\"]\n",
    "    if row[\"annotation_2\"] == \"missense_variant\"\n",
    "    else row[\"annotation_2\"],\n",
    "    axis=1,\n",
    ")\n",
    "\n",
    "# Keep only final output columns\n",
    "annotations_2_df = annotations_2_df[[\"varid\", \"gene\", \"annotation\"]]\n",
    "print(annotations_2_df)"
   ]
  },
  {
   "cell_type": "code",
   "execution_count": 147,
   "metadata": {
    "tags": []
   },
   "outputs": [],
   "source": [
    "annotations_2_df.to_csv(\"OPRM1.annotations_2\", sep=\"\\t\", header=False, index=False)"
   ]
  },
  {
   "cell_type": "code",
   "execution_count": 148,
   "metadata": {
    "tags": []
   },
   "outputs": [
    {
     "name": "stdout",
     "output_type": "stream",
     "text": [
      "[===========================================================>] Uploaded 152,997 of 152,997 bytes (100%) OPRM1.annotations_2\n",
      "ID                                file-J0j6F60Jb4J31P044Xz4jbX1\n",
      "Class                             file\n",
      "Project                           project-GfVK998Jb4JJgVBjKXPyxJ9q\n",
      "Folder                            /WGS_Lucia/WGS_QC/Output\n",
      "Name                              OPRM1.annotations_2\n",
      "State                             \u001b[33mclosing\u001b[0m\n",
      "Visibility                        visible\n",
      "Types                             -\n",
      "Properties                        -\n",
      "Tags                              -\n",
      "Outgoing links                    -\n",
      "Created                           Fri May 23 12:10:00 2025\n",
      "Created by                        luciass6\n",
      " via the job                      job-J0j2z5jJb4JKq7ZgzbXj1jJy\n",
      "Last modified                     Fri May 23 12:10:01 2025\n",
      "Media type                        \n",
      "archivalState                     \"live\"\n",
      "cloudAccount                      \"cloudaccount-dnanexus\"\n"
     ]
    }
   ],
   "source": [
    "!dx upload OPRM1.annotations_2 --path /WGS_Lucia/WGS_QC/Output/"
   ]
  },
  {
   "cell_type": "markdown",
   "metadata": {},
   "source": [
    "## Obtain the eids per masks "
   ]
  },
  {
   "cell_type": "markdown",
   "metadata": {},
   "source": [
    "First we want to only keep the variants with annotations of interest to be faster. So we will take away UTR variants that have no predicted significant effect"
   ]
  },
  {
   "cell_type": "code",
   "execution_count": null,
   "metadata": {
    "tags": []
   },
   "outputs": [],
   "source": [
    "mt = mt.filter_rows(\n",
    "    ~hl.literal({\"5_prime_UTR_variant\", \"3_prime_UTR_variant\"}).contains(\n",
    "        mt.vep.most_severe_consequence\n",
    "    )\n",
    ")"
   ]
  },
  {
   "cell_type": "code",
   "execution_count": 39,
   "metadata": {
    "tags": []
   },
   "outputs": [
    {
     "name": "stdout",
     "output_type": "stream",
     "text": [
      "318 variants after filtering\n"
     ]
    }
   ],
   "source": [
    "print(f\"{mt.count_rows()} variants after filtering\")"
   ]
  },
  {
   "cell_type": "code",
   "execution_count": 38,
   "metadata": {
    "tags": []
   },
   "outputs": [
    {
     "name": "stderr",
     "output_type": "stream",
     "text": [
      "2025-04-25 16:38:09.233 Hail: INFO: wrote matrix table with 318 rows and 431455 columns in 1356 partitions to /tmp/OPRM1.NINE.cp.mt\n"
     ]
    }
   ],
   "source": [
    "# Eight checkpoint\n",
    "stage = \"NINE\"\n",
    "checkpoint_file = f\"/tmp/{PROJ_NAME}.{stage}.cp.mt\"\n",
    "\n",
    "mt = mt.checkpoint(checkpoint_file, overwrite=True)"
   ]
  },
  {
   "cell_type": "code",
   "execution_count": null,
   "metadata": {
    "tags": []
   },
   "outputs": [
    {
     "name": "stderr",
     "output_type": "stream",
     "text": [
      "2025-04-25 16:38:22.037 Hail: INFO: merging 1357 files totalling 32.7M...\n",
      "2025-04-25 16:38:22.624 Hail: INFO: while writing:\n",
      "    file:/tmp/OPRM1.bed\n",
      "  merge time: 586.182ms\n",
      "2025-04-25 16:38:22.807 Hail: INFO: merging 1356 files totalling 13.1K...\n",
      "2025-04-25 16:38:23.007 Hail: INFO: while writing:\n",
      "    file:/tmp/OPRM1.bim\n",
      "  merge time: 199.567ms\n"
     ]
    }
   ],
   "source": [
    "# PLINK file\n",
    "PLINK_FILE = \"/tmp/OPRM1\"\n",
    "\n",
    "\n",
    "hl.export_plink(mt, varid=mt.varid, output=\"file:\" + PLINK_FILE)"
   ]
  },
  {
   "cell_type": "code",
   "execution_count": 41,
   "metadata": {
    "tags": []
   },
   "outputs": [
    {
     "name": "stdout",
     "output_type": "stream",
     "text": [
      "[===========================================================>] Uploaded 34,300,755 of 34,300,755 bytes (100%) /tmp/OPRM1.bed\n",
      "ID                                file-J05qb1QJb4J3VZ1fKvK8jqb7\n",
      "Class                             file\n",
      "Project                           project-GfVK998Jb4JJgVBjKXPyxJ9q\n",
      "Folder                            /WGS_Lucia/WGS_QC/Output\n",
      "Name                              OPRM1.bed\n",
      "State                             \u001b[33mclosing\u001b[0m\n",
      "Visibility                        visible\n",
      "Types                             -\n",
      "Properties                        -\n",
      "Tags                              -\n",
      "Outgoing links                    -\n",
      "Created                           Fri Apr 25 16:38:30 2025\n",
      "Created by                        luciass6\n",
      " via the job                      job-J05p34jJb4J9KGYffJb6Q5vz\n",
      "Last modified                     Fri Apr 25 16:38:31 2025\n",
      "Media type                        \n",
      "archivalState                     \"live\"\n",
      "cloudAccount                      \"cloudaccount-dnanexus\"\n",
      "[===========================================================>] Uploaded 13,428 of 13,428 bytes (100%) /tmp/OPRM1.bim\n",
      "ID                                file-J05qb1jJb4J1PGZp83F1Yz3F\n",
      "Class                             file\n",
      "Project                           project-GfVK998Jb4JJgVBjKXPyxJ9q\n",
      "Folder                            /WGS_Lucia/WGS_QC/Output\n",
      "Name                              OPRM1.bim\n",
      "State                             \u001b[33mclosing\u001b[0m\n",
      "Visibility                        visible\n",
      "Types                             -\n",
      "Properties                        -\n",
      "Tags                              -\n",
      "Outgoing links                    -\n",
      "Created                           Fri Apr 25 16:38:31 2025\n",
      "Created by                        luciass6\n",
      " via the job                      job-J05p34jJb4J9KGYffJb6Q5vz\n",
      "Last modified                     Fri Apr 25 16:38:32 2025\n",
      "Media type                        \n",
      "archivalState                     \"live\"\n",
      "cloudAccount                      \"cloudaccount-dnanexus\"\n",
      "[===========================================================>] Uploaded 8,197,645 of 8,197,645 bytes (100%) /tmp/OPRM1.fam\n",
      "ID                                file-J05qb20Jb4J1PGZp83F1Yz3J\n",
      "Class                             file\n",
      "Project                           project-GfVK998Jb4JJgVBjKXPyxJ9q\n",
      "Folder                            /WGS_Lucia/WGS_QC/Output\n",
      "Name                              OPRM1.fam\n",
      "State                             \u001b[33mclosing\u001b[0m\n",
      "Visibility                        visible\n",
      "Types                             -\n",
      "Properties                        -\n",
      "Tags                              -\n",
      "Outgoing links                    -\n",
      "Created                           Fri Apr 25 16:38:32 2025\n",
      "Created by                        luciass6\n",
      " via the job                      job-J05p34jJb4J9KGYffJb6Q5vz\n",
      "Last modified                     Fri Apr 25 16:38:33 2025\n",
      "Media type                        \n",
      "archivalState                     \"live\"\n",
      "cloudAccount                      \"cloudaccount-dnanexus\"\n"
     ]
    }
   ],
   "source": [
    "bed_file = PLINK_FILE + \".bed\"\n",
    "bim_file = PLINK_FILE + \".bim\"\n",
    "fam_file = PLINK_FILE + \".fam\"\n",
    "\n",
    "!dx upload $bed_file $bim_file $fam_file --path /WGS_Lucia/WGS_QC/Output/"
   ]
  },
  {
   "cell_type": "markdown",
   "metadata": {},
   "source": [
    "Now we need to \"variants_per_eid.sh\" to obtain \"variants_per_eid.raw\" with the OPRM1 plink files we just got"
   ]
  },
  {
   "cell_type": "code",
   "execution_count": 1,
   "metadata": {
    "tags": []
   },
   "outputs": [
    {
     "name": "stdout",
     "output_type": "stream",
     "text": [
      "\u001b[2K[===========================================================>] Completed 282,611,414 of 282,611,414 bytes (100%) /opt/notebooks/variants_per_eid.raww\n",
      "\u001b[2K[===========================================================>] Completed 153,250 of 153,250 bytes (100%) /opt/notebooks/OPRM1.annotationss\n",
      "\u001b[2K[===========================================================>] Completed 152,997 of 152,997 bytes (100%) /opt/notebooks/OPRM1.annotations_22\n"
     ]
    }
   ],
   "source": [
    "!dx download \"500k WGS:/WGS_Lucia/WGS_QC/Output/variants_per_eid.raw\"\n",
    "!dx download \"500k WGS:/WGS_Lucia/WGS_QC/Output/OPRM1.annotations\"\n",
    "!dx download \"500k WGS:/WGS_Lucia/WGS_QC/Output/OPRM1.annotations_2\""
   ]
  },
  {
   "cell_type": "code",
   "execution_count": null,
   "metadata": {
    "tags": []
   },
   "outputs": [],
   "source": [
    "# Load the PLINK output file (tab-separated) with the eids and variants of interest\n",
    "file_path = \"variants_per_eid.raw\"  # Replace with actual file path\n",
    "\n",
    "df = pd.read_csv(file_path, sep=\"\\t\", dtype={\"IID\": str})\n",
    "\n",
    "# Extract the EID (IID) column and the variant columns (everything after the 6th column)\n",
    "eid_column = \"IID\"\n",
    "variant_columns = df.columns[\n",
    "    6:\n",
    "]  # Ignore first 6 columns (FID, IID, PAT, MAT, SEX, PHENOTYPE)"
   ]
  },
  {
   "cell_type": "code",
   "execution_count": null,
   "metadata": {
    "tags": []
   },
   "outputs": [],
   "source": [
    "# Function to clean variant names by removing the extra _A, _C, _G, _T\n",
    "def clean_variant_name(variant):\n",
    "    return re.sub(r\"_[ACGT]+$\", \"\", variant)  # Removes _A, _C, _G, _T\n",
    "\n",
    "\n",
    "# Create a dictionary to store variants and their corresponding EIDs\n",
    "variant_to_eids = {}\n",
    "\n",
    "# Iterate over each row in the DataFrame\n",
    "for _, row in df.iterrows():\n",
    "    eid = row[eid_column]  # Get the EID\n",
    "    for var in variant_columns:\n",
    "        genotype = row[var]  # Get genotype value (0, 1, or 2)\n",
    "        if genotype != 2:  # Only keep non-reference variants (1 or 2)\n",
    "            clean_var = clean_variant_name(var)  # Clean the variant name\n",
    "            if clean_var not in variant_to_eids:\n",
    "                variant_to_eids[clean_var] = []  # Initialize list\n",
    "            variant_to_eids[clean_var].append(eid)  # Add EID to the variant"
   ]
  },
  {
   "cell_type": "code",
   "execution_count": null,
   "metadata": {
    "tags": []
   },
   "outputs": [],
   "source": [
    "# Convert dictionary to DataFrame\n",
    "variant_eid_df = pd.DataFrame(\n",
    "    list(variant_to_eids.items()), columns=[\"Variant\", \"EIDs\"]\n",
    ")\n",
    "\n",
    "# Ensure unique EIDs per variant\n",
    "variant_eid_df[\"EIDs\"] = variant_eid_df[\"EIDs\"].apply(lambda x: list(set(x)))"
   ]
  },
  {
   "cell_type": "code",
   "execution_count": null,
   "metadata": {
    "tags": []
   },
   "outputs": [
    {
     "data": {
      "text/html": [
       "<div>\n",
       "<style scoped>\n",
       "    .dataframe tbody tr th:only-of-type {\n",
       "        vertical-align: middle;\n",
       "    }\n",
       "\n",
       "    .dataframe tbody tr th {\n",
       "        vertical-align: top;\n",
       "    }\n",
       "\n",
       "    .dataframe thead th {\n",
       "        text-align: right;\n",
       "    }\n",
       "</style>\n",
       "<table border=\"1\" class=\"dataframe\">\n",
       "  <thead>\n",
       "    <tr style=\"text-align: right;\">\n",
       "      <th></th>\n",
       "      <th>Variant</th>\n",
       "      <th>Annotation</th>\n",
       "      <th>EIDs</th>\n",
       "      <th>EIDs_Count</th>\n",
       "    </tr>\n",
       "  </thead>\n",
       "  <tbody>\n",
       "    <tr>\n",
       "      <th>0</th>\n",
       "      <td>chr6:154039662:A:G</td>\n",
       "      <td>likely_benign</td>\n",
       "      <td>[4712921, 3245475, 4641403, 4464719, 1002752, ...</td>\n",
       "      <td>103697</td>\n",
       "    </tr>\n",
       "    <tr>\n",
       "      <th>1</th>\n",
       "      <td>chr6:154039729:C:CCGG</td>\n",
       "      <td>inframe_insertion</td>\n",
       "      <td>[5843227, 2125032, 5814061, 4439290, 4464719, ...</td>\n",
       "      <td>5505</td>\n",
       "    </tr>\n",
       "    <tr>\n",
       "      <th>2</th>\n",
       "      <td>chr6:154039685:G:A</td>\n",
       "      <td>synonymous_variant</td>\n",
       "      <td>[5993865, 2757360, 1520292, 4771950, 4862223, ...</td>\n",
       "      <td>347</td>\n",
       "    </tr>\n",
       "    <tr>\n",
       "      <th>3</th>\n",
       "      <td>chr6:154089975:C:G</td>\n",
       "      <td>S147C</td>\n",
       "      <td>[1283583, 4052941, 4434901, 4235822, 2692071, ...</td>\n",
       "      <td>7044</td>\n",
       "    </tr>\n",
       "    <tr>\n",
       "      <th>4</th>\n",
       "      <td>chr6:154090110:G:T</td>\n",
       "      <td>C192F</td>\n",
       "      <td>[2601082, 4225123, 1336797, 4426077, 2959749, ...</td>\n",
       "      <td>6075</td>\n",
       "    </tr>\n",
       "    <tr>\n",
       "      <th>...</th>\n",
       "      <td>...</td>\n",
       "      <td>...</td>\n",
       "      <td>...</td>\n",
       "      <td>...</td>\n",
       "    </tr>\n",
       "    <tr>\n",
       "      <th>313</th>\n",
       "      <td>chr6:154091331:G:A</td>\n",
       "      <td>synonymous_variant</td>\n",
       "      <td>[2380332]</td>\n",
       "      <td>1</td>\n",
       "    </tr>\n",
       "    <tr>\n",
       "      <th>314</th>\n",
       "      <td>chr6:154089987:A:G</td>\n",
       "      <td>likely_pathogenic</td>\n",
       "      <td>[5793424]</td>\n",
       "      <td>1</td>\n",
       "    </tr>\n",
       "    <tr>\n",
       "      <th>315</th>\n",
       "      <td>chr6:154090942:T:C</td>\n",
       "      <td>splice_polypyrimidine_tract_variant</td>\n",
       "      <td>[2022374, 2518086]</td>\n",
       "      <td>2</td>\n",
       "    </tr>\n",
       "    <tr>\n",
       "      <th>316</th>\n",
       "      <td>chr6:154090012:C:A</td>\n",
       "      <td>synonymous_variant</td>\n",
       "      <td>[5880941]</td>\n",
       "      <td>1</td>\n",
       "    </tr>\n",
       "    <tr>\n",
       "      <th>317</th>\n",
       "      <td>chr6:154091066:G:C</td>\n",
       "      <td>likely_pathogenic</td>\n",
       "      <td>[3148460]</td>\n",
       "      <td>1</td>\n",
       "    </tr>\n",
       "  </tbody>\n",
       "</table>\n",
       "<p>318 rows × 4 columns</p>\n",
       "</div>"
      ],
      "text/plain": [
       "                   Variant                           Annotation  \\\n",
       "0       chr6:154039662:A:G                        likely_benign   \n",
       "1    chr6:154039729:C:CCGG                    inframe_insertion   \n",
       "2       chr6:154039685:G:A                   synonymous_variant   \n",
       "3       chr6:154089975:C:G                                S147C   \n",
       "4       chr6:154090110:G:T                                C192F   \n",
       "..                     ...                                  ...   \n",
       "313     chr6:154091331:G:A                   synonymous_variant   \n",
       "314     chr6:154089987:A:G                    likely_pathogenic   \n",
       "315     chr6:154090942:T:C  splice_polypyrimidine_tract_variant   \n",
       "316     chr6:154090012:C:A                   synonymous_variant   \n",
       "317     chr6:154091066:G:C                    likely_pathogenic   \n",
       "\n",
       "                                                  EIDs  EIDs_Count  \n",
       "0    [4712921, 3245475, 4641403, 4464719, 1002752, ...      103697  \n",
       "1    [5843227, 2125032, 5814061, 4439290, 4464719, ...        5505  \n",
       "2    [5993865, 2757360, 1520292, 4771950, 4862223, ...         347  \n",
       "3    [1283583, 4052941, 4434901, 4235822, 2692071, ...        7044  \n",
       "4    [2601082, 4225123, 1336797, 4426077, 2959749, ...        6075  \n",
       "..                                                 ...         ...  \n",
       "313                                          [2380332]           1  \n",
       "314                                          [5793424]           1  \n",
       "315                                 [2022374, 2518086]           2  \n",
       "316                                          [5880941]           1  \n",
       "317                                          [3148460]           1  \n",
       "\n",
       "[318 rows x 4 columns]"
      ]
     },
     "metadata": {},
     "output_type": "display_data"
    }
   ],
   "source": [
    "# Load the annotation file\n",
    "annotation_df = pd.read_csv(\n",
    "    \"OPRM1.annotations_2\",\n",
    "    sep=\"\\t\",\n",
    "    header=None,\n",
    "    names=[\"Variant\", \"Gene\", \"Annotation\"],\n",
    ")\n",
    "\n",
    "# Merge dataframes on the 'Variant' column, keeping only variants that are present in both dataframes\n",
    "variant_eid_df = variant_eid_df.merge(\n",
    "    annotation_df[[\"Variant\", \"Annotation\"]], on=\"Variant\", how=\"left\"\n",
    ")\n",
    "\n",
    "# Reorder columns to place 'Annotation' as the second column\n",
    "variant_eid_df = variant_eid_df[[\"Variant\", \"Annotation\", \"EIDs\"]]\n",
    "\n",
    "variant_eid_df[\"EIDs_Count\"] = variant_eid_df[\"EIDs\"].apply(len)\n",
    "\n",
    "display(variant_eid_df)"
   ]
  },
  {
   "cell_type": "code",
   "execution_count": null,
   "metadata": {
    "tags": []
   },
   "outputs": [],
   "source": [
    "# Define your masks\n",
    "# These are the defined for morphine efficacy\n",
    "masks = {\n",
    "    \"No_efficacy\": [\"G255E\", \"R181C\", \"A104D\", \"N190K\"],\n",
    "    \"WT_efficacy\": [\"S147C\", \"N152D\", \"T155I\", \"C192F\", \"M205T\"],\n",
    "    \"No_efficacy_High_Impact_Variants\": [\n",
    "        \"G255E\",\n",
    "        \"R181C\",\n",
    "        \"A104D\",\n",
    "        \"N190K\",\n",
    "        \"frameshift_variant\",\n",
    "        \"stop_gained\",\n",
    "        \"splice_donor_variant\",\n",
    "    ],\n",
    "    \"No_efficacy_High_Moderate_Impact_Variants\": [\n",
    "        \"G255E\",\n",
    "        \"R181C\",\n",
    "        \"A104D\",\n",
    "        \"N190K\",\n",
    "        \"frameshift_variant\",\n",
    "        \"stop_gained\",\n",
    "        \"splice_donor_variant\",\n",
    "        \"missense_variant\",\n",
    "        \"inframe_deletion\",\n",
    "        \"inframe_insertion\",\n",
    "    ],\n",
    "}\n",
    "\n",
    "masks_2 = {\n",
    "    \"No_efficacy_variants\": [\"G255E\", \"R181C\", \"A104D\", \"N190K\"],\n",
    "    \"High_Impact_variants\": [\n",
    "        \"frameshift_variant\",\n",
    "        \"stop_gained\",\n",
    "        \"splice_donor_variant\",\n",
    "    ],\n",
    "    \"Pathogenic_variants\": [\"likely_pathogenic\"],\n",
    "    \"High_Impact_Pathogenic_variants\": [\n",
    "        \"frameshift_variant\",\n",
    "        \"stop_gained\",\n",
    "        \"splice_donor_variant\",\n",
    "        \"likely_pathogenic\",\n",
    "    ],\n",
    "    \"Benign_Ambiguous_variants\": [\"likely_benign\", \"ambiguous\"],\n",
    "    \"Benign_Synonymous_variants\": [\"synonymous_variant\", \"likely_benign\"],\n",
    "    \"Benign_Ambiguous_Synonymus_variants\": [\n",
    "        \"likely_benign\",\n",
    "        \"ambiguous\",\n",
    "        \"synonymous_variant\",\n",
    "    ],\n",
    "    \"Synonymus_variants\": [\"synonymous_variant\"],\n",
    "    \"WT_efficacy_variants\": [\"S147C\", \"N152D\", \"T155I\", \"C192F\", \"M205T\"],\n",
    "}\n",
    "\n",
    "lovo_mask = {\n",
    "    \"No_efficacy_variants\": [\"G255E\", \"R181C\", \"A104D\", \"N190K\"],\n",
    "    \"No_efficacy_variants_no_G255E\": [\"R181C\", \"A104D\", \"N190K\"],\n",
    "    \"No_efficacy_variants_no_R181C\": [\"G255E\", \"A104D\", \"N190K\"],\n",
    "    \"No_efficacy_variants_no_A104D\": [\"G255E\", \"R181C\", \"N190K\"],\n",
    "    \"No_efficacy_variants_no_N190K\": [\"G255E\", \"R181C\", \"A104D\"],\n",
    "}"
   ]
  },
  {
   "cell_type": "code",
   "execution_count": null,
   "metadata": {
    "tags": []
   },
   "outputs": [
    {
     "name": "stdout",
     "output_type": "stream",
     "text": [
      "                            Mask  \\\n",
      "0           No_efficacy_variants   \n",
      "1  No_efficacy_variants_no_G255E   \n",
      "2  No_efficacy_variants_no_R181C   \n",
      "3  No_efficacy_variants_no_A104D   \n",
      "4  No_efficacy_variants_no_N190K   \n",
      "\n",
      "                                                EIDs  EID_Count  \n",
      "0  [2519137, 4689076, 3756863, 1238379, 5558845, ...       1864  \n",
      "1  [2519137, 4689076, 3756863, 1238379, 5558845, ...       1824  \n",
      "2  [3447135, 4044114, 4617154, 4046254, 4727486, ...         69  \n",
      "3  [2519137, 4689076, 3756863, 1238379, 5558845, ...       1847  \n",
      "4  [2519137, 4689076, 3756863, 1238379, 5558845, ...       1852  \n"
     ]
    }
   ],
   "source": [
    "# List to collect result rows\n",
    "rows = []\n",
    "\n",
    "# Loop through each mask and annotation list\n",
    "for mask_name, annots in lovo_mask.items():\n",
    "    # Filter rows where the annotation is in the mask\n",
    "    matching = variant_eid_df[variant_eid_df[\"Annotation\"].isin(annots)]\n",
    "\n",
    "    # Flatten EIDs and add the mask name\n",
    "    eids = []\n",
    "    for _, row in matching.iterrows():\n",
    "        eids.extend(row[\"EIDs\"])\n",
    "\n",
    "    # Keep unique EIDs\n",
    "    unique_eids = list(set(eids))\n",
    "\n",
    "    # Append the mask, its list of unique EIDs, and the count\n",
    "    rows.append({\"Mask\": mask_name, \"EIDs\": unique_eids, \"EID_Count\": len(unique_eids)})\n",
    "\n",
    "# Create final DataFrame\n",
    "mask_eid_df = pd.DataFrame(rows)\n",
    "\n",
    "# Preview\n",
    "print(mask_eid_df)"
   ]
  },
  {
   "cell_type": "code",
   "execution_count": 14,
   "metadata": {
    "tags": []
   },
   "outputs": [],
   "source": [
    "# Save DataFrame\n",
    "mask_eid_df.to_csv(\"lovo_mask_morphine_eid_df.tsv\", sep=\"\\t\", index=False)"
   ]
  },
  {
   "cell_type": "code",
   "execution_count": 15,
   "metadata": {
    "tags": []
   },
   "outputs": [
    {
     "name": "stdout",
     "output_type": "stream",
     "text": [
      "[===========================================================>] Uploaded 82,205 of 82,205 bytes (100%) lovo_mask_morphine_eid_df.tsv\n",
      "ID                                file-J0jqJp0Jb4J19GJg4pG64Px8\n",
      "Class                             file\n",
      "Project                           project-GfVK998Jb4JJgVBjKXPyxJ9q\n",
      "Folder                            /WGS_Lucia/WGS_QC/Output\n",
      "Name                              lovo_mask_morphine_eid_df.tsv\n",
      "State                             \u001b[33mclosing\u001b[0m\n",
      "Visibility                        visible\n",
      "Types                             -\n",
      "Properties                        -\n",
      "Tags                              -\n",
      "Outgoing links                    -\n",
      "Created                           Sat May 24 12:09:12 2025\n",
      "Created by                        luciass6\n",
      " via the job                      job-J0jpqP0Jb4JKbGq5Jxyjx2qG\n",
      "Last modified                     Sat May 24 12:09:13 2025\n",
      "Media type                        \n",
      "archivalState                     \"live\"\n",
      "cloudAccount                      \"cloudaccount-dnanexus\"\n"
     ]
    }
   ],
   "source": [
    "# Upload DataFrame\n",
    "!dx upload lovo_mask_morphine_eid_df.tsv --path WGS_Lucia/WGS_QC/Output/"
   ]
  },
  {
   "cell_type": "code",
   "execution_count": null,
   "metadata": {},
   "outputs": [],
   "source": []
  }
 ],
 "metadata": {
  "kernelspec": {
   "display_name": "Python 3 (ipykernel)",
   "language": "python",
   "name": "python3"
  },
  "language_info": {
   "codemirror_mode": {
    "name": "ipython",
    "version": 3
   },
   "file_extension": ".py",
   "mimetype": "text/x-python",
   "name": "python",
   "nbconvert_exporter": "python",
   "pygments_lexer": "ipython3",
   "version": "3.11.5"
  }
 },
 "nbformat": 4,
 "nbformat_minor": 4
}
