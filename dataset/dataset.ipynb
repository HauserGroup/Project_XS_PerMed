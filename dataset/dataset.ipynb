{
 "cells": [
  {
   "cell_type": "code",
   "execution_count": 2,
   "metadata": {},
   "outputs": [],
   "source": [
    "import pandas as pd"
   ]
  },
  {
   "cell_type": "code",
   "execution_count": 9,
   "metadata": {},
   "outputs": [
    {
     "data": {
      "text/html": [
       "<div>\n",
       "<style scoped>\n",
       "    .dataframe tbody tr th:only-of-type {\n",
       "        vertical-align: middle;\n",
       "    }\n",
       "\n",
       "    .dataframe tbody tr th {\n",
       "        vertical-align: top;\n",
       "    }\n",
       "\n",
       "    .dataframe thead th {\n",
       "        text-align: right;\n",
       "    }\n",
       "</style>\n",
       "<table border=\"1\" class=\"dataframe\">\n",
       "  <thead>\n",
       "    <tr style=\"text-align: right;\">\n",
       "      <th></th>\n",
       "      <th>eid</th>\n",
       "      <th>drug_concept_id</th>\n",
       "      <th>duration</th>\n",
       "      <th>atc_code</th>\n",
       "      <th>atc_level3</th>\n",
       "    </tr>\n",
       "  </thead>\n",
       "  <tbody>\n",
       "    <tr>\n",
       "      <th>0</th>\n",
       "      <td>1000014</td>\n",
       "      <td>710062</td>\n",
       "      <td>36</td>\n",
       "      <td>N06AA09</td>\n",
       "      <td>N06A</td>\n",
       "    </tr>\n",
       "    <tr>\n",
       "      <th>1</th>\n",
       "      <td>1000014</td>\n",
       "      <td>721724</td>\n",
       "      <td>31</td>\n",
       "      <td>N06AA10</td>\n",
       "      <td>N06A</td>\n",
       "    </tr>\n",
       "    <tr>\n",
       "      <th>2</th>\n",
       "      <td>1000014</td>\n",
       "      <td>723013</td>\n",
       "      <td>18</td>\n",
       "      <td>N05BA01</td>\n",
       "      <td>N05B</td>\n",
       "    </tr>\n",
       "    <tr>\n",
       "      <th>3</th>\n",
       "      <td>1000014</td>\n",
       "      <td>836715</td>\n",
       "      <td>14</td>\n",
       "      <td>N05CD07</td>\n",
       "      <td>N05C</td>\n",
       "    </tr>\n",
       "    <tr>\n",
       "      <th>4</th>\n",
       "      <td>1000014</td>\n",
       "      <td>915981</td>\n",
       "      <td>30</td>\n",
       "      <td>A01AB08,A07AA01,B05CA09,D06AX04,J01GB05,R02AB0...</td>\n",
       "      <td>A01A,A07A,B05C,D06A,J01G,R02A,S01A,S02A,S03A</td>\n",
       "    </tr>\n",
       "  </tbody>\n",
       "</table>\n",
       "</div>"
      ],
      "text/plain": [
       "       eid  drug_concept_id  duration  \\\n",
       "0  1000014           710062        36   \n",
       "1  1000014           721724        31   \n",
       "2  1000014           723013        18   \n",
       "3  1000014           836715        14   \n",
       "4  1000014           915981        30   \n",
       "\n",
       "                                            atc_code  \\\n",
       "0                                            N06AA09   \n",
       "1                                            N06AA10   \n",
       "2                                            N05BA01   \n",
       "3                                            N05CD07   \n",
       "4  A01AB08,A07AA01,B05CA09,D06AX04,J01GB05,R02AB0...   \n",
       "\n",
       "                                     atc_level3  \n",
       "0                                          N06A  \n",
       "1                                          N06A  \n",
       "2                                          N05B  \n",
       "3                                          N05C  \n",
       "4  A01A,A07A,B05C,D06A,J01G,R02A,S01A,S02A,S03A  "
      ]
     },
     "execution_count": 9,
     "metadata": {},
     "output_type": "execute_result"
    }
   ],
   "source": [
    "df = pd.read_csv(\"dataset_cleaned.tsv\", sep=\"\\t\")\n",
    "df.head()"
   ]
  },
  {
   "cell_type": "markdown",
   "metadata": {},
   "source": [
    "### cleaning"
   ]
  },
  {
   "cell_type": "code",
   "execution_count": 10,
   "metadata": {},
   "outputs": [
    {
     "data": {
      "text/plain": [
       "count    254724.000000\n",
       "mean         19.246208\n",
       "std          16.263877\n",
       "min           1.000000\n",
       "25%           6.000000\n",
       "50%          16.000000\n",
       "75%          28.000000\n",
       "max         175.000000\n",
       "Name: drug_concept_id, dtype: float64"
      ]
     },
     "execution_count": 10,
     "metadata": {},
     "output_type": "execute_result"
    }
   ],
   "source": [
    "# patient-level outliers\n",
    "# statistics of how many different kinds of drugs (drug_concept_id) each patient has\n",
    "df.groupby(\"eid\")[\"drug_concept_id\"].nunique().describe()"
   ]
  },
  {
   "cell_type": "code",
   "execution_count": 19,
   "metadata": {},
   "outputs": [],
   "source": [
    "# exclude the patients who have less than 6 kinds of drugs or more than 51 kinds of drugs\n",
    "patient_drug_counts = df.groupby(\"eid\")[\"drug_concept_id\"].nunique()\n",
    "valid_patients = patient_drug_counts[\n",
    "    (patient_drug_counts >= 6) & (patient_drug_counts <= 51)\n",
    "].index\n",
    "df = df[df[\"eid\"].isin(valid_patients)]"
   ]
  },
  {
   "cell_type": "code",
   "execution_count": 20,
   "metadata": {},
   "outputs": [
    {
     "data": {
      "text/plain": [
       "4003888"
      ]
     },
     "execution_count": 20,
     "metadata": {},
     "output_type": "execute_result"
    }
   ],
   "source": [
    "len(df)"
   ]
  },
  {
   "cell_type": "code",
   "execution_count": 21,
   "metadata": {},
   "outputs": [
    {
     "data": {
      "text/plain": [
       "count    183241.000000\n",
       "mean         21.850394\n",
       "std          11.304781\n",
       "min           6.000000\n",
       "25%          13.000000\n",
       "50%          20.000000\n",
       "75%          29.000000\n",
       "max          51.000000\n",
       "Name: drug_concept_id, dtype: float64"
      ]
     },
     "execution_count": 21,
     "metadata": {},
     "output_type": "execute_result"
    }
   ],
   "source": [
    "df.groupby(\"eid\")[\"drug_concept_id\"].nunique().describe()"
   ]
  },
  {
   "cell_type": "code",
   "execution_count": 14,
   "metadata": {},
   "outputs": [
    {
     "data": {
      "text/plain": [
       "count    4.902471e+06\n",
       "mean     3.406117e+02\n",
       "std      8.318619e+02\n",
       "min      1.000000e+00\n",
       "25%      3.000000e+01\n",
       "50%      4.200000e+01\n",
       "75%      1.730000e+02\n",
       "max      1.010700e+04\n",
       "Name: duration, dtype: float64"
      ]
     },
     "execution_count": 14,
     "metadata": {},
     "output_type": "execute_result"
    }
   ],
   "source": [
    "# statistics of duration\n",
    "df[\"duration\"].describe()"
   ]
  },
  {
   "cell_type": "code",
   "execution_count": 22,
   "metadata": {},
   "outputs": [
    {
     "data": {
      "text/plain": [
       "count      1109.000000\n",
       "mean       3610.358882\n",
       "std       10940.378155\n",
       "min           1.000000\n",
       "25%           9.000000\n",
       "50%         148.000000\n",
       "75%        1465.000000\n",
       "max      125375.000000\n",
       "Name: eid, dtype: float64"
      ]
     },
     "execution_count": 22,
     "metadata": {},
     "output_type": "execute_result"
    }
   ],
   "source": [
    "# each drug is taken by how many patients\n",
    "df.groupby(\"drug_concept_id\")[\"eid\"].nunique().describe()"
   ]
  },
  {
   "cell_type": "code",
   "execution_count": 51,
   "metadata": {},
   "outputs": [],
   "source": [
    "# remove the drugs that are taken by less than 5% or more than 30% of the 254724 patients\n",
    "drug_patient_counts = df.groupby(\"drug_concept_id\")[\"eid\"].nunique()\n",
    "min_patients = int(0.01 * 254724)  # 5% threshold\n",
    "max_patients = int(0.30 * 254724)  # 30% threshold\n",
    "valid_drugs = drug_patient_counts[\n",
    "    (drug_patient_counts >= min_patients) & (drug_patient_counts <= max_patients)\n",
    "].index"
   ]
  },
  {
   "cell_type": "code",
   "execution_count": 52,
   "metadata": {},
   "outputs": [
    {
     "data": {
      "text/plain": [
       "216"
      ]
     },
     "execution_count": 52,
     "metadata": {},
     "output_type": "execute_result"
    }
   ],
   "source": [
    "len(valid_drugs)"
   ]
  },
  {
   "cell_type": "code",
   "execution_count": 53,
   "metadata": {},
   "outputs": [],
   "source": [
    "cleaned_df = df[df[\"drug_concept_id\"].isin(valid_drugs)]\n",
    "cleaned_df.to_csv(\"dataset_cleaned.tsv\", sep=\"\\t\", index=False)"
   ]
  },
  {
   "cell_type": "code",
   "execution_count": 64,
   "metadata": {},
   "outputs": [
    {
     "name": "stdout",
     "output_type": "stream",
     "text": [
      "183239\n",
      "216\n"
     ]
    }
   ],
   "source": [
    "# the number of patients and drugs after cleaning\n",
    "print(len(cleaned_df[\"eid\"].unique()))\n",
    "print(len(cleaned_df[\"drug_concept_id\"].unique()))"
   ]
  },
  {
   "cell_type": "markdown",
   "metadata": {},
   "source": [
    "### handling"
   ]
  },
  {
   "cell_type": "code",
   "execution_count": 87,
   "metadata": {},
   "outputs": [
    {
     "data": {
      "text/html": [
       "<div>\n",
       "<style scoped>\n",
       "    .dataframe tbody tr th:only-of-type {\n",
       "        vertical-align: middle;\n",
       "    }\n",
       "\n",
       "    .dataframe tbody tr th {\n",
       "        vertical-align: top;\n",
       "    }\n",
       "\n",
       "    .dataframe thead th {\n",
       "        text-align: right;\n",
       "    }\n",
       "</style>\n",
       "<table border=\"1\" class=\"dataframe\">\n",
       "  <thead>\n",
       "    <tr style=\"text-align: right;\">\n",
       "      <th></th>\n",
       "      <th>eid</th>\n",
       "      <th>drug_era_id</th>\n",
       "      <th>drug_concept_id</th>\n",
       "      <th>drug_era_start_date</th>\n",
       "      <th>drug_era_end_date</th>\n",
       "      <th>drug_exposure_count</th>\n",
       "      <th>gap_days</th>\n",
       "      <th>concept_name</th>\n",
       "      <th>atc_code</th>\n",
       "      <th>duration</th>\n",
       "      <th>atc_level3</th>\n",
       "    </tr>\n",
       "  </thead>\n",
       "  <tbody>\n",
       "    <tr>\n",
       "      <th>0</th>\n",
       "      <td>6021257</td>\n",
       "      <td>1236950609195</td>\n",
       "      <td>19005129</td>\n",
       "      <td>2014-05-12</td>\n",
       "      <td>2014-06-10</td>\n",
       "      <td>1</td>\n",
       "      <td>0</td>\n",
       "      <td>clobetasone</td>\n",
       "      <td>D07AB01</td>\n",
       "      <td>30</td>\n",
       "      <td>D07A</td>\n",
       "    </tr>\n",
       "    <tr>\n",
       "      <th>1</th>\n",
       "      <td>3430966</td>\n",
       "      <td>721554547993</td>\n",
       "      <td>19008994</td>\n",
       "      <td>2010-10-12</td>\n",
       "      <td>2010-11-07</td>\n",
       "      <td>1</td>\n",
       "      <td>0</td>\n",
       "      <td>mebeverine</td>\n",
       "      <td>A03AA04</td>\n",
       "      <td>27</td>\n",
       "      <td>A03A</td>\n",
       "    </tr>\n",
       "    <tr>\n",
       "      <th>2</th>\n",
       "      <td>2127268</td>\n",
       "      <td>910533073010</td>\n",
       "      <td>755695</td>\n",
       "      <td>2006-10-23</td>\n",
       "      <td>2007-10-04</td>\n",
       "      <td>6</td>\n",
       "      <td>23</td>\n",
       "      <td>fluoxetine</td>\n",
       "      <td>N06AB03</td>\n",
       "      <td>347</td>\n",
       "      <td>N06A</td>\n",
       "    </tr>\n",
       "    <tr>\n",
       "      <th>3</th>\n",
       "      <td>2441156</td>\n",
       "      <td>901943201395</td>\n",
       "      <td>1549080</td>\n",
       "      <td>2010-01-18</td>\n",
       "      <td>2010-04-17</td>\n",
       "      <td>1</td>\n",
       "      <td>0</td>\n",
       "      <td>estrogens, conjugated (USP)</td>\n",
       "      <td>G03CA57</td>\n",
       "      <td>90</td>\n",
       "      <td>G03C</td>\n",
       "    </tr>\n",
       "    <tr>\n",
       "      <th>4</th>\n",
       "      <td>5489554</td>\n",
       "      <td>1649267519173</td>\n",
       "      <td>19011773</td>\n",
       "      <td>2011-03-28</td>\n",
       "      <td>2011-03-28</td>\n",
       "      <td>1</td>\n",
       "      <td>0</td>\n",
       "      <td>ascorbic acid</td>\n",
       "      <td>A11GA01</td>\n",
       "      <td>1</td>\n",
       "      <td>A11G</td>\n",
       "    </tr>\n",
       "  </tbody>\n",
       "</table>\n",
       "</div>"
      ],
      "text/plain": [
       "       eid    drug_era_id  drug_concept_id drug_era_start_date  \\\n",
       "0  6021257  1236950609195         19005129          2014-05-12   \n",
       "1  3430966   721554547993         19008994          2010-10-12   \n",
       "2  2127268   910533073010           755695          2006-10-23   \n",
       "3  2441156   901943201395          1549080          2010-01-18   \n",
       "4  5489554  1649267519173         19011773          2011-03-28   \n",
       "\n",
       "  drug_era_end_date  drug_exposure_count  gap_days  \\\n",
       "0        2014-06-10                    1         0   \n",
       "1        2010-11-07                    1         0   \n",
       "2        2007-10-04                    6        23   \n",
       "3        2010-04-17                    1         0   \n",
       "4        2011-03-28                    1         0   \n",
       "\n",
       "                  concept_name atc_code  duration atc_level3  \n",
       "0                  clobetasone  D07AB01        30       D07A  \n",
       "1                   mebeverine  A03AA04        27       A03A  \n",
       "2                   fluoxetine  N06AB03       347       N06A  \n",
       "3  estrogens, conjugated (USP)  G03CA57        90       G03C  \n",
       "4                ascorbic acid  A11GA01         1       A11G  "
      ]
     },
     "execution_count": 87,
     "metadata": {},
     "output_type": "execute_result"
    }
   ],
   "source": [
    "df_cleaned = pd.read_csv(\"df_cleaned_1atc.tsv\", sep=\"\\t\")\n",
    "df_cleaned.head()"
   ]
  },
  {
   "cell_type": "code",
   "execution_count": null,
   "metadata": {},
   "outputs": [],
   "source": []
  }
 ],
 "metadata": {
  "kernelspec": {
   "display_name": ".venv",
   "language": "python",
   "name": "python3"
  },
  "language_info": {
   "codemirror_mode": {
    "name": "ipython",
    "version": 3
   },
   "file_extension": ".py",
   "mimetype": "text/x-python",
   "name": "python",
   "nbconvert_exporter": "python",
   "pygments_lexer": "ipython3",
   "version": "3.12.5"
  }
 },
 "nbformat": 4,
 "nbformat_minor": 2
}
